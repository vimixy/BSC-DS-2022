{
 "cells": [
  {
   "cell_type": "markdown",
   "metadata": {
    "slideshow": {
     "slide_type": "slide"
    }
   },
   "source": [
    "# APIs - Gathering Data Using Requests"
   ]
  },
  {
   "cell_type": "markdown",
   "metadata": {
    "slideshow": {
     "slide_type": "slide"
    }
   },
   "source": [
    "## The Many Use Cases For APIs\n",
    "\n",
    "APIs can be used for many things - much more than just retrieving information. Twilio has an API that allows you to write a script to send text messages to people. GitHub has an API for creating new repositories. Many services have APIs allowing computers to automate tasks that a person might otherwise have to do through a website - whether uploading a photo to Flickr, searching for a company name in a state database, or getting a list of garbage collection times for a municipality."
   ]
  },
  {
   "cell_type": "markdown",
   "metadata": {
    "slideshow": {
     "slide_type": "slide"
    }
   },
   "source": [
    "## Limitations of APIs\n",
    "\n",
    "When working with APIs, there are some limitations you have to be aware of - especially relating to scope and scale.\n",
    "\n",
    "* **Scope** - Just because a company has an API and has information, it doesn't mean you can get all of the information you might want through their API\n",
    "\n",
    "* **Scale** - Some APIs are provided for free as a public service. Others you have to pay for, or allow you to perform activities (like sending a text message) that you pay for. Make sure that you know what the rate limits are and that your use case isn't going to need more API calls than you will be able to make.\n",
    "\n",
    "What else is good to know? **Every API is different!** There are some standards out there in terms of documentation and usage... but it's like the wild west - rapid expansion with few rules.\n",
    "\n",
    "With all that out of the way - Let's take a look at the `requests` library and its uses."
   ]
  },
  {
   "cell_type": "markdown",
   "metadata": {
    "slideshow": {
     "slide_type": "slide"
    }
   },
   "source": [
    "### \"Requests is the only Non-GMO HTTP library for Python, safe for human consumption.\"\n",
    "\n",
    "> \"Requests allows you to send organic, grass-fed HTTP/1.1 requests, without the need for manual labor.\"\n",
    "\n",
    "Straight from the `requests` [documentation](https://pypi.org/project/requests/)"
   ]
  },
  {
   "cell_type": "markdown",
   "metadata": {},
   "source": [
    "### Types of Requests\n",
    "\n",
    "We will mostly use GET requests in order to get data, but there are other options.\n",
    "\n",
    "![CRUD image from IntelliPaat](https://intellipaat.com/mediaFiles/2015/08/MongoDB-CRUD-operations.jpg)\n",
    "\n",
    "That's right - CRUD summarizes the kinds of requests you can make with most APIs. \n",
    "\n",
    "Let's say you are looking at an API for a car rental company like Hertz or Zipcar - the following different requests could generate these different responses:\n",
    "\n",
    "| Request               | Result                               | In CRUD Terms |\n",
    "| --------------------- | ------------------------------------ | ------------- |\n",
    "| GET /stores/          | User sees the list of stores         | Read          |\n",
    "| GET /rentals/         | User sees the history of car rentals | Read          |\n",
    "| POST /rentals/        | User rents a car                     | Create        |\n",
    "| PUT /rentals/{id}/    | User changes destination store       | Update        |\n",
    "| DELETE /rentals/{id}/ | User cancels the active car rental   | Delete        |\n"
   ]
  },
  {
   "cell_type": "markdown",
   "metadata": {},
   "source": [
    "### Let's get started!"
   ]
  },
  {
   "cell_type": "code",
   "execution_count": null,
   "metadata": {
    "slideshow": {
     "slide_type": "slide"
    }
   },
   "outputs": [],
   "source": [
    "import requests"
   ]
  },
  {
   "cell_type": "code",
   "execution_count": null,
   "metadata": {},
   "outputs": [],
   "source": [
    "# Don't already have the library? Uncomment the below code and install it locally\n",
    "#!pip install requests"
   ]
  },
  {
   "cell_type": "code",
   "execution_count": null,
   "metadata": {},
   "outputs": [],
   "source": [
    "# Create a GET request, then check the type of object\n",
    "\n",
    "r = requests.get('https://api.github.com/events') \n",
    "type(r)"
   ]
  },
  {
   "cell_type": "code",
   "execution_count": null,
   "metadata": {
    "scrolled": true
   },
   "outputs": [],
   "source": [
    "# So what does this look like?\n",
    "r.text"
   ]
  },
  {
   "cell_type": "markdown",
   "metadata": {},
   "source": [
    "![Oh good heavens gif, from gfycat](https://thumbs.gfycat.com/ColdAmbitiousDogwoodtwigborer-size_restricted.gif)"
   ]
  },
  {
   "cell_type": "markdown",
   "metadata": {
    "slideshow": {
     "slide_type": "slide"
    }
   },
   "source": [
    "Obviously you're never going to just scan that quickly for any data you need, we need to wrangle that response to make it usable.\n",
    "\n",
    "But first, let's look at some of the other attributes of `requests.models.Response` objects.\n",
    "\n",
    "We can check out all of the attributes [here](https://2.python-requests.org//en/v0.10.6/api/) in the documentation."
   ]
  },
  {
   "cell_type": "code",
   "execution_count": null,
   "metadata": {},
   "outputs": [],
   "source": [
    "# Another attribute, what does this show us?\n",
    "r.headers"
   ]
  },
  {
   "cell_type": "markdown",
   "metadata": {
    "slideshow": {
     "slide_type": "slide"
    }
   },
   "source": [
    "### Checking out the status of your request"
   ]
  },
  {
   "cell_type": "code",
   "execution_count": null,
   "metadata": {},
   "outputs": [],
   "source": [
    "# Another attribute\n",
    "r.status_code"
   ]
  },
  {
   "cell_type": "markdown",
   "metadata": {
    "slideshow": {
     "slide_type": "slide"
    }
   },
   "source": [
    "### [Types of status codes](https://http.cat/)\n",
    "\n",
    "1xx - Informational responses\n",
    "\n",
    "2xx - Success\n",
    "- 200 OK\n",
    "- 201 Created\n",
    "- 204 No Content\n",
    "\n",
    "3xx - Redirection\n",
    "\n",
    "- 301 Moved Permanently (permanent URL redirection)\n",
    "- 304 Not Modified (A conditional GET or HEAD request has been received and would have resulted in a 200 OK response if it were not for the fact that the condition evaluated to false.)\n",
    "\n",
    "4xx - Client errors\n",
    "\n",
    "- 400 Bad Request\n",
    "- 401 Unauthorized\n",
    "- 403 Forbidden\n",
    "- 404 Not Found\n",
    "\n",
    "5xx - Server errors\n",
    "\n",
    "- 500 Internal Server Error"
   ]
  },
  {
   "cell_type": "code",
   "execution_count": null,
   "metadata": {
    "slideshow": {
     "slide_type": "slide"
    }
   },
   "outputs": [],
   "source": [
    "# Get status code for a \"broken\" link\n",
    "\n",
    "r_broken = requests.get('https://api.github.com/fake-ending')\n",
    "r_broken.status_code"
   ]
  },
  {
   "cell_type": "markdown",
   "metadata": {
    "slideshow": {
     "slide_type": "slide"
    }
   },
   "source": [
    "Can also explictly ask for the returned format to be json as a method."
   ]
  },
  {
   "cell_type": "markdown",
   "metadata": {
    "slideshow": {
     "slide_type": "slide"
    }
   },
   "source": [
    "#### A note on errors and exceptions with the Requests library\n",
    "\n",
    "There are a number of exceptions and error codes you need to be familiar with when using the Requests library in Python.\n",
    "\n",
    "- The Requests library will raise a ConnectionError exception if there is a network problem like a DNS failure, or refused connection\n",
    "- These are rare, but with invalid HTTP responses, Requests will also raise an HTTPError exception\n",
    "- A Timeout exception will be raised if a request times out\n",
    "- If and when a request exceeds the preconfigured number of maximum redirections, then a TooManyRedirects exception will be raised"
   ]
  },
  {
   "cell_type": "code",
   "execution_count": null,
   "metadata": {},
   "outputs": [],
   "source": [
    "# Going back to our working request - how does this look, compared to text?\n",
    "r.json()"
   ]
  },
  {
   "cell_type": "markdown",
   "metadata": {},
   "source": [
    "# Gotta Catch 'Em All! Using the Pokemon API\n",
    "\n",
    "https://pokeapi.co/\n",
    "\n",
    "Nice place to start because there's no login details or credentials to fuss with\n",
    "\n",
    "For now, just want to explore grabbing the Types of different Pokemon.\n",
    "\n",
    "Useful documentation links:\n",
    "- Pokemon endpoint: https://pokeapi.co/docs/v2#pokemon \n",
    "    - `https://pokeapi.co/api/v2/pokemon/{id or name}/`\n",
    "- Type endpoint: https://pokeapi.co/docs/v2#types\n",
    "    - `https://pokeapi.co/api/v2/type/{id or name}/`"
   ]
  },
  {
   "cell_type": "markdown",
   "metadata": {},
   "source": [
    "### Start by exploring the response from the Pokemon endpoint\n",
    "\n",
    "Going to start with Charmander, pokemon #4, cause he's one of my favorites\n",
    "\n",
    "<img src=\"https://i.pinimg.com/originals/e7/0e/d0/e70ed0b54f9230c56c2e3bd2958d68a4.jpg\" alt=\"adorable charmander found via pinterest\" width=150>\n",
    "\n",
    "[Image Source](https://www.pinterest.com/pin/419045940312305352/)"
   ]
  },
  {
   "cell_type": "code",
   "execution_count": null,
   "metadata": {},
   "outputs": [],
   "source": [
    "# First, what endpoint url are we using?\n",
    "base_poke_url = None"
   ]
  },
  {
   "cell_type": "code",
   "execution_count": null,
   "metadata": {},
   "outputs": [],
   "source": [
    "# How does that need to adapt for charmander?\n",
    "char_url = None"
   ]
  },
  {
   "cell_type": "code",
   "execution_count": null,
   "metadata": {},
   "outputs": [],
   "source": [
    "# Check the status code, will this work?\n"
   ]
  },
  {
   "cell_type": "code",
   "execution_count": null,
   "metadata": {},
   "outputs": [],
   "source": [
    "# Now let's actually get the response\n",
    "char_resp = None"
   ]
  },
  {
   "cell_type": "code",
   "execution_count": null,
   "metadata": {},
   "outputs": [],
   "source": [
    "# Let's check out some details about the response\n",
    "char_resp.keys()"
   ]
  },
  {
   "cell_type": "code",
   "execution_count": null,
   "metadata": {},
   "outputs": [],
   "source": [
    "char_resp['id']"
   ]
  },
  {
   "cell_type": "code",
   "execution_count": null,
   "metadata": {},
   "outputs": [],
   "source": [
    "char_resp['name']"
   ]
  },
  {
   "cell_type": "code",
   "execution_count": null,
   "metadata": {
    "scrolled": true
   },
   "outputs": [],
   "source": [
    "char_resp['types']"
   ]
  },
  {
   "cell_type": "markdown",
   "metadata": {},
   "source": [
    "#### Challenge!\n",
    "\n",
    "Let's write a function that, given a response from this API's pokemon endpoint, returns a list of the ID, name, primary type and secondary type for that pokemon."
   ]
  },
  {
   "cell_type": "code",
   "execution_count": null,
   "metadata": {},
   "outputs": [],
   "source": [
    "def get_pokemon_details(poke_resp):\n",
    "    '''\n",
    "    inputs:\n",
    "    poke_resp - expects json/dict\n",
    "    \n",
    "    outputs: \n",
    "    list of id, pokemon name, primary type and secondary type \n",
    "    '''\n",
    "    pass"
   ]
  },
  {
   "cell_type": "code",
   "execution_count": null,
   "metadata": {},
   "outputs": [],
   "source": [
    "# Let's test our function on the 3 original starter pokemon\n",
    "original_starter_ids = list(range(1,10, 3))\n",
    "print(original_starter_ids)"
   ]
  },
  {
   "cell_type": "code",
   "execution_count": null,
   "metadata": {},
   "outputs": [],
   "source": [
    "for poke_id in original_starter_ids:\n",
    "    url = f\"{base_poke_url}{poke_id}/\"\n",
    "    resp = requests.get(url).json()\n",
    "    details = get_pokemon_details(resp)\n",
    "    print(details)"
   ]
  },
  {
   "cell_type": "markdown",
   "metadata": {},
   "source": [
    "### Moving to Pandas\n",
    "\n",
    "Let's get all of these details for all of the original 151 pokemon! And save them to a Pandas dataframe."
   ]
  },
  {
   "cell_type": "code",
   "execution_count": null,
   "metadata": {},
   "outputs": [],
   "source": [
    "# Need to import pandas\n",
    "import pandas as pd"
   ]
  },
  {
   "cell_type": "code",
   "execution_count": null,
   "metadata": {},
   "outputs": [],
   "source": [
    "# Let's go ahead and define what our columns will be\n",
    "col_names = ['id', 'name', 'primary_type', 'secondary_type']"
   ]
  },
  {
   "cell_type": "code",
   "execution_count": null,
   "metadata": {},
   "outputs": [],
   "source": [
    "col_names"
   ]
  },
  {
   "cell_type": "code",
   "execution_count": null,
   "metadata": {},
   "outputs": [],
   "source": [
    "# Define a list of our 151 pokemon ids\n",
    "original_151 = list(range(1,152))"
   ]
  },
  {
   "cell_type": "markdown",
   "metadata": {},
   "source": [
    "So we're going to make 151 requests... don't want to overload the API endpoint! So let's use the time library to space out our requests."
   ]
  },
  {
   "cell_type": "code",
   "execution_count": null,
   "metadata": {},
   "outputs": [],
   "source": [
    "import time"
   ]
  },
  {
   "cell_type": "code",
   "execution_count": null,
   "metadata": {},
   "outputs": [],
   "source": [
    "# Easiest way to do this will be to have a list of lists, then concat them all\n",
    "\n",
    "# Define a blank list to capture all the pokemon details\n",
    "row_list = []\n",
    "\n",
    "# And then loop over our pokemon ids!\n",
    "\n",
    "    \n",
    "# Then, concat everything into one df\n",
    "# Reference: https://pandas.pydata.org/pandas-docs/stable/reference/api/pandas.DataFrame.append.html\n",
    "poke_df = pd.concat([pd.DataFrame([i], columns = col_names) for i in row_list], ignore_index=True)"
   ]
  },
  {
   "cell_type": "code",
   "execution_count": null,
   "metadata": {},
   "outputs": [],
   "source": [
    "poke_df"
   ]
  },
  {
   "cell_type": "code",
   "execution_count": null,
   "metadata": {},
   "outputs": [],
   "source": [
    "# visualize it!\n",
    "import matplotlib.pyplot as plt\n",
    "\n",
    "primary_type_count = poke_df.groupby('primary_type').count()['id'].sort_values(ascending=False)\n",
    "\n",
    "plt.figure(figsize=(10,8))\n",
    "plt.bar(primary_type_count.index, primary_type_count)\n",
    "\n",
    "plt.title(\"Counts of Pokemon Primary Types\")\n",
    "plt.ylabel(\"Number of Pokemon\")\n",
    "plt.xlabel(\"Primary Type\")\n",
    "plt.xticks(rotation=45)\n",
    "\n",
    "plt.show()"
   ]
  },
  {
   "cell_type": "markdown",
   "metadata": {},
   "source": [
    "![monty python gif - and now for something completely different, from giphy](https://media.giphy.com/media/xznyPebL28X5u/giphy.gif)"
   ]
  },
  {
   "cell_type": "markdown",
   "metadata": {},
   "source": [
    "# Movie Time!\n",
    "\n",
    "Let's practice with an API that actually requires some authorization, in the form of an API Key!\n",
    "\n",
    "https://www.themoviedb.org/documentation/api"
   ]
  },
  {
   "cell_type": "markdown",
   "metadata": {},
   "source": [
    "# **NEVER EVER PUT YOUR API KEY ON GITHUB**\n",
    "\n",
    "Either create a json file with API keys in a different directory, or create a python file with the key saved as a variable that you can call. (There are even more options than that, but these are two easily-accessible ones)"
   ]
  },
  {
   "cell_type": "code",
   "execution_count": null,
   "metadata": {},
   "outputs": [],
   "source": [
    "# Option 1: use a json file saved to some other folder outside your Git repo\n",
    "# You can make a secrets folder on your ~ directory!\n",
    "# In a new terminal window, create a file called api.json and save the path to that file\n",
    "\n",
    "# Need to import json to do this\n",
    "import json\n",
    "\n",
    "# Quick helper function to open the json\n",
    "def get_keys(path):\n",
    "    with open(path) as f:\n",
    "        return json.load(f)\n",
    "\n",
    "# Using the function to open and load all keys in that file \n",
    "api_keys = get_keys(\"/Users/lberlin/secrets/api.json\")\n",
    "\n",
    "# Setting the first (and only) value as a variable\n",
    "tmdb_key_1 = api_keys['tmdb_key']"
   ]
  },
  {
   "cell_type": "code",
   "execution_count": null,
   "metadata": {},
   "outputs": [],
   "source": [
    "# Option 2: use a python file that's been added to your .gitignore\n",
    "\n",
    "# In a new terminal window, create a file called keys.py in this repo\n",
    "# Save the api key as tmdb_api_key = \"[key]\"\n",
    "\n",
    "from keys import tmdb_api_key\n",
    "\n",
    "tmdb_key_2 = tmdb_api_key\n",
    "\n",
    "# Then let's edit our .gitignore file together"
   ]
  },
  {
   "cell_type": "markdown",
   "metadata": {},
   "source": [
    "Just as important! You may want to call the variable you've set to check that the API key is rendering correctly - but **be sure to clear the output of that cell** or else the output will show your key! And then if you push to GitHub it'll push that output to the internet which defeats the whole point of saving your key elsewhere!"
   ]
  },
  {
   "cell_type": "markdown",
   "metadata": {},
   "source": [
    "### And now, accessing movie data\n",
    "\n",
    "Documentation: https://developers.themoviedb.org/3"
   ]
  },
  {
   "cell_type": "code",
   "execution_count": null,
   "metadata": {},
   "outputs": [],
   "source": [
    "# Default URL given as an example... let's see what it is!\n",
    "test_url = f\"https://api.themoviedb.org/3/movie/550?api_key={tmdb_key_1}\""
   ]
  },
  {
   "cell_type": "code",
   "execution_count": null,
   "metadata": {},
   "outputs": [],
   "source": [
    "test_resp = requests.get(test_url).json()"
   ]
  },
  {
   "cell_type": "code",
   "execution_count": null,
   "metadata": {},
   "outputs": [],
   "source": [
    "test_resp.keys()"
   ]
  },
  {
   "cell_type": "code",
   "execution_count": null,
   "metadata": {},
   "outputs": [],
   "source": [
    "# Find similar movies to the previous id\n",
    "fight_club_id = 550\n",
    "similar_url = f\"https://api.themoviedb.org/3/movie/{fight_club_id}/similar?api_key={tmdb_key_1}\"\n",
    "similar_resp = requests.get(similar_url).json()"
   ]
  },
  {
   "cell_type": "code",
   "execution_count": null,
   "metadata": {
    "scrolled": true
   },
   "outputs": [],
   "source": [
    "similar_resp.keys()"
   ]
  },
  {
   "cell_type": "code",
   "execution_count": null,
   "metadata": {},
   "outputs": [],
   "source": [
    "# How many similar movies did it find?\n",
    "similar_resp['total_results']"
   ]
  },
  {
   "cell_type": "code",
   "execution_count": null,
   "metadata": {},
   "outputs": [],
   "source": [
    "# but is that the length of these results?\n",
    "len(similar_resp['results'])"
   ]
  },
  {
   "cell_type": "code",
   "execution_count": null,
   "metadata": {
    "scrolled": true
   },
   "outputs": [],
   "source": [
    "# what's in here?\n",
    "for res in similar_resp['results']:\n",
    "    print(res['title'])"
   ]
  },
  {
   "cell_type": "markdown",
   "metadata": {},
   "source": [
    "## Level Up: Another Way to Deal with APIs\n",
    "\n",
    "Check out [Postman](https://www.getpostman.com/)."
   ]
  },
  {
   "cell_type": "markdown",
   "metadata": {
    "slideshow": {
     "slide_type": "slide"
    }
   },
   "source": [
    "## Extra Credit: Further Practice\n",
    "\n",
    "There are many ways to access data through APIs! [Sodapy](https://github.com/xmunoz/sodapy) is the Python client for the Socrata Open Data API."
   ]
  },
  {
   "cell_type": "code",
   "execution_count": null,
   "metadata": {},
   "outputs": [],
   "source": [
    "# Install before running \n",
    "# !pip install sodapy"
   ]
  },
  {
   "cell_type": "markdown",
   "metadata": {
    "slideshow": {
     "slide_type": "-"
    }
   },
   "source": [
    "#### Tokenize yourself!\n",
    "\n",
    "https://dev.socrata.com/foundry/data.cityofnewyork.us/fhrw-4uyv\n",
    "\n",
    "Scroll down and click to sign up for an app token! No credit cards required!"
   ]
  },
  {
   "cell_type": "code",
   "execution_count": null,
   "metadata": {},
   "outputs": [],
   "source": [
    "token = '' # paste your token here \n",
    "\n",
    "import pandas as pd\n",
    "from sodapy import Socrata\n",
    "\n",
    "# Unauthenticated client only works with public data sets. Note 'None'\n",
    "# in place of application token, and no username or password:\n",
    "client = Socrata(\"data.cityofnewyork.us\", token)\n",
    "\n",
    "# Example authenticated client (needed for non-public datasets):\n",
    "# client = Socrata(data.cityofnewyork.us,\n",
    "#                  MyAppToken,\n",
    "#                  userame=\"user@example.com\",\n",
    "#                  password=\"AFakePassword\")\n",
    "\n",
    "# First 2000 results, returned as JSON from API / converted to Python list of\n",
    "# dictionaries by sodapy.\n",
    "results = client.get(\"fhrw-4uyv\", incident_zip = '11004', limit=1000)"
   ]
  },
  {
   "cell_type": "code",
   "execution_count": null,
   "metadata": {
    "slideshow": {
     "slide_type": "-"
    }
   },
   "outputs": [],
   "source": [
    "type(results)"
   ]
  },
  {
   "cell_type": "code",
   "execution_count": null,
   "metadata": {
    "slideshow": {
     "slide_type": "-"
    }
   },
   "outputs": [],
   "source": [
    "len(results)"
   ]
  },
  {
   "cell_type": "code",
   "execution_count": null,
   "metadata": {
    "slideshow": {
     "slide_type": "-"
    }
   },
   "outputs": [],
   "source": [
    "results[0]"
   ]
  },
  {
   "cell_type": "code",
   "execution_count": null,
   "metadata": {
    "slideshow": {
     "slide_type": "-"
    }
   },
   "outputs": [],
   "source": [
    "df_soda = pd.DataFrame(results)\n",
    "\n",
    "print(len(df_soda))\n",
    "print(df_soda.columns)\n",
    "df_soda.head()"
   ]
  },
  {
   "cell_type": "markdown",
   "metadata": {
    "slideshow": {
     "slide_type": "slide"
    }
   },
   "source": [
    "## Even Further Practice\n",
    "\n",
    "https://github.com/toddmotto/public-apis\n",
    "\n",
    "Find a buddy, find a free api, get a key, and do a GET. Try to transform the response into a dataframe."
   ]
  }
 ],
 "metadata": {
  "kernelspec": {
   "display_name": "Python 3 (ipykernel)",
   "language": "python",
   "name": "python3"
  },
  "language_info": {
   "codemirror_mode": {
    "name": "ipython",
    "version": 3
   },
   "file_extension": ".py",
   "mimetype": "text/x-python",
   "name": "python",
   "nbconvert_exporter": "python",
   "pygments_lexer": "ipython3",
   "version": "3.9.5"
  }
 },
 "nbformat": 4,
 "nbformat_minor": 2
}
