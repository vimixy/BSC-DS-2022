{
 "cells": [
  {
   "cell_type": "markdown",
   "metadata": {},
   "source": [
    "# Introduction to Neural Networks"
   ]
  },
  {
   "cell_type": "markdown",
   "metadata": {},
   "source": [
    "![dense](images/dogcat.gif)"
   ]
  },
  {
   "cell_type": "markdown",
   "metadata": {
    "hidden": true
   },
   "source": [
    "## Objectives\n",
    "- Describe the basic structure of densely connected neural networks\n",
    "- Describe the concept of backpropagation\n",
    "- Explain the use of gradient descent in neural networks\n",
    "- Use `keras` to code up a neural network model"
   ]
  },
  {
   "cell_type": "markdown",
   "metadata": {
    "heading_collapsed": true
   },
   "source": [
    "# Introduction to Neural Networks"
   ]
  },
  {
   "cell_type": "markdown",
   "metadata": {
    "heading_collapsed": true,
    "hidden": true
   },
   "source": [
    "## Background"
   ]
  },
  {
   "cell_type": "markdown",
   "metadata": {
    "hidden": true
   },
   "source": [
    "Neural networks have been around for a while. They are over 70 years old, dating back to  their proposal in 1944 by Warren McCullough and Walter Pitts. These first proposed neural nets had thresholds and weights, but no layers and no specific training mechanisms.\n",
    "\n",
    "The \"perceptron\", the first trainable neural network, was created by Frank Rosenblatt in 1957. It consisted of a single layer with adjustable weights in the middle of input and output layers."
   ]
  },
  {
   "cell_type": "markdown",
   "metadata": {
    "hidden": true
   },
   "source": [
    "![perceptron](images/nn-diagram.png)"
   ]
  },
  {
   "cell_type": "markdown",
   "metadata": {
    "heading_collapsed": true,
    "hidden": true
   },
   "source": [
    "## Wait, Wait, Wait... Why a Neural Network?"
   ]
  },
  {
   "cell_type": "markdown",
   "metadata": {
    "hidden": true
   },
   "source": [
    "You really should take a second to realize what tools we already have and ask yourself, \"Do we really need to use this 'neural network' if we already have so many machine learning algorithms?\"\n",
    "\n",
    "And in short, we don't need to default to a neural network but they have advantages in solving very complex problems. It might help to know that idea of neural networks was developed back in the 1950s (perceptron network). It wasn't until we had a lot of data and computational power where they became reasonably useful."
   ]
  },
  {
   "cell_type": "markdown",
   "metadata": {},
   "source": [
    "### Let's Talk About Interpretability...\n",
    "\n",
    "![](images/accuracy_vs_interpretability.png)\n",
    "\n",
    "[Image Source](https://medium.com/ansaro-blog/interpreting-machine-learning-models-1234d735d6c9g/)"
   ]
  },
  {
   "cell_type": "markdown",
   "metadata": {},
   "source": [
    "### And yet, the pull of deep learning is strong...\n",
    "\n",
    "<img src='images/move_on.jpg' width=350/>"
   ]
  },
  {
   "cell_type": "markdown",
   "metadata": {},
   "source": [
    "## Applications of Neural Networks\n",
    "\n",
    "- Clustering\n",
    "- Pattern Recognition\n",
    "- Image Recognition (CNN)\n",
    "- Time Series Forecasting (RNN)\n",
    "- Audio/Video/Image Generation (GAN) \n",
    "\n",
    "#### Limitations\n",
    "- Good for prediction, bad for inference \n",
    "- Computationally expensive "
   ]
  },
  {
   "cell_type": "markdown",
   "metadata": {
    "heading_collapsed": true,
    "hidden": true
   },
   "source": [
    "## Starting with a Perceptron"
   ]
  },
  {
   "cell_type": "markdown",
   "metadata": {
    "heading_collapsed": true,
    "hidden": true
   },
   "source": [
    "### A Diagram"
   ]
  },
  {
   "cell_type": "markdown",
   "metadata": {
    "hidden": true
   },
   "source": [
    "<img src='https://cdn-images-1.medium.com/max/1600/0*No3vRruq7Dd4sxdn.png' width=40%/>"
   ]
  },
  {
   "cell_type": "markdown",
   "metadata": {
    "hidden": true
   },
   "source": [
    "Notice the similarity to a linear regression:\n",
    "\n",
    "\n",
    "$$ x_1 w_1 + x_2 w_2  + x_3 w_3 = \\text{output}$$\n",
    "$$ XW = \\text{output}$$"
   ]
  },
  {
   "cell_type": "markdown",
   "metadata": {},
   "source": [
    "## Logistic Regression as a Perceptron\n",
    "\n",
    "* This is **one row of data**, each input is a different feature\n",
    "* Weights are determined through gradient descent \n",
    "* The **bias** term is our logistic regression intercept term\n",
    "* The **activation function** is the sigmoid function that forces output values between 0 and 1\n",
    "* Output is our classification result\n",
    "\n",
    "![](https://miro.medium.com/max/1280/1*8VSBCaqL2XeSCZQe_BAyVA.jpeg)\n",
    "\n",
    "\n",
    "* The perceptron algorithm is about learning the weights for inputs in order to draw a **linear decision boundary** that allows us to discriminate between two linearly separable classes\n",
    "* A perceptron takes in inputs, sums them up with weights, adds a bias, applies some activation function --> output\n",
    "* You can have different activation functions (sigmoid, tanh, ReLu, etc.)\n",
    "* Many perceptrons put together create a neural network\n",
    "\n",
    "<img src='images/perceptron_binary.png'/>\n"
   ]
  },
  {
   "cell_type": "markdown",
   "metadata": {
    "heading_collapsed": true,
    "hidden": true
   },
   "source": [
    "## Basic Architecture"
   ]
  },
  {
   "cell_type": "markdown",
   "metadata": {
    "hidden": true
   },
   "source": [
    "For our DS purposes, we'll generally imagine our network to consist of only a few layers, including an input layer (where we feed in our data) an output layer (comprising our predictions). Significantly, there will also (generally) be one or more layers of neurons between input and output, called **hidden layers**.\n",
    "\n",
    "One reason these are named hidden layers is that what their output actually represents is _not really known_.  The activation of node 1 of the first hidden layer may represent a sequence of pixel intensity corresponding to a horizontal line, or a group of dark pixels in the middle of a number's loop... etc etc."
   ]
  },
  {
   "cell_type": "markdown",
   "metadata": {
    "hidden": true
   },
   "source": [
    "![dense](images/Deeper_network.jpg)"
   ]
  },
  {
   "cell_type": "markdown",
   "metadata": {
    "hidden": true
   },
   "source": [
    "Because we are unaware of how exactly these hidden layers are operating, neural networks are considered **black box** algorithms.  You will not be able to gain much inferential insight from a neural net.\n",
    "\n",
    "Each of our pixels from our digit representation goes to each of our nodes, and each node has a set of weights and a bias term associated with it."
   ]
  },
  {
   "cell_type": "markdown",
   "metadata": {
    "heading_collapsed": true,
    "hidden": true
   },
   "source": [
    "## Inspiration from Actual Neurons"
   ]
  },
  {
   "cell_type": "markdown",
   "metadata": {
    "hidden": true
   },
   "source": [
    "The composition of neural networks can be **loosely** compared to a neuron."
   ]
  },
  {
   "cell_type": "markdown",
   "metadata": {
    "hidden": true
   },
   "source": [
    "![neuron](images/neuron.png)"
   ]
  },
  {
   "cell_type": "markdown",
   "metadata": {
    "hidden": true
   },
   "source": [
    "Neural networks draw their inspiration from the biology of our own brains, which are of course also accurately described as 'neural networks'. A human brain contains around $10^{11}$ neurons, connected very **densely**."
   ]
  },
  {
   "cell_type": "markdown",
   "metadata": {
    "hidden": true
   },
   "source": [
    "This is a loose analogy, but can be a helpful **mnemonic**. The inputs to our node are like inputs to our neurons. They are either direct sensory information (our features) or input from other axons (nodes passing information to other nodes). The body of our neuron (soma) is where the signals of the dendrites are summed together, which is loosely analogous to our **collector function**. If the summed signal is large enough (our **activation function**), they trigger an action potential which travels down the axon to be passed as output to other dendrites. See [here](https://en.wikipedia.org/wiki/Neuron) for more. "
   ]
  },
  {
   "cell_type": "markdown",
   "metadata": {
    "heading_collapsed": true,
    "hidden": true
   },
   "source": [
    "## Parts of a Neural Network"
   ]
  },
  {
   "cell_type": "markdown",
   "metadata": {
    "hidden": true
   },
   "source": [
    "### Layers\n",
    "\n",
    "- **Input Layer**: the initial parameters (these will be the parts we feed to our network)\n",
    "- **Output Layer**: the classification (or regression predictions)\n",
    "- **Hidden Layer(s)**: the other neurons potentially in a neural network to find more complex patterns"
   ]
  },
  {
   "cell_type": "markdown",
   "metadata": {
    "hidden": true
   },
   "source": [
    "### Weights\n",
    "\n",
    "The weights from our inputs are describing how much they should contribute to the next neuron.\n",
    "\n",
    "But we can also think of the weights of hidden layer neurons telling us how much of these linear separations should be combined."
   ]
  },
  {
   "cell_type": "markdown",
   "metadata": {
    "hidden": true
   },
   "source": [
    "### Activation Functions\n",
    "\n",
    "<img src='images/activation.png' width=500/>"
   ]
  },
  {
   "cell_type": "markdown",
   "metadata": {
    "hidden": true
   },
   "source": [
    "The activation function converts our summed inputs into an output, which is then passed on to other nodes in hidden layers, or as an end product in the output layer. This can loosely be thought of as the action potential traveling down the axon.\n",
    "\n",
    "When we build our models in `keras`, we will specify the activation function of both hidden layers and output."
   ]
  },
  {
   "cell_type": "markdown",
   "metadata": {
    "heading_collapsed": true,
    "hidden": true
   },
   "source": [
    "### Other Hyperparameters"
   ]
  },
  {
   "cell_type": "markdown",
   "metadata": {
    "hidden": true
   },
   "source": [
    "We'll talk more about this when we dive into how to optimize our neural networks, but some hyperparameters include:\n",
    "\n",
    "- **Learning Rate ($\\alpha$)**: how big of a step we take in gradient descent\n",
    "- **Number of Epochs**: how many times we repeat this process\n",
    "- **Batch Size**: how many data points we use in a single training session (1 epoch)\n",
    "    - KEY! This is how often we send results back to update our weights, aka _back-propogation_!\n",
    "\n",
    "Remember, any parameter adjusted to enhance the neural network's learning _is_ a hyperparameter (this includes the actual structure of the neural net)"
   ]
  },
  {
   "cell_type": "markdown",
   "metadata": {
    "heading_collapsed": true
   },
   "source": [
    "## Let's see it in action!\n",
    "\n",
    "Now we know the vocabulary of the different parts, let's try it out for ourselves!\n",
    "\n",
    "First up:\n",
    "- [playground.tensorflow.org](https://playground.tensorflow.org): A visual playground for us to train a neural network"
   ]
  },
  {
   "cell_type": "markdown",
   "metadata": {},
   "source": [
    "#### Spaceship Titanic Data!"
   ]
  },
  {
   "cell_type": "code",
   "execution_count": 1,
   "metadata": {},
   "outputs": [],
   "source": [
    "#Initial imports \n",
    "import numpy as np\n",
    "import pandas as pd\n",
    "import matplotlib.pyplot as plt\n",
    "import matplotlib.image as mpimg\n",
    "\n",
    "from sklearn.model_selection import train_test_split\n",
    "from sklearn.impute import SimpleImputer\n",
    "from sklearn.preprocessing import MinMaxScaler\n",
    "from sklearn.compose import ColumnTransformer\n",
    "from sklearn.pipeline import Pipeline\n",
    "from sklearn.linear_model import LogisticRegression"
   ]
  },
  {
   "cell_type": "code",
   "execution_count": 2,
   "metadata": {},
   "outputs": [],
   "source": [
    "df = pd.read_csv('data/train.csv', )\n",
    "holdout = pd.read_csv('data/test.csv')"
   ]
  },
  {
   "cell_type": "code",
   "execution_count": 3,
   "metadata": {},
   "outputs": [],
   "source": [
    "X = df.drop(columns='Transported')\n",
    "y = df['Transported']"
   ]
  },
  {
   "cell_type": "markdown",
   "metadata": {},
   "source": [
    "#### Still need a Train/Test Split\n",
    "\n",
    "I'll note, it's much more often that you'll see train/val/test with neural networks, aka 3 pieces instead of just two"
   ]
  },
  {
   "cell_type": "code",
   "execution_count": 4,
   "metadata": {},
   "outputs": [],
   "source": [
    "X_train, X_test, y_train, y_test = train_test_split(\n",
    "    X, y, test_size=0.25, random_state=42)"
   ]
  },
  {
   "cell_type": "code",
   "execution_count": 5,
   "metadata": {
    "scrolled": true
   },
   "outputs": [
    {
     "name": "stderr",
     "output_type": "stream",
     "text": [
      "<ipython-input-5-c5e4e2e044cd>:6: SettingWithCopyWarning: \n",
      "A value is trying to be set on a copy of a slice from a DataFrame.\n",
      "Try using .loc[row_indexer,col_indexer] = value instead\n",
      "\n",
      "See the caveats in the documentation: https://pandas.pydata.org/pandas-docs/stable/user_guide/indexing.html#returning-a-view-versus-a-copy\n",
      "  dataset[col] = dataset[col].map(map_bools)\n"
     ]
    }
   ],
   "source": [
    "# train-test split causing two cols to be bool instead of obj\n",
    "# fixing to pre-empt a type error \n",
    "map_bools = {True: 'True', False:'False', np.nan:np.nan}\n",
    "for col in ['VIP', 'CryoSleep']:\n",
    "    for dataset in [X_train, X_test, holdout]:\n",
    "        dataset[col] = dataset[col].map(map_bools)"
   ]
  },
  {
   "cell_type": "code",
   "execution_count": 6,
   "metadata": {},
   "outputs": [],
   "source": [
    "# Just going to run our test on num_cols\n",
    "num_cols = [col for col in X_train.columns if X_train[col].dtype != 'O']"
   ]
  },
  {
   "cell_type": "code",
   "execution_count": 7,
   "metadata": {},
   "outputs": [
    {
     "name": "stdout",
     "output_type": "stream",
     "text": [
      "<class 'pandas.core.frame.DataFrame'>\n",
      "Int64Index: 5019 entries, 4861 to 860\n",
      "Data columns (total 6 columns):\n",
      " #   Column        Non-Null Count  Dtype  \n",
      "---  ------        --------------  -----  \n",
      " 0   Age           4919 non-null   float64\n",
      " 1   RoomService   4909 non-null   float64\n",
      " 2   FoodCourt     4919 non-null   float64\n",
      " 3   ShoppingMall  4887 non-null   float64\n",
      " 4   Spa           4905 non-null   float64\n",
      " 5   VRDeck        4920 non-null   float64\n",
      "dtypes: float64(6)\n",
      "memory usage: 274.5 KB\n"
     ]
    }
   ],
   "source": [
    "X_train[num_cols].info()"
   ]
  },
  {
   "cell_type": "code",
   "execution_count": 8,
   "metadata": {},
   "outputs": [
    {
     "data": {
      "text/html": [
       "<div>\n",
       "<style scoped>\n",
       "    .dataframe tbody tr th:only-of-type {\n",
       "        vertical-align: middle;\n",
       "    }\n",
       "\n",
       "    .dataframe tbody tr th {\n",
       "        vertical-align: top;\n",
       "    }\n",
       "\n",
       "    .dataframe thead th {\n",
       "        text-align: right;\n",
       "    }\n",
       "</style>\n",
       "<table border=\"1\" class=\"dataframe\">\n",
       "  <thead>\n",
       "    <tr style=\"text-align: right;\">\n",
       "      <th></th>\n",
       "      <th>Age</th>\n",
       "      <th>RoomService</th>\n",
       "      <th>FoodCourt</th>\n",
       "      <th>ShoppingMall</th>\n",
       "      <th>Spa</th>\n",
       "      <th>VRDeck</th>\n",
       "    </tr>\n",
       "  </thead>\n",
       "  <tbody>\n",
       "    <tr>\n",
       "      <th>4861</th>\n",
       "      <td>19.0</td>\n",
       "      <td>0.0</td>\n",
       "      <td>0.0</td>\n",
       "      <td>0.0</td>\n",
       "      <td>0.0</td>\n",
       "      <td>0.0</td>\n",
       "    </tr>\n",
       "    <tr>\n",
       "      <th>1295</th>\n",
       "      <td>28.0</td>\n",
       "      <td>0.0</td>\n",
       "      <td>4424.0</td>\n",
       "      <td>3.0</td>\n",
       "      <td>207.0</td>\n",
       "      <td>1572.0</td>\n",
       "    </tr>\n",
       "    <tr>\n",
       "      <th>1496</th>\n",
       "      <td>20.0</td>\n",
       "      <td>75.0</td>\n",
       "      <td>0.0</td>\n",
       "      <td>0.0</td>\n",
       "      <td>1545.0</td>\n",
       "      <td>0.0</td>\n",
       "    </tr>\n",
       "    <tr>\n",
       "      <th>2112</th>\n",
       "      <td>40.0</td>\n",
       "      <td>0.0</td>\n",
       "      <td>0.0</td>\n",
       "      <td>0.0</td>\n",
       "      <td>0.0</td>\n",
       "      <td>0.0</td>\n",
       "    </tr>\n",
       "    <tr>\n",
       "      <th>1520</th>\n",
       "      <td>20.0</td>\n",
       "      <td>212.0</td>\n",
       "      <td>0.0</td>\n",
       "      <td>991.0</td>\n",
       "      <td>0.0</td>\n",
       "      <td>13.0</td>\n",
       "    </tr>\n",
       "  </tbody>\n",
       "</table>\n",
       "</div>"
      ],
      "text/plain": [
       "       Age  RoomService  FoodCourt  ShoppingMall     Spa  VRDeck\n",
       "4861  19.0          0.0        0.0           0.0     0.0     0.0\n",
       "1295  28.0          0.0     4424.0           3.0   207.0  1572.0\n",
       "1496  20.0         75.0        0.0           0.0  1545.0     0.0\n",
       "2112  40.0          0.0        0.0           0.0     0.0     0.0\n",
       "1520  20.0        212.0        0.0         991.0     0.0    13.0"
      ]
     },
     "execution_count": 8,
     "metadata": {},
     "output_type": "execute_result"
    }
   ],
   "source": [
    "X_train[num_cols].head()"
   ]
  },
  {
   "cell_type": "code",
   "execution_count": 9,
   "metadata": {},
   "outputs": [],
   "source": [
    "# We'll use two different imputation strategies\n",
    "median_num_col = ['Age']\n",
    "\n",
    "zero_num_cols = ['RoomService', 'FoodCourt', 'ShoppingMall', 'Spa', 'VRDeck']"
   ]
  },
  {
   "cell_type": "code",
   "execution_count": 10,
   "metadata": {},
   "outputs": [],
   "source": [
    "# Creating our imputer\n",
    "median_imp = SimpleImputer(strategy=\"median\")\n",
    "zero_imp = SimpleImputer(strategy='constant', fill_value = 0)\n",
    "\n",
    "imputer = ColumnTransformer(\n",
    "    transformers=[\n",
    "        (\"med\", median_imp, median_num_col),\n",
    "        (\"zero\", zero_imp, zero_num_cols),\n",
    "    ]\n",
    ")"
   ]
  },
  {
   "cell_type": "markdown",
   "metadata": {},
   "source": [
    "### Logistic Regression to Compare To!"
   ]
  },
  {
   "cell_type": "code",
   "execution_count": 11,
   "metadata": {},
   "outputs": [
    {
     "name": "stdout",
     "output_type": "stream",
     "text": [
      "Train accuracy score: 0.7286312014345487\n",
      "Test accuracy score: 0.7192353643966547\n"
     ]
    }
   ],
   "source": [
    "clf = Pipeline(steps=[\n",
    "    ('imputer', imputer),\n",
    "    ('scaler', MinMaxScaler()), \n",
    "    ('logreg', LogisticRegression())\n",
    "])\n",
    "\n",
    "clf.fit(X_train[num_cols], y_train)\n",
    "\n",
    "train_preds = clf.predict(X_train[num_cols])\n",
    "test_preds = clf.predict(X_test[num_cols])\n",
    "\n",
    "print(f\"Train accuracy score: {clf.score(X_train[num_cols], y_train)}\")\n",
    "\n",
    "print(f\"Test accuracy score: {clf.score(X_test[num_cols], y_test)}\")"
   ]
  },
  {
   "cell_type": "markdown",
   "metadata": {},
   "source": [
    "## Define Our First Model!\n",
    "Models in Keras are defined as a sequence of layers. We create a Sequential model and add layers one at a time until we are happy with our network topology. Documentation: https://keras.io/guides/sequential_model/\n",
    "\n",
    "*   Metrics: https://keras.io/api/metrics/\n",
    "*   Optimizers: https://keras.io/api/optimizers/\n",
    "*   Loss: https://keras.io/api/losses/"
   ]
  },
  {
   "cell_type": "code",
   "execution_count": 12,
   "metadata": {},
   "outputs": [],
   "source": [
    "# Preprocess our data first\n",
    "# NNs are linear models - we still need to scale!\n",
    "preprocessor = Pipeline(steps=[\n",
    "    ('imputer', imputer),\n",
    "    ('scaler', MinMaxScaler()),\n",
    "])\n",
    "\n",
    "preprocessor.fit(X_train[num_cols])\n",
    "\n",
    "X_tr_pr = preprocessor.transform(X_train[num_cols])\n",
    "X_te_pr = preprocessor.transform(X_test[num_cols])"
   ]
  },
  {
   "cell_type": "code",
   "execution_count": 13,
   "metadata": {},
   "outputs": [
    {
     "data": {
      "text/plain": [
       "(5019, 6)"
      ]
     },
     "execution_count": 13,
     "metadata": {},
     "output_type": "execute_result"
    }
   ],
   "source": [
    "X_tr_pr.shape"
   ]
  },
  {
   "cell_type": "code",
   "execution_count": 14,
   "metadata": {},
   "outputs": [],
   "source": [
    "# Need more imports!\n",
    "import tensorflow as tf\n",
    "from tensorflow.keras import Sequential, regularizers\n",
    "from tensorflow.keras.layers import Dense, Dropout"
   ]
  },
  {
   "cell_type": "markdown",
   "metadata": {},
   "source": [
    "> Note! You may also see `keras` as its own separate library, but it's been integrated into tensorflow since TF V2.0 - you should make sure to use `keras` from the tensorflow library!\n",
    ">\n",
    "> [Source, which includes interesting reading on the history of tensorflow and keras](https://pyimagesearch.com/2019/10/21/keras-vs-tf-keras-whats-the-difference-in-tensorflow-2-0/)"
   ]
  },
  {
   "cell_type": "markdown",
   "metadata": {},
   "source": [
    "A common way to build models in tensorflow/keras is to create an empty base model and then add layers in order - so that's what we'll do!\n",
    "\n",
    "We'll create a NN with an input layer, one hidden layer, and then an output layer."
   ]
  },
  {
   "cell_type": "code",
   "execution_count": 15,
   "metadata": {},
   "outputs": [],
   "source": [
    "# Create our base, empty Sequential model\n",
    "model = Sequential()\n",
    "\n",
    "# Add a dense input layer -- model.add(Dense())\n",
    "# 12 nodes, input_dim = our # of cols, activation = 'relu'\n",
    "model.add(Dense(12, input_dim=6, activation = 'relu'))\n",
    "\n",
    "# Add another 12 node dense layer with relu - no need for input_dim\n",
    "model.add(Dense(12, activation='relu'))\n",
    "\n",
    "# output layer - dense layer with 1 node, activation = 'sigmoid'\n",
    "model.add(Dense(1, activation='sigmoid'))\n",
    "\n",
    "# And then compile our model! -- model.compile()\n",
    "# loss = 'binary_crossentropy', optimizer = 'adam', metrics = ['accuracy']\n",
    "model.compile(loss = 'binary_crossentropy', optimizer = 'adam', metrics = ['accuracy'])"
   ]
  },
  {
   "cell_type": "code",
   "execution_count": 16,
   "metadata": {},
   "outputs": [
    {
     "name": "stdout",
     "output_type": "stream",
     "text": [
      "Model: \"sequential\"\n",
      "_________________________________________________________________\n",
      "Layer (type)                 Output Shape              Param #   \n",
      "=================================================================\n",
      "dense (Dense)                (None, 12)                84        \n",
      "_________________________________________________________________\n",
      "dense_1 (Dense)              (None, 12)                156       \n",
      "_________________________________________________________________\n",
      "dense_2 (Dense)              (None, 1)                 13        \n",
      "=================================================================\n",
      "Total params: 253\n",
      "Trainable params: 253\n",
      "Non-trainable params: 0\n",
      "_________________________________________________________________\n"
     ]
    }
   ],
   "source": [
    "model.summary()"
   ]
  },
  {
   "cell_type": "code",
   "execution_count": 17,
   "metadata": {
    "scrolled": false
   },
   "outputs": [
    {
     "name": "stdout",
     "output_type": "stream",
     "text": [
      "Epoch 1/100\n",
      "51/51 - 0s - loss: 0.6889 - accuracy: 0.5507 - val_loss: 0.6829 - val_accuracy: 0.6051\n",
      "Epoch 2/100\n",
      "51/51 - 0s - loss: 0.6783 - accuracy: 0.6330 - val_loss: 0.6701 - val_accuracy: 0.6792\n",
      "Epoch 3/100\n",
      "51/51 - 0s - loss: 0.6638 - accuracy: 0.6734 - val_loss: 0.6528 - val_accuracy: 0.6941\n",
      "Epoch 4/100\n",
      "51/51 - 0s - loss: 0.6449 - accuracy: 0.6956 - val_loss: 0.6327 - val_accuracy: 0.6918\n",
      "Epoch 5/100\n",
      "51/51 - 0s - loss: 0.6237 - accuracy: 0.7061 - val_loss: 0.6098 - val_accuracy: 0.7276\n",
      "Epoch 6/100\n",
      "51/51 - 0s - loss: 0.6025 - accuracy: 0.7197 - val_loss: 0.5890 - val_accuracy: 0.7354\n",
      "Epoch 7/100\n",
      "51/51 - 0s - loss: 0.5838 - accuracy: 0.7338 - val_loss: 0.5750 - val_accuracy: 0.7043\n",
      "Epoch 8/100\n",
      "51/51 - 0s - loss: 0.5679 - accuracy: 0.7362 - val_loss: 0.5587 - val_accuracy: 0.7276\n",
      "Epoch 9/100\n",
      "51/51 - 0s - loss: 0.5555 - accuracy: 0.7472 - val_loss: 0.5481 - val_accuracy: 0.7587\n",
      "Epoch 10/100\n",
      "51/51 - 0s - loss: 0.5461 - accuracy: 0.7579 - val_loss: 0.5405 - val_accuracy: 0.7437\n",
      "Epoch 11/100\n",
      "51/51 - 0s - loss: 0.5399 - accuracy: 0.7561 - val_loss: 0.5357 - val_accuracy: 0.7700\n",
      "Epoch 12/100\n",
      "51/51 - 0s - loss: 0.5342 - accuracy: 0.7685 - val_loss: 0.5298 - val_accuracy: 0.7569\n",
      "Epoch 13/100\n",
      "51/51 - 0s - loss: 0.5298 - accuracy: 0.7733 - val_loss: 0.5305 - val_accuracy: 0.7413\n",
      "Epoch 14/100\n",
      "51/51 - 0s - loss: 0.5264 - accuracy: 0.7723 - val_loss: 0.5284 - val_accuracy: 0.7449\n",
      "Epoch 15/100\n",
      "51/51 - 0s - loss: 0.5236 - accuracy: 0.7753 - val_loss: 0.5211 - val_accuracy: 0.7652\n",
      "Epoch 16/100\n",
      "51/51 - 0s - loss: 0.5213 - accuracy: 0.7788 - val_loss: 0.5192 - val_accuracy: 0.7658\n",
      "Epoch 17/100\n",
      "51/51 - 0s - loss: 0.5192 - accuracy: 0.7778 - val_loss: 0.5183 - val_accuracy: 0.7694\n",
      "Epoch 18/100\n",
      "51/51 - 0s - loss: 0.5167 - accuracy: 0.7788 - val_loss: 0.5168 - val_accuracy: 0.7616\n",
      "Epoch 19/100\n",
      "51/51 - 0s - loss: 0.5153 - accuracy: 0.7780 - val_loss: 0.5144 - val_accuracy: 0.7676\n",
      "Epoch 20/100\n",
      "51/51 - 0s - loss: 0.5136 - accuracy: 0.7798 - val_loss: 0.5133 - val_accuracy: 0.7670\n",
      "Epoch 21/100\n",
      "51/51 - 0s - loss: 0.5131 - accuracy: 0.7796 - val_loss: 0.5118 - val_accuracy: 0.7664\n",
      "Epoch 22/100\n",
      "51/51 - 0s - loss: 0.5103 - accuracy: 0.7786 - val_loss: 0.5111 - val_accuracy: 0.7712\n",
      "Epoch 23/100\n",
      "51/51 - 0s - loss: 0.5095 - accuracy: 0.7800 - val_loss: 0.5103 - val_accuracy: 0.7724\n",
      "Epoch 24/100\n",
      "51/51 - 0s - loss: 0.5089 - accuracy: 0.7800 - val_loss: 0.5090 - val_accuracy: 0.7718\n",
      "Epoch 25/100\n",
      "51/51 - 0s - loss: 0.5071 - accuracy: 0.7820 - val_loss: 0.5075 - val_accuracy: 0.7682\n",
      "Epoch 26/100\n",
      "51/51 - 0s - loss: 0.5060 - accuracy: 0.7824 - val_loss: 0.5071 - val_accuracy: 0.7682\n",
      "Epoch 27/100\n",
      "51/51 - 0s - loss: 0.5050 - accuracy: 0.7832 - val_loss: 0.5073 - val_accuracy: 0.7640\n",
      "Epoch 28/100\n",
      "51/51 - 0s - loss: 0.5044 - accuracy: 0.7808 - val_loss: 0.5054 - val_accuracy: 0.7724\n",
      "Epoch 29/100\n",
      "51/51 - 0s - loss: 0.5035 - accuracy: 0.7820 - val_loss: 0.5046 - val_accuracy: 0.7676\n",
      "Epoch 30/100\n",
      "51/51 - 0s - loss: 0.5024 - accuracy: 0.7824 - val_loss: 0.5036 - val_accuracy: 0.7688\n",
      "Epoch 31/100\n",
      "51/51 - 0s - loss: 0.5015 - accuracy: 0.7812 - val_loss: 0.5036 - val_accuracy: 0.7748\n",
      "Epoch 32/100\n",
      "51/51 - 0s - loss: 0.5011 - accuracy: 0.7854 - val_loss: 0.5048 - val_accuracy: 0.7670\n",
      "Epoch 33/100\n",
      "51/51 - 0s - loss: 0.5011 - accuracy: 0.7824 - val_loss: 0.5023 - val_accuracy: 0.7742\n",
      "Epoch 34/100\n",
      "51/51 - 0s - loss: 0.4998 - accuracy: 0.7838 - val_loss: 0.5016 - val_accuracy: 0.7742\n",
      "Epoch 35/100\n",
      "51/51 - 0s - loss: 0.4992 - accuracy: 0.7854 - val_loss: 0.5023 - val_accuracy: 0.7682\n",
      "Epoch 36/100\n",
      "51/51 - 0s - loss: 0.4989 - accuracy: 0.7852 - val_loss: 0.5017 - val_accuracy: 0.7706\n",
      "Epoch 37/100\n",
      "51/51 - 0s - loss: 0.4982 - accuracy: 0.7840 - val_loss: 0.5003 - val_accuracy: 0.7748\n",
      "Epoch 38/100\n",
      "51/51 - 0s - loss: 0.4991 - accuracy: 0.7830 - val_loss: 0.5014 - val_accuracy: 0.7808\n",
      "Epoch 39/100\n",
      "51/51 - 0s - loss: 0.4990 - accuracy: 0.7850 - val_loss: 0.5002 - val_accuracy: 0.7778\n",
      "Epoch 40/100\n",
      "51/51 - 0s - loss: 0.4985 - accuracy: 0.7850 - val_loss: 0.5012 - val_accuracy: 0.7706\n",
      "Epoch 41/100\n",
      "51/51 - 0s - loss: 0.4971 - accuracy: 0.7854 - val_loss: 0.4997 - val_accuracy: 0.7748\n",
      "Epoch 42/100\n",
      "51/51 - 0s - loss: 0.4968 - accuracy: 0.7846 - val_loss: 0.4989 - val_accuracy: 0.7772\n",
      "Epoch 43/100\n",
      "51/51 - 0s - loss: 0.4975 - accuracy: 0.7840 - val_loss: 0.4988 - val_accuracy: 0.7766\n",
      "Epoch 44/100\n",
      "51/51 - 0s - loss: 0.4974 - accuracy: 0.7858 - val_loss: 0.4987 - val_accuracy: 0.7784\n",
      "Epoch 45/100\n",
      "51/51 - 0s - loss: 0.4955 - accuracy: 0.7852 - val_loss: 0.4985 - val_accuracy: 0.7772\n",
      "Epoch 46/100\n",
      "51/51 - 0s - loss: 0.4952 - accuracy: 0.7860 - val_loss: 0.4982 - val_accuracy: 0.7820\n",
      "Epoch 47/100\n",
      "51/51 - 0s - loss: 0.4957 - accuracy: 0.7856 - val_loss: 0.4981 - val_accuracy: 0.7814\n",
      "Epoch 48/100\n",
      "51/51 - 0s - loss: 0.4949 - accuracy: 0.7862 - val_loss: 0.4976 - val_accuracy: 0.7772\n",
      "Epoch 49/100\n",
      "51/51 - 0s - loss: 0.4959 - accuracy: 0.7874 - val_loss: 0.4975 - val_accuracy: 0.7808\n",
      "Epoch 50/100\n",
      "51/51 - 0s - loss: 0.4943 - accuracy: 0.7862 - val_loss: 0.4973 - val_accuracy: 0.7772\n",
      "Epoch 51/100\n",
      "51/51 - 0s - loss: 0.4939 - accuracy: 0.7862 - val_loss: 0.4967 - val_accuracy: 0.7814\n",
      "Epoch 52/100\n",
      "51/51 - 0s - loss: 0.4935 - accuracy: 0.7866 - val_loss: 0.4997 - val_accuracy: 0.7736\n",
      "Epoch 53/100\n",
      "51/51 - 0s - loss: 0.4935 - accuracy: 0.7856 - val_loss: 0.4974 - val_accuracy: 0.7838\n",
      "Epoch 54/100\n",
      "51/51 - 0s - loss: 0.4944 - accuracy: 0.7838 - val_loss: 0.4963 - val_accuracy: 0.7832\n",
      "Epoch 55/100\n",
      "51/51 - 0s - loss: 0.4937 - accuracy: 0.7862 - val_loss: 0.4969 - val_accuracy: 0.7849\n",
      "Epoch 56/100\n",
      "51/51 - 0s - loss: 0.4928 - accuracy: 0.7890 - val_loss: 0.4956 - val_accuracy: 0.7784\n",
      "Epoch 57/100\n",
      "51/51 - 0s - loss: 0.4921 - accuracy: 0.7874 - val_loss: 0.4956 - val_accuracy: 0.7784\n",
      "Epoch 58/100\n",
      "51/51 - 0s - loss: 0.4918 - accuracy: 0.7878 - val_loss: 0.4949 - val_accuracy: 0.7808\n",
      "Epoch 59/100\n",
      "51/51 - 0s - loss: 0.4916 - accuracy: 0.7884 - val_loss: 0.4959 - val_accuracy: 0.7790\n",
      "Epoch 60/100\n",
      "51/51 - 0s - loss: 0.4921 - accuracy: 0.7884 - val_loss: 0.4951 - val_accuracy: 0.7784\n",
      "Epoch 61/100\n",
      "51/51 - 0s - loss: 0.4912 - accuracy: 0.7878 - val_loss: 0.4939 - val_accuracy: 0.7808\n",
      "Epoch 62/100\n",
      "51/51 - 0s - loss: 0.4904 - accuracy: 0.7896 - val_loss: 0.4937 - val_accuracy: 0.7832\n",
      "Epoch 63/100\n",
      "51/51 - 0s - loss: 0.4909 - accuracy: 0.7886 - val_loss: 0.4936 - val_accuracy: 0.7849\n",
      "Epoch 64/100\n",
      "51/51 - 0s - loss: 0.4900 - accuracy: 0.7884 - val_loss: 0.4941 - val_accuracy: 0.7796\n",
      "Epoch 65/100\n",
      "51/51 - 0s - loss: 0.4897 - accuracy: 0.7884 - val_loss: 0.4939 - val_accuracy: 0.7796\n",
      "Epoch 66/100\n",
      "51/51 - 0s - loss: 0.4892 - accuracy: 0.7880 - val_loss: 0.4929 - val_accuracy: 0.7849\n",
      "Epoch 67/100\n",
      "51/51 - 0s - loss: 0.4895 - accuracy: 0.7894 - val_loss: 0.4923 - val_accuracy: 0.7826\n",
      "Epoch 68/100\n",
      "51/51 - 0s - loss: 0.4883 - accuracy: 0.7890 - val_loss: 0.4937 - val_accuracy: 0.7784\n",
      "Epoch 69/100\n",
      "51/51 - 0s - loss: 0.4889 - accuracy: 0.7886 - val_loss: 0.4924 - val_accuracy: 0.7849\n",
      "Epoch 70/100\n",
      "51/51 - 0s - loss: 0.4877 - accuracy: 0.7902 - val_loss: 0.4915 - val_accuracy: 0.7849\n",
      "Epoch 71/100\n",
      "51/51 - 0s - loss: 0.4874 - accuracy: 0.7896 - val_loss: 0.4918 - val_accuracy: 0.7832\n",
      "Epoch 72/100\n",
      "51/51 - 0s - loss: 0.4870 - accuracy: 0.7906 - val_loss: 0.4905 - val_accuracy: 0.7861\n",
      "Epoch 73/100\n",
      "51/51 - 0s - loss: 0.4865 - accuracy: 0.7908 - val_loss: 0.4904 - val_accuracy: 0.7867\n",
      "Epoch 74/100\n",
      "51/51 - 0s - loss: 0.4865 - accuracy: 0.7914 - val_loss: 0.4901 - val_accuracy: 0.7867\n",
      "Epoch 75/100\n",
      "51/51 - 0s - loss: 0.4865 - accuracy: 0.7894 - val_loss: 0.4896 - val_accuracy: 0.7861\n",
      "Epoch 76/100\n",
      "51/51 - 0s - loss: 0.4858 - accuracy: 0.7912 - val_loss: 0.4896 - val_accuracy: 0.7861\n",
      "Epoch 77/100\n",
      "51/51 - 0s - loss: 0.4848 - accuracy: 0.7906 - val_loss: 0.4916 - val_accuracy: 0.7838\n",
      "Epoch 78/100\n",
      "51/51 - 0s - loss: 0.4847 - accuracy: 0.7916 - val_loss: 0.4890 - val_accuracy: 0.7885\n",
      "Epoch 79/100\n",
      "51/51 - 0s - loss: 0.4857 - accuracy: 0.7910 - val_loss: 0.4904 - val_accuracy: 0.7843\n",
      "Epoch 80/100\n",
      "51/51 - 0s - loss: 0.4844 - accuracy: 0.7920 - val_loss: 0.4884 - val_accuracy: 0.7861\n",
      "Epoch 81/100\n",
      "51/51 - 0s - loss: 0.4835 - accuracy: 0.7918 - val_loss: 0.4884 - val_accuracy: 0.7891\n",
      "Epoch 82/100\n",
      "51/51 - 0s - loss: 0.4837 - accuracy: 0.7908 - val_loss: 0.4879 - val_accuracy: 0.7867\n",
      "Epoch 83/100\n"
     ]
    },
    {
     "name": "stdout",
     "output_type": "stream",
     "text": [
      "51/51 - 0s - loss: 0.4826 - accuracy: 0.7922 - val_loss: 0.4877 - val_accuracy: 0.7873\n",
      "Epoch 84/100\n",
      "51/51 - 0s - loss: 0.4824 - accuracy: 0.7928 - val_loss: 0.4873 - val_accuracy: 0.7897\n",
      "Epoch 85/100\n",
      "51/51 - 0s - loss: 0.4812 - accuracy: 0.7930 - val_loss: 0.4917 - val_accuracy: 0.7838\n",
      "Epoch 86/100\n",
      "51/51 - 0s - loss: 0.4821 - accuracy: 0.7914 - val_loss: 0.4875 - val_accuracy: 0.7867\n",
      "Epoch 87/100\n",
      "51/51 - 0s - loss: 0.4810 - accuracy: 0.7932 - val_loss: 0.4871 - val_accuracy: 0.7855\n",
      "Epoch 88/100\n",
      "51/51 - 0s - loss: 0.4814 - accuracy: 0.7936 - val_loss: 0.4882 - val_accuracy: 0.7843\n",
      "Epoch 89/100\n",
      "51/51 - 0s - loss: 0.4814 - accuracy: 0.7914 - val_loss: 0.4861 - val_accuracy: 0.7897\n",
      "Epoch 90/100\n",
      "51/51 - 0s - loss: 0.4808 - accuracy: 0.7928 - val_loss: 0.4856 - val_accuracy: 0.7909\n",
      "Epoch 91/100\n",
      "51/51 - 0s - loss: 0.4814 - accuracy: 0.7936 - val_loss: 0.4881 - val_accuracy: 0.7855\n",
      "Epoch 92/100\n",
      "51/51 - 0s - loss: 0.4796 - accuracy: 0.7936 - val_loss: 0.4851 - val_accuracy: 0.7885\n",
      "Epoch 93/100\n",
      "51/51 - 0s - loss: 0.4798 - accuracy: 0.7940 - val_loss: 0.4852 - val_accuracy: 0.7873\n",
      "Epoch 94/100\n",
      "51/51 - 0s - loss: 0.4798 - accuracy: 0.7924 - val_loss: 0.4871 - val_accuracy: 0.7843\n",
      "Epoch 95/100\n",
      "51/51 - 0s - loss: 0.4789 - accuracy: 0.7936 - val_loss: 0.4847 - val_accuracy: 0.7891\n",
      "Epoch 96/100\n",
      "51/51 - 0s - loss: 0.4781 - accuracy: 0.7938 - val_loss: 0.4843 - val_accuracy: 0.7885\n",
      "Epoch 97/100\n",
      "51/51 - 0s - loss: 0.4785 - accuracy: 0.7936 - val_loss: 0.4860 - val_accuracy: 0.7885\n",
      "Epoch 98/100\n",
      "51/51 - 0s - loss: 0.4777 - accuracy: 0.7948 - val_loss: 0.4897 - val_accuracy: 0.7843\n",
      "Epoch 99/100\n",
      "51/51 - 0s - loss: 0.4781 - accuracy: 0.7932 - val_loss: 0.4836 - val_accuracy: 0.7885\n",
      "Epoch 100/100\n",
      "51/51 - 0s - loss: 0.4772 - accuracy: 0.7946 - val_loss: 0.4843 - val_accuracy: 0.7891\n"
     ]
    }
   ],
   "source": [
    "# We then fit our model \n",
    "history = model.fit(X_tr_pr,        # Features\n",
    "                    y_train,        # Target\n",
    "                    epochs=100,     # Number of epochs\n",
    "                    verbose=2,      # Verbosity level - Some output\n",
    "                    batch_size=100, # Number of observations per batch\n",
    "                    validation_data=(X_te_pr, y_test)) # Data for evaluation"
   ]
  },
  {
   "cell_type": "markdown",
   "metadata": {},
   "source": [
    "Let's discuss this summary output..."
   ]
  },
  {
   "cell_type": "code",
   "execution_count": 18,
   "metadata": {},
   "outputs": [
    {
     "data": {
      "image/png": "[encoded data removed]",
      "text/plain": [
       "<Figure size 1440x720 with 2 Axes>"
      ]
     },
     "metadata": {
      "needs_background": "light"
     },
     "output_type": "display_data"
    }
   ],
   "source": [
    "# Get training and test loss/accuracy histories\n",
    "training_loss = history.history['loss']\n",
    "test_loss = history.history['val_loss']\n",
    "\n",
    "training_acc = history.history['accuracy']\n",
    "test_acc = history.history['val_accuracy']\n",
    "\n",
    "# Create count of the number of epochs\n",
    "epoch_count = range(1, len(training_loss) + 1)\n",
    "\n",
    "fig, (ax1, ax2) = plt.subplots(1, 2, figsize=(20, 10))\n",
    "\n",
    "# Visualize loss history\n",
    "ax1.plot(epoch_count, training_loss, 'r--')\n",
    "ax1.plot(epoch_count, test_loss, 'b-')\n",
    "ax1.legend(['Training Loss', 'Test Loss'])\n",
    "\n",
    "# Visualize accuracy  history\n",
    "ax2.plot(epoch_count, training_acc, 'r--')\n",
    "ax2.plot(epoch_count, test_acc, 'b-')\n",
    "ax2.legend(['Training Accuracy', 'Test Accuracy']);"
   ]
  },
  {
   "cell_type": "code",
   "execution_count": 19,
   "metadata": {},
   "outputs": [
    {
     "name": "stdout",
     "output_type": "stream",
     "text": [
      "LogReg's accuracy score: 0.7192353643966547\n",
      "Simple NN's best accuracy score: 0.7909199595451355\n"
     ]
    }
   ],
   "source": [
    "print(f\"LogReg's accuracy score: {clf.score(X_test[num_cols], y_test)}\")\n",
    "print(f\"Simple NN's best accuracy score: {max(test_acc)}\")"
   ]
  },
  {
   "cell_type": "markdown",
   "metadata": {},
   "source": [
    "### Discuss!\n",
    "\n",
    "- \n"
   ]
  },
  {
   "cell_type": "markdown",
   "metadata": {},
   "source": [
    "## Break It Down\n",
    "\n",
    "Now that we've built our first model and seen it in action, let's discuss some of those pieces."
   ]
  },
  {
   "cell_type": "markdown",
   "metadata": {},
   "source": [
    "### Loss Functions\n",
    "\n",
    "First up, let's talk about our loss function.\n",
    "\n",
    "Loss functions are akin to cost functions we were trying to minimize in gradient descent (i.e. RMSE for linear regression, Gini/entropy for trees)\n",
    "\n",
    "1. For regression problems, keras has **mean_squared_error** or **mean_absolute_error** as a loss function, or **mean_squared_logarithmic_error** if your target has potential outliers\n",
    "2. For binary classification: **binary_crossentropy** (what we used above!)\n",
    "3. For multiclass problems: **categorical_crossentropy**\n",
    "\n",
    "[This article summarizes the above, and more.](https://machinelearningmastery.com/how-to-choose-loss-functions-when-training-deep-learning-neural-networks/)\n",
    "\n"
   ]
  },
  {
   "cell_type": "markdown",
   "metadata": {},
   "source": [
    "### Gradient Descent in Neural Networks\n",
    "Neural Nets are usually implemented at scale with large sets of data, therefore optimizing for speed becomes a big concern. Gradient descent can take a very **very** long time to run if we use a single training example every time to update the weights and biases. Therefore, we usually use batch-mode:\n",
    "\n",
    "- **Batch**: \n",
    "In batch gradient descent, we pass all of the training examples through the forward propagation stage before using backpropagation to compute the weights and biases\n",
    "\n",
    "- **Epoch**: \n",
    "An epoch is when you're done passing all training examples through the forward propagation\n",
    "\n",
    "\n",
    "We set our epoch and batch sizes when fitting the model - above, we used 100 for each. That means we broke our data down into chunks of 100 training observations - that's *one batch*. When ALL batches have gone through, that's *one epoch*!\n"
   ]
  },
  {
   "cell_type": "markdown",
   "metadata": {},
   "source": [
    "#### Types of Gradient Descent\n",
    "- Stochastic Gradient Descent \n",
    "\n",
    "    - SGD calculates the error and update the weight after training each observation in the training set. \n",
    "\n",
    "- Batch Gradient Descent\n",
    "\n",
    "    - Batch calculates the error after each example is trained, but only updates the weight after all of the observations have been trained\n",
    "\n",
    "- Mini-Batch Gradient Descent\n",
    "\n",
    "    - Mini-batch is a compromise between batch and SGD - it splits the training examples into mini batches, and calculates the error and update the weight after each iteration of the mini batches are done training. \n"
   ]
  },
  {
   "cell_type": "markdown",
   "metadata": {},
   "source": [
    "#### Forward Propogation\n",
    "\n",
    "Forward propogation is how data moves through the network, from the initial input layer through any hidden layers to the output layer.\n",
    "\n",
    "On the first pass, when we feed the node values forward through layers, we initialize the weights with *random* values and biases to be zero. "
   ]
  },
  {
   "cell_type": "markdown",
   "metadata": {},
   "source": [
    "#### Back Propogation\n",
    "\n",
    "After a certain number of data points have been passed through the model (batch), the weights will be *updated* with an eye toward optimizing our loss function. (Thinking back to biological neurons, this is like revising their activation potentials.) Typically, this is done by using some version of gradient descent."
   ]
  },
  {
   "cell_type": "markdown",
   "metadata": {},
   "source": [
    "#### Overview of the Forward & Back Propogation Process\n",
    "\n",
    "![backprop](images/ff-bb.gif)"
   ]
  },
  {
   "cell_type": "markdown",
   "metadata": {},
   "source": [
    "There are a lot more pieces we'll continue to explore, but for now let's copy our model from above and adjust some pieces to see how its performance changes!"
   ]
  },
  {
   "cell_type": "code",
   "execution_count": 25,
   "metadata": {},
   "outputs": [],
   "source": [
    "# Code here to iterate!\n",
    "model_2 =  Sequential()\n",
    "\n",
    "model_2.add(tf.keras.Input(shape=6))\n",
    "# Add a dense input layer -- model.add(Dense())\n",
    "# 12 nodes, input_dim = our # of cols, activation = 'relu'\n",
    "model_2.add(Dense(12, activation = 'relu'))\n",
    "\n",
    "# Add another 12 node dense layer with relu - no need for input_dim\n",
    "model_2.add(Dense(12, activation='relu'))\n",
    "\n",
    "model_2.add(Dense(12, activation='relu'))\n",
    "\n",
    "# output layer - dense layer with 1 node, activation = 'sigmoid'\n",
    "model_2.add(Dense(1, activation='tanh'))\n",
    "\n",
    "# And then compile our model! -- model.compile()\n",
    "# loss = 'binary_crossentropy', optimizer = 'adam', metrics = ['accuracy']\n",
    "model_2.compile(loss = 'binary_crossentropy', optimizer = 'adam', metrics = ['accuracy'])\n",
    "\n"
   ]
  },
  {
   "cell_type": "code",
   "execution_count": 26,
   "metadata": {
    "scrolled": true
   },
   "outputs": [
    {
     "name": "stdout",
     "output_type": "stream",
     "text": [
      "Epoch 1/82\n",
      "34/34 - 0s - loss: 1.0043 - accuracy: 0.4860 - val_loss: 0.7949 - val_accuracy: 0.5000\n",
      "Epoch 2/82\n",
      "34/34 - 0s - loss: 0.7568 - accuracy: 0.4971 - val_loss: 0.7133 - val_accuracy: 0.5299\n",
      "Epoch 3/82\n",
      "34/34 - 0s - loss: 0.7090 - accuracy: 0.5154 - val_loss: 0.6918 - val_accuracy: 0.5585\n",
      "Epoch 4/82\n",
      "34/34 - 0s - loss: 0.6860 - accuracy: 0.5603 - val_loss: 0.6707 - val_accuracy: 0.5938\n",
      "Epoch 5/82\n",
      "34/34 - 0s - loss: 0.6596 - accuracy: 0.6137 - val_loss: 0.6398 - val_accuracy: 0.6535\n",
      "Epoch 6/82\n",
      "34/34 - 0s - loss: 0.6271 - accuracy: 0.6695 - val_loss: 0.6101 - val_accuracy: 0.6912\n",
      "Epoch 7/82\n",
      "34/34 - 0s - loss: 0.5991 - accuracy: 0.7073 - val_loss: 0.5869 - val_accuracy: 0.7168\n",
      "Epoch 8/82\n",
      "34/34 - 0s - loss: 0.5820 - accuracy: 0.7290 - val_loss: 0.5717 - val_accuracy: 0.7216\n",
      "Epoch 9/82\n",
      "34/34 - 0s - loss: 0.5667 - accuracy: 0.7342 - val_loss: 0.5585 - val_accuracy: 0.7312\n",
      "Epoch 10/82\n",
      "34/34 - 0s - loss: 0.5541 - accuracy: 0.7428 - val_loss: 0.5471 - val_accuracy: 0.7515\n",
      "Epoch 11/82\n",
      "34/34 - 0s - loss: 0.5465 - accuracy: 0.7468 - val_loss: 0.5373 - val_accuracy: 0.7557\n",
      "Epoch 12/82\n",
      "34/34 - 0s - loss: 0.5438 - accuracy: 0.7442 - val_loss: 0.5362 - val_accuracy: 0.7688\n",
      "Epoch 13/82\n",
      "34/34 - 0s - loss: 0.5375 - accuracy: 0.7599 - val_loss: 0.5286 - val_accuracy: 0.7724\n",
      "Epoch 14/82\n",
      "34/34 - 0s - loss: 0.5331 - accuracy: 0.7625 - val_loss: 0.5236 - val_accuracy: 0.7569\n",
      "Epoch 15/82\n",
      "34/34 - 0s - loss: 0.5295 - accuracy: 0.7697 - val_loss: 0.5220 - val_accuracy: 0.7503\n",
      "Epoch 16/82\n",
      "34/34 - 0s - loss: 0.5250 - accuracy: 0.7663 - val_loss: 0.5146 - val_accuracy: 0.7676\n",
      "Epoch 17/82\n",
      "34/34 - 0s - loss: 0.5247 - accuracy: 0.7749 - val_loss: 0.5109 - val_accuracy: 0.7688\n",
      "Epoch 18/82\n",
      "34/34 - 0s - loss: 0.5259 - accuracy: 0.7669 - val_loss: 0.5117 - val_accuracy: 0.7634\n",
      "Epoch 19/82\n",
      "34/34 - 0s - loss: 0.5177 - accuracy: 0.7788 - val_loss: 0.5047 - val_accuracy: 0.7760\n",
      "Epoch 20/82\n",
      "34/34 - 0s - loss: 0.5182 - accuracy: 0.7810 - val_loss: 0.5023 - val_accuracy: 0.7790\n",
      "Epoch 21/82\n",
      "34/34 - 0s - loss: 0.5155 - accuracy: 0.7800 - val_loss: 0.5013 - val_accuracy: 0.7736\n",
      "Epoch 22/82\n",
      "34/34 - 0s - loss: 0.5128 - accuracy: 0.7786 - val_loss: 0.5013 - val_accuracy: 0.7718\n",
      "Epoch 23/82\n",
      "34/34 - 0s - loss: 0.5123 - accuracy: 0.7784 - val_loss: 0.5032 - val_accuracy: 0.7796\n",
      "Epoch 24/82\n",
      "34/34 - 0s - loss: 0.5081 - accuracy: 0.7826 - val_loss: 0.4951 - val_accuracy: 0.7784\n",
      "Epoch 25/82\n",
      "34/34 - 0s - loss: 0.5065 - accuracy: 0.7838 - val_loss: 0.5026 - val_accuracy: 0.7861\n",
      "Epoch 26/82\n",
      "34/34 - 0s - loss: 0.5061 - accuracy: 0.7854 - val_loss: 0.4986 - val_accuracy: 0.7796\n",
      "Epoch 27/82\n",
      "34/34 - 0s - loss: 0.5052 - accuracy: 0.7844 - val_loss: 0.4980 - val_accuracy: 0.7855\n",
      "Epoch 28/82\n",
      "34/34 - 0s - loss: 0.5044 - accuracy: 0.7846 - val_loss: 0.4946 - val_accuracy: 0.7832\n",
      "Epoch 29/82\n",
      "34/34 - 0s - loss: 0.5034 - accuracy: 0.7886 - val_loss: 0.4956 - val_accuracy: 0.7796\n",
      "Epoch 30/82\n",
      "34/34 - 0s - loss: 0.5016 - accuracy: 0.7898 - val_loss: 0.4957 - val_accuracy: 0.7796\n",
      "Epoch 31/82\n",
      "34/34 - 0s - loss: 0.5013 - accuracy: 0.7876 - val_loss: 0.4914 - val_accuracy: 0.7838\n",
      "Epoch 32/82\n",
      "34/34 - 0s - loss: 0.5002 - accuracy: 0.7894 - val_loss: 0.4918 - val_accuracy: 0.7826\n",
      "Epoch 33/82\n",
      "34/34 - 0s - loss: 0.4991 - accuracy: 0.7902 - val_loss: 0.4907 - val_accuracy: 0.7873\n",
      "Epoch 34/82\n",
      "34/34 - 0s - loss: 0.4969 - accuracy: 0.7874 - val_loss: 0.4945 - val_accuracy: 0.7790\n",
      "Epoch 35/82\n",
      "34/34 - 0s - loss: 0.4965 - accuracy: 0.7894 - val_loss: 0.4896 - val_accuracy: 0.7838\n",
      "Epoch 36/82\n",
      "34/34 - 0s - loss: 0.4984 - accuracy: 0.7920 - val_loss: 0.4893 - val_accuracy: 0.7838\n",
      "Epoch 37/82\n",
      "34/34 - 0s - loss: 0.4965 - accuracy: 0.7916 - val_loss: 0.4877 - val_accuracy: 0.7891\n",
      "Epoch 38/82\n",
      "34/34 - 0s - loss: 0.4959 - accuracy: 0.7898 - val_loss: 0.4867 - val_accuracy: 0.7891\n",
      "Epoch 39/82\n",
      "34/34 - 0s - loss: 0.4950 - accuracy: 0.7910 - val_loss: 0.4885 - val_accuracy: 0.7927\n",
      "Epoch 40/82\n",
      "34/34 - 0s - loss: 0.4962 - accuracy: 0.7926 - val_loss: 0.4891 - val_accuracy: 0.7843\n",
      "Epoch 41/82\n",
      "34/34 - 0s - loss: 0.4955 - accuracy: 0.7918 - val_loss: 0.4858 - val_accuracy: 0.7867\n",
      "Epoch 42/82\n",
      "34/34 - 0s - loss: 0.4945 - accuracy: 0.7932 - val_loss: 0.4848 - val_accuracy: 0.7867\n",
      "Epoch 43/82\n",
      "34/34 - 0s - loss: 0.4942 - accuracy: 0.7914 - val_loss: 0.4849 - val_accuracy: 0.7873\n",
      "Epoch 44/82\n",
      "34/34 - 0s - loss: 0.4942 - accuracy: 0.7912 - val_loss: 0.4867 - val_accuracy: 0.7861\n",
      "Epoch 45/82\n",
      "34/34 - 0s - loss: 0.4933 - accuracy: 0.7926 - val_loss: 0.4837 - val_accuracy: 0.7873\n",
      "Epoch 46/82\n",
      "34/34 - 0s - loss: 0.5463 - accuracy: 0.7721 - val_loss: 0.5500 - val_accuracy: 0.7694\n",
      "Epoch 47/82\n",
      "34/34 - 0s - loss: 0.5329 - accuracy: 0.7822 - val_loss: 0.5131 - val_accuracy: 0.7873\n",
      "Epoch 48/82\n",
      "34/34 - 0s - loss: 0.5038 - accuracy: 0.7922 - val_loss: 0.4940 - val_accuracy: 0.7867\n",
      "Epoch 49/82\n",
      "34/34 - 0s - loss: 0.4888 - accuracy: 0.7944 - val_loss: 0.4830 - val_accuracy: 0.7909\n",
      "Epoch 50/82\n",
      "34/34 - 0s - loss: 0.4815 - accuracy: 0.7942 - val_loss: 0.4827 - val_accuracy: 0.7861\n",
      "Epoch 51/82\n",
      "34/34 - 0s - loss: 0.4819 - accuracy: 0.7918 - val_loss: 0.4818 - val_accuracy: 0.7891\n",
      "Epoch 52/82\n",
      "34/34 - 0s - loss: 0.4795 - accuracy: 0.7936 - val_loss: 0.4807 - val_accuracy: 0.7885\n",
      "Epoch 53/82\n",
      "34/34 - 0s - loss: 0.4780 - accuracy: 0.7942 - val_loss: 0.4778 - val_accuracy: 0.7903\n",
      "Epoch 54/82\n",
      "34/34 - 0s - loss: 0.4767 - accuracy: 0.7930 - val_loss: 0.4788 - val_accuracy: 0.7897\n",
      "Epoch 55/82\n",
      "34/34 - 0s - loss: 0.4769 - accuracy: 0.7934 - val_loss: 0.4772 - val_accuracy: 0.7915\n",
      "Epoch 56/82\n",
      "34/34 - 0s - loss: 0.4760 - accuracy: 0.7946 - val_loss: 0.4772 - val_accuracy: 0.7915\n",
      "Epoch 57/82\n",
      "34/34 - 0s - loss: 0.4751 - accuracy: 0.7938 - val_loss: 0.4765 - val_accuracy: 0.7927\n",
      "Epoch 58/82\n",
      "34/34 - 0s - loss: 0.4766 - accuracy: 0.7940 - val_loss: 0.4761 - val_accuracy: 0.7939\n",
      "Epoch 59/82\n",
      "34/34 - 0s - loss: 0.4757 - accuracy: 0.7930 - val_loss: 0.4758 - val_accuracy: 0.7951\n",
      "Epoch 60/82\n",
      "34/34 - 0s - loss: 0.4740 - accuracy: 0.7946 - val_loss: 0.4755 - val_accuracy: 0.7957\n",
      "Epoch 61/82\n",
      "34/34 - 0s - loss: 0.4750 - accuracy: 0.7938 - val_loss: 0.4757 - val_accuracy: 0.7927\n",
      "Epoch 62/82\n",
      "34/34 - 0s - loss: 0.4740 - accuracy: 0.7946 - val_loss: 0.4771 - val_accuracy: 0.7885\n",
      "Epoch 63/82\n",
      "34/34 - 0s - loss: 0.4735 - accuracy: 0.7946 - val_loss: 0.4759 - val_accuracy: 0.7933\n",
      "Epoch 64/82\n",
      "34/34 - 0s - loss: 0.4731 - accuracy: 0.7944 - val_loss: 0.4749 - val_accuracy: 0.7957\n",
      "Epoch 65/82\n",
      "34/34 - 0s - loss: 0.4729 - accuracy: 0.7952 - val_loss: 0.4748 - val_accuracy: 0.7915\n",
      "Epoch 66/82\n",
      "34/34 - 0s - loss: 0.4727 - accuracy: 0.7944 - val_loss: 0.4749 - val_accuracy: 0.7915\n",
      "Epoch 67/82\n",
      "34/34 - 0s - loss: 0.4721 - accuracy: 0.7952 - val_loss: 0.4763 - val_accuracy: 0.7915\n",
      "Epoch 68/82\n",
      "34/34 - 0s - loss: 0.4723 - accuracy: 0.7952 - val_loss: 0.4742 - val_accuracy: 0.7927\n",
      "Epoch 69/82\n",
      "34/34 - 0s - loss: 0.4715 - accuracy: 0.7956 - val_loss: 0.4751 - val_accuracy: 0.7915\n",
      "Epoch 70/82\n",
      "34/34 - 0s - loss: 0.4714 - accuracy: 0.7964 - val_loss: 0.4744 - val_accuracy: 0.7963\n",
      "Epoch 71/82\n",
      "34/34 - 0s - loss: 0.4712 - accuracy: 0.7952 - val_loss: 0.4764 - val_accuracy: 0.7909\n",
      "Epoch 72/82\n",
      "34/34 - 0s - loss: 0.4719 - accuracy: 0.7948 - val_loss: 0.4739 - val_accuracy: 0.7927\n",
      "Epoch 73/82\n",
      "34/34 - 0s - loss: 0.4719 - accuracy: 0.7948 - val_loss: 0.4746 - val_accuracy: 0.7921\n",
      "Epoch 74/82\n",
      "34/34 - 0s - loss: 0.4713 - accuracy: 0.7956 - val_loss: 0.4739 - val_accuracy: 0.7927\n",
      "Epoch 75/82\n",
      "34/34 - 0s - loss: 0.4718 - accuracy: 0.7968 - val_loss: 0.4749 - val_accuracy: 0.7921\n",
      "Epoch 76/82\n",
      "34/34 - 0s - loss: 0.4703 - accuracy: 0.7954 - val_loss: 0.4747 - val_accuracy: 0.7909\n",
      "Epoch 77/82\n",
      "34/34 - 0s - loss: 0.4703 - accuracy: 0.7960 - val_loss: 0.4734 - val_accuracy: 0.7957\n",
      "Epoch 78/82\n",
      "34/34 - 0s - loss: 0.4704 - accuracy: 0.7964 - val_loss: 0.4738 - val_accuracy: 0.7933\n",
      "Epoch 79/82\n",
      "34/34 - 0s - loss: 0.4706 - accuracy: 0.7946 - val_loss: 0.4741 - val_accuracy: 0.7915\n",
      "Epoch 80/82\n",
      "34/34 - 0s - loss: 0.4705 - accuracy: 0.7966 - val_loss: 0.4731 - val_accuracy: 0.7945\n",
      "Epoch 81/82\n",
      "34/34 - 0s - loss: 0.4697 - accuracy: 0.7968 - val_loss: 0.4731 - val_accuracy: 0.7951\n",
      "Epoch 82/82\n",
      "34/34 - 0s - loss: 0.4693 - accuracy: 0.7952 - val_loss: 0.4752 - val_accuracy: 0.7975\n"
     ]
    }
   ],
   "source": [
    "history_2 = model_2.fit(X_tr_pr, y_train, batch_size=150, epochs=82, verbose=2, validation_data=(X_te_pr, y_test))"
   ]
  },
  {
   "cell_type": "code",
   "execution_count": 27,
   "metadata": {},
   "outputs": [
    {
     "data": {
      "image/png": "[encoded data removed]",
      "text/plain": [
       "<Figure size 1440x720 with 2 Axes>"
      ]
     },
     "metadata": {
      "needs_background": "light"
     },
     "output_type": "display_data"
    }
   ],
   "source": [
    "# Get training and test loss/accuracy histories\n",
    "training_loss_2 = history_2.history['loss']\n",
    "test_loss_2 = history_2.history['val_loss']\n",
    "\n",
    "training_acc_2 = history_2.history['accuracy']\n",
    "test_acc_2 = history_2.history['val_accuracy']\n",
    "\n",
    "# Create count of the number of epochs\n",
    "epoch_count = range(1, len(training_loss_2) + 1)\n",
    "\n",
    "fig, (ax1, ax2) = plt.subplots(1, 2, figsize=(20, 10))\n",
    "\n",
    "# Visualize loss history\n",
    "ax1.plot(epoch_count, training_loss_2, 'r--')\n",
    "ax1.plot(epoch_count, test_loss_2, 'b-')\n",
    "ax1.legend(['Training Loss', 'Test Loss'])\n",
    "\n",
    "# Visualize accuracy  history\n",
    "ax2.plot(epoch_count, training_acc_2, 'r--')\n",
    "ax2.plot(epoch_count, test_acc_2, 'b-')\n",
    "ax2.legend(['Training Accuracy', 'Test Accuracy']);"
   ]
  },
  {
   "cell_type": "code",
   "execution_count": 28,
   "metadata": {},
   "outputs": [
    {
     "name": "stdout",
     "output_type": "stream",
     "text": [
      "LogReg's accuracy score: 0.7192353643966547\n",
      "Simple NN's best accuracy score: 0.7909199595451355\n",
      "Second NN's best accuracy score: 0.7974910140037537\n"
     ]
    }
   ],
   "source": [
    "print(f\"LogReg's accuracy score: {clf.score(X_test[num_cols], y_test)}\")\n",
    "print(f\"Simple NN's best accuracy score: {max(test_acc)}\")\n",
    "print(f\"Second NN's best accuracy score: {max(test_acc_2)}\")"
   ]
  },
  {
   "cell_type": "markdown",
   "metadata": {},
   "source": [
    "## Resources\n",
    "\n",
    "- A very basic, visual intro to neural networks: https://jalammar.github.io/visual-interactive-guide-basics-neural-networks/\n",
    "- Great video explanation of backpropagation by 3Blue1Brown (part of a full playlist): [Backpropagation calculus | Deep learning, chapter 4](https://www.youtube.com/watch?v=tIeHLnjs5U8&list=PLZHQObOWTQDNU6R1_67000Dx_ZCJB-3pi&index=4)\n",
    "- These are all neural networks! [The Neural Network Zoo](https://www.asimovinstitute.org/neural-network-zoo/)\n",
    "- Tips and tricks from Stanford (CS 230 - Deep Learning): https://stanford.edu/~shervine/teaching/cs-230/cheatsheet-deep-learning-tips-and-tricks#good-practices\n",
    "\n",
    "#### Deep Learning Courses:\n",
    "\n",
    "* Google's Machine Learning Crash Course (which uses tensorflow): https://developers.google.com/machine-learning/crash-course/\n",
    "\n",
    "* Deep Learning Wizard (which uses pytorch): https://www.deeplearningwizard.com/"
   ]
  }
 ],
 "metadata": {
  "kernelspec": {
   "display_name": "Python (learn-env)",
   "language": "python",
   "name": "learn-env"
  },
  "language_info": {
   "codemirror_mode": {
    "name": "ipython",
    "version": 3
   },
   "file_extension": ".py",
   "mimetype": "text/x-python",
   "name": "python",
   "nbconvert_exporter": "python",
   "pygments_lexer": "ipython3",
   "version": "3.8.5"
  },
  "toc": {
   "base_numbering": 1,
   "nav_menu": {},
   "number_sections": true,
   "sideBar": true,
   "skip_h1_title": false,
   "title_cell": "Table of Contents",
   "title_sidebar": "Contents",
   "toc_cell": true,
   "toc_position": {
    "height": "calc(100% - 180px)",
    "left": "10px",
    "top": "150px",
    "width": "384px"
   },
   "toc_section_display": true,
   "toc_window_display": true
  }
 },
 "nbformat": 4,
 "nbformat_minor": 4
}
