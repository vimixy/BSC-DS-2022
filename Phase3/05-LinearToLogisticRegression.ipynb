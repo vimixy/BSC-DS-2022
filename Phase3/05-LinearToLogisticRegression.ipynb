{
 "cells": [
  {
   "cell_type": "markdown",
   "metadata": {},
   "source": [
    "# Linear to Logistic Regression"
   ]
  },
  {
   "cell_type": "markdown",
   "metadata": {
    "hidden": true
   },
   "source": [
    "## Objectives\n",
    "\n",
    "- Describe conceptually the need to move beyond linear regression\n",
    "- Explain the form of logistic regression"
   ]
  },
  {
   "cell_type": "markdown",
   "metadata": {},
   "source": [
    "## Classification in Data Science: Predicting a Categorical Response\n",
    "\n",
    "![machine learning overview - now on to classification!](images/machinelearning-classification.png)"
   ]
  },
  {
   "cell_type": "markdown",
   "metadata": {
    "hidden": true
   },
   "source": [
    "**Classification techniques** are an essential part of machine learning and data mining applications. ***Most problems in Data Science are classification problems.***\n",
    "\n",
    "We will focus on *binary* classification problems for the rest of this phase, answering the question: \"Is it ___ or not?\""
   ]
  },
  {
   "cell_type": "markdown",
   "metadata": {
    "hidden": true
   },
   "source": [
    "## Let's Explore\n",
    "\n",
    "Why do we need to introduce classification techniques?"
   ]
  },
  {
   "cell_type": "code",
   "execution_count": 1,
   "metadata": {},
   "outputs": [],
   "source": [
    "# Imports\n",
    "import numpy as np\n",
    "import pandas as pd\n",
    "import matplotlib.pyplot as plt\n",
    "import seaborn as sns\n",
    "\n",
    "from sklearn.model_selection import train_test_split\n",
    "from sklearn.preprocessing import StandardScaler\n",
    "from sklearn.linear_model import LinearRegression, LogisticRegression\n",
    "\n",
    "# Ignoring 'setting with copy' warnings\n",
    "import warnings\n",
    "warnings.filterwarnings('ignore')"
   ]
  },
  {
   "cell_type": "markdown",
   "metadata": {
    "hidden": true
   },
   "source": [
    "Here we have a dataset about glass. Information [here](https://archive.ics.uci.edu/ml/datasets/glass+identification).\n",
    "\n",
    "Our goal: identify the type of glass - specifically, we'll create below a binary column called 'household type', which identifies the glass which is used in household items (as opposed to building windows or vehicles)."
   ]
  },
  {
   "cell_type": "code",
   "execution_count": 2,
   "metadata": {
    "hidden": true
   },
   "outputs": [
    {
     "data": {
      "text/html": [
       "<div>\n",
       "<style scoped>\n",
       "    .dataframe tbody tr th:only-of-type {\n",
       "        vertical-align: middle;\n",
       "    }\n",
       "\n",
       "    .dataframe tbody tr th {\n",
       "        vertical-align: top;\n",
       "    }\n",
       "\n",
       "    .dataframe thead th {\n",
       "        text-align: right;\n",
       "    }\n",
       "</style>\n",
       "<table border=\"1\" class=\"dataframe\">\n",
       "  <thead>\n",
       "    <tr style=\"text-align: right;\">\n",
       "      <th></th>\n",
       "      <th>al</th>\n",
       "      <th>household type</th>\n",
       "    </tr>\n",
       "    <tr>\n",
       "      <th>id</th>\n",
       "      <th></th>\n",
       "      <th></th>\n",
       "    </tr>\n",
       "  </thead>\n",
       "  <tbody>\n",
       "    <tr>\n",
       "      <th>1</th>\n",
       "      <td>1.10</td>\n",
       "      <td>0</td>\n",
       "    </tr>\n",
       "    <tr>\n",
       "      <th>2</th>\n",
       "      <td>1.36</td>\n",
       "      <td>0</td>\n",
       "    </tr>\n",
       "    <tr>\n",
       "      <th>3</th>\n",
       "      <td>1.54</td>\n",
       "      <td>0</td>\n",
       "    </tr>\n",
       "    <tr>\n",
       "      <th>4</th>\n",
       "      <td>1.29</td>\n",
       "      <td>0</td>\n",
       "    </tr>\n",
       "    <tr>\n",
       "      <th>5</th>\n",
       "      <td>1.24</td>\n",
       "      <td>0</td>\n",
       "    </tr>\n",
       "  </tbody>\n",
       "</table>\n",
       "</div>"
      ],
      "text/plain": [
       "      al  household type\n",
       "id                      \n",
       "1   1.10               0\n",
       "2   1.36               0\n",
       "3   1.54               0\n",
       "4   1.29               0\n",
       "5   1.24               0"
      ]
     },
     "execution_count": 2,
     "metadata": {},
     "output_type": "execute_result"
    }
   ],
   "source": [
    "# glass identification dataset\n",
    "url = 'http://archive.ics.uci.edu/ml/machine-learning-databases/glass/glass.data'\n",
    "col_names = ['id','ri','na','mg','al','si','k','ca','ba','fe','household type']\n",
    "glass = pd.read_csv(url, names=col_names, index_col='id')\n",
    "glass['household type'] = np.where(glass['household type'] <=3, 0, 1) # cleaning our target\n",
    "\n",
    "# Just grab one predictor and our target\n",
    "# 'al' is the amount of aluminum content, household type is whether the glass is household glass\n",
    "df = glass[['al', 'household type']]\n",
    "df.head()"
   ]
  },
  {
   "cell_type": "markdown",
   "metadata": {
    "hidden": true
   },
   "source": [
    "Let's visualize the relationship between our predictor and our target:"
   ]
  },
  {
   "cell_type": "code",
   "execution_count": 3,
   "metadata": {
    "hidden": true
   },
   "outputs": [
    {
     "data": {
      "image/png": "[encoded data removed]",
      "text/plain": [
       "<Figure size 432x288 with 1 Axes>"
      ]
     },
     "metadata": {
      "needs_background": "light"
     },
     "output_type": "display_data"
    }
   ],
   "source": [
    "fig, ax = plt.subplots()\n",
    "ax.scatter(df['al'], df['household type'])\n",
    "\n",
    "ax.set_yticks([0,1])\n",
    "ax.set_xlabel('level of aluminum content')\n",
    "ax.set_ylabel('whether the glass is household glass')\n",
    "ax.set_title('Type of Glass as a Function of Aluminum Content');"
   ]
  },
  {
   "cell_type": "markdown",
   "metadata": {
    "heading_collapsed": true,
    "hidden": true
   },
   "source": [
    "### Using Simple Linear Regression"
   ]
  },
  {
   "cell_type": "markdown",
   "metadata": {
    "hidden": true
   },
   "source": [
    "Let's draw a **regression line** to predict our target:"
   ]
  },
  {
   "cell_type": "code",
   "execution_count": 4,
   "metadata": {
    "hidden": true
   },
   "outputs": [],
   "source": [
    "# fit a linear regression model and store the predictions as a column\n",
    "X = df[['al']]\n",
    "y = df['household type']\n",
    "\n",
    "linreg = LinearRegression()\n",
    "linreg.fit(X, y)\n",
    "\n",
    "df['preds'] = linreg.predict(X)"
   ]
  },
  {
   "cell_type": "code",
   "execution_count": 5,
   "metadata": {
    "hidden": true
   },
   "outputs": [
    {
     "data": {
      "image/png": "[encoded data removed]",
      "text/plain": [
       "<Figure size 432x288 with 1 Axes>"
      ]
     },
     "metadata": {
      "needs_background": "light"
     },
     "output_type": "display_data"
    }
   ],
   "source": [
    "# scatter plot that includes the regression line\n",
    "\n",
    "fig, ax = plt.subplots()\n",
    "ax.scatter(df['al'], df['household type'])\n",
    "ax.plot(df['al'], df['preds'], color='red', label='Predictions')\n",
    "ax.set_xlabel('al')\n",
    "ax.set_ylabel('household glass type')\n",
    "ax.legend();"
   ]
  },
  {
   "cell_type": "markdown",
   "metadata": {
    "slideshow": {
     "slide_type": "slide"
    }
   },
   "source": [
    "You can see that this doesn't make a lot of sense. This straight line cannot grasp the true structure of what is going on when using a linear regression model. Now, without going into the mathematical details for now, let's look at a logistic regression model and fit that to the dataset."
   ]
  },
  {
   "cell_type": "code",
   "execution_count": 6,
   "metadata": {},
   "outputs": [],
   "source": [
    "# fit a logistic regression model and store the predictions as a column\n",
    "\n",
    "logreg = LogisticRegression()\n",
    "logreg.fit(X, y)\n",
    "\n",
    "df['logreg_preds'] = logreg.predict(X)"
   ]
  },
  {
   "cell_type": "code",
   "execution_count": 7,
   "metadata": {},
   "outputs": [
    {
     "data": {
      "image/png": "[encoded data removed]",
      "text/plain": [
       "<Figure size 432x288 with 1 Axes>"
      ]
     },
     "metadata": {
      "needs_background": "light"
     },
     "output_type": "display_data"
    }
   ],
   "source": [
    "fig, ax = plt.subplots()\n",
    "df = df.sort_values(by='al') # sorting so the plot renders correctly\n",
    "ax.scatter(df['al'], df['household type'])\n",
    "ax.plot(df['al'], df['logreg_preds'], color='red', label='Predictions')\n",
    "ax.set_xlabel('al')\n",
    "ax.set_ylabel('household')\n",
    "ax.legend();"
   ]
  },
  {
   "cell_type": "markdown",
   "metadata": {
    "slideshow": {
     "slide_type": "slide"
    }
   },
   "source": [
    "#### Discuss the new shape:\n",
    "\n",
    "You can see that this function has an S-shape which plateaus to 0 in the left tail and 1 to the right tail. This is exactly what we needed here!"
   ]
  },
  {
   "cell_type": "markdown",
   "metadata": {
    "slideshow": {
     "slide_type": "slide"
    }
   },
   "source": [
    "That **S-shape** is what's known as a **sigmoid function**\n",
    "\n",
    "![sigmoid](images/SigmoidFunction_701.gif)"
   ]
  },
  {
   "cell_type": "markdown",
   "metadata": {
    "slideshow": {
     "slide_type": "slide"
    }
   },
   "source": [
    "## Logistic Regression Model"
   ]
  },
  {
   "cell_type": "markdown",
   "metadata": {},
   "source": [
    "As you might remember, a _linear_ regression model can be written as:\n",
    "\n",
    "$$ \\hat y = \\hat\\beta_0 + \\hat\\beta_1 x_1 + \\hat\\beta_2, x_2 +\\ldots + \\beta_n x_n $$\n",
    "\n",
    "When there are $n$ predictors $x_1,\\ldots,x_n$ and $n+1$ parameter estimates that are estimated by the model $\\hat\\beta_0, \\hat\\beta_1,\\ldots, \\hat\\beta_n$. $ \\hat y $ is an estimator for the outcome variable."
   ]
  },
  {
   "cell_type": "markdown",
   "metadata": {},
   "source": [
    "Translating this model formulation to our example, this boils down to:\n",
    "\n",
    "$$ \\text{household glass} = \\beta_0 + \\beta_1 \\text{aluminum content} $$\n",
    "\n",
    "When you want to apply this to a binary target, what you actually want to do is perform a **classification** of your data in one group versus another one. In our case, we want to classify our observations as either \"household glass type\" or \"not household glass type\". A classification model will guess what the **probability** is of belonging to one group versus another. And that is exactly what logistic regression models can do! "
   ]
  },
  {
   "cell_type": "markdown",
   "metadata": {},
   "source": [
    "### Transformation\n",
    "\n",
    "Essentially, what happens is, the linear regression is *transformed* in a way that the outcome takes a value between 0 and 1. This can then be interpreted as a probability (e.g., 0.2 is a probability of 20%). Applied to our example, the expression for a logistic regression model would look like this:\n",
    "\n",
    "$$ P(\\text{household glass}) = \\displaystyle \\frac{1}{1+e^{-(\\hat \\beta_0+\\hat \\beta_1 \\text{aluminum content})}}$$\n",
    "\n",
    "Note that the outcome is written as $P(\\text{household glass})$. This means that the output should be interpreted as *the probability that glass is of the type 'household'*.\n",
    "\n",
    "In other words, the outcome variable should be interpreted as *the **probability** of the class label being equal to 1*."
   ]
  },
  {
   "cell_type": "markdown",
   "metadata": {
    "slideshow": {
     "slide_type": "slide"
    }
   },
   "source": [
    "### Specifics - with a side of more math\n",
    "\n",
    "#### What are the odds?\n",
    "\n",
    "<img src=\"images/odds.png\" width=500>"
   ]
  },
  {
   "cell_type": "markdown",
   "metadata": {},
   "source": [
    "For example, for an event with probability of 0.75, the odds of the event is:\n",
    "\n",
    "\n",
    "$$\\frac{0.75}{1 - 0.75} = \\frac{0.75}{0.25} = 3$$"
   ]
  },
  {
   "cell_type": "markdown",
   "metadata": {},
   "source": [
    "#### Specifically, we're modeling the LOG odds\n",
    "\n",
    "> Reminder: what are logs again? \n",
    "> $$ 2^4 = 16$$ $$\\log_2(16) = 4$$"
   ]
  },
  {
   "cell_type": "markdown",
   "metadata": {},
   "source": [
    "The values of odds range from 0 to infinity. When the value is less than 1, the odds are in favor of event not occuring; however, when odds is greater than, they are in favor of the events occuring. This poses a problem--the asymmetry. Therefore, we use the **log** of the odds to fix the asymmetry.\n",
    "\n",
    "Log(0.75/(1-0.75)) = 1.09\n",
    "\n",
    "Log(0.25/(1-0.25)) = -1.09"
   ]
  },
  {
   "cell_type": "markdown",
   "metadata": {
    "hidden": true
   },
   "source": [
    "#### The Point\n",
    "\n",
    "Under the hood, logistic regression is a linear regression function, but the target is now the log odds of our binary outcome category. The result that we get out from logistic regression is a number between 0 and 1, a number I can naturally interpret as **the probability of our 1 class** (as in, probability that the output is 1). If I truly want a binary prediction, I can simply round the probability to then output either 0 or 1 (which sklearn's logistic regression function does for us!)."
   ]
  },
  {
   "cell_type": "markdown",
   "metadata": {},
   "source": [
    "### Back to Glass:"
   ]
  },
  {
   "cell_type": "code",
   "execution_count": 8,
   "metadata": {},
   "outputs": [
    {
     "data": {
      "text/html": [
       "<div>\n",
       "<style scoped>\n",
       "    .dataframe tbody tr th:only-of-type {\n",
       "        vertical-align: middle;\n",
       "    }\n",
       "\n",
       "    .dataframe tbody tr th {\n",
       "        vertical-align: top;\n",
       "    }\n",
       "\n",
       "    .dataframe thead th {\n",
       "        text-align: right;\n",
       "    }\n",
       "</style>\n",
       "<table border=\"1\" class=\"dataframe\">\n",
       "  <thead>\n",
       "    <tr style=\"text-align: right;\">\n",
       "      <th></th>\n",
       "      <th>ri</th>\n",
       "      <th>na</th>\n",
       "      <th>mg</th>\n",
       "      <th>al</th>\n",
       "      <th>si</th>\n",
       "      <th>k</th>\n",
       "      <th>ca</th>\n",
       "      <th>ba</th>\n",
       "      <th>fe</th>\n",
       "      <th>household type</th>\n",
       "    </tr>\n",
       "    <tr>\n",
       "      <th>id</th>\n",
       "      <th></th>\n",
       "      <th></th>\n",
       "      <th></th>\n",
       "      <th></th>\n",
       "      <th></th>\n",
       "      <th></th>\n",
       "      <th></th>\n",
       "      <th></th>\n",
       "      <th></th>\n",
       "      <th></th>\n",
       "    </tr>\n",
       "  </thead>\n",
       "  <tbody>\n",
       "    <tr>\n",
       "      <th>1</th>\n",
       "      <td>1.52101</td>\n",
       "      <td>13.64</td>\n",
       "      <td>4.49</td>\n",
       "      <td>1.10</td>\n",
       "      <td>71.78</td>\n",
       "      <td>0.06</td>\n",
       "      <td>8.75</td>\n",
       "      <td>0.0</td>\n",
       "      <td>0.0</td>\n",
       "      <td>0</td>\n",
       "    </tr>\n",
       "    <tr>\n",
       "      <th>2</th>\n",
       "      <td>1.51761</td>\n",
       "      <td>13.89</td>\n",
       "      <td>3.60</td>\n",
       "      <td>1.36</td>\n",
       "      <td>72.73</td>\n",
       "      <td>0.48</td>\n",
       "      <td>7.83</td>\n",
       "      <td>0.0</td>\n",
       "      <td>0.0</td>\n",
       "      <td>0</td>\n",
       "    </tr>\n",
       "    <tr>\n",
       "      <th>3</th>\n",
       "      <td>1.51618</td>\n",
       "      <td>13.53</td>\n",
       "      <td>3.55</td>\n",
       "      <td>1.54</td>\n",
       "      <td>72.99</td>\n",
       "      <td>0.39</td>\n",
       "      <td>7.78</td>\n",
       "      <td>0.0</td>\n",
       "      <td>0.0</td>\n",
       "      <td>0</td>\n",
       "    </tr>\n",
       "    <tr>\n",
       "      <th>4</th>\n",
       "      <td>1.51766</td>\n",
       "      <td>13.21</td>\n",
       "      <td>3.69</td>\n",
       "      <td>1.29</td>\n",
       "      <td>72.61</td>\n",
       "      <td>0.57</td>\n",
       "      <td>8.22</td>\n",
       "      <td>0.0</td>\n",
       "      <td>0.0</td>\n",
       "      <td>0</td>\n",
       "    </tr>\n",
       "    <tr>\n",
       "      <th>5</th>\n",
       "      <td>1.51742</td>\n",
       "      <td>13.27</td>\n",
       "      <td>3.62</td>\n",
       "      <td>1.24</td>\n",
       "      <td>73.08</td>\n",
       "      <td>0.55</td>\n",
       "      <td>8.07</td>\n",
       "      <td>0.0</td>\n",
       "      <td>0.0</td>\n",
       "      <td>0</td>\n",
       "    </tr>\n",
       "  </tbody>\n",
       "</table>\n",
       "</div>"
      ],
      "text/plain": [
       "         ri     na    mg    al     si     k    ca   ba   fe  household type\n",
       "id                                                                         \n",
       "1   1.52101  13.64  4.49  1.10  71.78  0.06  8.75  0.0  0.0               0\n",
       "2   1.51761  13.89  3.60  1.36  72.73  0.48  7.83  0.0  0.0               0\n",
       "3   1.51618  13.53  3.55  1.54  72.99  0.39  7.78  0.0  0.0               0\n",
       "4   1.51766  13.21  3.69  1.29  72.61  0.57  8.22  0.0  0.0               0\n",
       "5   1.51742  13.27  3.62  1.24  73.08  0.55  8.07  0.0  0.0               0"
      ]
     },
     "execution_count": 8,
     "metadata": {},
     "output_type": "execute_result"
    }
   ],
   "source": [
    "glass.head()"
   ]
  },
  {
   "cell_type": "markdown",
   "metadata": {},
   "source": [
    "Let's go beyond a simple logistic regression, and use all of these variables to predict household type!\n",
    "\n",
    "BUT we need to scale first! If we check out the documentation, we'll see that SKLearn's Logistic Regression function applies regularization by default - meaning we need to scale our inputs or else we'll unfairly penalize some coefficients!\n",
    "\n",
    "https://scikit-learn.org/stable/modules/generated/sklearn.linear_model.LogisticRegression.html"
   ]
  },
  {
   "cell_type": "code",
   "execution_count": 9,
   "metadata": {},
   "outputs": [],
   "source": [
    "# Define our X and y\n",
    "\n",
    "X = glass.drop(columns='household type')\n",
    "y = glass['household type']"
   ]
  },
  {
   "cell_type": "code",
   "execution_count": 10,
   "metadata": {},
   "outputs": [],
   "source": [
    "# First, train test split\n",
    "\n",
    "X_train, X_test, y_train, y_test = train_test_split(X, y, test_size=.25, random_state=2022)"
   ]
  },
  {
   "cell_type": "code",
   "execution_count": 11,
   "metadata": {},
   "outputs": [],
   "source": [
    "# Instantiate our scaler\n",
    "scaler = StandardScaler()\n",
    "\n",
    "# Fit our scaler\n",
    "scaler.fit(X_train)\n",
    "\n",
    "# Transform train and test\n",
    "X_train_scaled = scaler.transform(X_train)\n",
    "X_test_scaled = scaler.transform(X_test)"
   ]
  },
  {
   "cell_type": "code",
   "execution_count": 12,
   "metadata": {},
   "outputs": [
    {
     "data": {
      "text/plain": [
       "LogisticRegression()"
      ]
     },
     "execution_count": 12,
     "metadata": {},
     "output_type": "execute_result"
    }
   ],
   "source": [
    "# Now, time to model!\n",
    "\n",
    "# Instantiate our Logistic Regression model\n",
    "# We can explore and discuss the documentation - should we adjust any arguments?\n",
    "logreg = LogisticRegression()\n",
    "\n",
    "# Fit our model to the scaled data\n",
    "logreg.fit(X_train_scaled, y_train)"
   ]
  },
  {
   "cell_type": "code",
   "execution_count": 13,
   "metadata": {},
   "outputs": [
    {
     "data": {
      "text/plain": [
       "0.93125"
      ]
     },
     "execution_count": 13,
     "metadata": {},
     "output_type": "execute_result"
    }
   ],
   "source": [
    "# Let's use the default scorer to explore results!\n",
    "logreg.score(X_train_scaled, y_train)"
   ]
  },
  {
   "cell_type": "code",
   "execution_count": 14,
   "metadata": {},
   "outputs": [
    {
     "data": {
      "text/plain": [
       "1.0"
      ]
     },
     "execution_count": 14,
     "metadata": {},
     "output_type": "execute_result"
    }
   ],
   "source": [
    "logreg.score(X_test_scaled, y_test)"
   ]
  },
  {
   "cell_type": "code",
   "execution_count": 15,
   "metadata": {},
   "outputs": [
    {
     "data": {
      "text/plain": [
       "array([1, 0, 0, 0, 0, 0, 0, 0, 0, 1, 0, 0, 1, 1, 0, 0, 0, 1, 1, 0, 1, 0,\n",
       "       0, 0, 0, 1, 0, 0, 0, 0, 1, 0, 0, 0, 1, 0, 0, 0, 0, 0, 0, 0, 0, 0,\n",
       "       0, 0, 0, 0, 0, 0, 0, 0, 0, 0, 0, 0, 1, 0, 1, 0, 0, 0, 0, 0, 1, 0,\n",
       "       1, 0, 1, 1, 1, 0, 0, 0, 0, 0, 0, 0, 0, 0, 1, 1, 0, 1, 1, 0, 0, 1,\n",
       "       0, 0, 0, 0, 0, 1, 0, 0, 0, 0, 1, 0, 0, 1, 1, 0, 1, 0, 0, 0, 0, 0,\n",
       "       0, 0, 0, 0, 1, 1, 0, 0, 0, 0, 0, 1, 0, 0, 0, 0, 1, 0, 0, 0, 0, 0,\n",
       "       0, 1, 0, 0, 0, 0, 0, 0, 0, 1, 0, 0, 0, 0, 0, 0, 0, 0, 0, 0, 0, 0,\n",
       "       0, 1, 0, 0, 1, 0])"
      ]
     },
     "execution_count": 15,
     "metadata": {},
     "output_type": "execute_result"
    }
   ],
   "source": [
    "# Now let's grab the predictions out\n",
    "logreg.predict(X_train_scaled)"
   ]
  },
  {
   "cell_type": "code",
   "execution_count": 16,
   "metadata": {},
   "outputs": [
    {
     "data": {
      "text/plain": [
       "array([[9.16713232e-04, 9.99083287e-01],\n",
       "       [9.97673798e-01, 2.32620167e-03],\n",
       "       [6.87087660e-01, 3.12912340e-01],\n",
       "       [8.80298952e-01, 1.19701048e-01],\n",
       "       [9.83382318e-01, 1.66176816e-02],\n",
       "       [9.71374628e-01, 2.86253724e-02],\n",
       "       [9.96940357e-01, 3.05964303e-03],\n",
       "       [9.95077213e-01, 4.92278658e-03],\n",
       "       [9.82510616e-01, 1.74893836e-02],\n",
       "       [2.10227368e-03, 9.97897726e-01],\n",
       "       [9.90486982e-01, 9.51301802e-03],\n",
       "       [9.96034005e-01, 3.96599538e-03],\n",
       "       [3.96029896e-01, 6.03970104e-01],\n",
       "       [3.25022461e-01, 6.74977539e-01],\n",
       "       [9.56876976e-01, 4.31230237e-02],\n",
       "       [9.72020962e-01, 2.79790375e-02],\n",
       "       [9.65433447e-01, 3.45665532e-02],\n",
       "       [4.40723743e-03, 9.95592763e-01],\n",
       "       [4.15924666e-02, 9.58407533e-01],\n",
       "       [9.66312060e-01, 3.36879403e-02],\n",
       "       [6.58441630e-04, 9.99341558e-01],\n",
       "       [9.95064758e-01, 4.93524174e-03],\n",
       "       [9.80712475e-01, 1.92875255e-02],\n",
       "       [9.77728559e-01, 2.22714412e-02],\n",
       "       [9.84923041e-01, 1.50769588e-02],\n",
       "       [1.26707381e-01, 8.73292619e-01],\n",
       "       [7.02922461e-01, 2.97077539e-01],\n",
       "       [9.98111382e-01, 1.88861848e-03],\n",
       "       [9.98962454e-01, 1.03754595e-03],\n",
       "       [8.76218617e-01, 1.23781383e-01],\n",
       "       [1.30765379e-03, 9.98692346e-01],\n",
       "       [9.62730443e-01, 3.72695567e-02],\n",
       "       [9.71432086e-01, 2.85679143e-02],\n",
       "       [9.45550055e-01, 5.44499448e-02],\n",
       "       [1.38782762e-01, 8.61217238e-01],\n",
       "       [7.09662182e-01, 2.90337818e-01],\n",
       "       [5.13676994e-01, 4.86323006e-01],\n",
       "       [6.54734630e-01, 3.45265370e-01],\n",
       "       [8.79113467e-01, 1.20886533e-01],\n",
       "       [9.75581344e-01, 2.44186556e-02],\n",
       "       [8.93355715e-01, 1.06644285e-01],\n",
       "       [9.59604169e-01, 4.03958309e-02],\n",
       "       [7.12950586e-01, 2.87049414e-01],\n",
       "       [9.66514689e-01, 3.34853108e-02],\n",
       "       [5.03692412e-01, 4.96307588e-01],\n",
       "       [9.97686752e-01, 2.31324750e-03],\n",
       "       [9.96997236e-01, 3.00276410e-03],\n",
       "       [9.35917008e-01, 6.40829923e-02],\n",
       "       [9.47647002e-01, 5.23529979e-02],\n",
       "       [9.18152275e-01, 8.18477248e-02],\n",
       "       [9.75219225e-01, 2.47807755e-02],\n",
       "       [9.68243872e-01, 3.17561279e-02],\n",
       "       [9.55919106e-01, 4.40808936e-02],\n",
       "       [7.49647833e-01, 2.50352167e-01],\n",
       "       [9.71150848e-01, 2.88491522e-02],\n",
       "       [9.24552470e-01, 7.54475298e-02],\n",
       "       [4.97553955e-01, 5.02446045e-01],\n",
       "       [9.78848183e-01, 2.11518166e-02],\n",
       "       [4.90774934e-04, 9.99509225e-01],\n",
       "       [9.91221948e-01, 8.77805179e-03],\n",
       "       [9.98151730e-01, 1.84826988e-03],\n",
       "       [9.51989400e-01, 4.80106001e-02],\n",
       "       [9.94470083e-01, 5.52991663e-03],\n",
       "       [9.53923424e-01, 4.60765761e-02],\n",
       "       [3.38704378e-02, 9.66129562e-01],\n",
       "       [8.35175610e-01, 1.64824390e-01],\n",
       "       [9.01032972e-04, 9.99098967e-01],\n",
       "       [9.97337135e-01, 2.66286485e-03],\n",
       "       [4.38659090e-01, 5.61340910e-01],\n",
       "       [3.30995991e-01, 6.69004009e-01],\n",
       "       [4.36588040e-01, 5.63411960e-01],\n",
       "       [9.74920433e-01, 2.50795674e-02],\n",
       "       [9.34982776e-01, 6.50172235e-02],\n",
       "       [9.96774949e-01, 3.22505056e-03],\n",
       "       [9.53689146e-01, 4.63108543e-02],\n",
       "       [9.00394961e-01, 9.96050393e-02],\n",
       "       [9.99193545e-01, 8.06454566e-04],\n",
       "       [9.16100932e-01, 8.38990684e-02],\n",
       "       [9.73054031e-01, 2.69459685e-02],\n",
       "       [9.81714835e-01, 1.82851653e-02],\n",
       "       [3.81998036e-03, 9.96180020e-01],\n",
       "       [8.46997103e-02, 9.15300290e-01],\n",
       "       [9.74496684e-01, 2.55033162e-02],\n",
       "       [5.20773350e-02, 9.47922665e-01],\n",
       "       [1.82424468e-03, 9.98175755e-01],\n",
       "       [6.42627600e-01, 3.57372400e-01],\n",
       "       [8.88816291e-01, 1.11183709e-01],\n",
       "       [4.86095327e-04, 9.99513905e-01],\n",
       "       [9.48270906e-01, 5.17290945e-02],\n",
       "       [9.85554611e-01, 1.44453887e-02],\n",
       "       [9.73269448e-01, 2.67305521e-02],\n",
       "       [9.50932108e-01, 4.90678925e-02],\n",
       "       [9.97610192e-01, 2.38980755e-03],\n",
       "       [3.96618682e-01, 6.03381318e-01],\n",
       "       [9.75836952e-01, 2.41630478e-02],\n",
       "       [9.21040403e-01, 7.89595966e-02],\n",
       "       [9.46695736e-01, 5.33042637e-02],\n",
       "       [9.89373570e-01, 1.06264300e-02],\n",
       "       [3.27450326e-03, 9.96725497e-01],\n",
       "       [9.42177936e-01, 5.78220635e-02],\n",
       "       [9.40857502e-01, 5.91424977e-02],\n",
       "       [3.50446509e-03, 9.96495535e-01],\n",
       "       [1.71803712e-02, 9.82819629e-01],\n",
       "       [9.72687559e-01, 2.73124406e-02],\n",
       "       [2.14385889e-03, 9.97856141e-01],\n",
       "       [9.61458706e-01, 3.85412940e-02],\n",
       "       [9.95376494e-01, 4.62350574e-03],\n",
       "       [9.31023434e-01, 6.89765662e-02],\n",
       "       [9.85167631e-01, 1.48323692e-02],\n",
       "       [9.60181978e-01, 3.98180219e-02],\n",
       "       [9.98347398e-01, 1.65260191e-03],\n",
       "       [9.59605770e-01, 4.03942297e-02],\n",
       "       [9.60255400e-01, 3.97446002e-02],\n",
       "       [9.96593145e-01, 3.40685498e-03],\n",
       "       [4.60459173e-01, 5.39540827e-01],\n",
       "       [1.08846927e-03, 9.98911531e-01],\n",
       "       [9.51313842e-01, 4.86861578e-02],\n",
       "       [9.30572753e-01, 6.94272468e-02],\n",
       "       [9.40181099e-01, 5.98189006e-02],\n",
       "       [9.81423130e-01, 1.85768701e-02],\n",
       "       [9.96432930e-01, 3.56706977e-03],\n",
       "       [4.76647833e-04, 9.99523352e-01],\n",
       "       [9.48051179e-01, 5.19488212e-02],\n",
       "       [9.97688922e-01, 2.31107782e-03],\n",
       "       [9.73704259e-01, 2.62957411e-02],\n",
       "       [9.78825988e-01, 2.11740123e-02],\n",
       "       [5.11313856e-02, 9.48868614e-01],\n",
       "       [9.29432825e-01, 7.05671749e-02],\n",
       "       [8.14690346e-01, 1.85309654e-01],\n",
       "       [9.52885059e-01, 4.71149413e-02],\n",
       "       [9.14104458e-01, 8.58955423e-02],\n",
       "       [9.95458307e-01, 4.54169319e-03],\n",
       "       [9.63978343e-01, 3.60216571e-02],\n",
       "       [4.97820449e-01, 5.02179551e-01],\n",
       "       [9.90450819e-01, 9.54918149e-03],\n",
       "       [8.76570139e-01, 1.23429861e-01],\n",
       "       [9.81442734e-01, 1.85572665e-02],\n",
       "       [9.02494894e-01, 9.75051064e-02],\n",
       "       [9.82750925e-01, 1.72490752e-02],\n",
       "       [9.18708802e-01, 8.12911977e-02],\n",
       "       [7.48397472e-01, 2.51602528e-01],\n",
       "       [6.47051184e-04, 9.99352949e-01],\n",
       "       [9.96737471e-01, 3.26252945e-03],\n",
       "       [9.14171142e-01, 8.58288583e-02],\n",
       "       [9.81537490e-01, 1.84625097e-02],\n",
       "       [9.67311916e-01, 3.26880839e-02],\n",
       "       [9.73037787e-01, 2.69622135e-02],\n",
       "       [9.58333404e-01, 4.16665957e-02],\n",
       "       [9.51647414e-01, 4.83525865e-02],\n",
       "       [9.69473444e-01, 3.05265559e-02],\n",
       "       [9.21160646e-01, 7.88393543e-02],\n",
       "       [9.88311921e-01, 1.16880788e-02],\n",
       "       [9.72886732e-01, 2.71132681e-02],\n",
       "       [9.78864265e-01, 2.11357354e-02],\n",
       "       [9.44187721e-01, 5.58122785e-02],\n",
       "       [4.45070689e-01, 5.54929311e-01],\n",
       "       [8.38577673e-01, 1.61422327e-01],\n",
       "       [8.78348456e-01, 1.21651544e-01],\n",
       "       [3.53256079e-01, 6.46743921e-01],\n",
       "       [9.67629118e-01, 3.23708821e-02]])"
      ]
     },
     "execution_count": 16,
     "metadata": {},
     "output_type": "execute_result"
    }
   ],
   "source": [
    "# Check out predict_proba:\n",
    "logreg.predict_proba(X_train_scaled)"
   ]
  },
  {
   "cell_type": "markdown",
   "metadata": {},
   "source": [
    "#### About `predict_proba`:\n",
    "\n",
    "[Documentation Link](https://scikit-learn.org/stable/modules/generated/sklearn.linear_model.LogisticRegression.html#sklearn.linear_model.LogisticRegression.predict_proba)\n",
    "\n",
    "Basically: we have a column for each class in our target, and the number is the calculated probability estimate of each class for that row! Typically, we want to explore the probability of the `1` class (the target we're searching for)"
   ]
  },
  {
   "cell_type": "code",
   "execution_count": 18,
   "metadata": {},
   "outputs": [
    {
     "data": {
      "text/html": [
       "<div>\n",
       "<style scoped>\n",
       "    .dataframe tbody tr th:only-of-type {\n",
       "        vertical-align: middle;\n",
       "    }\n",
       "\n",
       "    .dataframe tbody tr th {\n",
       "        vertical-align: top;\n",
       "    }\n",
       "\n",
       "    .dataframe thead th {\n",
       "        text-align: right;\n",
       "    }\n",
       "</style>\n",
       "<table border=\"1\" class=\"dataframe\">\n",
       "  <thead>\n",
       "    <tr style=\"text-align: right;\">\n",
       "      <th></th>\n",
       "      <th>Actual Value</th>\n",
       "      <th>Predicted Value</th>\n",
       "      <th>Predicted Probability of 1</th>\n",
       "    </tr>\n",
       "    <tr>\n",
       "      <th>id</th>\n",
       "      <th></th>\n",
       "      <th></th>\n",
       "      <th></th>\n",
       "    </tr>\n",
       "  </thead>\n",
       "  <tbody>\n",
       "    <tr>\n",
       "      <th>198</th>\n",
       "      <td>1</td>\n",
       "      <td>1</td>\n",
       "      <td>0.999083</td>\n",
       "    </tr>\n",
       "    <tr>\n",
       "      <th>104</th>\n",
       "      <td>0</td>\n",
       "      <td>0</td>\n",
       "      <td>0.002326</td>\n",
       "    </tr>\n",
       "    <tr>\n",
       "      <th>130</th>\n",
       "      <td>0</td>\n",
       "      <td>0</td>\n",
       "      <td>0.312912</td>\n",
       "    </tr>\n",
       "    <tr>\n",
       "      <th>102</th>\n",
       "      <td>0</td>\n",
       "      <td>0</td>\n",
       "      <td>0.119701</td>\n",
       "    </tr>\n",
       "    <tr>\n",
       "      <th>31</th>\n",
       "      <td>0</td>\n",
       "      <td>0</td>\n",
       "      <td>0.016618</td>\n",
       "    </tr>\n",
       "    <tr>\n",
       "      <th>135</th>\n",
       "      <td>0</td>\n",
       "      <td>0</td>\n",
       "      <td>0.028625</td>\n",
       "    </tr>\n",
       "    <tr>\n",
       "      <th>69</th>\n",
       "      <td>0</td>\n",
       "      <td>0</td>\n",
       "      <td>0.003060</td>\n",
       "    </tr>\n",
       "    <tr>\n",
       "      <th>70</th>\n",
       "      <td>0</td>\n",
       "      <td>0</td>\n",
       "      <td>0.004923</td>\n",
       "    </tr>\n",
       "    <tr>\n",
       "      <th>66</th>\n",
       "      <td>0</td>\n",
       "      <td>0</td>\n",
       "      <td>0.017489</td>\n",
       "    </tr>\n",
       "    <tr>\n",
       "      <th>211</th>\n",
       "      <td>1</td>\n",
       "      <td>1</td>\n",
       "      <td>0.997898</td>\n",
       "    </tr>\n",
       "  </tbody>\n",
       "</table>\n",
       "</div>"
      ],
      "text/plain": [
       "     Actual Value  Predicted Value  Predicted Probability of 1\n",
       "id                                                            \n",
       "198             1                1                    0.999083\n",
       "104             0                0                    0.002326\n",
       "130             0                0                    0.312912\n",
       "102             0                0                    0.119701\n",
       "31              0                0                    0.016618\n",
       "135             0                0                    0.028625\n",
       "69              0                0                    0.003060\n",
       "70              0                0                    0.004923\n",
       "66              0                0                    0.017489\n",
       "211             1                1                    0.997898"
      ]
     },
     "execution_count": 18,
     "metadata": {},
     "output_type": "execute_result"
    }
   ],
   "source": [
    "# Let's make a dataframe to explore our predictions\n",
    "\n",
    "tr_outcomes = pd.DataFrame(y_train).rename(columns={'household type':'Actual Value'})\n",
    "\n",
    "tr_outcomes['Predicted Value'] = logreg.predict(X_train_scaled)\n",
    "tr_outcomes['Predicted Probability of 1'] = logreg.predict_proba(X_train_scaled)[:,1]\n",
    "\n",
    "tr_outcomes.head(10)"
   ]
  },
  {
   "cell_type": "markdown",
   "metadata": {},
   "source": [
    "#### Discuss:\n",
    "\n",
    "- \n"
   ]
  },
  {
   "cell_type": "markdown",
   "metadata": {
    "slideshow": {
     "slide_type": "slide"
    }
   },
   "source": [
    "### Interpretting coefficients\n",
    "\n",
    "This result, in combination with mathematical properties of exponential functions, leads to the fact that, applied to our example:\n",
    "\n",
    "> if *aluminum content* goes up by 1, the odds are multiplied by $e^{\\beta_1}$\n",
    "\n",
    "In our example, if there is a positive relationship between aluminum content and glass type, this will lead a positive $\\beta_1 > 0$, so $e^{\\beta_1}>1$, and the odds will increase as *aluminum content* increases."
   ]
  },
  {
   "cell_type": "code",
   "execution_count": 19,
   "metadata": {},
   "outputs": [
    {
     "data": {
      "text/plain": [
       "array([[ 0.57287052,  0.82074492, -1.41441348,  1.8486297 ,  1.0371649 ,\n",
       "         0.01533583, -0.015433  ,  0.34484762, -0.46222101]])"
      ]
     },
     "execution_count": 19,
     "metadata": {},
     "output_type": "execute_result"
    }
   ],
   "source": [
    "# Check out the coefficients from our model\n",
    "logreg.coef_"
   ]
  },
  {
   "cell_type": "code",
   "execution_count": 21,
   "metadata": {},
   "outputs": [
    {
     "data": {
      "text/plain": [
       "{'ri': 0.5728705158695453,\n",
       " 'na': 0.8207449166195825,\n",
       " 'mg': -1.4144134778639914,\n",
       " 'al': 1.848629695728895,\n",
       " 'si': 1.0371648969368001,\n",
       " 'k': 0.015335834499644412,\n",
       " 'ca': -0.015432996262460526,\n",
       " 'ba': 0.34484762136849856,\n",
       " 'fe': -0.46222101496181933}"
      ]
     },
     "execution_count": 21,
     "metadata": {},
     "output_type": "execute_result"
    }
   ],
   "source": [
    "# Zip them: need to access the 0th element of the coef_ argument\n",
    "dict(zip(X_train.columns, logreg.coef_[0]))"
   ]
  },
  {
   "cell_type": "markdown",
   "metadata": {},
   "source": [
    "#### Interpret:\n",
    "\n",
    "- \n"
   ]
  },
  {
   "cell_type": "markdown",
   "metadata": {},
   "source": [
    "### Assumptions ... should feel familiar\n",
    "\n",
    "- The independent variables should be linearly related to the log odds\n",
    "    - AKA we expect a linear relationship\n",
    "- The input variables should be independent of each other\n",
    "    - AKA the model should have little or no multicollinearity\n",
    "- For a binary logistic regression, the factor level 1 of the dependent variable should represent the desired outcome\n",
    "    - AKA the `1` class in the target column should always represent the thing you're trying to find\n",
    "- For a binary logistic regression, the dependent variable should be dichotomous in nature\n",
    "    - AKA the target column should be mutually exclusive\n",
    "    \n",
    "[Reference](https://www.statisticssolutions.com/free-resources/directory-of-statistical-analyses/what-is-logistic-regression/)"
   ]
  },
  {
   "cell_type": "markdown",
   "metadata": {
    "slideshow": {
     "slide_type": "fragment"
    }
   },
   "source": [
    "----\n",
    "\n",
    "## Level Up:  Deeper Dive:\n",
    "\n",
    "As mentioned before, the probability of identifying household glass can be calculated using:\n",
    "\n",
    "$$ P(\\text{household glass}) = \\displaystyle \\frac{1}{1+e^{-(\\hat \\beta_0+\\hat \\beta_1 \\text{aluminum content})}}$$\n",
    "\n",
    "You can show that, by multiplying both numerator and denominator by $e^{(\\hat \\beta_0+\\hat \\beta_1 \\text{aluminum content})}$\n",
    "\n",
    "\n",
    "$$ P(\\text{household glass}) = \\displaystyle \\frac{e^{\\hat \\beta_0+\\hat \\beta_1 \\text{aluminum content}}}{1+e^{\\hat \\beta_o+\\hat \\beta_1 \\text{aluminum content}}}$$\n",
    "\n",
    "As a result, you can compute $P(\\text{NOT household glass})$ as:\n",
    "\n",
    "$$ P(\\text{NOT household glass} ) = 1- \\displaystyle \\frac{e^{\\hat \\beta_0+\\hat \\beta_1 \\text{aluminum content}}}{1+e^{\\hat \\beta_o+\\hat \\beta_1 \\text{aluminum content}}}= \\displaystyle \\frac{1}{1+e^{\\hat \\beta_0+\\hat \\beta_1 \\text{aluminum content}}}$$\n",
    "\n"
   ]
  },
  {
   "cell_type": "markdown",
   "metadata": {
    "slideshow": {
     "slide_type": "slide"
    }
   },
   "source": [
    "#### Odds ratio\n",
    "\n",
    "This doesn't seem to be very spectacular, but combining these two results leads to an easy interpretation of the model parameters, triggered by the *odds*\n",
    "\n",
    "$$ \\dfrac{P(\\text{household glass})}{P(\\text{NOT household glass})} = e^{\\hat \\beta_0+\\hat \\beta_1 \\text{aluminum}} $$\n",
    "\n",
    "This expression can be interpreted as the *odds in favor of identifying household glass*."
   ]
  }
 ],
 "metadata": {
  "hide_input": false,
  "kernelspec": {
   "display_name": "Python 3",
   "language": "python",
   "name": "python3"
  },
  "language_info": {
   "codemirror_mode": {
    "name": "ipython",
    "version": 3
   },
   "file_extension": ".py",
   "mimetype": "text/x-python",
   "name": "python",
   "nbconvert_exporter": "python",
   "pygments_lexer": "ipython3",
   "version": "3.8.5"
  },
  "latex_envs": {
   "LaTeX_envs_menu_present": true,
   "autoclose": false,
   "autocomplete": true,
   "bibliofile": "biblio.bib",
   "cite_by": "apalike",
   "current_citInitial": 1,
   "eqLabelWithNumbers": true,
   "eqNumInitial": 1,
   "hotkeys": {
    "equation": "Ctrl-E",
    "itemize": "Ctrl-I"
   },
   "labels_anchors": false,
   "latex_user_defs": false,
   "report_style_numbering": false,
   "user_envs_cfg": false
  },
  "nbTranslate": {
   "displayLangs": [
    "*"
   ],
   "hotkey": "alt-t",
   "langInMainMenu": true,
   "sourceLang": "en",
   "targetLang": "fr",
   "useGoogleTranslate": true
  },
  "toc": {
   "base_numbering": 1,
   "nav_menu": {},
   "number_sections": true,
   "sideBar": true,
   "skip_h1_title": false,
   "title_cell": "Table of Contents",
   "title_sidebar": "Contents",
   "toc_cell": true,
   "toc_position": {
    "height": "calc(100% - 180px)",
    "left": "10px",
    "top": "150px",
    "width": "288px"
   },
   "toc_section_display": true,
   "toc_window_display": false
  }
 },
 "nbformat": 4,
 "nbformat_minor": 1
}
