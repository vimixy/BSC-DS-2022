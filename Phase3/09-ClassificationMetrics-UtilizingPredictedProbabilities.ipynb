{
 "cells": [
  {
   "cell_type": "markdown",
   "metadata": {},
   "source": [
    "# Classification Metrics: Utilizing Predicted Probabilities\n",
    "\n",
    "## Thresholding and the Receiver Operator Characteristic Curve"
   ]
  },
  {
   "cell_type": "markdown",
   "metadata": {
    "heading_collapsed": true
   },
   "source": [
    "## Objectives"
   ]
  },
  {
   "cell_type": "markdown",
   "metadata": {
    "hidden": true
   },
   "source": [
    "- Calculate and interpret probability estimates\n",
    "- Adjust the threshold of a logistic regression model\n",
    "- Visualize, calculate and interpret the AUC-ROC metric"
   ]
  },
  {
   "cell_type": "markdown",
   "metadata": {
    "heading_collapsed": true
   },
   "source": [
    "# Motivation"
   ]
  },
  {
   "cell_type": "markdown",
   "metadata": {
    "hidden": true
   },
   "source": [
    "Now that we've learned how to evaluate a classification model's predictions, let's dig deeper to see how else we might evaluate our models and how we can use that information to improve them."
   ]
  },
  {
   "cell_type": "markdown",
   "metadata": {},
   "source": [
    "## Scenario: Predicting Polymers\n",
    "\n",
    "<img src=\"https://images.pexels.com/photos/248152/pexels-photo-248152.jpeg?auto=compress&cs=tinysrgb&dpr=2&h=750&w=1260\" style='width:300px'>\n",
    "\n",
    "The researchers at SABIC Innovative Plastics US are working on refining the manufacturing process for new polymers. Creating this polymer involves combining 12 materials and 45 mechanical processes (order of processes is unimportant). The prices of ingredients vary as do the amount of time needed for each process done by individual machines that would otherwise be used to make other products. The CSuite requires a pared down list of materials and processes before polymers can go to market. \n",
    "\n",
    "A polymer yield greater than or equal to 41 grams is considered \"high\".\n",
    "\n",
    "You will use logistic regression to create a classification model find the material and process combination that produces high yield."
   ]
  },
  {
   "cell_type": "markdown",
   "metadata": {},
   "source": [
    "### Business Problem\n",
    "\n",
    "#### End Users:\n",
    "\n",
    "- Scientists, budgeting department, CSuite\n",
    "\n",
    "#### True business problem:\n",
    "\n",
    "- Create a model that can, if given data from from repeated chemical manufacturing trials, predict if the polymer yield will be high (worth the money). \n",
    "\n",
    "#### Context: FILL IN THE BLANKS!\n",
    "\n",
    "- **False negative** in this context: model predicts NOT high yield but it actually is\n",
    "    - **Outcome**: missed  opportunity\n",
    "    \n",
    "- **False positive** in this context: model predicts high yeild but it actually is NOT\n",
    "\n",
    "    - **Outcome**: wasted money spent on something that isn't worth the investment\n",
    "\n",
    "#### Evaluation \n",
    "\n",
    "Which metric (of the ones we've explore so far) would make sense to primarily use as we evaluate our models?\n",
    "\n",
    "- Accuracy\n",
    "- Precision\n",
    "- Recall\n",
    "- F1-Score"
   ]
  },
  {
   "cell_type": "markdown",
   "metadata": {},
   "source": [
    "## Import necessary packages"
   ]
  },
  {
   "cell_type": "code",
   "execution_count": 38,
   "metadata": {},
   "outputs": [],
   "source": [
    "import numpy as np\n",
    "import pandas as pd\n",
    "\n",
    "import matplotlib.pyplot as plt\n",
    "\n",
    "from sklearn.datasets import load_breast_cancer\n",
    "from sklearn.model_selection import train_test_split\n",
    "from sklearn.preprocessing import MaxAbsScaler, StandardScaler\n",
    "from sklearn.impute import SimpleImputer\n",
    "from sklearn.linear_model import LogisticRegression\n",
    "\n",
    "from sklearn.metrics import accuracy_score, precision_score, recall_score, f1_score\n",
    "from sklearn.metrics import confusion_matrix, roc_auc_score, log_loss\n",
    "from sklearn.metrics import plot_confusion_matrix, plot_precision_recall_curve, plot_roc_curve\n",
    "\n",
    "import warnings\n",
    "warnings.filterwarnings('ignore')"
   ]
  },
  {
   "cell_type": "markdown",
   "metadata": {},
   "source": [
    "## Read in data & take a look"
   ]
  },
  {
   "cell_type": "code",
   "execution_count": 39,
   "metadata": {},
   "outputs": [],
   "source": [
    "df = pd.read_csv('data/ChemicalManufacturingProcess.csv', index_col=0)"
   ]
  },
  {
   "cell_type": "code",
   "execution_count": 40,
   "metadata": {},
   "outputs": [
    {
     "name": "stdout",
     "output_type": "stream",
     "text": [
      "<class 'pandas.core.frame.DataFrame'>\n",
      "Int64Index: 176 entries, 0 to 175\n",
      "Data columns (total 58 columns):\n",
      " #   Column                  Non-Null Count  Dtype  \n",
      "---  ------                  --------------  -----  \n",
      " 0   Yield                   176 non-null    float64\n",
      " 1   BiologicalMaterial01    176 non-null    float64\n",
      " 2   BiologicalMaterial02    176 non-null    float64\n",
      " 3   BiologicalMaterial03    176 non-null    float64\n",
      " 4   BiologicalMaterial04    176 non-null    float64\n",
      " 5   BiologicalMaterial05    176 non-null    float64\n",
      " 6   BiologicalMaterial06    176 non-null    float64\n",
      " 7   BiologicalMaterial07    176 non-null    float64\n",
      " 8   BiologicalMaterial08    176 non-null    float64\n",
      " 9   BiologicalMaterial09    176 non-null    float64\n",
      " 10  BiologicalMaterial10    176 non-null    float64\n",
      " 11  BiologicalMaterial11    176 non-null    float64\n",
      " 12  BiologicalMaterial12    176 non-null    float64\n",
      " 13  ManufacturingProcess01  175 non-null    float64\n",
      " 14  ManufacturingProcess02  173 non-null    float64\n",
      " 15  ManufacturingProcess03  161 non-null    float64\n",
      " 16  ManufacturingProcess04  175 non-null    float64\n",
      " 17  ManufacturingProcess05  175 non-null    float64\n",
      " 18  ManufacturingProcess06  174 non-null    float64\n",
      " 19  ManufacturingProcess07  175 non-null    float64\n",
      " 20  ManufacturingProcess08  175 non-null    float64\n",
      " 21  ManufacturingProcess09  176 non-null    float64\n",
      " 22  ManufacturingProcess10  167 non-null    float64\n",
      " 23  ManufacturingProcess11  166 non-null    float64\n",
      " 24  ManufacturingProcess12  175 non-null    float64\n",
      " 25  ManufacturingProcess13  176 non-null    float64\n",
      " 26  ManufacturingProcess14  175 non-null    float64\n",
      " 27  ManufacturingProcess15  176 non-null    float64\n",
      " 28  ManufacturingProcess16  176 non-null    float64\n",
      " 29  ManufacturingProcess17  176 non-null    float64\n",
      " 30  ManufacturingProcess18  176 non-null    float64\n",
      " 31  ManufacturingProcess19  176 non-null    float64\n",
      " 32  ManufacturingProcess20  176 non-null    float64\n",
      " 33  ManufacturingProcess21  176 non-null    float64\n",
      " 34  ManufacturingProcess22  175 non-null    float64\n",
      " 35  ManufacturingProcess23  175 non-null    float64\n",
      " 36  ManufacturingProcess24  175 non-null    float64\n",
      " 37  ManufacturingProcess25  171 non-null    float64\n",
      " 38  ManufacturingProcess26  171 non-null    float64\n",
      " 39  ManufacturingProcess27  171 non-null    float64\n",
      " 40  ManufacturingProcess28  171 non-null    float64\n",
      " 41  ManufacturingProcess29  171 non-null    float64\n",
      " 42  ManufacturingProcess30  171 non-null    float64\n",
      " 43  ManufacturingProcess31  171 non-null    float64\n",
      " 44  ManufacturingProcess32  176 non-null    float64\n",
      " 45  ManufacturingProcess33  171 non-null    float64\n",
      " 46  ManufacturingProcess34  171 non-null    float64\n",
      " 47  ManufacturingProcess35  171 non-null    float64\n",
      " 48  ManufacturingProcess36  171 non-null    float64\n",
      " 49  ManufacturingProcess37  176 non-null    float64\n",
      " 50  ManufacturingProcess38  176 non-null    float64\n",
      " 51  ManufacturingProcess39  176 non-null    float64\n",
      " 52  ManufacturingProcess40  175 non-null    float64\n",
      " 53  ManufacturingProcess41  175 non-null    float64\n",
      " 54  ManufacturingProcess42  176 non-null    float64\n",
      " 55  ManufacturingProcess43  176 non-null    float64\n",
      " 56  ManufacturingProcess44  176 non-null    float64\n",
      " 57  ManufacturingProcess45  176 non-null    float64\n",
      "dtypes: float64(58)\n",
      "memory usage: 81.1 KB\n"
     ]
    }
   ],
   "source": [
    "df.info()"
   ]
  },
  {
   "cell_type": "code",
   "execution_count": 41,
   "metadata": {},
   "outputs": [
    {
     "data": {
      "text/html": [
       "<div>\n",
       "<style scoped>\n",
       "    .dataframe tbody tr th:only-of-type {\n",
       "        vertical-align: middle;\n",
       "    }\n",
       "\n",
       "    .dataframe tbody tr th {\n",
       "        vertical-align: top;\n",
       "    }\n",
       "\n",
       "    .dataframe thead th {\n",
       "        text-align: right;\n",
       "    }\n",
       "</style>\n",
       "<table border=\"1\" class=\"dataframe\">\n",
       "  <thead>\n",
       "    <tr style=\"text-align: right;\">\n",
       "      <th></th>\n",
       "      <th>Yield</th>\n",
       "      <th>BiologicalMaterial01</th>\n",
       "      <th>BiologicalMaterial02</th>\n",
       "      <th>BiologicalMaterial03</th>\n",
       "      <th>BiologicalMaterial04</th>\n",
       "      <th>BiologicalMaterial05</th>\n",
       "      <th>BiologicalMaterial06</th>\n",
       "      <th>BiologicalMaterial07</th>\n",
       "      <th>BiologicalMaterial08</th>\n",
       "      <th>BiologicalMaterial09</th>\n",
       "      <th>...</th>\n",
       "      <th>ManufacturingProcess36</th>\n",
       "      <th>ManufacturingProcess37</th>\n",
       "      <th>ManufacturingProcess38</th>\n",
       "      <th>ManufacturingProcess39</th>\n",
       "      <th>ManufacturingProcess40</th>\n",
       "      <th>ManufacturingProcess41</th>\n",
       "      <th>ManufacturingProcess42</th>\n",
       "      <th>ManufacturingProcess43</th>\n",
       "      <th>ManufacturingProcess44</th>\n",
       "      <th>ManufacturingProcess45</th>\n",
       "    </tr>\n",
       "  </thead>\n",
       "  <tbody>\n",
       "    <tr>\n",
       "      <th>0</th>\n",
       "      <td>38.00</td>\n",
       "      <td>6.25</td>\n",
       "      <td>49.58</td>\n",
       "      <td>56.97</td>\n",
       "      <td>12.74</td>\n",
       "      <td>19.51</td>\n",
       "      <td>43.73</td>\n",
       "      <td>100.0</td>\n",
       "      <td>16.66</td>\n",
       "      <td>11.44</td>\n",
       "      <td>...</td>\n",
       "      <td>0.019</td>\n",
       "      <td>0.5</td>\n",
       "      <td>3.0</td>\n",
       "      <td>7.2</td>\n",
       "      <td>NaN</td>\n",
       "      <td>NaN</td>\n",
       "      <td>11.6</td>\n",
       "      <td>3.0</td>\n",
       "      <td>1.8</td>\n",
       "      <td>2.4</td>\n",
       "    </tr>\n",
       "    <tr>\n",
       "      <th>1</th>\n",
       "      <td>42.44</td>\n",
       "      <td>8.01</td>\n",
       "      <td>60.97</td>\n",
       "      <td>67.48</td>\n",
       "      <td>14.65</td>\n",
       "      <td>19.36</td>\n",
       "      <td>53.14</td>\n",
       "      <td>100.0</td>\n",
       "      <td>19.04</td>\n",
       "      <td>12.55</td>\n",
       "      <td>...</td>\n",
       "      <td>0.019</td>\n",
       "      <td>2.0</td>\n",
       "      <td>2.0</td>\n",
       "      <td>7.2</td>\n",
       "      <td>0.1</td>\n",
       "      <td>0.15</td>\n",
       "      <td>11.1</td>\n",
       "      <td>0.9</td>\n",
       "      <td>1.9</td>\n",
       "      <td>2.2</td>\n",
       "    </tr>\n",
       "    <tr>\n",
       "      <th>2</th>\n",
       "      <td>42.03</td>\n",
       "      <td>8.01</td>\n",
       "      <td>60.97</td>\n",
       "      <td>67.48</td>\n",
       "      <td>14.65</td>\n",
       "      <td>19.36</td>\n",
       "      <td>53.14</td>\n",
       "      <td>100.0</td>\n",
       "      <td>19.04</td>\n",
       "      <td>12.55</td>\n",
       "      <td>...</td>\n",
       "      <td>0.018</td>\n",
       "      <td>0.7</td>\n",
       "      <td>2.0</td>\n",
       "      <td>7.2</td>\n",
       "      <td>0.0</td>\n",
       "      <td>0.00</td>\n",
       "      <td>12.0</td>\n",
       "      <td>1.0</td>\n",
       "      <td>1.8</td>\n",
       "      <td>2.3</td>\n",
       "    </tr>\n",
       "    <tr>\n",
       "      <th>3</th>\n",
       "      <td>41.42</td>\n",
       "      <td>8.01</td>\n",
       "      <td>60.97</td>\n",
       "      <td>67.48</td>\n",
       "      <td>14.65</td>\n",
       "      <td>19.36</td>\n",
       "      <td>53.14</td>\n",
       "      <td>100.0</td>\n",
       "      <td>19.04</td>\n",
       "      <td>12.55</td>\n",
       "      <td>...</td>\n",
       "      <td>0.018</td>\n",
       "      <td>1.2</td>\n",
       "      <td>2.0</td>\n",
       "      <td>7.2</td>\n",
       "      <td>0.0</td>\n",
       "      <td>0.00</td>\n",
       "      <td>10.6</td>\n",
       "      <td>1.1</td>\n",
       "      <td>1.8</td>\n",
       "      <td>2.1</td>\n",
       "    </tr>\n",
       "    <tr>\n",
       "      <th>4</th>\n",
       "      <td>42.49</td>\n",
       "      <td>7.47</td>\n",
       "      <td>63.33</td>\n",
       "      <td>72.25</td>\n",
       "      <td>14.02</td>\n",
       "      <td>17.91</td>\n",
       "      <td>54.66</td>\n",
       "      <td>100.0</td>\n",
       "      <td>18.22</td>\n",
       "      <td>12.80</td>\n",
       "      <td>...</td>\n",
       "      <td>0.017</td>\n",
       "      <td>0.2</td>\n",
       "      <td>2.0</td>\n",
       "      <td>7.3</td>\n",
       "      <td>0.0</td>\n",
       "      <td>0.00</td>\n",
       "      <td>11.0</td>\n",
       "      <td>1.1</td>\n",
       "      <td>1.7</td>\n",
       "      <td>2.1</td>\n",
       "    </tr>\n",
       "  </tbody>\n",
       "</table>\n",
       "<p>5 rows × 58 columns</p>\n",
       "</div>"
      ],
      "text/plain": [
       "   Yield  BiologicalMaterial01  BiologicalMaterial02  BiologicalMaterial03  \\\n",
       "0  38.00                  6.25                 49.58                 56.97   \n",
       "1  42.44                  8.01                 60.97                 67.48   \n",
       "2  42.03                  8.01                 60.97                 67.48   \n",
       "3  41.42                  8.01                 60.97                 67.48   \n",
       "4  42.49                  7.47                 63.33                 72.25   \n",
       "\n",
       "   BiologicalMaterial04  BiologicalMaterial05  BiologicalMaterial06  \\\n",
       "0                 12.74                 19.51                 43.73   \n",
       "1                 14.65                 19.36                 53.14   \n",
       "2                 14.65                 19.36                 53.14   \n",
       "3                 14.65                 19.36                 53.14   \n",
       "4                 14.02                 17.91                 54.66   \n",
       "\n",
       "   BiologicalMaterial07  BiologicalMaterial08  BiologicalMaterial09  ...  \\\n",
       "0                 100.0                 16.66                 11.44  ...   \n",
       "1                 100.0                 19.04                 12.55  ...   \n",
       "2                 100.0                 19.04                 12.55  ...   \n",
       "3                 100.0                 19.04                 12.55  ...   \n",
       "4                 100.0                 18.22                 12.80  ...   \n",
       "\n",
       "   ManufacturingProcess36  ManufacturingProcess37  ManufacturingProcess38  \\\n",
       "0                   0.019                     0.5                     3.0   \n",
       "1                   0.019                     2.0                     2.0   \n",
       "2                   0.018                     0.7                     2.0   \n",
       "3                   0.018                     1.2                     2.0   \n",
       "4                   0.017                     0.2                     2.0   \n",
       "\n",
       "   ManufacturingProcess39  ManufacturingProcess40  ManufacturingProcess41  \\\n",
       "0                     7.2                     NaN                     NaN   \n",
       "1                     7.2                     0.1                    0.15   \n",
       "2                     7.2                     0.0                    0.00   \n",
       "3                     7.2                     0.0                    0.00   \n",
       "4                     7.3                     0.0                    0.00   \n",
       "\n",
       "   ManufacturingProcess42  ManufacturingProcess43  ManufacturingProcess44  \\\n",
       "0                    11.6                     3.0                     1.8   \n",
       "1                    11.1                     0.9                     1.9   \n",
       "2                    12.0                     1.0                     1.8   \n",
       "3                    10.6                     1.1                     1.8   \n",
       "4                    11.0                     1.1                     1.7   \n",
       "\n",
       "   ManufacturingProcess45  \n",
       "0                     2.4  \n",
       "1                     2.2  \n",
       "2                     2.3  \n",
       "3                     2.1  \n",
       "4                     2.1  \n",
       "\n",
       "[5 rows x 58 columns]"
      ]
     },
     "execution_count": 41,
     "metadata": {},
     "output_type": "execute_result"
    }
   ],
   "source": [
    "df.head()"
   ]
  },
  {
   "cell_type": "markdown",
   "metadata": {},
   "source": [
    "## Train test split\n",
    "\n",
    "Encode `Yield` into `1/0` depending on if it's equal or greater than 41."
   ]
  },
  {
   "cell_type": "code",
   "execution_count": 42,
   "metadata": {},
   "outputs": [],
   "source": [
    "# train test split\n",
    "\n",
    "X = df.drop(columns = ['Yield'])\n",
    "y = (df['Yield'] >= 41).astype(int)\n",
    "\n",
    "X_train, X_test, y_train, y_test = train_test_split(X, y, test_size=0.25, random_state=42)"
   ]
  },
  {
   "cell_type": "markdown",
   "metadata": {},
   "source": [
    "## Preprocessing\n",
    "- impute missing values in columns\n",
    "- scale using max absolute value (this was chosen after trial and error with other scalers)"
   ]
  },
  {
   "cell_type": "code",
   "execution_count": 43,
   "metadata": {},
   "outputs": [],
   "source": [
    "# Impute missing values with median\n",
    "imputer = SimpleImputer(strategy='constant', fill_value=0.0)\n",
    "\n",
    "imputer.fit(X_train)\n",
    "\n",
    "X_train_imp = imputer.transform(X_train)\n",
    "X_test_imp = imputer.transform(X_test)"
   ]
  },
  {
   "cell_type": "code",
   "execution_count": 44,
   "metadata": {},
   "outputs": [],
   "source": [
    "# Scale using MaxAbsScaler\n",
    "scaler = MaxAbsScaler()\n",
    "\n",
    "scaler.fit(X_train_imp)\n",
    "\n",
    "X_train_pr = scaler.transform(X_train_imp)\n",
    "X_test_pr = scaler.transform(X_test_imp)"
   ]
  },
  {
   "cell_type": "markdown",
   "metadata": {},
   "source": [
    "## Create logistic regression model\n",
    "\n",
    "Using all input features:"
   ]
  },
  {
   "cell_type": "code",
   "execution_count": 45,
   "metadata": {},
   "outputs": [
    {
     "data": {
      "text/plain": [
       "LogisticRegression(random_state=100)"
      ]
     },
     "execution_count": 45,
     "metadata": {},
     "output_type": "execute_result"
    }
   ],
   "source": [
    "logreg = LogisticRegression(random_state = 100)\n",
    "logreg.fit(X_train_pr, y_train)"
   ]
  },
  {
   "cell_type": "code",
   "execution_count": 46,
   "metadata": {},
   "outputs": [],
   "source": [
    "# Grab train and test preds\n",
    "train_preds = logreg.predict(X_train_pr)\n",
    "test_preds = logreg.predict(X_test_pr)"
   ]
  },
  {
   "cell_type": "markdown",
   "metadata": {},
   "source": [
    "## Evaluate\n",
    "Check the accuracy of the model. <br>\n",
    "Remember, `sklearn` uses a threshold cutoff of `0.5`"
   ]
  },
  {
   "cell_type": "code",
   "execution_count": 47,
   "metadata": {},
   "outputs": [
    {
     "name": "stdout",
     "output_type": "stream",
     "text": [
      "Train Accuracy: 0.803030303030303\n",
      "Test Accuracy: 0.6363636363636364\n"
     ]
    }
   ],
   "source": [
    "print(f\"Train Accuracy: {accuracy_score(y_train, train_preds)}\")\n",
    "print(f\"Test Accuracy: {accuracy_score(y_test, test_preds)}\")"
   ]
  },
  {
   "cell_type": "code",
   "execution_count": 48,
   "metadata": {},
   "outputs": [
    {
     "name": "stdout",
     "output_type": "stream",
     "text": [
      "Train Accuracy: 0.5806451612903226\n",
      "Test Accuracy: 0.27272727272727276\n"
     ]
    }
   ],
   "source": [
    "print(f\"Train Accuracy: {f1_score(y_train, train_preds)}\")\n",
    "print(f\"Test Accuracy: {f1_score(y_test, test_preds)}\")"
   ]
  },
  {
   "cell_type": "markdown",
   "metadata": {},
   "source": [
    "## But is that the **BEST** cutoff?"
   ]
  },
  {
   "cell_type": "markdown",
   "metadata": {
    "hidden": true,
    "scrolled": true
   },
   "source": [
    "If you remember how the logistic regression model works, though, it doesn't actually generate predicted values of 0 or 1. It creates an S-shaped curve to approximate the data, estimating the _probability_ that they belong to the target class. This probability takes a value between 0 and 1. THEN sklearn will round up - anything above .5 becomes a 1, anything below .5 becomes a 0."
   ]
  },
  {
   "cell_type": "markdown",
   "metadata": {
    "hidden": true,
    "scrolled": true
   },
   "source": [
    "<img src=\"https://www.graphpad.com/guides/prism/latest/curve-fitting/images/hmfile_hash_38a8acae.png\" width=600>\n",
    "\n",
    "Source: [GraphPad](https://www.graphpad.com/guides/prism/latest/curve-fitting/reg_simple_logistic_and_linear_difference.htm)"
   ]
  },
  {
   "cell_type": "markdown",
   "metadata": {
    "heading_collapsed": true,
    "hidden": true
   },
   "source": [
    "#### Are We Stuck with the 0.5 Threshold?"
   ]
  },
  {
   "cell_type": "markdown",
   "metadata": {
    "hidden": true
   },
   "source": [
    "But we don't have to do things this way! Suppose we're building a model that predicts the presence of cancer from X-ray scans. And suppose we get a predicted probability of cancer for some particular scan that look like this:\n",
    "\n",
    "- pred_pos: 0.48\n",
    "\n",
    "Because false negatives (cancers not flagged) are *much* more costly than false positives (non-cancers flagged as cancers), we may well want to **adjust our threshold**. We might want to have our model predict \"positive\" if the corresponding probability is, say, 0.4, or maybe even as low as 0.1. (Speaking for myself, if there was even a 10% chance that I had cancer, I'd probably want to know about it.) "
   ]
  },
  {
   "cell_type": "markdown",
   "metadata": {
    "hidden": true
   },
   "source": [
    "We can get these estimated probabilities using the `.predict_proba()` method. Each element gives two probabilities: the estimate probability of being in the 0 class (not high yield) and the 1 class (high yield)"
   ]
  },
  {
   "cell_type": "code",
   "execution_count": 49,
   "metadata": {},
   "outputs": [],
   "source": [
    "# get predicted probabilities (log odds) from model for train and test set\n",
    "# slicing with [:,1] gets the 1st column, probabilities for the 1 class (high yield)\n",
    "train_probs = logreg.predict_proba(X_train_pr)[:,1]\n",
    "test_probs = logreg.predict_proba(X_test_pr)[:,1]"
   ]
  },
  {
   "cell_type": "markdown",
   "metadata": {},
   "source": [
    "### Explore Our Train Set's Predicted Probabilities"
   ]
  },
  {
   "cell_type": "code",
   "execution_count": 50,
   "metadata": {},
   "outputs": [
    {
     "data": {
      "text/plain": [
       "array([0.1983133 , 0.8074352 , 0.10704101, 0.24313203, 0.07105152,\n",
       "       0.28833212, 0.20339205, 0.15174109, 0.21543235, 0.12689986,\n",
       "       0.34411922, 0.25152712, 0.2295839 , 0.6830815 , 0.26860917,\n",
       "       0.25128548, 0.18249744, 0.14231262, 0.08670719, 0.07649267,\n",
       "       0.45266748, 0.53027354, 0.23118304, 0.30635294, 0.71372931,\n",
       "       0.33084181, 0.15737069, 0.27245892, 0.30262286, 0.43135823,\n",
       "       0.23743569, 0.407896  , 0.31776559, 0.37496896, 0.27414871,\n",
       "       0.42442719, 0.63183614, 0.14300775, 0.17968496, 0.68051899,\n",
       "       0.23114884, 0.23854982, 0.73970906, 0.22711906, 0.29032377,\n",
       "       0.24874968, 0.19683885, 0.66192058, 0.08743367, 0.0833152 ,\n",
       "       0.08346221, 0.12010677, 0.07685854, 0.49955407, 0.11286034,\n",
       "       0.23129689, 0.08457215, 0.35264486, 0.21381613, 0.19529681,\n",
       "       0.25589596, 0.28959803, 0.41979383, 0.32567224, 0.23663304,\n",
       "       0.11943613, 0.2001809 , 0.25456971, 0.43546886, 0.89816577,\n",
       "       0.2503956 , 0.76886579, 0.08213452, 0.49752326, 0.52910378,\n",
       "       0.25580817, 0.17373136, 0.2755438 , 0.48915419, 0.58766943,\n",
       "       0.49956833, 0.13622585, 0.15301921, 0.20780758, 0.1780006 ,\n",
       "       0.24633193, 0.19643971, 0.25103101, 0.14833827, 0.47868004,\n",
       "       0.51991106, 0.49560302, 0.1172923 , 0.22272852, 0.72667184,\n",
       "       0.11440785, 0.1198281 , 0.11622541, 0.16241814, 0.22587051,\n",
       "       0.51484244, 0.42677488, 0.08671349, 0.46486434, 0.28568674,\n",
       "       0.62603762, 0.6897654 , 0.30912563, 0.71665726, 0.25233225,\n",
       "       0.30470064, 0.23725119, 0.60829206, 0.05548062, 0.66066424,\n",
       "       0.5283791 , 0.14957013, 0.21619239, 0.2099311 , 0.17837029,\n",
       "       0.1481444 , 0.19965173, 0.10692309, 0.29003795, 0.10512296,\n",
       "       0.33585171, 0.26013492, 0.1018546 , 0.17898485, 0.50848123,\n",
       "       0.21946801, 0.05660378])"
      ]
     },
     "execution_count": 50,
     "metadata": {},
     "output_type": "execute_result"
    }
   ],
   "source": [
    "train_probs"
   ]
  },
  {
   "cell_type": "code",
   "execution_count": 51,
   "metadata": {},
   "outputs": [],
   "source": [
    "y_train_compare = pd.DataFrame(y_train).rename(columns={'Yield':'Actual'})\n",
    "y_train_compare['Predicted'] = train_preds\n",
    "y_train_compare['Predicted Probabilities'] = train_probs"
   ]
  },
  {
   "cell_type": "code",
   "execution_count": 52,
   "metadata": {},
   "outputs": [
    {
     "data": {
      "text/html": [
       "<div>\n",
       "<style scoped>\n",
       "    .dataframe tbody tr th:only-of-type {\n",
       "        vertical-align: middle;\n",
       "    }\n",
       "\n",
       "    .dataframe tbody tr th {\n",
       "        vertical-align: top;\n",
       "    }\n",
       "\n",
       "    .dataframe thead th {\n",
       "        text-align: right;\n",
       "    }\n",
       "</style>\n",
       "<table border=\"1\" class=\"dataframe\">\n",
       "  <thead>\n",
       "    <tr style=\"text-align: right;\">\n",
       "      <th></th>\n",
       "      <th>Actual</th>\n",
       "      <th>Predicted</th>\n",
       "      <th>Predicted Probabilities</th>\n",
       "    </tr>\n",
       "  </thead>\n",
       "  <tbody>\n",
       "    <tr>\n",
       "      <th>142</th>\n",
       "      <td>0</td>\n",
       "      <td>0</td>\n",
       "      <td>0.198313</td>\n",
       "    </tr>\n",
       "    <tr>\n",
       "      <th>2</th>\n",
       "      <td>1</td>\n",
       "      <td>1</td>\n",
       "      <td>0.807435</td>\n",
       "    </tr>\n",
       "    <tr>\n",
       "      <th>100</th>\n",
       "      <td>0</td>\n",
       "      <td>0</td>\n",
       "      <td>0.107041</td>\n",
       "    </tr>\n",
       "    <tr>\n",
       "      <th>122</th>\n",
       "      <td>1</td>\n",
       "      <td>0</td>\n",
       "      <td>0.243132</td>\n",
       "    </tr>\n",
       "    <tr>\n",
       "      <th>153</th>\n",
       "      <td>0</td>\n",
       "      <td>0</td>\n",
       "      <td>0.071052</td>\n",
       "    </tr>\n",
       "  </tbody>\n",
       "</table>\n",
       "</div>"
      ],
      "text/plain": [
       "     Actual  Predicted  Predicted Probabilities\n",
       "142       0          0                 0.198313\n",
       "2         1          1                 0.807435\n",
       "100       0          0                 0.107041\n",
       "122       1          0                 0.243132\n",
       "153       0          0                 0.071052"
      ]
     },
     "execution_count": 52,
     "metadata": {},
     "output_type": "execute_result"
    }
   ],
   "source": [
    "y_train_compare.head()"
   ]
  },
  {
   "cell_type": "code",
   "execution_count": 53,
   "metadata": {},
   "outputs": [
    {
     "data": {
      "text/html": [
       "<div>\n",
       "<style scoped>\n",
       "    .dataframe tbody tr th:only-of-type {\n",
       "        vertical-align: middle;\n",
       "    }\n",
       "\n",
       "    .dataframe tbody tr th {\n",
       "        vertical-align: top;\n",
       "    }\n",
       "\n",
       "    .dataframe thead th {\n",
       "        text-align: right;\n",
       "    }\n",
       "</style>\n",
       "<table border=\"1\" class=\"dataframe\">\n",
       "  <thead>\n",
       "    <tr style=\"text-align: right;\">\n",
       "      <th></th>\n",
       "      <th>Predicted Probabilities</th>\n",
       "    </tr>\n",
       "  </thead>\n",
       "  <tbody>\n",
       "    <tr>\n",
       "      <th>count</th>\n",
       "      <td>132.000000</td>\n",
       "    </tr>\n",
       "    <tr>\n",
       "      <th>mean</th>\n",
       "      <td>0.303028</td>\n",
       "    </tr>\n",
       "    <tr>\n",
       "      <th>std</th>\n",
       "      <td>0.192569</td>\n",
       "    </tr>\n",
       "    <tr>\n",
       "      <th>min</th>\n",
       "      <td>0.055481</td>\n",
       "    </tr>\n",
       "    <tr>\n",
       "      <th>25%</th>\n",
       "      <td>0.161156</td>\n",
       "    </tr>\n",
       "    <tr>\n",
       "      <th>50%</th>\n",
       "      <td>0.247541</td>\n",
       "    </tr>\n",
       "    <tr>\n",
       "      <th>75%</th>\n",
       "      <td>0.425014</td>\n",
       "    </tr>\n",
       "    <tr>\n",
       "      <th>max</th>\n",
       "      <td>0.898166</td>\n",
       "    </tr>\n",
       "  </tbody>\n",
       "</table>\n",
       "</div>"
      ],
      "text/plain": [
       "       Predicted Probabilities\n",
       "count               132.000000\n",
       "mean                  0.303028\n",
       "std                   0.192569\n",
       "min                   0.055481\n",
       "25%                   0.161156\n",
       "50%                   0.247541\n",
       "75%                   0.425014\n",
       "max                   0.898166"
      ]
     },
     "execution_count": 53,
     "metadata": {},
     "output_type": "execute_result"
    }
   ],
   "source": [
    "# Check the range of predicted probabilities using .describe\n",
    "y_train_compare[['Predicted Probabilities']].describe()"
   ]
  },
  {
   "cell_type": "code",
   "execution_count": 54,
   "metadata": {},
   "outputs": [
    {
     "data": {
      "text/html": [
       "<div>\n",
       "<style scoped>\n",
       "    .dataframe tbody tr th:only-of-type {\n",
       "        vertical-align: middle;\n",
       "    }\n",
       "\n",
       "    .dataframe tbody tr th {\n",
       "        vertical-align: top;\n",
       "    }\n",
       "\n",
       "    .dataframe thead th {\n",
       "        text-align: right;\n",
       "    }\n",
       "</style>\n",
       "<table border=\"1\" class=\"dataframe\">\n",
       "  <thead>\n",
       "    <tr style=\"text-align: right;\">\n",
       "      <th></th>\n",
       "      <th>Predicted Probabilities</th>\n",
       "    </tr>\n",
       "  </thead>\n",
       "  <tbody>\n",
       "    <tr>\n",
       "      <th>count</th>\n",
       "      <td>26.000000</td>\n",
       "    </tr>\n",
       "    <tr>\n",
       "      <th>mean</th>\n",
       "      <td>0.374115</td>\n",
       "    </tr>\n",
       "    <tr>\n",
       "      <th>std</th>\n",
       "      <td>0.140246</td>\n",
       "    </tr>\n",
       "    <tr>\n",
       "      <th>min</th>\n",
       "      <td>0.149570</td>\n",
       "    </tr>\n",
       "    <tr>\n",
       "      <th>25%</th>\n",
       "      <td>0.248723</td>\n",
       "    </tr>\n",
       "    <tr>\n",
       "      <th>50%</th>\n",
       "      <td>0.376008</td>\n",
       "    </tr>\n",
       "    <tr>\n",
       "      <th>75%</th>\n",
       "      <td>0.486536</td>\n",
       "    </tr>\n",
       "    <tr>\n",
       "      <th>max</th>\n",
       "      <td>0.726672</td>\n",
       "    </tr>\n",
       "  </tbody>\n",
       "</table>\n",
       "</div>"
      ],
      "text/plain": [
       "       Predicted Probabilities\n",
       "count                26.000000\n",
       "mean                  0.374115\n",
       "std                   0.140246\n",
       "min                   0.149570\n",
       "25%                   0.248723\n",
       "50%                   0.376008\n",
       "75%                   0.486536\n",
       "max                   0.726672"
      ]
     },
     "execution_count": 54,
     "metadata": {},
     "output_type": "execute_result"
    }
   ],
   "source": [
    "# Explore where the model gets it wrong, and that range\n",
    "wrong_preds = y_train_compare.loc[y_train_compare['Actual'] != y_train_compare['Predicted']]\n",
    "wrong_preds[['Predicted Probabilities']].describe()"
   ]
  },
  {
   "cell_type": "markdown",
   "metadata": {},
   "source": [
    "#### Discuss\n",
    "\n",
    "- \n"
   ]
  },
  {
   "cell_type": "markdown",
   "metadata": {},
   "source": [
    "Use `for` loop to iterate over various thresholds and calculate metrics for both train and test."
   ]
  },
  {
   "cell_type": "code",
   "execution_count": 55,
   "metadata": {},
   "outputs": [],
   "source": [
    "col_names = ['threshold', 'mean_train_pred', 'mean_test_pred', 'train_acc', 'test_acc', \n",
    "             'train_prec', 'test_prec', 'train_rec', 'test_rec', 'train_f1', 'test_f1']\n",
    "metrics_df = pd.DataFrame(columns=col_names)\n",
    "\n",
    "for x in np.arange(train_probs.min(), train_probs.max(), 0.01):\n",
    "    threshold = x\n",
    "    \n",
    "    y_pred_train = np.where(train_probs > x, 1, 0)\n",
    "    y_pred_test = np.where(test_probs > x, 1, 0)\n",
    "    \n",
    "    train_acc = accuracy_score(y_train, y_pred_train)\n",
    "    test_acc = accuracy_score(y_test, y_pred_test)\n",
    "    \n",
    "    train_prec = precision_score(y_train, y_pred_train)\n",
    "    test_prec = precision_score(y_test, y_pred_test)\n",
    "    \n",
    "    train_rec = recall_score(y_train, y_pred_train)\n",
    "    test_rec = recall_score(y_test, y_pred_test)\n",
    "    \n",
    "    train_f1 = f1_score(y_train, y_pred_train)\n",
    "    test_f1 = f1_score(y_test, y_pred_test)\n",
    "    \n",
    "    placeholder = [threshold, y_pred_train.mean(), y_pred_test.mean(),\n",
    "                   train_acc, test_acc, train_prec, test_prec,\n",
    "                   train_rec, test_rec, train_f1, test_f1]\n",
    "    \n",
    "    sample_S = pd.Series(placeholder, index=col_names)\n",
    "    metrics_df = metrics_df.append(sample_S, ignore_index=True)"
   ]
  },
  {
   "cell_type": "code",
   "execution_count": 56,
   "metadata": {},
   "outputs": [
    {
     "data": {
      "text/html": [
       "<div>\n",
       "<style scoped>\n",
       "    .dataframe tbody tr th:only-of-type {\n",
       "        vertical-align: middle;\n",
       "    }\n",
       "\n",
       "    .dataframe tbody tr th {\n",
       "        vertical-align: top;\n",
       "    }\n",
       "\n",
       "    .dataframe thead th {\n",
       "        text-align: right;\n",
       "    }\n",
       "</style>\n",
       "<table border=\"1\" class=\"dataframe\">\n",
       "  <thead>\n",
       "    <tr style=\"text-align: right;\">\n",
       "      <th></th>\n",
       "      <th>threshold</th>\n",
       "      <th>mean_train_pred</th>\n",
       "      <th>mean_test_pred</th>\n",
       "      <th>train_acc</th>\n",
       "      <th>test_acc</th>\n",
       "      <th>train_prec</th>\n",
       "      <th>test_prec</th>\n",
       "      <th>train_rec</th>\n",
       "      <th>test_rec</th>\n",
       "      <th>train_f1</th>\n",
       "      <th>test_f1</th>\n",
       "    </tr>\n",
       "  </thead>\n",
       "  <tbody>\n",
       "    <tr>\n",
       "      <th>0</th>\n",
       "      <td>0.055481</td>\n",
       "      <td>0.992424</td>\n",
       "      <td>0.931818</td>\n",
       "      <td>0.310606</td>\n",
       "      <td>0.409091</td>\n",
       "      <td>0.305344</td>\n",
       "      <td>0.365854</td>\n",
       "      <td>1.0</td>\n",
       "      <td>1.0</td>\n",
       "      <td>0.467836</td>\n",
       "      <td>0.535714</td>\n",
       "    </tr>\n",
       "    <tr>\n",
       "      <th>1</th>\n",
       "      <td>0.065481</td>\n",
       "      <td>0.984848</td>\n",
       "      <td>0.931818</td>\n",
       "      <td>0.318182</td>\n",
       "      <td>0.409091</td>\n",
       "      <td>0.307692</td>\n",
       "      <td>0.365854</td>\n",
       "      <td>1.0</td>\n",
       "      <td>1.0</td>\n",
       "      <td>0.470588</td>\n",
       "      <td>0.535714</td>\n",
       "    </tr>\n",
       "    <tr>\n",
       "      <th>2</th>\n",
       "      <td>0.075481</td>\n",
       "      <td>0.977273</td>\n",
       "      <td>0.931818</td>\n",
       "      <td>0.325758</td>\n",
       "      <td>0.409091</td>\n",
       "      <td>0.310078</td>\n",
       "      <td>0.365854</td>\n",
       "      <td>1.0</td>\n",
       "      <td>1.0</td>\n",
       "      <td>0.473373</td>\n",
       "      <td>0.535714</td>\n",
       "    </tr>\n",
       "    <tr>\n",
       "      <th>3</th>\n",
       "      <td>0.085481</td>\n",
       "      <td>0.931818</td>\n",
       "      <td>0.909091</td>\n",
       "      <td>0.371212</td>\n",
       "      <td>0.431818</td>\n",
       "      <td>0.325203</td>\n",
       "      <td>0.375000</td>\n",
       "      <td>1.0</td>\n",
       "      <td>1.0</td>\n",
       "      <td>0.490798</td>\n",
       "      <td>0.545455</td>\n",
       "    </tr>\n",
       "    <tr>\n",
       "      <th>4</th>\n",
       "      <td>0.095481</td>\n",
       "      <td>0.909091</td>\n",
       "      <td>0.909091</td>\n",
       "      <td>0.393939</td>\n",
       "      <td>0.431818</td>\n",
       "      <td>0.333333</td>\n",
       "      <td>0.375000</td>\n",
       "      <td>1.0</td>\n",
       "      <td>1.0</td>\n",
       "      <td>0.500000</td>\n",
       "      <td>0.545455</td>\n",
       "    </tr>\n",
       "  </tbody>\n",
       "</table>\n",
       "</div>"
      ],
      "text/plain": [
       "   threshold  mean_train_pred  mean_test_pred  train_acc  test_acc  \\\n",
       "0   0.055481         0.992424        0.931818   0.310606  0.409091   \n",
       "1   0.065481         0.984848        0.931818   0.318182  0.409091   \n",
       "2   0.075481         0.977273        0.931818   0.325758  0.409091   \n",
       "3   0.085481         0.931818        0.909091   0.371212  0.431818   \n",
       "4   0.095481         0.909091        0.909091   0.393939  0.431818   \n",
       "\n",
       "   train_prec  test_prec  train_rec  test_rec  train_f1   test_f1  \n",
       "0    0.305344   0.365854        1.0       1.0  0.467836  0.535714  \n",
       "1    0.307692   0.365854        1.0       1.0  0.470588  0.535714  \n",
       "2    0.310078   0.365854        1.0       1.0  0.473373  0.535714  \n",
       "3    0.325203   0.375000        1.0       1.0  0.490798  0.545455  \n",
       "4    0.333333   0.375000        1.0       1.0  0.500000  0.545455  "
      ]
     },
     "execution_count": 56,
     "metadata": {},
     "output_type": "execute_result"
    }
   ],
   "source": [
    "metrics_df.head()"
   ]
  },
  {
   "cell_type": "markdown",
   "metadata": {},
   "source": [
    "## **Plot** the results"
   ]
  },
  {
   "cell_type": "code",
   "execution_count": 57,
   "metadata": {
    "scrolled": true
   },
   "outputs": [
    {
     "data": {
      "image/png": "[encoded data removed]",
      "text/plain": [
       "<Figure size 936x720 with 1 Axes>"
      ]
     },
     "metadata": {
      "needs_background": "light"
     },
     "output_type": "display_data"
    }
   ],
   "source": [
    "fig, ax = plt.subplots(figsize=(13, 10))\n",
    "ax.set_title(\"Search for Best Threshold\", fontsize=16)\n",
    "\n",
    "ax.set_xlabel(\"Threshold\")\n",
    "ax.set_ylabel(\"Score\")\n",
    "ax.grid(True)\n",
    "\n",
    "ax.set_ylim(0, 1)\n",
    "\n",
    "# Get the regular numpy array from the MaskedArray\n",
    "X_axis = metrics_df['threshold'].values\n",
    "\n",
    "# Currently have all the train metrics hashed out - can unhash to visualize\n",
    "\n",
    "# ax.plot(X_axis, metrics_df['train_acc'], ls='--', color='g', label='Train Accuracy')\n",
    "ax.plot(X_axis, metrics_df['test_acc'], color='g', label='Test Accuracy')\n",
    "\n",
    "# ax.plot(X_axis, metrics_df['train_prec'], ls='--', color='b', label='Train Precision')\n",
    "ax.plot(X_axis, metrics_df['test_prec'], color='b', label='Test Precision')\n",
    "\n",
    "# ax.plot(X_axis, metrics_df['train_rec'], ls='--', color='r', label='Train Recall')\n",
    "ax.plot(X_axis, metrics_df['test_rec'], ls='-', color='r', label='Test Recall')\n",
    "\n",
    "# ax.plot(X_axis, metrics_df['train_f1'], ls='--', color='purple', label='Train F1')\n",
    "ax.plot(X_axis, metrics_df['test_f1'], ls='-', color='purple', label='Test F1')\n",
    "\n",
    "ax.vlines(.5, 0, 1, color='gray', ls='dotted', label='Threshold at .5')\n",
    "\n",
    "plt.legend()\n",
    "plt.show()"
   ]
  },
  {
   "cell_type": "code",
   "execution_count": 58,
   "metadata": {},
   "outputs": [
    {
     "data": {
      "text/plain": [
       "<sklearn.metrics._plot.precision_recall_curve.PrecisionRecallDisplay at 0x1df45890730>"
      ]
     },
     "execution_count": 58,
     "metadata": {},
     "output_type": "execute_result"
    },
    {
     "data": {
      "image/png": "[encoded data removed]",
      "text/plain": [
       "<Figure size 432x288 with 1 Axes>"
      ]
     },
     "metadata": {
      "needs_background": "light"
     },
     "output_type": "display_data"
    }
   ],
   "source": [
    "plot_precision_recall_curve(logreg, X_train_pr, y_train)"
   ]
  },
  {
   "cell_type": "markdown",
   "metadata": {},
   "source": [
    "## Question:\n",
    "\n",
    "Is `.5` the best cutoff?\n",
    "\n",
    "- \n",
    "  \n",
    "  \n",
    "What is the best choice?\n",
    "\n",
    "- \n",
    "  \n",
    "  \n",
    "Why?\n",
    "\n",
    "- \n",
    "    "
   ]
  },
  {
   "cell_type": "markdown",
   "metadata": {},
   "source": [
    "### Adjust The Threshold\n",
    "\n",
    "If we found a better threshold, we need to implement that manually using the predicted probabilities:"
   ]
  },
  {
   "cell_type": "code",
   "execution_count": 59,
   "metadata": {},
   "outputs": [
    {
     "data": {
      "text/html": [
       "<div>\n",
       "<style scoped>\n",
       "    .dataframe tbody tr th:only-of-type {\n",
       "        vertical-align: middle;\n",
       "    }\n",
       "\n",
       "    .dataframe tbody tr th {\n",
       "        vertical-align: top;\n",
       "    }\n",
       "\n",
       "    .dataframe thead th {\n",
       "        text-align: right;\n",
       "    }\n",
       "</style>\n",
       "<table border=\"1\" class=\"dataframe\">\n",
       "  <thead>\n",
       "    <tr style=\"text-align: right;\">\n",
       "      <th></th>\n",
       "      <th>threshold</th>\n",
       "      <th>mean_train_pred</th>\n",
       "      <th>mean_test_pred</th>\n",
       "      <th>train_acc</th>\n",
       "      <th>test_acc</th>\n",
       "      <th>train_prec</th>\n",
       "      <th>test_prec</th>\n",
       "      <th>train_rec</th>\n",
       "      <th>test_rec</th>\n",
       "      <th>train_f1</th>\n",
       "      <th>test_f1</th>\n",
       "    </tr>\n",
       "  </thead>\n",
       "  <tbody>\n",
       "    <tr>\n",
       "      <th>17</th>\n",
       "      <td>0.225481</td>\n",
       "      <td>0.590909</td>\n",
       "      <td>0.477273</td>\n",
       "      <td>0.666667</td>\n",
       "      <td>0.727273</td>\n",
       "      <td>0.474359</td>\n",
       "      <td>0.571429</td>\n",
       "      <td>0.925</td>\n",
       "      <td>0.800000</td>\n",
       "      <td>0.627119</td>\n",
       "      <td>0.666667</td>\n",
       "    </tr>\n",
       "    <tr>\n",
       "      <th>18</th>\n",
       "      <td>0.235481</td>\n",
       "      <td>0.545455</td>\n",
       "      <td>0.477273</td>\n",
       "      <td>0.696970</td>\n",
       "      <td>0.727273</td>\n",
       "      <td>0.500000</td>\n",
       "      <td>0.571429</td>\n",
       "      <td>0.900</td>\n",
       "      <td>0.800000</td>\n",
       "      <td>0.642857</td>\n",
       "      <td>0.666667</td>\n",
       "    </tr>\n",
       "    <tr>\n",
       "      <th>22</th>\n",
       "      <td>0.275481</td>\n",
       "      <td>0.401515</td>\n",
       "      <td>0.409091</td>\n",
       "      <td>0.765152</td>\n",
       "      <td>0.750000</td>\n",
       "      <td>0.584906</td>\n",
       "      <td>0.611111</td>\n",
       "      <td>0.775</td>\n",
       "      <td>0.733333</td>\n",
       "      <td>0.666667</td>\n",
       "      <td>0.666667</td>\n",
       "    </tr>\n",
       "    <tr>\n",
       "      <th>23</th>\n",
       "      <td>0.285481</td>\n",
       "      <td>0.393939</td>\n",
       "      <td>0.409091</td>\n",
       "      <td>0.772727</td>\n",
       "      <td>0.750000</td>\n",
       "      <td>0.596154</td>\n",
       "      <td>0.611111</td>\n",
       "      <td>0.775</td>\n",
       "      <td>0.733333</td>\n",
       "      <td>0.673913</td>\n",
       "      <td>0.666667</td>\n",
       "    </tr>\n",
       "    <tr>\n",
       "      <th>24</th>\n",
       "      <td>0.295481</td>\n",
       "      <td>0.356061</td>\n",
       "      <td>0.409091</td>\n",
       "      <td>0.780303</td>\n",
       "      <td>0.750000</td>\n",
       "      <td>0.617021</td>\n",
       "      <td>0.611111</td>\n",
       "      <td>0.725</td>\n",
       "      <td>0.733333</td>\n",
       "      <td>0.666667</td>\n",
       "      <td>0.666667</td>\n",
       "    </tr>\n",
       "    <tr>\n",
       "      <th>25</th>\n",
       "      <td>0.305481</td>\n",
       "      <td>0.340909</td>\n",
       "      <td>0.409091</td>\n",
       "      <td>0.795455</td>\n",
       "      <td>0.750000</td>\n",
       "      <td>0.644444</td>\n",
       "      <td>0.611111</td>\n",
       "      <td>0.725</td>\n",
       "      <td>0.733333</td>\n",
       "      <td>0.682353</td>\n",
       "      <td>0.666667</td>\n",
       "    </tr>\n",
       "    <tr>\n",
       "      <th>28</th>\n",
       "      <td>0.335481</td>\n",
       "      <td>0.303030</td>\n",
       "      <td>0.340909</td>\n",
       "      <td>0.818182</td>\n",
       "      <td>0.772727</td>\n",
       "      <td>0.700000</td>\n",
       "      <td>0.666667</td>\n",
       "      <td>0.700</td>\n",
       "      <td>0.666667</td>\n",
       "      <td>0.700000</td>\n",
       "      <td>0.666667</td>\n",
       "    </tr>\n",
       "    <tr>\n",
       "      <th>29</th>\n",
       "      <td>0.345481</td>\n",
       "      <td>0.287879</td>\n",
       "      <td>0.340909</td>\n",
       "      <td>0.818182</td>\n",
       "      <td>0.772727</td>\n",
       "      <td>0.710526</td>\n",
       "      <td>0.666667</td>\n",
       "      <td>0.675</td>\n",
       "      <td>0.666667</td>\n",
       "      <td>0.692308</td>\n",
       "      <td>0.666667</td>\n",
       "    </tr>\n",
       "    <tr>\n",
       "      <th>30</th>\n",
       "      <td>0.355481</td>\n",
       "      <td>0.280303</td>\n",
       "      <td>0.340909</td>\n",
       "      <td>0.825758</td>\n",
       "      <td>0.772727</td>\n",
       "      <td>0.729730</td>\n",
       "      <td>0.666667</td>\n",
       "      <td>0.675</td>\n",
       "      <td>0.666667</td>\n",
       "      <td>0.701299</td>\n",
       "      <td>0.666667</td>\n",
       "    </tr>\n",
       "  </tbody>\n",
       "</table>\n",
       "</div>"
      ],
      "text/plain": [
       "    threshold  mean_train_pred  mean_test_pred  train_acc  test_acc  \\\n",
       "17   0.225481         0.590909        0.477273   0.666667  0.727273   \n",
       "18   0.235481         0.545455        0.477273   0.696970  0.727273   \n",
       "22   0.275481         0.401515        0.409091   0.765152  0.750000   \n",
       "23   0.285481         0.393939        0.409091   0.772727  0.750000   \n",
       "24   0.295481         0.356061        0.409091   0.780303  0.750000   \n",
       "25   0.305481         0.340909        0.409091   0.795455  0.750000   \n",
       "28   0.335481         0.303030        0.340909   0.818182  0.772727   \n",
       "29   0.345481         0.287879        0.340909   0.818182  0.772727   \n",
       "30   0.355481         0.280303        0.340909   0.825758  0.772727   \n",
       "\n",
       "    train_prec  test_prec  train_rec  test_rec  train_f1   test_f1  \n",
       "17    0.474359   0.571429      0.925  0.800000  0.627119  0.666667  \n",
       "18    0.500000   0.571429      0.900  0.800000  0.642857  0.666667  \n",
       "22    0.584906   0.611111      0.775  0.733333  0.666667  0.666667  \n",
       "23    0.596154   0.611111      0.775  0.733333  0.673913  0.666667  \n",
       "24    0.617021   0.611111      0.725  0.733333  0.666667  0.666667  \n",
       "25    0.644444   0.611111      0.725  0.733333  0.682353  0.666667  \n",
       "28    0.700000   0.666667      0.700  0.666667  0.700000  0.666667  \n",
       "29    0.710526   0.666667      0.675  0.666667  0.692308  0.666667  \n",
       "30    0.729730   0.666667      0.675  0.666667  0.701299  0.666667  "
      ]
     },
     "execution_count": 59,
     "metadata": {},
     "output_type": "execute_result"
    }
   ],
   "source": [
    "# We can find exactly where to set our threshold using the metrics_df\n",
    "# Find the max value for the test metric we care about the most\n",
    "metrics_df.loc[metrics_df['test_f1'] == metrics_df['test_f1'].max()]"
   ]
  },
  {
   "cell_type": "code",
   "execution_count": 60,
   "metadata": {},
   "outputs": [],
   "source": [
    "# Use np.where to create an output of 1s and 0s\n",
    "adj_train_preds = np.where(train_probs > .33, 1, 0)\n",
    "adj_test_preds = np.where(test_probs > .33, 1, 0)"
   ]
  },
  {
   "cell_type": "code",
   "execution_count": 61,
   "metadata": {
    "scrolled": true
   },
   "outputs": [
    {
     "name": "stdout",
     "output_type": "stream",
     "text": [
      "Old Train F1: 0.5806451612903226\n",
      "Old Test F1: 0.27272727272727276\n",
      "********************\n",
      "New Train F1: 0.7160493827160495\n",
      "New Test F1: 0.6451612903225806\n"
     ]
    }
   ],
   "source": [
    "# Now evaluate:\n",
    "print(f\"Old Train F1: {f1_score(y_train, train_preds)}\")\n",
    "print(f\"Old Test F1: {f1_score(y_test, test_preds)}\")\n",
    "print(\"*\"*20)\n",
    "print(f\"New Train F1: {f1_score(y_train, adj_train_preds)}\")\n",
    "print(f\"New Test F1: {f1_score(y_test, adj_test_preds)}\")"
   ]
  },
  {
   "cell_type": "markdown",
   "metadata": {},
   "source": [
    "-----\n",
    "\n",
    "# Further Exploring Probabilities\n",
    "\n",
    "### True Positive Rate\n",
    "\n",
    "True Positive Rate (TPR) is the same as *recall*, measuring how many of the positive cases we correctly classified as positive.\n",
    "\n",
    "> **True Positive Rate (TPR)** = **Recall** = $\\frac{TP}{TP + FN}$\n",
    "\n",
    "AKA: How many of the polymers with high yields did my model identify?\n",
    "\n",
    "\n",
    "### False Positive Rate\n",
    "\n",
    "False Positive Rate (FPR) measures how many of the negative cases we incorrectly classified as positive.\n",
    "\n",
    "> **False Positive Rate (TPR)** = $\\frac{FP}{FP + TN}$\n",
    "\n",
    "AKA: How many of the polymers without high yields did my model flag as high yield?"
   ]
  },
  {
   "cell_type": "markdown",
   "metadata": {
    "heading_collapsed": true
   },
   "source": [
    "# The Receiver Operating Characteristic (ROC) Curve"
   ]
  },
  {
   "cell_type": "markdown",
   "metadata": {
    "hidden": true
   },
   "source": [
    "The Receiver Operating Characteristic (ROC) curve plots the true-positive rate vs. the false-positive rate. Let's define these now:"
   ]
  },
  {
   "cell_type": "code",
   "execution_count": 62,
   "metadata": {
    "hidden": true
   },
   "outputs": [],
   "source": [
    "def classify_rates(y_test, y_probs, thresh):\n",
    "    y_pred = []\n",
    "    for val in y_probs:            # The val in y_probs shows the probability of 1\n",
    "        if val > thresh:                # We'll set our own threshold for classifying\n",
    "            y_pred.append(1)            # a test point as positive! The lower my threshold,\n",
    "        else:                           # the more predicted positives I'll have\n",
    "            y_pred.append(0)  \n",
    "    # Use a confusion matrix to get our tp/tn/fp/fn\n",
    "    cm = confusion_matrix(y_test, y_pred)\n",
    "    tp, tn, fp, fn = cm[1][1], cm[0][0], cm[0][1], cm[1][0]\n",
    "    # Calculate our true positive rate and false positive rate\n",
    "    tpr = tp / (tp + fn)\n",
    "    fpr = fp / (fp + tn)\n",
    "    return tpr, fpr, f'tpr:{round(tpr, 3)}, fpr:{round(fpr, 3)}'"
   ]
  },
  {
   "cell_type": "markdown",
   "metadata": {
    "hidden": true
   },
   "source": [
    "True- and false-positive rates for various thresholds:"
   ]
  },
  {
   "cell_type": "code",
   "execution_count": 63,
   "metadata": {
    "code_folding": [],
    "hidden": true,
    "scrolled": true
   },
   "outputs": [
    {
     "name": "stdout",
     "output_type": "stream",
     "text": [
      "Rates at threshold = 0.00: tpr:1.0, fpr:1.0\n",
      "Rates at threshold = 0.10: tpr:1.0, fpr:0.862\n",
      "Rates at threshold = 0.20: tpr:0.8, fpr:0.379\n",
      "Rates at threshold = 0.30: tpr:0.733, fpr:0.241\n",
      "Rates at threshold = 0.40: tpr:0.467, fpr:0.172\n",
      "Rates at threshold = 0.50: tpr:0.2, fpr:0.138\n",
      "Rates at threshold = 0.60: tpr:0.0, fpr:0.103\n",
      "Rates at threshold = 0.70: tpr:0.0, fpr:0.069\n",
      "Rates at threshold = 0.80: tpr:0.0, fpr:0.0\n",
      "Rates at threshold = 0.90: tpr:0.0, fpr:0.0\n",
      "Rates at threshold = 1.00: tpr:0.0, fpr:0.0\n"
     ]
    }
   ],
   "source": [
    "for x in np.linspace(0, 1, 11):\n",
    "    print(f'Rates at threshold = {x:.2f}: {classify_rates(y_test, test_probs, x)[2]}')"
   ]
  },
  {
   "cell_type": "markdown",
   "metadata": {
    "hidden": true
   },
   "source": [
    "As my threshold goes up, I'll have fewer positive predictions, which means I'll have both fewer true positives and fewer false positives."
   ]
  },
  {
   "cell_type": "markdown",
   "metadata": {
    "heading_collapsed": true,
    "hidden": true
   },
   "source": [
    "## Plotting the Curve"
   ]
  },
  {
   "cell_type": "markdown",
   "metadata": {
    "hidden": true
   },
   "source": [
    "Let's plot our own ROC curve. We'll create an array of different thresholds and use our `classify_rates()` function to get the true- and false-positive rates for each threshold.\n",
    "\n",
    "One way of choosing a threshold **independently of business concerns** is to select the point on the curve that is furthest from (1, 0), the \"worse-case\" point where our true-positive rate is 0 and our false-positive rate is 1. So let's find that point as well:"
   ]
  },
  {
   "cell_type": "code",
   "execution_count": 64,
   "metadata": {
    "hidden": true,
    "scrolled": false
   },
   "outputs": [
    {
     "name": "stdout",
     "output_type": "stream",
     "text": [
      "With a threshold of 0.33: \n",
      "\tYou'll have a True Positive Rate of 0.667 \n",
      "\tand a False Positive Rate of 0.172\n"
     ]
    },
    {
     "data": {
      "image/png": "[encoded data removed]",
      "text/plain": [
       "<Figure size 576x432 with 1 Axes>"
      ]
     },
     "metadata": {
      "needs_background": "light"
     },
     "output_type": "display_data"
    }
   ],
   "source": [
    "tprs = []\n",
    "fprs = []\n",
    "diffs = []\n",
    "for x in np.linspace(0, 1, 101):\n",
    "    fprs.append(classify_rates(y_test, test_probs, x)[1])\n",
    "    tprs.append(classify_rates(y_test, test_probs, x)[0])\n",
    "    diffs.append(np.sqrt(tprs[-1]**2 + (1-fprs[-1])**2))\n",
    "    \n",
    "max_dist = diffs.index(np.max(diffs))\n",
    "print(f\"With a threshold of {(max_dist - 1) / 100}: \\n\"\n",
    "      f\"\\tYou\\'ll have a True Positive Rate of {tprs[max_dist]:.3f} \\n\"\n",
    "      f\"\\tand a False Positive Rate of {fprs[max_dist]:.3f}\")\n",
    "\n",
    "fig, ax = plt.subplots(figsize=(8, 6))\n",
    "ax.plot(fprs[:max_dist], tprs[:max_dist], 'r.')\n",
    "ax.plot(fprs[max_dist], tprs[max_dist], 'ko', ms=10)\n",
    "ax.plot(fprs[max_dist + 1:], tprs[max_dist + 1:], 'r.')\n",
    "ax.plot(fprs, fprs, '.');"
   ]
  },
  {
   "cell_type": "markdown",
   "metadata": {
    "heading_collapsed": true,
    "hidden": true
   },
   "source": [
    "### `plot_roc_curve()`"
   ]
  },
  {
   "cell_type": "markdown",
   "metadata": {
    "hidden": true
   },
   "source": [
    "You can also use sklearn's `plot_roc_curve()` function with your fitted model and test data."
   ]
  },
  {
   "cell_type": "code",
   "execution_count": 65,
   "metadata": {
    "hidden": true
   },
   "outputs": [
    {
     "data": {
      "image/png": "[encoded data removed]",
      "text/plain": [
       "<Figure size 432x288 with 1 Axes>"
      ]
     },
     "metadata": {
      "needs_background": "light"
     },
     "output_type": "display_data"
    }
   ],
   "source": [
    "plot_roc_curve(logreg, X_test_pr, y_test);"
   ]
  },
  {
   "cell_type": "markdown",
   "metadata": {
    "heading_collapsed": true,
    "hidden": true
   },
   "source": [
    "## Area Under the Curve (AUC)"
   ]
  },
  {
   "cell_type": "markdown",
   "metadata": {
    "hidden": true
   },
   "source": [
    "The ROC curve will be a plot of tpr (on the y-axis) vs. fpr (on the x-axis). There will always be a point at (0, 0) and another at (1, 1). The question is what happens in the middle. Since we want our y-values to be as high as possible for any particular x-value, a natural metric we can evaluate would be to calculate the **area under the curve**. \n",
    "\n",
    "> #### The larger the area, the better the classifier. \n",
    "\n",
    "The maximum possible area is the area of the whole box between 0 and 1 on both axes, so that's a **maximum area of 1**."
   ]
  },
  {
   "cell_type": "markdown",
   "metadata": {
    "hidden": true
   },
   "source": [
    "If we have equal numbers of positives and negatives, then we can set an **absolute minimum area of 0.5**. That's the \"curve\" we'd get by plotting a straight diagonal line from (0, 0) to (1, 1).\n",
    "\n",
    "Why? The area under the curve really represents the test's ability to **discriminate** positives from negatives. Suppose I randomly took several pairs of points, one positive and one negative, and checked my test's predictions. The area under the receiver operator characteristic curve represents a **threshold-independent measure** of how often my test would get the two predictions correct."
   ]
  },
  {
   "cell_type": "markdown",
   "metadata": {},
   "source": [
    "### Some Resources that Explain ROC-AUC Best:\n",
    "\n",
    "From Analytics Vidhya:\n",
    "\n",
    "> \"The Receiver Operator Characteristic (ROC) curve is an evaluation metric for binary classification problems. It is a probability curve that plots the TPR against FPR at various threshold values and essentially separates the ‘signal’ from the ‘noise’. The Area Under the Curve (AUC) is the measure of the ability of a classifier to distinguish between classes and is used as a summary of the ROC curve.\"\n",
    "\n",
    "| Perfect ROC Curve | More Typical ROC Curve | Bad ROC Curve (no better than guessing) |\n",
    "|---|---|---|\n",
    "|![perfect ROC curve](images/perfectAUC.webp) | ![more 'normal' ROC curve](images/midAUC.webp) | ![bad ROC curve](images/badAUC.webp) |\n",
    "\n",
    "---\n",
    "\n",
    "From [Google's Machine Learning Crash Course](https://developers.google.com/machine-learning/crash-course/classification/roc-and-auc):\n",
    "\n",
    "> \"AUC provides an aggregate measure of performance across all possible classification thresholds. One way of interpreting AUC is **as the probability that the model ranks a random positive example more highly than a random negative example**. For example, given the following examples, which are arranged from left to right in ascending order of logistic regression predictions:\n",
    "> \n",
    "> ![auc predictions ranked](images/AUCPredictionsRanked.svg)\n",
    ">\n",
    "> \"AUC represents the probability that a random positive (green) example is positioned to the right of a random negative (red) example.\"\n"
   ]
  },
  {
   "cell_type": "markdown",
   "metadata": {
    "heading_collapsed": true,
    "hidden": true
   },
   "source": [
    "### AUC Calculation with `sklearn`"
   ]
  },
  {
   "cell_type": "markdown",
   "metadata": {
    "hidden": true
   },
   "source": [
    "Scikit-Learn's `roc_auc_score()` function will compute the area under the curve for us:"
   ]
  },
  {
   "cell_type": "code",
   "execution_count": 66,
   "metadata": {
    "hidden": true,
    "scrolled": true
   },
   "outputs": [
    {
     "data": {
      "text/plain": [
       "0.86875"
      ]
     },
     "execution_count": 66,
     "metadata": {},
     "output_type": "execute_result"
    }
   ],
   "source": [
    "#THIS NEEDS PROBABILITY\n",
    "roc_auc_score(y_train, train_probs)"
   ]
  },
  {
   "cell_type": "code",
   "execution_count": 67,
   "metadata": {},
   "outputs": [
    {
     "data": {
      "text/plain": [
       "0.767816091954023"
      ]
     },
     "execution_count": 67,
     "metadata": {},
     "output_type": "execute_result"
    }
   ],
   "source": [
    "roc_auc_score(y_test, test_probs)"
   ]
  },
  {
   "cell_type": "markdown",
   "metadata": {
    "heading_collapsed": true,
    "hidden": true
   },
   "source": [
    "## Sidebar: Visualizing Threshold Changes"
   ]
  },
  {
   "cell_type": "markdown",
   "metadata": {
    "hidden": true
   },
   "source": [
    "This [ROC Applet](https://web.archive.org/web/20210210014824/http://www.navan.name/roc/) helps  visualize how a change in the threshold corresponds to moving along the ROC curve"
   ]
  },
  {
   "cell_type": "markdown",
   "metadata": {
    "heading_collapsed": true
   },
   "source": [
    "# Scenario: Breast Cancer Prediction"
   ]
  },
  {
   "cell_type": "markdown",
   "metadata": {
    "hidden": true
   },
   "source": [
    "Let's evaluate a model using Scikit-Learn's breast cancer dataset:"
   ]
  },
  {
   "cell_type": "code",
   "execution_count": 84,
   "metadata": {
    "hidden": true
   },
   "outputs": [
    {
     "data": {
      "text/plain": [
       "LogisticRegression(max_iter=10000, random_state=42)"
      ]
     },
     "execution_count": 84,
     "metadata": {},
     "output_type": "execute_result"
    }
   ],
   "source": [
    "# Load the data\n",
    "preds, target = load_breast_cancer(return_X_y=True)\n",
    "\n",
    "# Split into train and test\n",
    "X_train, X_test, y_train, y_test = train_test_split(preds, target,\n",
    "                                                    random_state=42)\n",
    "\n",
    "# Scale the data\n",
    "bc_scaler = StandardScaler()\n",
    "bc_scaler.fit(X_train)\n",
    "X_train_sc = bc_scaler.transform(X_train)\n",
    "X_test_sc = bc_scaler.transform(X_test)\n",
    "\n",
    "# Run the model\n",
    "bc_model = LogisticRegression(solver='lbfgs', max_iter=10000, \n",
    "                              random_state=42)\n",
    "bc_model.fit(X_train_sc, y_train)"
   ]
  },
  {
   "cell_type": "markdown",
   "metadata": {
    "heading_collapsed": true,
    "hidden": true
   },
   "source": [
    "## Task"
   ]
  },
  {
   "cell_type": "markdown",
   "metadata": {
    "hidden": true
   },
   "source": [
    "For this example, draw the ROC curve and calculate the AUC-ROC metric. Based on the results, do you think your model would be useful for identifying patients with breast cancer?"
   ]
  },
  {
   "cell_type": "code",
   "execution_count": 85,
   "metadata": {
    "hidden": true,
    "scrolled": true
   },
   "outputs": [
    {
     "data": {
      "image/png": "[encoded data removed]",
      "text/plain": [
       "<Figure size 432x288 with 1 Axes>"
      ]
     },
     "metadata": {
      "needs_background": "light"
     },
     "output_type": "display_data"
    }
   ],
   "source": [
    "# Your work here\n",
    "plot_roc_curve(bc_model, X_test_sc, y_test);\n"
   ]
  },
  {
   "cell_type": "code",
   "execution_count": 86,
   "metadata": {},
   "outputs": [
    {
     "data": {
      "text/plain": [
       "0.9977111943404079"
      ]
     },
     "execution_count": 86,
     "metadata": {},
     "output_type": "execute_result"
    }
   ],
   "source": [
    "roc_auc_score(y_test, bc_model.predict_proba(X_test_sc)[:,1])"
   ]
  },
  {
   "cell_type": "code",
   "execution_count": 87,
   "metadata": {},
   "outputs": [
    {
     "data": {
      "image/png": "[encoded data removed]",
      "text/plain": [
       "<Figure size 432x288 with 1 Axes>"
      ]
     },
     "metadata": {
      "needs_background": "light"
     },
     "output_type": "display_data"
    }
   ],
   "source": [
    "plot_roc_curve(bc_model, X_train_sc, y_train);"
   ]
  },
  {
   "cell_type": "code",
   "execution_count": 88,
   "metadata": {},
   "outputs": [
    {
     "data": {
      "text/plain": [
       "0.9972369166824107"
      ]
     },
     "execution_count": 88,
     "metadata": {},
     "output_type": "execute_result"
    }
   ],
   "source": [
    "roc_auc_score(y_train, bc_model.predict_proba(X_train_sc)[:,1])"
   ]
  },
  {
   "cell_type": "markdown",
   "metadata": {
    "heading_collapsed": true
   },
   "source": [
    "-----\n",
    "\n",
    "# Level Up: Loss Functions"
   ]
  },
  {
   "cell_type": "markdown",
   "metadata": {
    "hidden": true
   },
   "source": [
    "Another more \"natural\" way of measuring the quality of a classifier is just to look at the loss function, which will often be the **log loss**. \n",
    "\n",
    "(In multiclass problems, we use **cross-entropy loss**.)"
   ]
  },
  {
   "cell_type": "code",
   "execution_count": 89,
   "metadata": {
    "hidden": true
   },
   "outputs": [
    {
     "ename": "ValueError",
     "evalue": "Found input variables with inconsistent numbers of samples: [44, 143]",
     "output_type": "error",
     "traceback": [
      "\u001b[1;31m---------------------------------------------------------------------------\u001b[0m",
      "\u001b[1;31mValueError\u001b[0m                                Traceback (most recent call last)",
      "\u001b[1;32m<ipython-input-89-afe118ba6bcb>\u001b[0m in \u001b[0;36m<module>\u001b[1;34m\u001b[0m\n\u001b[1;32m----> 1\u001b[1;33m \u001b[0mlog_loss\u001b[0m\u001b[1;33m(\u001b[0m\u001b[0my_test\u001b[0m\u001b[1;33m,\u001b[0m \u001b[0mlogreg\u001b[0m\u001b[1;33m.\u001b[0m\u001b[0mpredict_proba\u001b[0m\u001b[1;33m(\u001b[0m\u001b[0mX_test_pr\u001b[0m\u001b[1;33m)\u001b[0m\u001b[1;33m)\u001b[0m\u001b[1;33m\u001b[0m\u001b[1;33m\u001b[0m\u001b[0m\n\u001b[0m",
      "\u001b[1;32m~\\anaconda3\\envs\\learn-env\\lib\\site-packages\\sklearn\\utils\\validation.py\u001b[0m in \u001b[0;36minner_f\u001b[1;34m(*args, **kwargs)\u001b[0m\n\u001b[0;32m     70\u001b[0m                           FutureWarning)\n\u001b[0;32m     71\u001b[0m         \u001b[0mkwargs\u001b[0m\u001b[1;33m.\u001b[0m\u001b[0mupdate\u001b[0m\u001b[1;33m(\u001b[0m\u001b[1;33m{\u001b[0m\u001b[0mk\u001b[0m\u001b[1;33m:\u001b[0m \u001b[0marg\u001b[0m \u001b[1;32mfor\u001b[0m \u001b[0mk\u001b[0m\u001b[1;33m,\u001b[0m \u001b[0marg\u001b[0m \u001b[1;32min\u001b[0m \u001b[0mzip\u001b[0m\u001b[1;33m(\u001b[0m\u001b[0msig\u001b[0m\u001b[1;33m.\u001b[0m\u001b[0mparameters\u001b[0m\u001b[1;33m,\u001b[0m \u001b[0margs\u001b[0m\u001b[1;33m)\u001b[0m\u001b[1;33m}\u001b[0m\u001b[1;33m)\u001b[0m\u001b[1;33m\u001b[0m\u001b[1;33m\u001b[0m\u001b[0m\n\u001b[1;32m---> 72\u001b[1;33m         \u001b[1;32mreturn\u001b[0m \u001b[0mf\u001b[0m\u001b[1;33m(\u001b[0m\u001b[1;33m**\u001b[0m\u001b[0mkwargs\u001b[0m\u001b[1;33m)\u001b[0m\u001b[1;33m\u001b[0m\u001b[1;33m\u001b[0m\u001b[0m\n\u001b[0m\u001b[0;32m     73\u001b[0m     \u001b[1;32mreturn\u001b[0m \u001b[0minner_f\u001b[0m\u001b[1;33m\u001b[0m\u001b[1;33m\u001b[0m\u001b[0m\n\u001b[0;32m     74\u001b[0m \u001b[1;33m\u001b[0m\u001b[0m\n",
      "\u001b[1;32m~\\anaconda3\\envs\\learn-env\\lib\\site-packages\\sklearn\\metrics\\_classification.py\u001b[0m in \u001b[0;36mlog_loss\u001b[1;34m(y_true, y_pred, eps, normalize, sample_weight, labels)\u001b[0m\n\u001b[0;32m   2185\u001b[0m     \"\"\"\n\u001b[0;32m   2186\u001b[0m     \u001b[0my_pred\u001b[0m \u001b[1;33m=\u001b[0m \u001b[0mcheck_array\u001b[0m\u001b[1;33m(\u001b[0m\u001b[0my_pred\u001b[0m\u001b[1;33m,\u001b[0m \u001b[0mensure_2d\u001b[0m\u001b[1;33m=\u001b[0m\u001b[1;32mFalse\u001b[0m\u001b[1;33m)\u001b[0m\u001b[1;33m\u001b[0m\u001b[1;33m\u001b[0m\u001b[0m\n\u001b[1;32m-> 2187\u001b[1;33m     \u001b[0mcheck_consistent_length\u001b[0m\u001b[1;33m(\u001b[0m\u001b[0my_pred\u001b[0m\u001b[1;33m,\u001b[0m \u001b[0my_true\u001b[0m\u001b[1;33m,\u001b[0m \u001b[0msample_weight\u001b[0m\u001b[1;33m)\u001b[0m\u001b[1;33m\u001b[0m\u001b[1;33m\u001b[0m\u001b[0m\n\u001b[0m\u001b[0;32m   2188\u001b[0m \u001b[1;33m\u001b[0m\u001b[0m\n\u001b[0;32m   2189\u001b[0m     \u001b[0mlb\u001b[0m \u001b[1;33m=\u001b[0m \u001b[0mLabelBinarizer\u001b[0m\u001b[1;33m(\u001b[0m\u001b[1;33m)\u001b[0m\u001b[1;33m\u001b[0m\u001b[1;33m\u001b[0m\u001b[0m\n",
      "\u001b[1;32m~\\anaconda3\\envs\\learn-env\\lib\\site-packages\\sklearn\\utils\\validation.py\u001b[0m in \u001b[0;36mcheck_consistent_length\u001b[1;34m(*arrays)\u001b[0m\n\u001b[0;32m    253\u001b[0m     \u001b[0muniques\u001b[0m \u001b[1;33m=\u001b[0m \u001b[0mnp\u001b[0m\u001b[1;33m.\u001b[0m\u001b[0munique\u001b[0m\u001b[1;33m(\u001b[0m\u001b[0mlengths\u001b[0m\u001b[1;33m)\u001b[0m\u001b[1;33m\u001b[0m\u001b[1;33m\u001b[0m\u001b[0m\n\u001b[0;32m    254\u001b[0m     \u001b[1;32mif\u001b[0m \u001b[0mlen\u001b[0m\u001b[1;33m(\u001b[0m\u001b[0muniques\u001b[0m\u001b[1;33m)\u001b[0m \u001b[1;33m>\u001b[0m \u001b[1;36m1\u001b[0m\u001b[1;33m:\u001b[0m\u001b[1;33m\u001b[0m\u001b[1;33m\u001b[0m\u001b[0m\n\u001b[1;32m--> 255\u001b[1;33m         raise ValueError(\"Found input variables with inconsistent numbers of\"\n\u001b[0m\u001b[0;32m    256\u001b[0m                          \" samples: %r\" % [int(l) for l in lengths])\n\u001b[0;32m    257\u001b[0m \u001b[1;33m\u001b[0m\u001b[0m\n",
      "\u001b[1;31mValueError\u001b[0m: Found input variables with inconsistent numbers of samples: [44, 143]"
     ]
    }
   ],
   "source": [
    "log_loss(y_test, logreg.predict_proba(X_test_pr))"
   ]
  },
  {
   "cell_type": "markdown",
   "metadata": {
    "hidden": true
   },
   "source": [
    "While such loss values are difficult to interpret on their own, they are useful for comparing models. Models with lower loss values generate probability estimates that are closer to the true values, and thus are likely to perform better on many metrics."
   ]
  },
  {
   "cell_type": "markdown",
   "metadata": {
    "heading_collapsed": true
   },
   "source": [
    "## Log Loss by Hand"
   ]
  },
  {
   "cell_type": "markdown",
   "metadata": {
    "hidden": true
   },
   "source": [
    "Log loss is generally calculated as an average per data point, and is computed as follows:\n",
    "\n",
    "$L(y, \\hat{y}) = -\\frac{1}{N}\\sum^N_{i=1}[y_i\\ln(\\hat{y_i}) + (1-y_i)\\ln(1-\\hat{y_i})]$,\n",
    "\n",
    "where $y$ is the vector of true values and $\\hat{y}$ is the vector of probabilities that the point in question has a correct label of 1.\n",
    "\n",
    "- Suppose, for a given data point, that the correct prediction of the label is **0**. In that case, the contribution from that point to the sum in the loss function defined above will be $-\\ln(1-\\hat{y_i})$. So, the closer the prediction for that point is to 0, the closer the contribution to the sum will be to $-\\ln(1)=0$. But as the prediction gets closer to 1, the closer the contribution will be to $-\\ln(0)=\\infty$.\n",
    "\n",
    "- Suppose, on the other hand, that the correct prediction is **1**. In that case, the contribution from that point to the sum in the loss function defined above will be $-\\ln(\\hat{y_i})$. So, the closer the prediction for that point is to 1, the closer the contribution to the sum will be to $-\\ln(1)=0$. But as the prediction gets closer to 0, the closer the contribution will be to $-\\ln(0)=\\infty$."
   ]
  },
  {
   "cell_type": "code",
   "execution_count": null,
   "metadata": {
    "hidden": true
   },
   "outputs": [],
   "source": [
    "compare = list(zip(y_test, logreg.predict_proba(X_test_pr)))"
   ]
  },
  {
   "cell_type": "code",
   "execution_count": null,
   "metadata": {
    "hidden": true
   },
   "outputs": [],
   "source": [
    "compare[:5]"
   ]
  },
  {
   "cell_type": "code",
   "execution_count": null,
   "metadata": {
    "hidden": true
   },
   "outputs": [],
   "source": [
    "calc = [-(yi * np.log(yi_hat[1]) + (1 - yi) * np.log(yi_hat[0])) for (yi, yi_hat) in compare]\n",
    "calc[:5]"
   ]
  },
  {
   "cell_type": "code",
   "execution_count": null,
   "metadata": {
    "hidden": true,
    "scrolled": true
   },
   "outputs": [],
   "source": [
    "np.mean(calc)"
   ]
  }
 ],
 "metadata": {
  "kernelspec": {
   "display_name": "Python 3",
   "language": "python",
   "name": "python3"
  },
  "language_info": {
   "codemirror_mode": {
    "name": "ipython",
    "version": 3
   },
   "file_extension": ".py",
   "mimetype": "text/x-python",
   "name": "python",
   "nbconvert_exporter": "python",
   "pygments_lexer": "ipython3",
   "version": "3.8.5"
  },
  "toc": {
   "base_numbering": 1,
   "nav_menu": {},
   "number_sections": true,
   "sideBar": true,
   "skip_h1_title": false,
   "title_cell": "Table of Contents",
   "title_sidebar": "TOC",
   "toc_cell": true,
   "toc_position": {
    "height": "calc(100% - 180px)",
    "left": "10px",
    "top": "150px",
    "width": "384px"
   },
   "toc_section_display": true,
   "toc_window_display": true
  }
 },
 "nbformat": 4,
 "nbformat_minor": 2
}
