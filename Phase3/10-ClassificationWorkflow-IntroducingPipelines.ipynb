{
 "cells": [
  {
   "cell_type": "markdown",
   "metadata": {},
   "source": [
    "# Classification Workflow: Pipelines!"
   ]
  },
  {
   "cell_type": "markdown",
   "metadata": {},
   "source": [
    "## Objectives\n",
    "\n",
    "- Formulate and implement an iterative modeling workflow\n",
    "- Recognize how pipelines streamline the preprocessing and modeling process"
   ]
  },
  {
   "cell_type": "markdown",
   "metadata": {},
   "source": [
    "## Why Pipeline?\n",
    "\n",
    "Pipelines can keep our code neat and clean all the way from gathering & cleaning our data, to creating models & fine-tuning them!\n",
    "\n",
    "**Advantages**: \n",
    "- Reduces complexity\n",
    "- Convenient \n",
    "- Flexible \n",
    "- Can help prevent mistakes (like data leakage between train and test set) "
   ]
  },
  {
   "cell_type": "markdown",
   "metadata": {},
   "source": [
    "## Today's Agenda: \n",
    "\n",
    "We'll introduce pipelines in the lens of simplifying the whole classification workflow, top to bottom!\n",
    "\n",
    "Our data: https://www.kaggle.com/c/cat-in-the-dat-ii\n",
    "\n",
    "The goal is to classify the `target` column. \n",
    "\n",
    "The competition's main metric is ROC-AUC score! We can explore other metrics, but we should be sure to use that to evaluate our models.\n",
    "\n",
    "### Steps:\n",
    "\n",
    "1. Data Exploration\n",
    "2. Define and structure data preprocessing steps\n",
    "3. Run a `DummyClassifier` to create a model-less baseline, using a pipeline to combine the classifier with preprocessing steps\n",
    "4. Run a `LogisticRegression` and compare results to the model-less baseline\n",
    "\n",
    "If we have time, we'll keep iterating to improve!"
   ]
  },
  {
   "cell_type": "code",
   "execution_count": 1,
   "metadata": {},
   "outputs": [],
   "source": [
    "# Imports\n",
    "import pandas as pd\n",
    "import numpy as np\n",
    "\n",
    "import matplotlib.pyplot as plt\n",
    "\n",
    "from sklearn.pipeline import Pipeline\n",
    "from sklearn.compose import ColumnTransformer\n",
    "from sklearn.impute import SimpleImputer\n",
    "from sklearn.preprocessing import MinMaxScaler, OneHotEncoder, StandardScaler\n",
    "from sklearn.dummy import DummyClassifier\n",
    "from sklearn.linear_model import LogisticRegression\n",
    "from sklearn.model_selection import train_test_split, cross_validate\n",
    "from sklearn.metrics import accuracy_score, f1_score, precision_score, recall_score\n",
    "from sklearn.metrics import roc_auc_score, plot_roc_curve, plot_precision_recall_curve\n",
    "from sklearn.metrics import confusion_matrix, plot_confusion_matrix"
   ]
  },
  {
   "cell_type": "code",
   "execution_count": 2,
   "metadata": {},
   "outputs": [],
   "source": [
    "# Grab, then explore data\n",
    "df = pd.read_csv(\"data/cat_in_the_dat2_train.csv\", index_col='id')"
   ]
  },
  {
   "cell_type": "code",
   "execution_count": 3,
   "metadata": {},
   "outputs": [],
   "source": [
    "# Define our X and y\n",
    "\n",
    "X = df.drop(columns=['target'])\n",
    "y = df['target']\n",
    "\n",
    "# and train test split - to create our val holdout set!\n",
    "X_train, X_val, y_train, y_val = train_test_split(X, y, test_size=0.1,\n",
    "                                                  random_state=0)"
   ]
  },
  {
   "cell_type": "markdown",
   "metadata": {},
   "source": [
    "## Data Exploration\n",
    "\n",
    "Explore the **training** data, checking out both numeric and categorical features.\n",
    "\n",
    "We should run _at least_ one visualization to explore relationships among features!"
   ]
  },
  {
   "cell_type": "code",
   "execution_count": 4,
   "metadata": {},
   "outputs": [
    {
     "name": "stdout",
     "output_type": "stream",
     "text": [
      "<class 'pandas.core.frame.DataFrame'>\n",
      "Int64Index: 540000 entries, 111903 to 305711\n",
      "Data columns (total 23 columns):\n",
      " #   Column  Non-Null Count   Dtype  \n",
      "---  ------  --------------   -----  \n",
      " 0   bin_0   523875 non-null  float64\n",
      " 1   bin_1   523788 non-null  float64\n",
      " 2   bin_2   523842 non-null  float64\n",
      " 3   bin_3   523821 non-null  object \n",
      " 4   bin_4   523757 non-null  object \n",
      " 5   nom_0   523586 non-null  object \n",
      " 6   nom_1   523710 non-null  object \n",
      " 7   nom_2   523725 non-null  object \n",
      " 8   nom_3   523642 non-null  object \n",
      " 9   nom_4   523754 non-null  object \n",
      " 10  nom_5   524031 non-null  object \n",
      " 11  nom_6   523727 non-null  object \n",
      " 12  nom_7   523823 non-null  object \n",
      " 13  nom_8   524017 non-null  object \n",
      " 14  nom_9   523725 non-null  object \n",
      " 15  ord_0   523528 non-null  float64\n",
      " 16  ord_1   523778 non-null  object \n",
      " 17  ord_2   523694 non-null  object \n",
      " 18  ord_3   523891 non-null  object \n",
      " 19  ord_4   523867 non-null  object \n",
      " 20  ord_5   524095 non-null  object \n",
      " 21  day     523850 non-null  float64\n",
      " 22  month   523817 non-null  float64\n",
      "dtypes: float64(6), object(17)\n",
      "memory usage: 98.9+ MB\n"
     ]
    }
   ],
   "source": [
    "# Your code here\n",
    "X_train.info()"
   ]
  },
  {
   "cell_type": "code",
   "execution_count": 5,
   "metadata": {},
   "outputs": [
    {
     "data": {
      "text/html": [
       "<div>\n",
       "<style scoped>\n",
       "    .dataframe tbody tr th:only-of-type {\n",
       "        vertical-align: middle;\n",
       "    }\n",
       "\n",
       "    .dataframe tbody tr th {\n",
       "        vertical-align: top;\n",
       "    }\n",
       "\n",
       "    .dataframe thead th {\n",
       "        text-align: right;\n",
       "    }\n",
       "</style>\n",
       "<table border=\"1\" class=\"dataframe\">\n",
       "  <thead>\n",
       "    <tr style=\"text-align: right;\">\n",
       "      <th></th>\n",
       "      <th>bin_0</th>\n",
       "      <th>bin_1</th>\n",
       "      <th>bin_2</th>\n",
       "      <th>bin_3</th>\n",
       "      <th>bin_4</th>\n",
       "      <th>nom_0</th>\n",
       "      <th>nom_1</th>\n",
       "      <th>nom_2</th>\n",
       "      <th>nom_3</th>\n",
       "      <th>nom_4</th>\n",
       "      <th>...</th>\n",
       "      <th>nom_8</th>\n",
       "      <th>nom_9</th>\n",
       "      <th>ord_0</th>\n",
       "      <th>ord_1</th>\n",
       "      <th>ord_2</th>\n",
       "      <th>ord_3</th>\n",
       "      <th>ord_4</th>\n",
       "      <th>ord_5</th>\n",
       "      <th>day</th>\n",
       "      <th>month</th>\n",
       "    </tr>\n",
       "    <tr>\n",
       "      <th>id</th>\n",
       "      <th></th>\n",
       "      <th></th>\n",
       "      <th></th>\n",
       "      <th></th>\n",
       "      <th></th>\n",
       "      <th></th>\n",
       "      <th></th>\n",
       "      <th></th>\n",
       "      <th></th>\n",
       "      <th></th>\n",
       "      <th></th>\n",
       "      <th></th>\n",
       "      <th></th>\n",
       "      <th></th>\n",
       "      <th></th>\n",
       "      <th></th>\n",
       "      <th></th>\n",
       "      <th></th>\n",
       "      <th></th>\n",
       "      <th></th>\n",
       "      <th></th>\n",
       "    </tr>\n",
       "  </thead>\n",
       "  <tbody>\n",
       "    <tr>\n",
       "      <th>111903</th>\n",
       "      <td>0.0</td>\n",
       "      <td>0.0</td>\n",
       "      <td>0.0</td>\n",
       "      <td>F</td>\n",
       "      <td>NaN</td>\n",
       "      <td>Red</td>\n",
       "      <td>Polygon</td>\n",
       "      <td>Lion</td>\n",
       "      <td>Finland</td>\n",
       "      <td>Bassoon</td>\n",
       "      <td>...</td>\n",
       "      <td>9dd6a02eb</td>\n",
       "      <td>6ce8fe5ee</td>\n",
       "      <td>3.0</td>\n",
       "      <td>Novice</td>\n",
       "      <td>Warm</td>\n",
       "      <td>c</td>\n",
       "      <td>O</td>\n",
       "      <td>NS</td>\n",
       "      <td>4.0</td>\n",
       "      <td>9.0</td>\n",
       "    </tr>\n",
       "    <tr>\n",
       "      <th>521435</th>\n",
       "      <td>0.0</td>\n",
       "      <td>1.0</td>\n",
       "      <td>0.0</td>\n",
       "      <td>F</td>\n",
       "      <td>N</td>\n",
       "      <td>Red</td>\n",
       "      <td>Triangle</td>\n",
       "      <td>Axolotl</td>\n",
       "      <td>Finland</td>\n",
       "      <td>Bassoon</td>\n",
       "      <td>...</td>\n",
       "      <td>679b63eff</td>\n",
       "      <td>a737a6428</td>\n",
       "      <td>2.0</td>\n",
       "      <td>Grandmaster</td>\n",
       "      <td>Freezing</td>\n",
       "      <td>m</td>\n",
       "      <td>A</td>\n",
       "      <td>gc</td>\n",
       "      <td>5.0</td>\n",
       "      <td>1.0</td>\n",
       "    </tr>\n",
       "    <tr>\n",
       "      <th>484488</th>\n",
       "      <td>0.0</td>\n",
       "      <td>0.0</td>\n",
       "      <td>0.0</td>\n",
       "      <td>F</td>\n",
       "      <td>N</td>\n",
       "      <td>Red</td>\n",
       "      <td>Trapezoid</td>\n",
       "      <td>Hamster</td>\n",
       "      <td>India</td>\n",
       "      <td>Theremin</td>\n",
       "      <td>...</td>\n",
       "      <td>fbea9bb4a</td>\n",
       "      <td>b787c48f0</td>\n",
       "      <td>2.0</td>\n",
       "      <td>Master</td>\n",
       "      <td>Freezing</td>\n",
       "      <td>k</td>\n",
       "      <td>I</td>\n",
       "      <td>rl</td>\n",
       "      <td>2.0</td>\n",
       "      <td>8.0</td>\n",
       "    </tr>\n",
       "  </tbody>\n",
       "</table>\n",
       "<p>3 rows × 23 columns</p>\n",
       "</div>"
      ],
      "text/plain": [
       "        bin_0  bin_1  bin_2 bin_3 bin_4 nom_0      nom_1    nom_2    nom_3  \\\n",
       "id                                                                           \n",
       "111903    0.0    0.0    0.0     F   NaN   Red    Polygon     Lion  Finland   \n",
       "521435    0.0    1.0    0.0     F     N   Red   Triangle  Axolotl  Finland   \n",
       "484488    0.0    0.0    0.0     F     N   Red  Trapezoid  Hamster    India   \n",
       "\n",
       "           nom_4  ...      nom_8      nom_9 ord_0        ord_1     ord_2  \\\n",
       "id                ...                                                      \n",
       "111903   Bassoon  ...  9dd6a02eb  6ce8fe5ee   3.0       Novice      Warm   \n",
       "521435   Bassoon  ...  679b63eff  a737a6428   2.0  Grandmaster  Freezing   \n",
       "484488  Theremin  ...  fbea9bb4a  b787c48f0   2.0       Master  Freezing   \n",
       "\n",
       "        ord_3 ord_4 ord_5  day month  \n",
       "id                                    \n",
       "111903      c     O    NS  4.0   9.0  \n",
       "521435      m     A    gc  5.0   1.0  \n",
       "484488      k     I    rl  2.0   8.0  \n",
       "\n",
       "[3 rows x 23 columns]"
      ]
     },
     "execution_count": 5,
     "metadata": {},
     "output_type": "execute_result"
    }
   ],
   "source": [
    "X_train.head(3)"
   ]
  },
  {
   "cell_type": "code",
   "execution_count": 6,
   "metadata": {},
   "outputs": [
    {
     "data": {
      "text/html": [
       "<div>\n",
       "<style scoped>\n",
       "    .dataframe tbody tr th:only-of-type {\n",
       "        vertical-align: middle;\n",
       "    }\n",
       "\n",
       "    .dataframe tbody tr th {\n",
       "        vertical-align: top;\n",
       "    }\n",
       "\n",
       "    .dataframe thead th {\n",
       "        text-align: right;\n",
       "    }\n",
       "</style>\n",
       "<table border=\"1\" class=\"dataframe\">\n",
       "  <thead>\n",
       "    <tr style=\"text-align: right;\">\n",
       "      <th></th>\n",
       "      <th>bin_0</th>\n",
       "      <th>bin_1</th>\n",
       "      <th>bin_2</th>\n",
       "      <th>ord_0</th>\n",
       "      <th>day</th>\n",
       "      <th>month</th>\n",
       "    </tr>\n",
       "  </thead>\n",
       "  <tbody>\n",
       "    <tr>\n",
       "      <th>count</th>\n",
       "      <td>523875.000000</td>\n",
       "      <td>523788.000000</td>\n",
       "      <td>523842.000000</td>\n",
       "      <td>523528.000000</td>\n",
       "      <td>523850.000000</td>\n",
       "      <td>523817.000000</td>\n",
       "    </tr>\n",
       "    <tr>\n",
       "      <th>mean</th>\n",
       "      <td>0.092245</td>\n",
       "      <td>0.185692</td>\n",
       "      <td>0.278842</td>\n",
       "      <td>1.947663</td>\n",
       "      <td>4.112578</td>\n",
       "      <td>6.372836</td>\n",
       "    </tr>\n",
       "    <tr>\n",
       "      <th>std</th>\n",
       "      <td>0.289372</td>\n",
       "      <td>0.388858</td>\n",
       "      <td>0.448430</td>\n",
       "      <td>0.853963</td>\n",
       "      <td>2.034344</td>\n",
       "      <td>3.459506</td>\n",
       "    </tr>\n",
       "    <tr>\n",
       "      <th>min</th>\n",
       "      <td>0.000000</td>\n",
       "      <td>0.000000</td>\n",
       "      <td>0.000000</td>\n",
       "      <td>1.000000</td>\n",
       "      <td>1.000000</td>\n",
       "      <td>1.000000</td>\n",
       "    </tr>\n",
       "    <tr>\n",
       "      <th>25%</th>\n",
       "      <td>0.000000</td>\n",
       "      <td>0.000000</td>\n",
       "      <td>0.000000</td>\n",
       "      <td>1.000000</td>\n",
       "      <td>2.000000</td>\n",
       "      <td>3.000000</td>\n",
       "    </tr>\n",
       "    <tr>\n",
       "      <th>50%</th>\n",
       "      <td>0.000000</td>\n",
       "      <td>0.000000</td>\n",
       "      <td>0.000000</td>\n",
       "      <td>2.000000</td>\n",
       "      <td>5.000000</td>\n",
       "      <td>6.000000</td>\n",
       "    </tr>\n",
       "    <tr>\n",
       "      <th>75%</th>\n",
       "      <td>0.000000</td>\n",
       "      <td>0.000000</td>\n",
       "      <td>1.000000</td>\n",
       "      <td>3.000000</td>\n",
       "      <td>6.000000</td>\n",
       "      <td>8.000000</td>\n",
       "    </tr>\n",
       "    <tr>\n",
       "      <th>max</th>\n",
       "      <td>1.000000</td>\n",
       "      <td>1.000000</td>\n",
       "      <td>1.000000</td>\n",
       "      <td>3.000000</td>\n",
       "      <td>7.000000</td>\n",
       "      <td>12.000000</td>\n",
       "    </tr>\n",
       "  </tbody>\n",
       "</table>\n",
       "</div>"
      ],
      "text/plain": [
       "               bin_0          bin_1          bin_2          ord_0  \\\n",
       "count  523875.000000  523788.000000  523842.000000  523528.000000   \n",
       "mean        0.092245       0.185692       0.278842       1.947663   \n",
       "std         0.289372       0.388858       0.448430       0.853963   \n",
       "min         0.000000       0.000000       0.000000       1.000000   \n",
       "25%         0.000000       0.000000       0.000000       1.000000   \n",
       "50%         0.000000       0.000000       0.000000       2.000000   \n",
       "75%         0.000000       0.000000       1.000000       3.000000   \n",
       "max         1.000000       1.000000       1.000000       3.000000   \n",
       "\n",
       "                 day          month  \n",
       "count  523850.000000  523817.000000  \n",
       "mean        4.112578       6.372836  \n",
       "std         2.034344       3.459506  \n",
       "min         1.000000       1.000000  \n",
       "25%         2.000000       3.000000  \n",
       "50%         5.000000       6.000000  \n",
       "75%         6.000000       8.000000  \n",
       "max         7.000000      12.000000  "
      ]
     },
     "execution_count": 6,
     "metadata": {},
     "output_type": "execute_result"
    }
   ],
   "source": [
    "X_train.describe()"
   ]
  },
  {
   "cell_type": "code",
   "execution_count": 8,
   "metadata": {
    "scrolled": false
   },
   "outputs": [
    {
     "data": {
      "text/html": [
       "<div>\n",
       "<style scoped>\n",
       "    .dataframe tbody tr th:only-of-type {\n",
       "        vertical-align: middle;\n",
       "    }\n",
       "\n",
       "    .dataframe tbody tr th {\n",
       "        vertical-align: top;\n",
       "    }\n",
       "\n",
       "    .dataframe thead th {\n",
       "        text-align: right;\n",
       "    }\n",
       "</style>\n",
       "<table border=\"1\" class=\"dataframe\">\n",
       "  <thead>\n",
       "    <tr style=\"text-align: right;\">\n",
       "      <th></th>\n",
       "      <th>bin_0</th>\n",
       "      <th>bin_1</th>\n",
       "      <th>bin_2</th>\n",
       "      <th>bin_3</th>\n",
       "      <th>bin_4</th>\n",
       "      <th>nom_0</th>\n",
       "      <th>nom_1</th>\n",
       "      <th>nom_2</th>\n",
       "      <th>nom_3</th>\n",
       "      <th>nom_4</th>\n",
       "      <th>...</th>\n",
       "      <th>nom_8</th>\n",
       "      <th>nom_9</th>\n",
       "      <th>ord_0</th>\n",
       "      <th>ord_1</th>\n",
       "      <th>ord_2</th>\n",
       "      <th>ord_3</th>\n",
       "      <th>ord_4</th>\n",
       "      <th>ord_5</th>\n",
       "      <th>day</th>\n",
       "      <th>month</th>\n",
       "    </tr>\n",
       "    <tr>\n",
       "      <th>id</th>\n",
       "      <th></th>\n",
       "      <th></th>\n",
       "      <th></th>\n",
       "      <th></th>\n",
       "      <th></th>\n",
       "      <th></th>\n",
       "      <th></th>\n",
       "      <th></th>\n",
       "      <th></th>\n",
       "      <th></th>\n",
       "      <th></th>\n",
       "      <th></th>\n",
       "      <th></th>\n",
       "      <th></th>\n",
       "      <th></th>\n",
       "      <th></th>\n",
       "      <th></th>\n",
       "      <th></th>\n",
       "      <th></th>\n",
       "      <th></th>\n",
       "      <th></th>\n",
       "    </tr>\n",
       "  </thead>\n",
       "  <tbody>\n",
       "    <tr>\n",
       "      <th>521435</th>\n",
       "      <td>0.0</td>\n",
       "      <td>1.0</td>\n",
       "      <td>0.0</td>\n",
       "      <td>F</td>\n",
       "      <td>N</td>\n",
       "      <td>Red</td>\n",
       "      <td>Triangle</td>\n",
       "      <td>Axolotl</td>\n",
       "      <td>Finland</td>\n",
       "      <td>Bassoon</td>\n",
       "      <td>...</td>\n",
       "      <td>679b63eff</td>\n",
       "      <td>a737a6428</td>\n",
       "      <td>2.0</td>\n",
       "      <td>Grandmaster</td>\n",
       "      <td>Freezing</td>\n",
       "      <td>m</td>\n",
       "      <td>A</td>\n",
       "      <td>gc</td>\n",
       "      <td>5.0</td>\n",
       "      <td>1.0</td>\n",
       "    </tr>\n",
       "    <tr>\n",
       "      <th>484488</th>\n",
       "      <td>0.0</td>\n",
       "      <td>0.0</td>\n",
       "      <td>0.0</td>\n",
       "      <td>F</td>\n",
       "      <td>N</td>\n",
       "      <td>Red</td>\n",
       "      <td>Trapezoid</td>\n",
       "      <td>Hamster</td>\n",
       "      <td>India</td>\n",
       "      <td>Theremin</td>\n",
       "      <td>...</td>\n",
       "      <td>fbea9bb4a</td>\n",
       "      <td>b787c48f0</td>\n",
       "      <td>2.0</td>\n",
       "      <td>Master</td>\n",
       "      <td>Freezing</td>\n",
       "      <td>k</td>\n",
       "      <td>I</td>\n",
       "      <td>rl</td>\n",
       "      <td>2.0</td>\n",
       "      <td>8.0</td>\n",
       "    </tr>\n",
       "    <tr>\n",
       "      <th>112613</th>\n",
       "      <td>0.0</td>\n",
       "      <td>0.0</td>\n",
       "      <td>0.0</td>\n",
       "      <td>F</td>\n",
       "      <td>Y</td>\n",
       "      <td>Green</td>\n",
       "      <td>Polygon</td>\n",
       "      <td>Axolotl</td>\n",
       "      <td>Costa Rica</td>\n",
       "      <td>Theremin</td>\n",
       "      <td>...</td>\n",
       "      <td>fe070240a</td>\n",
       "      <td>1aaae9c6f</td>\n",
       "      <td>3.0</td>\n",
       "      <td>Expert</td>\n",
       "      <td>Boiling Hot</td>\n",
       "      <td>m</td>\n",
       "      <td>X</td>\n",
       "      <td>Pk</td>\n",
       "      <td>3.0</td>\n",
       "      <td>4.0</td>\n",
       "    </tr>\n",
       "    <tr>\n",
       "      <th>549585</th>\n",
       "      <td>0.0</td>\n",
       "      <td>1.0</td>\n",
       "      <td>1.0</td>\n",
       "      <td>F</td>\n",
       "      <td>N</td>\n",
       "      <td>Blue</td>\n",
       "      <td>Polygon</td>\n",
       "      <td>Dog</td>\n",
       "      <td>Costa Rica</td>\n",
       "      <td>Bassoon</td>\n",
       "      <td>...</td>\n",
       "      <td>8109ba950</td>\n",
       "      <td>85e0d24dc</td>\n",
       "      <td>3.0</td>\n",
       "      <td>Grandmaster</td>\n",
       "      <td>Cold</td>\n",
       "      <td>k</td>\n",
       "      <td>Y</td>\n",
       "      <td>WW</td>\n",
       "      <td>7.0</td>\n",
       "      <td>6.0</td>\n",
       "    </tr>\n",
       "    <tr>\n",
       "      <th>321528</th>\n",
       "      <td>0.0</td>\n",
       "      <td>0.0</td>\n",
       "      <td>1.0</td>\n",
       "      <td>F</td>\n",
       "      <td>N</td>\n",
       "      <td>Blue</td>\n",
       "      <td>Triangle</td>\n",
       "      <td>Dog</td>\n",
       "      <td>Costa Rica</td>\n",
       "      <td>Oboe</td>\n",
       "      <td>...</td>\n",
       "      <td>7d7c02c57</td>\n",
       "      <td>1a26e9987</td>\n",
       "      <td>1.0</td>\n",
       "      <td>Contributor</td>\n",
       "      <td>Warm</td>\n",
       "      <td>a</td>\n",
       "      <td>U</td>\n",
       "      <td>ok</td>\n",
       "      <td>3.0</td>\n",
       "      <td>3.0</td>\n",
       "    </tr>\n",
       "    <tr>\n",
       "      <th>...</th>\n",
       "      <td>...</td>\n",
       "      <td>...</td>\n",
       "      <td>...</td>\n",
       "      <td>...</td>\n",
       "      <td>...</td>\n",
       "      <td>...</td>\n",
       "      <td>...</td>\n",
       "      <td>...</td>\n",
       "      <td>...</td>\n",
       "      <td>...</td>\n",
       "      <td>...</td>\n",
       "      <td>...</td>\n",
       "      <td>...</td>\n",
       "      <td>...</td>\n",
       "      <td>...</td>\n",
       "      <td>...</td>\n",
       "      <td>...</td>\n",
       "      <td>...</td>\n",
       "      <td>...</td>\n",
       "      <td>...</td>\n",
       "      <td>...</td>\n",
       "    </tr>\n",
       "    <tr>\n",
       "      <th>170584</th>\n",
       "      <td>0.0</td>\n",
       "      <td>0.0</td>\n",
       "      <td>0.0</td>\n",
       "      <td>F</td>\n",
       "      <td>N</td>\n",
       "      <td>Red</td>\n",
       "      <td>Trapezoid</td>\n",
       "      <td>Lion</td>\n",
       "      <td>India</td>\n",
       "      <td>Bassoon</td>\n",
       "      <td>...</td>\n",
       "      <td>d1c6bb70d</td>\n",
       "      <td>57cfbaedd</td>\n",
       "      <td>2.0</td>\n",
       "      <td>Expert</td>\n",
       "      <td>Freezing</td>\n",
       "      <td>n</td>\n",
       "      <td>K</td>\n",
       "      <td>ok</td>\n",
       "      <td>3.0</td>\n",
       "      <td>5.0</td>\n",
       "    </tr>\n",
       "    <tr>\n",
       "      <th>122579</th>\n",
       "      <td>0.0</td>\n",
       "      <td>0.0</td>\n",
       "      <td>0.0</td>\n",
       "      <td>F</td>\n",
       "      <td>N</td>\n",
       "      <td>Green</td>\n",
       "      <td>Polygon</td>\n",
       "      <td>Hamster</td>\n",
       "      <td>China</td>\n",
       "      <td>Bassoon</td>\n",
       "      <td>...</td>\n",
       "      <td>798ccea46</td>\n",
       "      <td>72b96a851</td>\n",
       "      <td>1.0</td>\n",
       "      <td>Novice</td>\n",
       "      <td>Boiling Hot</td>\n",
       "      <td>c</td>\n",
       "      <td>Q</td>\n",
       "      <td>yK</td>\n",
       "      <td>2.0</td>\n",
       "      <td>7.0</td>\n",
       "    </tr>\n",
       "    <tr>\n",
       "      <th>152315</th>\n",
       "      <td>0.0</td>\n",
       "      <td>0.0</td>\n",
       "      <td>0.0</td>\n",
       "      <td>F</td>\n",
       "      <td>Y</td>\n",
       "      <td>Red</td>\n",
       "      <td>Triangle</td>\n",
       "      <td>Lion</td>\n",
       "      <td>Finland</td>\n",
       "      <td>Bassoon</td>\n",
       "      <td>...</td>\n",
       "      <td>28c042258</td>\n",
       "      <td>38270a265</td>\n",
       "      <td>3.0</td>\n",
       "      <td>Grandmaster</td>\n",
       "      <td>Freezing</td>\n",
       "      <td>n</td>\n",
       "      <td>Q</td>\n",
       "      <td>Pw</td>\n",
       "      <td>1.0</td>\n",
       "      <td>5.0</td>\n",
       "    </tr>\n",
       "    <tr>\n",
       "      <th>435829</th>\n",
       "      <td>1.0</td>\n",
       "      <td>1.0</td>\n",
       "      <td>1.0</td>\n",
       "      <td>T</td>\n",
       "      <td>N</td>\n",
       "      <td>Red</td>\n",
       "      <td>Triangle</td>\n",
       "      <td>Lion</td>\n",
       "      <td>Costa Rica</td>\n",
       "      <td>Theremin</td>\n",
       "      <td>...</td>\n",
       "      <td>1ce5cf721</td>\n",
       "      <td>9979d91fc</td>\n",
       "      <td>3.0</td>\n",
       "      <td>Contributor</td>\n",
       "      <td>Cold</td>\n",
       "      <td>b</td>\n",
       "      <td>O</td>\n",
       "      <td>gc</td>\n",
       "      <td>5.0</td>\n",
       "      <td>6.0</td>\n",
       "    </tr>\n",
       "    <tr>\n",
       "      <th>305711</th>\n",
       "      <td>0.0</td>\n",
       "      <td>0.0</td>\n",
       "      <td>1.0</td>\n",
       "      <td>T</td>\n",
       "      <td>N</td>\n",
       "      <td>Blue</td>\n",
       "      <td>Triangle</td>\n",
       "      <td>Hamster</td>\n",
       "      <td>Costa Rica</td>\n",
       "      <td>Bassoon</td>\n",
       "      <td>...</td>\n",
       "      <td>53efabb84</td>\n",
       "      <td>1ebe4a323</td>\n",
       "      <td>2.0</td>\n",
       "      <td>Novice</td>\n",
       "      <td>Lava Hot</td>\n",
       "      <td>h</td>\n",
       "      <td>X</td>\n",
       "      <td>mP</td>\n",
       "      <td>5.0</td>\n",
       "      <td>7.0</td>\n",
       "    </tr>\n",
       "  </tbody>\n",
       "</table>\n",
       "<p>268230 rows × 23 columns</p>\n",
       "</div>"
      ],
      "text/plain": [
       "        bin_0  bin_1  bin_2 bin_3 bin_4  nom_0      nom_1    nom_2  \\\n",
       "id                                                                   \n",
       "521435    0.0    1.0    0.0     F     N    Red   Triangle  Axolotl   \n",
       "484488    0.0    0.0    0.0     F     N    Red  Trapezoid  Hamster   \n",
       "112613    0.0    0.0    0.0     F     Y  Green    Polygon  Axolotl   \n",
       "549585    0.0    1.0    1.0     F     N   Blue    Polygon      Dog   \n",
       "321528    0.0    0.0    1.0     F     N   Blue   Triangle      Dog   \n",
       "...       ...    ...    ...   ...   ...    ...        ...      ...   \n",
       "170584    0.0    0.0    0.0     F     N    Red  Trapezoid     Lion   \n",
       "122579    0.0    0.0    0.0     F     N  Green    Polygon  Hamster   \n",
       "152315    0.0    0.0    0.0     F     Y    Red   Triangle     Lion   \n",
       "435829    1.0    1.0    1.0     T     N    Red   Triangle     Lion   \n",
       "305711    0.0    0.0    1.0     T     N   Blue   Triangle  Hamster   \n",
       "\n",
       "             nom_3     nom_4  ...      nom_8      nom_9 ord_0        ord_1  \\\n",
       "id                            ...                                            \n",
       "521435     Finland   Bassoon  ...  679b63eff  a737a6428   2.0  Grandmaster   \n",
       "484488       India  Theremin  ...  fbea9bb4a  b787c48f0   2.0       Master   \n",
       "112613  Costa Rica  Theremin  ...  fe070240a  1aaae9c6f   3.0       Expert   \n",
       "549585  Costa Rica   Bassoon  ...  8109ba950  85e0d24dc   3.0  Grandmaster   \n",
       "321528  Costa Rica      Oboe  ...  7d7c02c57  1a26e9987   1.0  Contributor   \n",
       "...            ...       ...  ...        ...        ...   ...          ...   \n",
       "170584       India   Bassoon  ...  d1c6bb70d  57cfbaedd   2.0       Expert   \n",
       "122579       China   Bassoon  ...  798ccea46  72b96a851   1.0       Novice   \n",
       "152315     Finland   Bassoon  ...  28c042258  38270a265   3.0  Grandmaster   \n",
       "435829  Costa Rica  Theremin  ...  1ce5cf721  9979d91fc   3.0  Contributor   \n",
       "305711  Costa Rica   Bassoon  ...  53efabb84  1ebe4a323   2.0       Novice   \n",
       "\n",
       "              ord_2  ord_3 ord_4 ord_5  day month  \n",
       "id                                                 \n",
       "521435     Freezing      m     A    gc  5.0   1.0  \n",
       "484488     Freezing      k     I    rl  2.0   8.0  \n",
       "112613  Boiling Hot      m     X    Pk  3.0   4.0  \n",
       "549585         Cold      k     Y    WW  7.0   6.0  \n",
       "321528         Warm      a     U    ok  3.0   3.0  \n",
       "...             ...    ...   ...   ...  ...   ...  \n",
       "170584     Freezing      n     K    ok  3.0   5.0  \n",
       "122579  Boiling Hot      c     Q    yK  2.0   7.0  \n",
       "152315     Freezing      n     Q    Pw  1.0   5.0  \n",
       "435829         Cold      b     O    gc  5.0   6.0  \n",
       "305711     Lava Hot      h     X    mP  5.0   7.0  \n",
       "\n",
       "[268230 rows x 23 columns]"
      ]
     },
     "execution_count": 8,
     "metadata": {},
     "output_type": "execute_result"
    }
   ],
   "source": [
    "X_train.dropna()"
   ]
  },
  {
   "cell_type": "code",
   "execution_count": 14,
   "metadata": {
    "scrolled": true
   },
   "outputs": [
    {
     "data": {
      "text/plain": [
       "<bound method IndexOpsMixin.value_counts of id\n",
       "111903    0.0\n",
       "521435    0.0\n",
       "484488    0.0\n",
       "529639    0.0\n",
       "589943    0.0\n",
       "         ... \n",
       "359783    0.0\n",
       "152315    0.0\n",
       "117952    NaN\n",
       "435829    1.0\n",
       "305711    0.0\n",
       "Name: bin_0, Length: 540000, dtype: float64>"
      ]
     },
     "metadata": {},
     "output_type": "display_data"
    },
    {
     "name": "stdout",
     "output_type": "stream",
     "text": [
      "********************\n"
     ]
    },
    {
     "data": {
      "text/plain": [
       "<bound method IndexOpsMixin.value_counts of id\n",
       "111903    0.0\n",
       "521435    1.0\n",
       "484488    0.0\n",
       "529639    1.0\n",
       "589943    NaN\n",
       "         ... \n",
       "359783    0.0\n",
       "152315    0.0\n",
       "117952    1.0\n",
       "435829    1.0\n",
       "305711    0.0\n",
       "Name: bin_1, Length: 540000, dtype: float64>"
      ]
     },
     "metadata": {},
     "output_type": "display_data"
    },
    {
     "name": "stdout",
     "output_type": "stream",
     "text": [
      "********************\n"
     ]
    },
    {
     "data": {
      "text/plain": [
       "<bound method IndexOpsMixin.value_counts of id\n",
       "111903    0.0\n",
       "521435    0.0\n",
       "484488    0.0\n",
       "529639    1.0\n",
       "589943    0.0\n",
       "         ... \n",
       "359783    1.0\n",
       "152315    0.0\n",
       "117952    0.0\n",
       "435829    1.0\n",
       "305711    1.0\n",
       "Name: bin_2, Length: 540000, dtype: float64>"
      ]
     },
     "metadata": {},
     "output_type": "display_data"
    },
    {
     "name": "stdout",
     "output_type": "stream",
     "text": [
      "********************\n"
     ]
    },
    {
     "data": {
      "text/plain": [
       "<bound method IndexOpsMixin.value_counts of id\n",
       "111903    F\n",
       "521435    F\n",
       "484488    F\n",
       "529639    F\n",
       "589943    T\n",
       "         ..\n",
       "359783    F\n",
       "152315    F\n",
       "117952    T\n",
       "435829    T\n",
       "305711    T\n",
       "Name: bin_3, Length: 540000, dtype: object>"
      ]
     },
     "metadata": {},
     "output_type": "display_data"
    },
    {
     "name": "stdout",
     "output_type": "stream",
     "text": [
      "********************\n"
     ]
    },
    {
     "data": {
      "text/plain": [
       "<bound method IndexOpsMixin.value_counts of id\n",
       "111903    NaN\n",
       "521435      N\n",
       "484488      N\n",
       "529639      N\n",
       "589943      N\n",
       "         ... \n",
       "359783      N\n",
       "152315      Y\n",
       "117952      N\n",
       "435829      N\n",
       "305711      N\n",
       "Name: bin_4, Length: 540000, dtype: object>"
      ]
     },
     "metadata": {},
     "output_type": "display_data"
    },
    {
     "name": "stdout",
     "output_type": "stream",
     "text": [
      "********************\n"
     ]
    },
    {
     "data": {
      "text/plain": [
       "<bound method IndexOpsMixin.value_counts of id\n",
       "111903     Red\n",
       "521435     Red\n",
       "484488     Red\n",
       "529639     Red\n",
       "589943     Red\n",
       "          ... \n",
       "359783    Blue\n",
       "152315     Red\n",
       "117952     Red\n",
       "435829     Red\n",
       "305711    Blue\n",
       "Name: nom_0, Length: 540000, dtype: object>"
      ]
     },
     "metadata": {},
     "output_type": "display_data"
    },
    {
     "name": "stdout",
     "output_type": "stream",
     "text": [
      "********************\n"
     ]
    },
    {
     "data": {
      "text/plain": [
       "<bound method IndexOpsMixin.value_counts of id\n",
       "111903      Polygon\n",
       "521435     Triangle\n",
       "484488    Trapezoid\n",
       "529639     Triangle\n",
       "589943     Triangle\n",
       "            ...    \n",
       "359783       Circle\n",
       "152315     Triangle\n",
       "117952      Polygon\n",
       "435829     Triangle\n",
       "305711     Triangle\n",
       "Name: nom_1, Length: 540000, dtype: object>"
      ]
     },
     "metadata": {},
     "output_type": "display_data"
    },
    {
     "name": "stdout",
     "output_type": "stream",
     "text": [
      "********************\n"
     ]
    },
    {
     "data": {
      "text/plain": [
       "<bound method IndexOpsMixin.value_counts of id\n",
       "111903       Lion\n",
       "521435    Axolotl\n",
       "484488    Hamster\n",
       "529639    Hamster\n",
       "589943        Cat\n",
       "           ...   \n",
       "359783    Hamster\n",
       "152315       Lion\n",
       "117952    Hamster\n",
       "435829       Lion\n",
       "305711    Hamster\n",
       "Name: nom_2, Length: 540000, dtype: object>"
      ]
     },
     "metadata": {},
     "output_type": "display_data"
    },
    {
     "name": "stdout",
     "output_type": "stream",
     "text": [
      "********************\n"
     ]
    },
    {
     "data": {
      "text/plain": [
       "<bound method IndexOpsMixin.value_counts of id\n",
       "111903       Finland\n",
       "521435       Finland\n",
       "484488         India\n",
       "529639    Costa Rica\n",
       "589943        Russia\n",
       "             ...    \n",
       "359783         India\n",
       "152315       Finland\n",
       "117952        Canada\n",
       "435829    Costa Rica\n",
       "305711    Costa Rica\n",
       "Name: nom_3, Length: 540000, dtype: object>"
      ]
     },
     "metadata": {},
     "output_type": "display_data"
    },
    {
     "name": "stdout",
     "output_type": "stream",
     "text": [
      "********************\n"
     ]
    },
    {
     "data": {
      "text/plain": [
       "<bound method IndexOpsMixin.value_counts of id\n",
       "111903     Bassoon\n",
       "521435     Bassoon\n",
       "484488    Theremin\n",
       "529639     Bassoon\n",
       "589943       Piano\n",
       "            ...   \n",
       "359783     Bassoon\n",
       "152315     Bassoon\n",
       "117952     Bassoon\n",
       "435829    Theremin\n",
       "305711     Bassoon\n",
       "Name: nom_4, Length: 540000, dtype: object>"
      ]
     },
     "metadata": {},
     "output_type": "display_data"
    },
    {
     "name": "stdout",
     "output_type": "stream",
     "text": [
      "********************\n"
     ]
    },
    {
     "data": {
      "text/plain": [
       "<bound method IndexOpsMixin.value_counts of id\n",
       "111903    2ceb3c2c2\n",
       "521435    106ec5883\n",
       "484488    edc3d5f4b\n",
       "529639    4a1a59862\n",
       "589943    b2520fd45\n",
       "            ...    \n",
       "359783    5ea48fdbd\n",
       "152315    20fb9faab\n",
       "117952    094b85efd\n",
       "435829    c8fb0fd36\n",
       "305711    29ede9e9b\n",
       "Name: nom_5, Length: 540000, dtype: object>"
      ]
     },
     "metadata": {},
     "output_type": "display_data"
    },
    {
     "name": "stdout",
     "output_type": "stream",
     "text": [
      "********************\n"
     ]
    },
    {
     "data": {
      "text/plain": [
       "<bound method IndexOpsMixin.value_counts of id\n",
       "111903    8a2420f6a\n",
       "521435    289755dc2\n",
       "484488    58137fe64\n",
       "529639          NaN\n",
       "589943    89545cc37\n",
       "            ...    \n",
       "359783    549b11326\n",
       "152315    8f065bc17\n",
       "117952    a0d8dd788\n",
       "435829    79288f5e8\n",
       "305711    d78b1df07\n",
       "Name: nom_6, Length: 540000, dtype: object>"
      ]
     },
     "metadata": {},
     "output_type": "display_data"
    },
    {
     "name": "stdout",
     "output_type": "stream",
     "text": [
      "********************\n"
     ]
    },
    {
     "data": {
      "text/plain": [
       "<bound method IndexOpsMixin.value_counts of id\n",
       "111903    4ae48e857\n",
       "521435    c79d2197d\n",
       "484488    bc9cc2a94\n",
       "529639    00a7f9a05\n",
       "589943    2c4f9614e\n",
       "            ...    \n",
       "359783    4ae48e857\n",
       "152315    909943002\n",
       "117952    3efdc7987\n",
       "435829    56d35c774\n",
       "305711    41901460a\n",
       "Name: nom_7, Length: 540000, dtype: object>"
      ]
     },
     "metadata": {},
     "output_type": "display_data"
    },
    {
     "name": "stdout",
     "output_type": "stream",
     "text": [
      "********************\n"
     ]
    },
    {
     "data": {
      "text/plain": [
       "<bound method IndexOpsMixin.value_counts of id\n",
       "111903    9dd6a02eb\n",
       "521435    679b63eff\n",
       "484488    fbea9bb4a\n",
       "529639    b72c0bbc2\n",
       "589943    b8e63cace\n",
       "            ...    \n",
       "359783          NaN\n",
       "152315    28c042258\n",
       "117952    60c7c84ee\n",
       "435829    1ce5cf721\n",
       "305711    53efabb84\n",
       "Name: nom_8, Length: 540000, dtype: object>"
      ]
     },
     "metadata": {},
     "output_type": "display_data"
    },
    {
     "name": "stdout",
     "output_type": "stream",
     "text": [
      "********************\n"
     ]
    },
    {
     "data": {
      "text/plain": [
       "<bound method IndexOpsMixin.value_counts of id\n",
       "111903    6ce8fe5ee\n",
       "521435    a737a6428\n",
       "484488    b787c48f0\n",
       "529639          NaN\n",
       "589943    10695338e\n",
       "            ...    \n",
       "359783    a71bc91ae\n",
       "152315    38270a265\n",
       "117952    6b55f99bc\n",
       "435829    9979d91fc\n",
       "305711    1ebe4a323\n",
       "Name: nom_9, Length: 540000, dtype: object>"
      ]
     },
     "metadata": {},
     "output_type": "display_data"
    },
    {
     "name": "stdout",
     "output_type": "stream",
     "text": [
      "********************\n"
     ]
    },
    {
     "data": {
      "text/plain": [
       "<bound method IndexOpsMixin.value_counts of id\n",
       "111903    3.0\n",
       "521435    2.0\n",
       "484488    2.0\n",
       "529639    1.0\n",
       "589943    2.0\n",
       "         ... \n",
       "359783    3.0\n",
       "152315    3.0\n",
       "117952    3.0\n",
       "435829    3.0\n",
       "305711    2.0\n",
       "Name: ord_0, Length: 540000, dtype: float64>"
      ]
     },
     "metadata": {},
     "output_type": "display_data"
    },
    {
     "name": "stdout",
     "output_type": "stream",
     "text": [
      "********************\n"
     ]
    },
    {
     "data": {
      "text/plain": [
       "<bound method IndexOpsMixin.value_counts of id\n",
       "111903         Novice\n",
       "521435    Grandmaster\n",
       "484488         Master\n",
       "529639         Expert\n",
       "589943         Expert\n",
       "             ...     \n",
       "359783         Novice\n",
       "152315    Grandmaster\n",
       "117952    Grandmaster\n",
       "435829    Contributor\n",
       "305711         Novice\n",
       "Name: ord_1, Length: 540000, dtype: object>"
      ]
     },
     "metadata": {},
     "output_type": "display_data"
    },
    {
     "name": "stdout",
     "output_type": "stream",
     "text": [
      "********************\n"
     ]
    },
    {
     "data": {
      "text/plain": [
       "<bound method IndexOpsMixin.value_counts of id\n",
       "111903           Warm\n",
       "521435       Freezing\n",
       "484488       Freezing\n",
       "529639            Hot\n",
       "589943           Warm\n",
       "             ...     \n",
       "359783    Boiling Hot\n",
       "152315       Freezing\n",
       "117952           Cold\n",
       "435829           Cold\n",
       "305711       Lava Hot\n",
       "Name: ord_2, Length: 540000, dtype: object>"
      ]
     },
     "metadata": {},
     "output_type": "display_data"
    },
    {
     "name": "stdout",
     "output_type": "stream",
     "text": [
      "********************\n"
     ]
    },
    {
     "data": {
      "text/plain": [
       "<bound method IndexOpsMixin.value_counts of id\n",
       "111903      c\n",
       "521435      m\n",
       "484488      k\n",
       "529639      e\n",
       "589943      a\n",
       "         ... \n",
       "359783    NaN\n",
       "152315      n\n",
       "117952      m\n",
       "435829      b\n",
       "305711      h\n",
       "Name: ord_3, Length: 540000, dtype: object>"
      ]
     },
     "metadata": {},
     "output_type": "display_data"
    },
    {
     "name": "stdout",
     "output_type": "stream",
     "text": [
      "********************\n"
     ]
    },
    {
     "data": {
      "text/plain": [
       "<bound method IndexOpsMixin.value_counts of id\n",
       "111903    O\n",
       "521435    A\n",
       "484488    I\n",
       "529639    P\n",
       "589943    N\n",
       "         ..\n",
       "359783    M\n",
       "152315    Q\n",
       "117952    X\n",
       "435829    O\n",
       "305711    X\n",
       "Name: ord_4, Length: 540000, dtype: object>"
      ]
     },
     "metadata": {},
     "output_type": "display_data"
    },
    {
     "name": "stdout",
     "output_type": "stream",
     "text": [
      "********************\n"
     ]
    },
    {
     "data": {
      "text/plain": [
       "<bound method IndexOpsMixin.value_counts of id\n",
       "111903    NS\n",
       "521435    gc\n",
       "484488    rl\n",
       "529639    WW\n",
       "589943    LY\n",
       "          ..\n",
       "359783    iS\n",
       "152315    Pw\n",
       "117952    pT\n",
       "435829    gc\n",
       "305711    mP\n",
       "Name: ord_5, Length: 540000, dtype: object>"
      ]
     },
     "metadata": {},
     "output_type": "display_data"
    },
    {
     "name": "stdout",
     "output_type": "stream",
     "text": [
      "********************\n"
     ]
    },
    {
     "data": {
      "text/plain": [
       "<bound method IndexOpsMixin.value_counts of id\n",
       "111903    4.0\n",
       "521435    5.0\n",
       "484488    2.0\n",
       "529639    5.0\n",
       "589943    6.0\n",
       "         ... \n",
       "359783    3.0\n",
       "152315    1.0\n",
       "117952    1.0\n",
       "435829    5.0\n",
       "305711    5.0\n",
       "Name: day, Length: 540000, dtype: float64>"
      ]
     },
     "metadata": {},
     "output_type": "display_data"
    },
    {
     "name": "stdout",
     "output_type": "stream",
     "text": [
      "********************\n"
     ]
    },
    {
     "data": {
      "text/plain": [
       "<bound method IndexOpsMixin.value_counts of id\n",
       "111903     9.0\n",
       "521435     1.0\n",
       "484488     8.0\n",
       "529639     2.0\n",
       "589943     8.0\n",
       "          ... \n",
       "359783    11.0\n",
       "152315     5.0\n",
       "117952     6.0\n",
       "435829     6.0\n",
       "305711     7.0\n",
       "Name: month, Length: 540000, dtype: float64>"
      ]
     },
     "metadata": {},
     "output_type": "display_data"
    },
    {
     "name": "stdout",
     "output_type": "stream",
     "text": [
      "********************\n"
     ]
    }
   ],
   "source": [
    "for col in X_train.columns:\n",
    "    display(X_train[col].value_counts)\n",
    "    print(\"*\"*20)"
   ]
  },
  {
   "cell_type": "code",
   "execution_count": 15,
   "metadata": {},
   "outputs": [
    {
     "data": {
      "text/html": [
       "<div>\n",
       "<style scoped>\n",
       "    .dataframe tbody tr th:only-of-type {\n",
       "        vertical-align: middle;\n",
       "    }\n",
       "\n",
       "    .dataframe tbody tr th {\n",
       "        vertical-align: top;\n",
       "    }\n",
       "\n",
       "    .dataframe thead th {\n",
       "        text-align: right;\n",
       "    }\n",
       "</style>\n",
       "<table border=\"1\" class=\"dataframe\">\n",
       "  <thead>\n",
       "    <tr style=\"text-align: right;\">\n",
       "      <th></th>\n",
       "      <th>bin_3</th>\n",
       "      <th>bin_4</th>\n",
       "      <th>nom_0</th>\n",
       "      <th>nom_1</th>\n",
       "      <th>nom_2</th>\n",
       "      <th>nom_3</th>\n",
       "      <th>nom_4</th>\n",
       "      <th>nom_5</th>\n",
       "      <th>nom_6</th>\n",
       "      <th>nom_7</th>\n",
       "      <th>nom_8</th>\n",
       "      <th>nom_9</th>\n",
       "      <th>ord_1</th>\n",
       "      <th>ord_2</th>\n",
       "      <th>ord_3</th>\n",
       "      <th>ord_4</th>\n",
       "      <th>ord_5</th>\n",
       "    </tr>\n",
       "  </thead>\n",
       "  <tbody>\n",
       "    <tr>\n",
       "      <th>count</th>\n",
       "      <td>523821</td>\n",
       "      <td>523757</td>\n",
       "      <td>523586</td>\n",
       "      <td>523710</td>\n",
       "      <td>523725</td>\n",
       "      <td>523642</td>\n",
       "      <td>523754</td>\n",
       "      <td>524031</td>\n",
       "      <td>523727</td>\n",
       "      <td>523823</td>\n",
       "      <td>524017</td>\n",
       "      <td>523725</td>\n",
       "      <td>523778</td>\n",
       "      <td>523694</td>\n",
       "      <td>523891</td>\n",
       "      <td>523867</td>\n",
       "      <td>524095</td>\n",
       "    </tr>\n",
       "    <tr>\n",
       "      <th>unique</th>\n",
       "      <td>2</td>\n",
       "      <td>2</td>\n",
       "      <td>3</td>\n",
       "      <td>6</td>\n",
       "      <td>6</td>\n",
       "      <td>6</td>\n",
       "      <td>4</td>\n",
       "      <td>1220</td>\n",
       "      <td>1519</td>\n",
       "      <td>222</td>\n",
       "      <td>222</td>\n",
       "      <td>2218</td>\n",
       "      <td>5</td>\n",
       "      <td>6</td>\n",
       "      <td>15</td>\n",
       "      <td>26</td>\n",
       "      <td>190</td>\n",
       "    </tr>\n",
       "    <tr>\n",
       "      <th>top</th>\n",
       "      <td>F</td>\n",
       "      <td>N</td>\n",
       "      <td>Red</td>\n",
       "      <td>Triangle</td>\n",
       "      <td>Hamster</td>\n",
       "      <td>India</td>\n",
       "      <td>Theremin</td>\n",
       "      <td>423976253</td>\n",
       "      <td>ea8c5e181</td>\n",
       "      <td>c79d2197d</td>\n",
       "      <td>15f03b1f4</td>\n",
       "      <td>8f3276a6e</td>\n",
       "      <td>Novice</td>\n",
       "      <td>Freezing</td>\n",
       "      <td>n</td>\n",
       "      <td>N</td>\n",
       "      <td>Fl</td>\n",
       "    </tr>\n",
       "    <tr>\n",
       "      <th>freq</th>\n",
       "      <td>329627</td>\n",
       "      <td>281108</td>\n",
       "      <td>291147</td>\n",
       "      <td>147917</td>\n",
       "      <td>148355</td>\n",
       "      <td>148572</td>\n",
       "      <td>277705</td>\n",
       "      <td>867</td>\n",
       "      <td>728</td>\n",
       "      <td>4537</td>\n",
       "      <td>4518</td>\n",
       "      <td>523</td>\n",
       "      <td>144512</td>\n",
       "      <td>128452</td>\n",
       "      <td>64015</td>\n",
       "      <td>35891</td>\n",
       "      <td>9503</td>\n",
       "    </tr>\n",
       "  </tbody>\n",
       "</table>\n",
       "</div>"
      ],
      "text/plain": [
       "         bin_3   bin_4   nom_0     nom_1    nom_2   nom_3     nom_4  \\\n",
       "count   523821  523757  523586    523710   523725  523642    523754   \n",
       "unique       2       2       3         6        6       6         4   \n",
       "top          F       N     Red  Triangle  Hamster   India  Theremin   \n",
       "freq    329627  281108  291147    147917   148355  148572    277705   \n",
       "\n",
       "            nom_5      nom_6      nom_7      nom_8      nom_9   ord_1  \\\n",
       "count      524031     523727     523823     524017     523725  523778   \n",
       "unique       1220       1519        222        222       2218       5   \n",
       "top     423976253  ea8c5e181  c79d2197d  15f03b1f4  8f3276a6e  Novice   \n",
       "freq          867        728       4537       4518        523  144512   \n",
       "\n",
       "           ord_2   ord_3   ord_4   ord_5  \n",
       "count     523694  523891  523867  524095  \n",
       "unique         6      15      26     190  \n",
       "top     Freezing       n       N      Fl  \n",
       "freq      128452   64015   35891    9503  "
      ]
     },
     "execution_count": 15,
     "metadata": {},
     "output_type": "execute_result"
    }
   ],
   "source": [
    "X_train.describe(include='O')"
   ]
  },
  {
   "cell_type": "code",
   "execution_count": null,
   "metadata": {},
   "outputs": [],
   "source": []
  },
  {
   "cell_type": "code",
   "execution_count": null,
   "metadata": {},
   "outputs": [],
   "source": []
  },
  {
   "cell_type": "markdown",
   "metadata": {},
   "source": [
    "## Data Preprocessing\n",
    "\n",
    "Let's outline our data processing strategy!"
   ]
  },
  {
   "cell_type": "markdown",
   "metadata": {},
   "source": [
    "#### Discuss:\n",
    "\n",
    "Some questions we can ask ourselves:\n",
    "\n",
    "> How will we handle any null values? How will we handle any categorical features? What if our categorical features have 20+ unique values in each column? How will we scale our features?"
   ]
  },
  {
   "cell_type": "markdown",
   "metadata": {},
   "source": [
    "- start with simple imputer to fill with all \"Unknown\"\n",
    "- categories with >20 uniques: one-hot-encode to make binary\n",
    "- categories with <20 uniques ...???\n",
    "    - we could drop those columns\n",
    "    - we could build indicator\n",
    "    - we could frequency encode\n"
   ]
  },
  {
   "cell_type": "code",
   "execution_count": 17,
   "metadata": {},
   "outputs": [],
   "source": [
    "used_cols = []\n",
    "for col in X_train.columns:\n",
    "    if len(X_train[col].unique()) <  30:\n",
    "        used_cols.append(col)"
   ]
  },
  {
   "cell_type": "code",
   "execution_count": 19,
   "metadata": {
    "scrolled": true
   },
   "outputs": [
    {
     "data": {
      "text/plain": [
       "['bin_0',\n",
       " 'bin_1',\n",
       " 'bin_2',\n",
       " 'bin_3',\n",
       " 'bin_4',\n",
       " 'nom_0',\n",
       " 'nom_1',\n",
       " 'nom_2',\n",
       " 'nom_3',\n",
       " 'nom_4',\n",
       " 'ord_0',\n",
       " 'ord_1',\n",
       " 'ord_2',\n",
       " 'ord_3',\n",
       " 'ord_4',\n",
       " 'day',\n",
       " 'month']"
      ]
     },
     "execution_count": 19,
     "metadata": {},
     "output_type": "execute_result"
    }
   ],
   "source": [
    "used_cols"
   ]
  },
  {
   "cell_type": "code",
   "execution_count": 20,
   "metadata": {},
   "outputs": [
    {
     "name": "stdout",
     "output_type": "stream",
     "text": [
      "<class 'pandas.core.frame.DataFrame'>\n",
      "Int64Index: 540000 entries, 111903 to 305711\n",
      "Data columns (total 17 columns):\n",
      " #   Column  Non-Null Count   Dtype  \n",
      "---  ------  --------------   -----  \n",
      " 0   bin_0   523875 non-null  float64\n",
      " 1   bin_1   523788 non-null  float64\n",
      " 2   bin_2   523842 non-null  float64\n",
      " 3   bin_3   523821 non-null  object \n",
      " 4   bin_4   523757 non-null  object \n",
      " 5   nom_0   523586 non-null  object \n",
      " 6   nom_1   523710 non-null  object \n",
      " 7   nom_2   523725 non-null  object \n",
      " 8   nom_3   523642 non-null  object \n",
      " 9   nom_4   523754 non-null  object \n",
      " 10  ord_0   523528 non-null  float64\n",
      " 11  ord_1   523778 non-null  object \n",
      " 12  ord_2   523694 non-null  object \n",
      " 13  ord_3   523891 non-null  object \n",
      " 14  ord_4   523867 non-null  object \n",
      " 15  day     523850 non-null  float64\n",
      " 16  month   523817 non-null  float64\n",
      "dtypes: float64(6), object(11)\n",
      "memory usage: 74.2+ MB\n"
     ]
    }
   ],
   "source": [
    "X_train[used_cols].info()"
   ]
  },
  {
   "cell_type": "markdown",
   "metadata": {},
   "source": [
    "Let's build a column transformer to define our data processing steps. Note that it's typically easiest to create list-like arrays of column names to match up with each processing step. Also - don't repeat columns! SKLearn's ColumnTransformer needs the lists of features it's processing to be mutually exclusive.\n",
    "\n",
    "Reference: https://scikit-learn.org/stable/auto_examples/compose/plot_column_transformer_mixed_types.html"
   ]
  },
  {
   "cell_type": "code",
   "execution_count": 42,
   "metadata": {},
   "outputs": [],
   "source": [
    "# Your code here\n",
    "\n",
    "binary_objects = ['bin_3', 'bin_4']\n",
    "nom_objects = [col for col in used_cols if 'nom_' in col]\n",
    "ord_objects = ['ord_1', 'ord_2', 'ord_3', 'ord_4']"
   ]
  },
  {
   "cell_type": "code",
   "execution_count": 43,
   "metadata": {},
   "outputs": [],
   "source": [
    "obj_cols = [col for col in used_cols if X_train[col].dtype == 'O']"
   ]
  },
  {
   "cell_type": "code",
   "execution_count": 44,
   "metadata": {},
   "outputs": [],
   "source": [
    "obj_transformer = Pipeline(steps=[\n",
    "    (\"obj_imputer\", SimpleImputer(strategy='constant', fill_value='Unknown')),\n",
    "    ('ohe', OneHotEncoder(drop=['Unknown']*len(obj_cols))),\n",
    "])"
   ]
  },
  {
   "cell_type": "code",
   "execution_count": 45,
   "metadata": {},
   "outputs": [],
   "source": [
    "num_cols = [col for col in used_cols if X_train[col].dtype != 'O']"
   ]
  },
  {
   "cell_type": "code",
   "execution_count": 46,
   "metadata": {},
   "outputs": [],
   "source": [
    "num_transformer = Pipeline(steps=[\n",
    "    ('num_imputer', SimpleImputer(strategy='most_frequent')),\n",
    "    ('scaler', MinMaxScaler())\n",
    "])"
   ]
  },
  {
   "cell_type": "code",
   "execution_count": 47,
   "metadata": {},
   "outputs": [],
   "source": [
    "preprocessor = ColumnTransformer(transformers=[\n",
    "    ('num_trans', num_transformer, num_cols),\n",
    "    ('obj_trans', obj_transformer, obj_cols)\n",
    "])"
   ]
  },
  {
   "cell_type": "code",
   "execution_count": 48,
   "metadata": {},
   "outputs": [
    {
     "data": {
      "text/plain": [
       "<540000x87 sparse matrix of type '<class 'numpy.float64'>'\n",
       "\twith 7327930 stored elements in Compressed Sparse Row format>"
      ]
     },
     "execution_count": 48,
     "metadata": {},
     "output_type": "execute_result"
    }
   ],
   "source": [
    "preprocessor.fit_transform(X_train)"
   ]
  },
  {
   "cell_type": "code",
   "execution_count": null,
   "metadata": {},
   "outputs": [],
   "source": []
  },
  {
   "cell_type": "markdown",
   "metadata": {},
   "source": [
    "## Baseline Model\n",
    "\n",
    "Let's find out how hard our problem is, by creating a model-less baseline!\n",
    "\n",
    "If we use SKLearn's `DummyClassifier`, we can create our first full Pipeline!\n",
    "\n",
    "Reference: https://scikit-learn.org/stable/modules/compose.html#pipeline"
   ]
  },
  {
   "cell_type": "code",
   "execution_count": 49,
   "metadata": {},
   "outputs": [],
   "source": [
    "# Your code here\n",
    "\n",
    "clf = Pipeline(steps=[\n",
    "    ('preprocessor', preprocessor),\n",
    "    ('modelless_baseline', DummyClassifier(strategy='prior'))\n",
    "])"
   ]
  },
  {
   "cell_type": "code",
   "execution_count": 50,
   "metadata": {},
   "outputs": [],
   "source": [
    "clf.fit(X_train, y_train)\n",
    "\n",
    "train_preds = clf.predict(X_train)"
   ]
  },
  {
   "cell_type": "code",
   "execution_count": 51,
   "metadata": {},
   "outputs": [
    {
     "data": {
      "text/plain": [
       "array([0, 0, 0, ..., 0, 0, 0], dtype=int64)"
      ]
     },
     "execution_count": 51,
     "metadata": {},
     "output_type": "execute_result"
    }
   ],
   "source": [
    "train_preds"
   ]
  },
  {
   "cell_type": "code",
   "execution_count": 52,
   "metadata": {},
   "outputs": [],
   "source": [
    "cv_results = cross_validate(clf, X_train, y_train, cv=5)"
   ]
  },
  {
   "cell_type": "code",
   "execution_count": 55,
   "metadata": {},
   "outputs": [
    {
     "data": {
      "text/plain": [
       "array([0.81247222, 0.81247222, 0.81247222, 0.81247222, 0.81247222])"
      ]
     },
     "execution_count": 55,
     "metadata": {},
     "output_type": "execute_result"
    }
   ],
   "source": [
    "cv_results['test_score']"
   ]
  },
  {
   "cell_type": "code",
   "execution_count": 56,
   "metadata": {},
   "outputs": [
    {
     "data": {
      "text/plain": [
       "<sklearn.metrics._plot.confusion_matrix.ConfusionMatrixDisplay at 0x17dd130b040>"
      ]
     },
     "execution_count": 56,
     "metadata": {},
     "output_type": "execute_result"
    },
    {
     "data": {
      "image/png": "[encoded data removed]",
      "text/plain": [
       "<Figure size 432x288 with 2 Axes>"
      ]
     },
     "metadata": {
      "needs_background": "light"
     },
     "output_type": "display_data"
    }
   ],
   "source": [
    "plot_confusion_matrix(clf, X_train, y_train)"
   ]
  },
  {
   "cell_type": "markdown",
   "metadata": {},
   "source": [
    "#### Evaluate:\n",
    "\n",
    "- \n"
   ]
  },
  {
   "cell_type": "markdown",
   "metadata": {},
   "source": [
    "## Logistic Regression\n",
    "\n",
    "Let's build an initial logistic regression model, using the same preprocessing steps:"
   ]
  },
  {
   "cell_type": "code",
   "execution_count": null,
   "metadata": {},
   "outputs": [],
   "source": [
    "# Your code here"
   ]
  },
  {
   "cell_type": "code",
   "execution_count": 61,
   "metadata": {},
   "outputs": [],
   "source": [
    "lrm = Pipeline(steps=[\n",
    "    ('preprocessor', preprocessor),\n",
    "    ('logistic_model', LogisticRegression(random_state=42, max_iter=500))\n",
    "])"
   ]
  },
  {
   "cell_type": "code",
   "execution_count": 62,
   "metadata": {},
   "outputs": [],
   "source": [
    "lrm.fit(X_train, y_train)\n",
    "\n",
    "train_preds2 = lrm.predict(X_train)"
   ]
  },
  {
   "cell_type": "code",
   "execution_count": 63,
   "metadata": {},
   "outputs": [
    {
     "data": {
      "text/plain": [
       "array([0, 0, 0, ..., 0, 0, 0], dtype=int64)"
      ]
     },
     "execution_count": 63,
     "metadata": {},
     "output_type": "execute_result"
    }
   ],
   "source": [
    "train_preds2"
   ]
  },
  {
   "cell_type": "code",
   "execution_count": 67,
   "metadata": {},
   "outputs": [],
   "source": [
    "cv_results2 = cross_validate(lrm, X_train, y_train, scoring='roc_auc', n_jobs=-1)"
   ]
  },
  {
   "cell_type": "code",
   "execution_count": 68,
   "metadata": {},
   "outputs": [
    {
     "data": {
      "text/plain": [
       "array([0.73592697, 0.73430216, 0.73870169, 0.73259737, 0.73553261])"
      ]
     },
     "execution_count": 68,
     "metadata": {},
     "output_type": "execute_result"
    }
   ],
   "source": [
    "cv_results2['test_score']"
   ]
  },
  {
   "cell_type": "code",
   "execution_count": 69,
   "metadata": {},
   "outputs": [
    {
     "data": {
      "text/plain": [
       "<sklearn.metrics._plot.roc_curve.RocCurveDisplay at 0x17dd5407460>"
      ]
     },
     "execution_count": 69,
     "metadata": {},
     "output_type": "execute_result"
    },
    {
     "data": {
      "image/png": "[encoded data removed]",
      "text/plain": [
       "<Figure size 432x288 with 1 Axes>"
      ]
     },
     "metadata": {
      "needs_background": "light"
     },
     "output_type": "display_data"
    }
   ],
   "source": [
    "plot_roc_curve(lrm, X_train, y_train)"
   ]
  },
  {
   "cell_type": "code",
   "execution_count": 70,
   "metadata": {
    "scrolled": true
   },
   "outputs": [
    {
     "data": {
      "text/plain": [
       "<sklearn.metrics._plot.confusion_matrix.ConfusionMatrixDisplay at 0x17dd11b8dc0>"
      ]
     },
     "execution_count": 70,
     "metadata": {},
     "output_type": "execute_result"
    },
    {
     "data": {
      "image/png": "[encoded data removed]",
      "text/plain": [
       "<Figure size 432x288 with 2 Axes>"
      ]
     },
     "metadata": {
      "needs_background": "light"
     },
     "output_type": "display_data"
    }
   ],
   "source": [
    "plot_confusion_matrix(lrm, X_train, y_train)"
   ]
  },
  {
   "cell_type": "code",
   "execution_count": null,
   "metadata": {},
   "outputs": [],
   "source": []
  },
  {
   "cell_type": "markdown",
   "metadata": {},
   "source": [
    "#### Evaluate:\n",
    "\n",
    "- \n"
   ]
  },
  {
   "cell_type": "markdown",
   "metadata": {},
   "source": [
    "## Iterate\n",
    "\n",
    "Let's either change something in our preprocessor, change something about our logistic regression model set up, or change the features we're using, then try again."
   ]
  },
  {
   "cell_type": "code",
   "execution_count": 73,
   "metadata": {},
   "outputs": [],
   "source": [
    "# Your code here"
   ]
  },
  {
   "cell_type": "code",
   "execution_count": null,
   "metadata": {},
   "outputs": [],
   "source": []
  },
  {
   "cell_type": "markdown",
   "metadata": {},
   "source": [
    "#### Evaluate:\n",
    "\n",
    "- \n"
   ]
  },
  {
   "cell_type": "markdown",
   "metadata": {},
   "source": [
    "## Validate\n",
    "\n",
    "How does our best model (so far) perform on our holdout val set?"
   ]
  },
  {
   "cell_type": "code",
   "execution_count": 71,
   "metadata": {},
   "outputs": [],
   "source": [
    "# Your code here\n",
    "val_probs = lrm.predict_proba(X_val)[:,1]"
   ]
  },
  {
   "cell_type": "code",
   "execution_count": 72,
   "metadata": {},
   "outputs": [
    {
     "data": {
      "text/plain": [
       "0.7380504131558338"
      ]
     },
     "execution_count": 72,
     "metadata": {},
     "output_type": "execute_result"
    }
   ],
   "source": [
    "roc_auc_score(y_val, val_probs)"
   ]
  },
  {
   "cell_type": "markdown",
   "metadata": {},
   "source": [
    "#### Discuss:\n",
    "\n",
    "- \n"
   ]
  },
  {
   "cell_type": "markdown",
   "metadata": {},
   "source": [
    "## Resources\n",
    "\n",
    "Check out Aurélien Geron's notebook of an [end-to-end ml project](https://github.com/ageron/handson-ml2/blob/master/02_end_to_end_machine_learning_project.ipynb) on his GitHub repo based around his book [_Hands-On Machine Learning with Scikit-Learn and TensorFlow: Concepts, Tools, and Techniques to Build Intelligent Systems (2nd ed)_](https://www.oreilly.com/library/view/hands-on-machine-learning/9781491962282/)"
   ]
  },
  {
   "cell_type": "markdown",
   "metadata": {},
   "source": [
    "## Level Up - What to do with too many options in categorical columns?\n",
    "\n",
    "\n",
    "New library you can install with MORE encoding techniques, beyond one-hot encoding! https://contrib.scikit-learn.org/category_encoders/\n",
    "\n",
    "- (these work within SKLearn pipelines, since they're written in the SKLearn style!)\n"
   ]
  }
 ],
 "metadata": {
  "kernelspec": {
   "display_name": "Python (learn-env)",
   "language": "python",
   "name": "learn-env"
  },
  "language_info": {
   "codemirror_mode": {
    "name": "ipython",
    "version": 3
   },
   "file_extension": ".py",
   "mimetype": "text/x-python",
   "name": "python",
   "nbconvert_exporter": "python",
   "pygments_lexer": "ipython3",
   "version": "3.8.5"
  }
 },
 "nbformat": 4,
 "nbformat_minor": 4
}
