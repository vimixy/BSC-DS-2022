{
 "cells": [
  {
   "cell_type": "markdown",
   "metadata": {},
   "source": [
    "# Churn Case Study\n",
    "\n",
    "## Context\n",
    "\n",
    "\"Predict behavior to retain customers. You can analyze all relevant customer data and develop focused customer retention programs.\" [IBM Sample Data Sets]\n",
    "\n",
    "\n",
    "<img src=\"https://images.pexels.com/photos/3078/home-dialer-siemens-telephone.jpg?auto=compress&cs=tinysrgb&dpr=2&h=750&w=1260\" style=\"width:400px\">\n",
    "\n",
    "**Client**: Telco Company in the USA offering triple play (phone, internet and TV).\n",
    "\n",
    "They want a better way to spot potential churning customers and suggested actions what to do."
   ]
  },
  {
   "cell_type": "markdown",
   "metadata": {},
   "source": [
    "## Business problem\n",
    "\n",
    "#### Stakeholder:\n",
    "\n",
    "- Sales/customer retention department\n",
    "- Non-technical stakeholder\n",
    "\n",
    "\n",
    "#### True business problem:\n",
    "\n",
    "- Predict wether a customer churns in the next month or not\n",
    "- Explore trends that lead to customer churn \n",
    "    - Explore our FEATURES - both before modeling, and using feature importnace\n",
    "\n",
    "\n",
    "#### Deliverables: Inference or Prediction?\n",
    "\n",
    "- Let's try to balance both.\n",
    "    - We'll try to balance complexity with interpretability\n",
    "\n",
    "\n",
    "#### Context:\n",
    "\n",
    "- **False negative** Model predicts churn but they stay\n",
    "    - **Outcome**: Waste time/money/effort - might get some customers used to special treatment, which could drive them away when that stops\n",
    "- **False positive** Model predicts stay but churn\n",
    "    - **Outcome**: Lose customer, and we did nothing to stop them\n",
    "    \n",
    "Would prefer reducing false positives over false negatives"
   ]
  },
  {
   "cell_type": "markdown",
   "metadata": {},
   "source": [
    "### Evaluation Metric\n",
    "Which metric would make sense to primarily use as we evaluate our models?\n",
    "\n",
    "- **Accuracy** \n",
    "    - balance the two kinds of errors (but is impratical with imbalanced targets)\n",
    "    \n",
    "    \n",
    "- **Precision**\n",
    "    - helps reduce false positves\n",
    "    \n",
    "    \n",
    "- Recall\n",
    "    - helps reduce false negatives\n",
    "    \n",
    "    \n",
    "- F1-Score\n",
    "    - balances recall and precesion (and is better than accuracy with imbalanced targets)\n",
    "    \n",
    "    \n",
    "- **ROC-AUC**\n",
    "    - helps focus on better probability outputs (makes sure our predicted probabilites are better)"
   ]
  },
  {
   "cell_type": "markdown",
   "metadata": {},
   "source": [
    "## Data Understanding"
   ]
  },
  {
   "cell_type": "code",
   "execution_count": 1,
   "metadata": {},
   "outputs": [],
   "source": [
    "# Initial imports\n",
    "import numpy as np\n",
    "import pandas as pd\n",
    "import matplotlib.pyplot as plt\n",
    "import seaborn as sns\n",
    "\n",
    "from sklearn.model_selection import train_test_split"
   ]
  },
  {
   "cell_type": "code",
   "execution_count": 2,
   "metadata": {},
   "outputs": [],
   "source": [
    "# Load dataset\n",
    "url_link = 'https://docs.google.com/spreadsheets/d/1TAWfdKnWYiCzKUeDyGL6NzIOv7AxFt_Sfzzax464_FQ/export?format=csv&gid=882919979'\n",
    "telco = pd.read_csv(url_link)\n",
    "\n",
    "telco = telco.dropna()\n",
    "\n",
    "# Train-test-split\n",
    "X_train, X_test, y_train, y_test = train_test_split(\n",
    "    telco.drop(columns=['customerID','Churn']), \n",
    "    np.where(telco.Churn ==\"Yes\", 1, 0),\n",
    "    test_size=0.33, random_state=42)\n"
   ]
  },
  {
   "cell_type": "code",
   "execution_count": 3,
   "metadata": {},
   "outputs": [
    {
     "data": {
      "text/html": [
       "<div>\n",
       "<style scoped>\n",
       "    .dataframe tbody tr th:only-of-type {\n",
       "        vertical-align: middle;\n",
       "    }\n",
       "\n",
       "    .dataframe tbody tr th {\n",
       "        vertical-align: top;\n",
       "    }\n",
       "\n",
       "    .dataframe thead th {\n",
       "        text-align: right;\n",
       "    }\n",
       "</style>\n",
       "<table border=\"1\" class=\"dataframe\">\n",
       "  <thead>\n",
       "    <tr style=\"text-align: right;\">\n",
       "      <th></th>\n",
       "      <th>gender</th>\n",
       "      <th>SeniorCitizen</th>\n",
       "      <th>MaritalStatus</th>\n",
       "      <th>Dependents</th>\n",
       "      <th>tenure</th>\n",
       "      <th>PhoneService</th>\n",
       "      <th>MultipleLines</th>\n",
       "      <th>InternetService</th>\n",
       "      <th>OnlineSecurity</th>\n",
       "      <th>OnlineBackup</th>\n",
       "      <th>...</th>\n",
       "      <th>TotalEveCalls</th>\n",
       "      <th>TotalNightMinutes</th>\n",
       "      <th>TotalNightCalls</th>\n",
       "      <th>TotalIntlMinutes</th>\n",
       "      <th>TotalIntlCalls</th>\n",
       "      <th>CustomerServiceCalls</th>\n",
       "      <th>TotalCall</th>\n",
       "      <th>TotalHighBandwidthMinutes</th>\n",
       "      <th>TotalHighLatencyMinutes</th>\n",
       "      <th>TotalRevenue</th>\n",
       "    </tr>\n",
       "  </thead>\n",
       "  <tbody>\n",
       "    <tr>\n",
       "      <th>3138</th>\n",
       "      <td>Male</td>\n",
       "      <td>0</td>\n",
       "      <td>No</td>\n",
       "      <td>No</td>\n",
       "      <td>1</td>\n",
       "      <td>Yes</td>\n",
       "      <td>No</td>\n",
       "      <td>No</td>\n",
       "      <td>No internet service</td>\n",
       "      <td>No internet service</td>\n",
       "      <td>...</td>\n",
       "      <td>85</td>\n",
       "      <td>261.6</td>\n",
       "      <td>105</td>\n",
       "      <td>12.4</td>\n",
       "      <td>5</td>\n",
       "      <td>0</td>\n",
       "      <td>283</td>\n",
       "      <td>0</td>\n",
       "      <td>0</td>\n",
       "      <td>19.1</td>\n",
       "    </tr>\n",
       "    <tr>\n",
       "      <th>626</th>\n",
       "      <td>Male</td>\n",
       "      <td>0</td>\n",
       "      <td>Yes</td>\n",
       "      <td>Yes</td>\n",
       "      <td>58</td>\n",
       "      <td>Yes</td>\n",
       "      <td>No</td>\n",
       "      <td>Fiber optic</td>\n",
       "      <td>No</td>\n",
       "      <td>Yes</td>\n",
       "      <td>...</td>\n",
       "      <td>108</td>\n",
       "      <td>183.8</td>\n",
       "      <td>77</td>\n",
       "      <td>11.8</td>\n",
       "      <td>7</td>\n",
       "      <td>1</td>\n",
       "      <td>273</td>\n",
       "      <td>2689</td>\n",
       "      <td>161</td>\n",
       "      <td>5305.1</td>\n",
       "    </tr>\n",
       "    <tr>\n",
       "      <th>347</th>\n",
       "      <td>Male</td>\n",
       "      <td>0</td>\n",
       "      <td>Yes</td>\n",
       "      <td>Yes</td>\n",
       "      <td>1</td>\n",
       "      <td>Yes</td>\n",
       "      <td>No</td>\n",
       "      <td>No</td>\n",
       "      <td>No internet service</td>\n",
       "      <td>No internet service</td>\n",
       "      <td>...</td>\n",
       "      <td>92</td>\n",
       "      <td>185.3</td>\n",
       "      <td>120</td>\n",
       "      <td>7.6</td>\n",
       "      <td>3</td>\n",
       "      <td>1</td>\n",
       "      <td>344</td>\n",
       "      <td>0</td>\n",
       "      <td>0</td>\n",
       "      <td>19.9</td>\n",
       "    </tr>\n",
       "    <tr>\n",
       "      <th>2130</th>\n",
       "      <td>Male</td>\n",
       "      <td>0</td>\n",
       "      <td>No</td>\n",
       "      <td>No</td>\n",
       "      <td>4</td>\n",
       "      <td>Yes</td>\n",
       "      <td>No</td>\n",
       "      <td>Fiber optic</td>\n",
       "      <td>No</td>\n",
       "      <td>No</td>\n",
       "      <td>...</td>\n",
       "      <td>142</td>\n",
       "      <td>107.3</td>\n",
       "      <td>84</td>\n",
       "      <td>12.2</td>\n",
       "      <td>2</td>\n",
       "      <td>0</td>\n",
       "      <td>306</td>\n",
       "      <td>666</td>\n",
       "      <td>173</td>\n",
       "      <td>299.2</td>\n",
       "    </tr>\n",
       "    <tr>\n",
       "      <th>2047</th>\n",
       "      <td>Female</td>\n",
       "      <td>0</td>\n",
       "      <td>No</td>\n",
       "      <td>No</td>\n",
       "      <td>1</td>\n",
       "      <td>Yes</td>\n",
       "      <td>No</td>\n",
       "      <td>No</td>\n",
       "      <td>No internet service</td>\n",
       "      <td>No internet service</td>\n",
       "      <td>...</td>\n",
       "      <td>128</td>\n",
       "      <td>186.0</td>\n",
       "      <td>83</td>\n",
       "      <td>7.4</td>\n",
       "      <td>3</td>\n",
       "      <td>0</td>\n",
       "      <td>291</td>\n",
       "      <td>0</td>\n",
       "      <td>0</td>\n",
       "      <td>19.8</td>\n",
       "    </tr>\n",
       "  </tbody>\n",
       "</table>\n",
       "<p>5 rows × 33 columns</p>\n",
       "</div>"
      ],
      "text/plain": [
       "      gender  SeniorCitizen MaritalStatus Dependents  tenure PhoneService  \\\n",
       "3138    Male              0            No         No       1          Yes   \n",
       "626     Male              0           Yes        Yes      58          Yes   \n",
       "347     Male              0           Yes        Yes       1          Yes   \n",
       "2130    Male              0            No         No       4          Yes   \n",
       "2047  Female              0            No         No       1          Yes   \n",
       "\n",
       "     MultipleLines InternetService       OnlineSecurity         OnlineBackup  \\\n",
       "3138            No              No  No internet service  No internet service   \n",
       "626             No     Fiber optic                   No                  Yes   \n",
       "347             No              No  No internet service  No internet service   \n",
       "2130            No     Fiber optic                   No                   No   \n",
       "2047            No              No  No internet service  No internet service   \n",
       "\n",
       "      ... TotalEveCalls TotalNightMinutes TotalNightCalls TotalIntlMinutes  \\\n",
       "3138  ...            85             261.6             105             12.4   \n",
       "626   ...           108             183.8              77             11.8   \n",
       "347   ...            92             185.3             120              7.6   \n",
       "2130  ...           142             107.3              84             12.2   \n",
       "2047  ...           128             186.0              83              7.4   \n",
       "\n",
       "     TotalIntlCalls CustomerServiceCalls TotalCall TotalHighBandwidthMinutes  \\\n",
       "3138              5                    0       283                         0   \n",
       "626               7                    1       273                      2689   \n",
       "347               3                    1       344                         0   \n",
       "2130              2                    0       306                       666   \n",
       "2047              3                    0       291                         0   \n",
       "\n",
       "     TotalHighLatencyMinutes  TotalRevenue  \n",
       "3138                       0          19.1  \n",
       "626                      161        5305.1  \n",
       "347                        0          19.9  \n",
       "2130                     173         299.2  \n",
       "2047                       0          19.8  \n",
       "\n",
       "[5 rows x 33 columns]"
      ]
     },
     "execution_count": 3,
     "metadata": {},
     "output_type": "execute_result"
    }
   ],
   "source": [
    "X_train.head()"
   ]
  },
  {
   "cell_type": "code",
   "execution_count": 4,
   "metadata": {},
   "outputs": [
    {
     "name": "stdout",
     "output_type": "stream",
     "text": [
      "<class 'pandas.core.frame.DataFrame'>\n",
      "Int64Index: 2229 entries, 3138 to 3179\n",
      "Data columns (total 33 columns):\n",
      " #   Column                     Non-Null Count  Dtype  \n",
      "---  ------                     --------------  -----  \n",
      " 0   gender                     2229 non-null   object \n",
      " 1   SeniorCitizen              2229 non-null   int64  \n",
      " 2   MaritalStatus              2229 non-null   object \n",
      " 3   Dependents                 2229 non-null   object \n",
      " 4   tenure                     2229 non-null   int64  \n",
      " 5   PhoneService               2229 non-null   object \n",
      " 6   MultipleLines              2229 non-null   object \n",
      " 7   InternetService            2229 non-null   object \n",
      " 8   OnlineSecurity             2229 non-null   object \n",
      " 9   OnlineBackup               2229 non-null   object \n",
      " 10  DeviceProtection           2229 non-null   object \n",
      " 11  TechSupport                2229 non-null   object \n",
      " 12  StreamingTV                2229 non-null   object \n",
      " 13  StreamingMovies            2229 non-null   object \n",
      " 14  Contract                   2229 non-null   object \n",
      " 15  PaperlessBilling           2229 non-null   object \n",
      " 16  PaymentMethod              2229 non-null   object \n",
      " 17  InternationalPlan          2229 non-null   object \n",
      " 18  VoiceMailPlan              2229 non-null   object \n",
      " 19  NumbervMailMessages        2229 non-null   int64  \n",
      " 20  TotalDayMinutes            2229 non-null   float64\n",
      " 21  TotalDayCalls              2229 non-null   int64  \n",
      " 22  TotalEveMinutes            2229 non-null   float64\n",
      " 23  TotalEveCalls              2229 non-null   int64  \n",
      " 24  TotalNightMinutes          2229 non-null   float64\n",
      " 25  TotalNightCalls            2229 non-null   int64  \n",
      " 26  TotalIntlMinutes           2229 non-null   float64\n",
      " 27  TotalIntlCalls             2229 non-null   int64  \n",
      " 28  CustomerServiceCalls       2229 non-null   int64  \n",
      " 29  TotalCall                  2229 non-null   int64  \n",
      " 30  TotalHighBandwidthMinutes  2229 non-null   int64  \n",
      " 31  TotalHighLatencyMinutes    2229 non-null   int64  \n",
      " 32  TotalRevenue               2229 non-null   float64\n",
      "dtypes: float64(5), int64(11), object(17)\n",
      "memory usage: 592.1+ KB\n"
     ]
    }
   ],
   "source": [
    "X_train.info()"
   ]
  },
  {
   "cell_type": "code",
   "execution_count": 5,
   "metadata": {},
   "outputs": [
    {
     "data": {
      "text/html": [
       "<div>\n",
       "<style scoped>\n",
       "    .dataframe tbody tr th:only-of-type {\n",
       "        vertical-align: middle;\n",
       "    }\n",
       "\n",
       "    .dataframe tbody tr th {\n",
       "        vertical-align: top;\n",
       "    }\n",
       "\n",
       "    .dataframe thead th {\n",
       "        text-align: right;\n",
       "    }\n",
       "</style>\n",
       "<table border=\"1\" class=\"dataframe\">\n",
       "  <thead>\n",
       "    <tr style=\"text-align: right;\">\n",
       "      <th></th>\n",
       "      <th>SeniorCitizen</th>\n",
       "      <th>tenure</th>\n",
       "      <th>NumbervMailMessages</th>\n",
       "      <th>TotalDayMinutes</th>\n",
       "      <th>TotalDayCalls</th>\n",
       "      <th>TotalEveMinutes</th>\n",
       "      <th>TotalEveCalls</th>\n",
       "      <th>TotalNightMinutes</th>\n",
       "      <th>TotalNightCalls</th>\n",
       "      <th>TotalIntlMinutes</th>\n",
       "      <th>TotalIntlCalls</th>\n",
       "      <th>CustomerServiceCalls</th>\n",
       "      <th>TotalCall</th>\n",
       "      <th>TotalHighBandwidthMinutes</th>\n",
       "      <th>TotalHighLatencyMinutes</th>\n",
       "      <th>TotalRevenue</th>\n",
       "    </tr>\n",
       "  </thead>\n",
       "  <tbody>\n",
       "    <tr>\n",
       "      <th>count</th>\n",
       "      <td>2229.000000</td>\n",
       "      <td>2229.000000</td>\n",
       "      <td>2229.000000</td>\n",
       "      <td>2229.000000</td>\n",
       "      <td>2229.000000</td>\n",
       "      <td>2229.000000</td>\n",
       "      <td>2229.000000</td>\n",
       "      <td>2229.000000</td>\n",
       "      <td>2229.000000</td>\n",
       "      <td>2229.000000</td>\n",
       "      <td>2229.000000</td>\n",
       "      <td>2229.000000</td>\n",
       "      <td>2229.000000</td>\n",
       "      <td>2229.000000</td>\n",
       "      <td>2229.000000</td>\n",
       "      <td>2229.000000</td>\n",
       "    </tr>\n",
       "    <tr>\n",
       "      <th>mean</th>\n",
       "      <td>0.105877</td>\n",
       "      <td>28.087483</td>\n",
       "      <td>7.863616</td>\n",
       "      <td>179.493315</td>\n",
       "      <td>100.617766</td>\n",
       "      <td>201.778645</td>\n",
       "      <td>100.579632</td>\n",
       "      <td>199.837012</td>\n",
       "      <td>100.050695</td>\n",
       "      <td>10.282279</td>\n",
       "      <td>4.499776</td>\n",
       "      <td>1.559892</td>\n",
       "      <td>307.307761</td>\n",
       "      <td>537.415882</td>\n",
       "      <td>86.786003</td>\n",
       "      <td>1667.763122</td>\n",
       "    </tr>\n",
       "    <tr>\n",
       "      <th>std</th>\n",
       "      <td>0.307749</td>\n",
       "      <td>23.296311</td>\n",
       "      <td>13.569929</td>\n",
       "      <td>54.844475</td>\n",
       "      <td>20.119285</td>\n",
       "      <td>51.042977</td>\n",
       "      <td>19.744157</td>\n",
       "      <td>50.245927</td>\n",
       "      <td>19.416595</td>\n",
       "      <td>2.774424</td>\n",
       "      <td>2.474398</td>\n",
       "      <td>1.324275</td>\n",
       "      <td>34.304600</td>\n",
       "      <td>803.635181</td>\n",
       "      <td>156.276844</td>\n",
       "      <td>1926.311521</td>\n",
       "    </tr>\n",
       "    <tr>\n",
       "      <th>min</th>\n",
       "      <td>0.000000</td>\n",
       "      <td>1.000000</td>\n",
       "      <td>0.000000</td>\n",
       "      <td>0.000000</td>\n",
       "      <td>0.000000</td>\n",
       "      <td>31.200000</td>\n",
       "      <td>36.000000</td>\n",
       "      <td>23.200000</td>\n",
       "      <td>33.000000</td>\n",
       "      <td>0.000000</td>\n",
       "      <td>0.000000</td>\n",
       "      <td>0.000000</td>\n",
       "      <td>194.000000</td>\n",
       "      <td>0.000000</td>\n",
       "      <td>0.000000</td>\n",
       "      <td>18.800000</td>\n",
       "    </tr>\n",
       "    <tr>\n",
       "      <th>25%</th>\n",
       "      <td>0.000000</td>\n",
       "      <td>7.000000</td>\n",
       "      <td>0.000000</td>\n",
       "      <td>143.600000</td>\n",
       "      <td>88.000000</td>\n",
       "      <td>166.900000</td>\n",
       "      <td>87.000000</td>\n",
       "      <td>166.300000</td>\n",
       "      <td>87.000000</td>\n",
       "      <td>8.600000</td>\n",
       "      <td>3.000000</td>\n",
       "      <td>1.000000</td>\n",
       "      <td>284.000000</td>\n",
       "      <td>0.000000</td>\n",
       "      <td>0.000000</td>\n",
       "      <td>246.700000</td>\n",
       "    </tr>\n",
       "    <tr>\n",
       "      <th>50%</th>\n",
       "      <td>0.000000</td>\n",
       "      <td>23.000000</td>\n",
       "      <td>0.000000</td>\n",
       "      <td>179.200000</td>\n",
       "      <td>101.000000</td>\n",
       "      <td>201.000000</td>\n",
       "      <td>101.000000</td>\n",
       "      <td>199.700000</td>\n",
       "      <td>100.000000</td>\n",
       "      <td>10.300000</td>\n",
       "      <td>4.000000</td>\n",
       "      <td>1.000000</td>\n",
       "      <td>308.000000</td>\n",
       "      <td>167.000000</td>\n",
       "      <td>18.000000</td>\n",
       "      <td>892.700000</td>\n",
       "    </tr>\n",
       "    <tr>\n",
       "      <th>75%</th>\n",
       "      <td>0.000000</td>\n",
       "      <td>48.000000</td>\n",
       "      <td>18.000000</td>\n",
       "      <td>216.600000</td>\n",
       "      <td>114.000000</td>\n",
       "      <td>236.400000</td>\n",
       "      <td>114.000000</td>\n",
       "      <td>234.500000</td>\n",
       "      <td>113.000000</td>\n",
       "      <td>12.100000</td>\n",
       "      <td>6.000000</td>\n",
       "      <td>2.000000</td>\n",
       "      <td>330.000000</td>\n",
       "      <td>625.000000</td>\n",
       "      <td>84.000000</td>\n",
       "      <td>2416.100000</td>\n",
       "    </tr>\n",
       "    <tr>\n",
       "      <th>max</th>\n",
       "      <td>1.000000</td>\n",
       "      <td>72.000000</td>\n",
       "      <td>51.000000</td>\n",
       "      <td>346.800000</td>\n",
       "      <td>165.000000</td>\n",
       "      <td>363.700000</td>\n",
       "      <td>168.000000</td>\n",
       "      <td>381.900000</td>\n",
       "      <td>175.000000</td>\n",
       "      <td>20.000000</td>\n",
       "      <td>20.000000</td>\n",
       "      <td>9.000000</td>\n",
       "      <td>404.000000</td>\n",
       "      <td>2998.000000</td>\n",
       "      <td>1001.000000</td>\n",
       "      <td>8476.500000</td>\n",
       "    </tr>\n",
       "  </tbody>\n",
       "</table>\n",
       "</div>"
      ],
      "text/plain": [
       "       SeniorCitizen       tenure  NumbervMailMessages  TotalDayMinutes  \\\n",
       "count    2229.000000  2229.000000          2229.000000      2229.000000   \n",
       "mean        0.105877    28.087483             7.863616       179.493315   \n",
       "std         0.307749    23.296311            13.569929        54.844475   \n",
       "min         0.000000     1.000000             0.000000         0.000000   \n",
       "25%         0.000000     7.000000             0.000000       143.600000   \n",
       "50%         0.000000    23.000000             0.000000       179.200000   \n",
       "75%         0.000000    48.000000            18.000000       216.600000   \n",
       "max         1.000000    72.000000            51.000000       346.800000   \n",
       "\n",
       "       TotalDayCalls  TotalEveMinutes  TotalEveCalls  TotalNightMinutes  \\\n",
       "count    2229.000000      2229.000000    2229.000000        2229.000000   \n",
       "mean      100.617766       201.778645     100.579632         199.837012   \n",
       "std        20.119285        51.042977      19.744157          50.245927   \n",
       "min         0.000000        31.200000      36.000000          23.200000   \n",
       "25%        88.000000       166.900000      87.000000         166.300000   \n",
       "50%       101.000000       201.000000     101.000000         199.700000   \n",
       "75%       114.000000       236.400000     114.000000         234.500000   \n",
       "max       165.000000       363.700000     168.000000         381.900000   \n",
       "\n",
       "       TotalNightCalls  TotalIntlMinutes  TotalIntlCalls  \\\n",
       "count      2229.000000       2229.000000     2229.000000   \n",
       "mean        100.050695         10.282279        4.499776   \n",
       "std          19.416595          2.774424        2.474398   \n",
       "min          33.000000          0.000000        0.000000   \n",
       "25%          87.000000          8.600000        3.000000   \n",
       "50%         100.000000         10.300000        4.000000   \n",
       "75%         113.000000         12.100000        6.000000   \n",
       "max         175.000000         20.000000       20.000000   \n",
       "\n",
       "       CustomerServiceCalls    TotalCall  TotalHighBandwidthMinutes  \\\n",
       "count           2229.000000  2229.000000                2229.000000   \n",
       "mean               1.559892   307.307761                 537.415882   \n",
       "std                1.324275    34.304600                 803.635181   \n",
       "min                0.000000   194.000000                   0.000000   \n",
       "25%                1.000000   284.000000                   0.000000   \n",
       "50%                1.000000   308.000000                 167.000000   \n",
       "75%                2.000000   330.000000                 625.000000   \n",
       "max                9.000000   404.000000                2998.000000   \n",
       "\n",
       "       TotalHighLatencyMinutes  TotalRevenue  \n",
       "count              2229.000000   2229.000000  \n",
       "mean                 86.786003   1667.763122  \n",
       "std                 156.276844   1926.311521  \n",
       "min                   0.000000     18.800000  \n",
       "25%                   0.000000    246.700000  \n",
       "50%                  18.000000    892.700000  \n",
       "75%                  84.000000   2416.100000  \n",
       "max                1001.000000   8476.500000  "
      ]
     },
     "execution_count": 5,
     "metadata": {},
     "output_type": "execute_result"
    }
   ],
   "source": [
    "X_train.describe()"
   ]
  },
  {
   "cell_type": "code",
   "execution_count": 6,
   "metadata": {},
   "outputs": [
    {
     "data": {
      "text/html": [
       "<div>\n",
       "<style scoped>\n",
       "    .dataframe tbody tr th:only-of-type {\n",
       "        vertical-align: middle;\n",
       "    }\n",
       "\n",
       "    .dataframe tbody tr th {\n",
       "        vertical-align: top;\n",
       "    }\n",
       "\n",
       "    .dataframe thead th {\n",
       "        text-align: right;\n",
       "    }\n",
       "</style>\n",
       "<table border=\"1\" class=\"dataframe\">\n",
       "  <thead>\n",
       "    <tr style=\"text-align: right;\">\n",
       "      <th></th>\n",
       "      <th>gender</th>\n",
       "      <th>MaritalStatus</th>\n",
       "      <th>Dependents</th>\n",
       "      <th>PhoneService</th>\n",
       "      <th>MultipleLines</th>\n",
       "      <th>InternetService</th>\n",
       "      <th>OnlineSecurity</th>\n",
       "      <th>OnlineBackup</th>\n",
       "      <th>DeviceProtection</th>\n",
       "      <th>TechSupport</th>\n",
       "      <th>StreamingTV</th>\n",
       "      <th>StreamingMovies</th>\n",
       "      <th>Contract</th>\n",
       "      <th>PaperlessBilling</th>\n",
       "      <th>PaymentMethod</th>\n",
       "      <th>InternationalPlan</th>\n",
       "      <th>VoiceMailPlan</th>\n",
       "    </tr>\n",
       "  </thead>\n",
       "  <tbody>\n",
       "    <tr>\n",
       "      <th>count</th>\n",
       "      <td>2229</td>\n",
       "      <td>2229</td>\n",
       "      <td>2229</td>\n",
       "      <td>2229</td>\n",
       "      <td>2229</td>\n",
       "      <td>2229</td>\n",
       "      <td>2229</td>\n",
       "      <td>2229</td>\n",
       "      <td>2229</td>\n",
       "      <td>2229</td>\n",
       "      <td>2229</td>\n",
       "      <td>2229</td>\n",
       "      <td>2229</td>\n",
       "      <td>2229</td>\n",
       "      <td>2229</td>\n",
       "      <td>2229</td>\n",
       "      <td>2229</td>\n",
       "    </tr>\n",
       "    <tr>\n",
       "      <th>unique</th>\n",
       "      <td>2</td>\n",
       "      <td>2</td>\n",
       "      <td>2</td>\n",
       "      <td>1</td>\n",
       "      <td>2</td>\n",
       "      <td>3</td>\n",
       "      <td>3</td>\n",
       "      <td>3</td>\n",
       "      <td>3</td>\n",
       "      <td>3</td>\n",
       "      <td>3</td>\n",
       "      <td>3</td>\n",
       "      <td>3</td>\n",
       "      <td>2</td>\n",
       "      <td>4</td>\n",
       "      <td>2</td>\n",
       "      <td>2</td>\n",
       "    </tr>\n",
       "    <tr>\n",
       "      <th>top</th>\n",
       "      <td>Male</td>\n",
       "      <td>No</td>\n",
       "      <td>No</td>\n",
       "      <td>Yes</td>\n",
       "      <td>No</td>\n",
       "      <td>No</td>\n",
       "      <td>No</td>\n",
       "      <td>No</td>\n",
       "      <td>No</td>\n",
       "      <td>No</td>\n",
       "      <td>No</td>\n",
       "      <td>No</td>\n",
       "      <td>Month-to-month</td>\n",
       "      <td>Yes</td>\n",
       "      <td>Mailed check</td>\n",
       "      <td>No</td>\n",
       "      <td>No</td>\n",
       "    </tr>\n",
       "    <tr>\n",
       "      <th>freq</th>\n",
       "      <td>1138</td>\n",
       "      <td>1232</td>\n",
       "      <td>1488</td>\n",
       "      <td>2229</td>\n",
       "      <td>2022</td>\n",
       "      <td>803</td>\n",
       "      <td>902</td>\n",
       "      <td>850</td>\n",
       "      <td>880</td>\n",
       "      <td>892</td>\n",
       "      <td>845</td>\n",
       "      <td>823</td>\n",
       "      <td>1185</td>\n",
       "      <td>1139</td>\n",
       "      <td>714</td>\n",
       "      <td>2005</td>\n",
       "      <td>1629</td>\n",
       "    </tr>\n",
       "  </tbody>\n",
       "</table>\n",
       "</div>"
      ],
      "text/plain": [
       "       gender MaritalStatus Dependents PhoneService MultipleLines  \\\n",
       "count    2229          2229       2229         2229          2229   \n",
       "unique      2             2          2            1             2   \n",
       "top      Male            No         No          Yes            No   \n",
       "freq     1138          1232       1488         2229          2022   \n",
       "\n",
       "       InternetService OnlineSecurity OnlineBackup DeviceProtection  \\\n",
       "count             2229           2229         2229             2229   \n",
       "unique               3              3            3                3   \n",
       "top                 No             No           No               No   \n",
       "freq               803            902          850              880   \n",
       "\n",
       "       TechSupport StreamingTV StreamingMovies        Contract  \\\n",
       "count         2229        2229            2229            2229   \n",
       "unique           3           3               3               3   \n",
       "top             No          No              No  Month-to-month   \n",
       "freq           892         845             823            1185   \n",
       "\n",
       "       PaperlessBilling PaymentMethod InternationalPlan VoiceMailPlan  \n",
       "count              2229          2229              2229          2229  \n",
       "unique                2             4                 2             2  \n",
       "top                 Yes  Mailed check                No            No  \n",
       "freq               1139           714              2005          1629  "
      ]
     },
     "execution_count": 6,
     "metadata": {},
     "output_type": "execute_result"
    }
   ],
   "source": [
    "X_train.describe(include='O')"
   ]
  },
  {
   "cell_type": "code",
   "execution_count": 7,
   "metadata": {},
   "outputs": [],
   "source": [
    "# Make a full dataset of training data to explore relationships with target\n",
    "train_df = X_train.copy()\n",
    "train_df['Churn'] = y_train"
   ]
  },
  {
   "cell_type": "code",
   "execution_count": 8,
   "metadata": {},
   "outputs": [
    {
     "data": {
      "image/png": "[encoded data removed]",
      "text/plain": [
       "<Figure size 432x288 with 2 Axes>"
      ]
     },
     "metadata": {
      "needs_background": "light"
     },
     "output_type": "display_data"
    }
   ],
   "source": [
    "sns.heatmap(train_df.corr());"
   ]
  },
  {
   "cell_type": "code",
   "execution_count": 9,
   "metadata": {},
   "outputs": [],
   "source": [
    "# sns.pairplot(train_df);"
   ]
  },
  {
   "cell_type": "markdown",
   "metadata": {},
   "source": [
    "### EDA Observations:\n",
    "\n",
    "Any initial findings?\n",
    "\n",
    "- 'tenure' might be useful\n",
    "- multicollinearity (calls)\n",
    "- totals aren't divided by tenure\n",
    "- 'phone service' was all the same value (not useful)\n",
    "\n",
    "\n",
    "Any ideas for feature engineering come to mind?\n",
    "\n",
    "- drop come 'total call' columns, drop 'phone service'\n",
    "- might want to divide totals by tenure\n"
   ]
  },
  {
   "cell_type": "markdown",
   "metadata": {},
   "source": [
    "## Data Processing\n",
    "\n",
    "### Describe Necessary Preprocessing Steps\n",
    "\n",
    "- drop unnecessary columns - might help with obvious multicoll.\n",
    "- one hot encode for string columns\n",
    "- scale (for linear models)\n"
   ]
  },
  {
   "cell_type": "code",
   "execution_count": 10,
   "metadata": {},
   "outputs": [],
   "source": [
    "# Imports\n",
    "from sklearn.pipeline import Pipeline\n",
    "from sklearn.compose import ColumnTransformer\n",
    "\n",
    "# Probably need more imports than just these!\n",
    "from sklearn.preprocessing import OneHotEncoder, StandardScaler"
   ]
  },
  {
   "cell_type": "code",
   "execution_count": 11,
   "metadata": {},
   "outputs": [
    {
     "data": {
      "text/plain": [
       "dtype('O')"
      ]
     },
     "execution_count": 11,
     "metadata": {},
     "output_type": "execute_result"
    }
   ],
   "source": [
    "X_train['VoiceMailPlan'].dtype"
   ]
  },
  {
   "cell_type": "code",
   "execution_count": 12,
   "metadata": {},
   "outputs": [
    {
     "data": {
      "text/plain": [
       "16"
      ]
     },
     "execution_count": 12,
     "metadata": {},
     "output_type": "execute_result"
    }
   ],
   "source": [
    "cat_columns = [c for c in X_train.columns if X_train[c].dtype == 'O']\n",
    "cat_columns.remove('PhoneService')\n",
    "\n",
    "len(cat_columns)"
   ]
  },
  {
   "cell_type": "code",
   "execution_count": 13,
   "metadata": {
    "scrolled": true
   },
   "outputs": [
    {
     "data": {
      "text/plain": [
       "['SeniorCitizen',\n",
       " 'tenure',\n",
       " 'PhoneService',\n",
       " 'NumbervMailMessages',\n",
       " 'TotalDayMinutes',\n",
       " 'TotalDayCalls',\n",
       " 'TotalEveMinutes',\n",
       " 'TotalEveCalls',\n",
       " 'TotalNightMinutes',\n",
       " 'TotalNightCalls',\n",
       " 'TotalIntlMinutes',\n",
       " 'TotalIntlCalls',\n",
       " 'CustomerServiceCalls',\n",
       " 'TotalCall',\n",
       " 'TotalHighBandwidthMinutes',\n",
       " 'TotalHighLatencyMinutes',\n",
       " 'TotalRevenue']"
      ]
     },
     "execution_count": 13,
     "metadata": {},
     "output_type": "execute_result"
    }
   ],
   "source": [
    "[c for c in X_train.columns if c not in cat_columns]"
   ]
  },
  {
   "cell_type": "code",
   "execution_count": 14,
   "metadata": {},
   "outputs": [
    {
     "data": {
      "text/plain": [
       "12"
      ]
     },
     "execution_count": 14,
     "metadata": {},
     "output_type": "execute_result"
    }
   ],
   "source": [
    "num_columns = ['SeniorCitizen',\n",
    " 'tenure',\n",
    " 'NumbervMailMessages',\n",
    " 'TotalDayMinutes',\n",
    " 'TotalEveMinutes',\n",
    " 'TotalNightMinutes',\n",
    " 'TotalIntlMinutes',\n",
    " 'CustomerServiceCalls',\n",
    " 'TotalCall',\n",
    " 'TotalHighBandwidthMinutes',\n",
    " 'TotalHighLatencyMinutes',\n",
    " 'TotalRevenue']\n",
    "len(num_columns)"
   ]
  },
  {
   "cell_type": "code",
   "execution_count": 15,
   "metadata": {
    "scrolled": false
   },
   "outputs": [
    {
     "data": {
      "text/plain": [
       "['gender',\n",
       " 'MaritalStatus',\n",
       " 'Dependents',\n",
       " 'MultipleLines',\n",
       " 'InternetService',\n",
       " 'OnlineSecurity',\n",
       " 'OnlineBackup',\n",
       " 'DeviceProtection',\n",
       " 'TechSupport',\n",
       " 'StreamingTV',\n",
       " 'StreamingMovies',\n",
       " 'Contract',\n",
       " 'PaperlessBilling',\n",
       " 'PaymentMethod',\n",
       " 'InternationalPlan',\n",
       " 'VoiceMailPlan',\n",
       " 'SeniorCitizen',\n",
       " 'tenure',\n",
       " 'NumbervMailMessages',\n",
       " 'TotalDayMinutes',\n",
       " 'TotalEveMinutes',\n",
       " 'TotalNightMinutes',\n",
       " 'TotalIntlMinutes',\n",
       " 'CustomerServiceCalls',\n",
       " 'TotalCall',\n",
       " 'TotalHighBandwidthMinutes',\n",
       " 'TotalHighLatencyMinutes',\n",
       " 'TotalRevenue']"
      ]
     },
     "execution_count": 15,
     "metadata": {},
     "output_type": "execute_result"
    }
   ],
   "source": [
    "used_cols = [*cat_columns, *num_columns]\n",
    "used_cols"
   ]
  },
  {
   "cell_type": "markdown",
   "metadata": {},
   "source": [
    "#### making pipeline"
   ]
  },
  {
   "cell_type": "code",
   "execution_count": 16,
   "metadata": {},
   "outputs": [],
   "source": [
    "cat_transformer = OneHotEncoder(drop='first')\n",
    "\n",
    "num_transformer = StandardScaler()"
   ]
  },
  {
   "cell_type": "code",
   "execution_count": 17,
   "metadata": {},
   "outputs": [],
   "source": [
    "preprocessor = ColumnTransformer([\n",
    "    ('cats', cat_transformer, cat_columns),\n",
    "    ('nums', num_transformer, num_columns)\n",
    "])"
   ]
  },
  {
   "cell_type": "markdown",
   "metadata": {},
   "source": [
    "## Initial Modeling"
   ]
  },
  {
   "cell_type": "markdown",
   "metadata": {},
   "source": [
    "### Model-less Baseline"
   ]
  },
  {
   "cell_type": "code",
   "execution_count": 18,
   "metadata": {},
   "outputs": [
    {
     "data": {
      "text/plain": [
       "0    0.808883\n",
       "1    0.191117\n",
       "dtype: float64"
      ]
     },
     "execution_count": 18,
     "metadata": {},
     "output_type": "execute_result"
    }
   ],
   "source": [
    "pd.Series(y_train).value_counts(normalize=True)"
   ]
  },
  {
   "cell_type": "markdown",
   "metadata": {},
   "source": [
    "#### Evaluate:\n",
    "\n",
    "- If we predict that no one churns, we'd be right about 80% of the time\n",
    "- Class imbalance - imbalanced target!\n"
   ]
  },
  {
   "cell_type": "code",
   "execution_count": 19,
   "metadata": {},
   "outputs": [],
   "source": [
    "from sklearn.metrics import plot_confusion_matrix, plot_roc_curve, f1_score, precision_score, roc_auc_score"
   ]
  },
  {
   "cell_type": "markdown",
   "metadata": {},
   "source": [
    "### Model 1: Decision Tree"
   ]
  },
  {
   "cell_type": "code",
   "execution_count": 20,
   "metadata": {},
   "outputs": [],
   "source": [
    "from sklearn.tree import DecisionTreeClassifier"
   ]
  },
  {
   "cell_type": "code",
   "execution_count": 21,
   "metadata": {},
   "outputs": [
    {
     "data": {
      "text/plain": [
       "Pipeline(steps=[('preprocessor',\n",
       "                 ColumnTransformer(transformers=[('cats',\n",
       "                                                  OneHotEncoder(drop='first'),\n",
       "                                                  ['gender', 'MaritalStatus',\n",
       "                                                   'Dependents',\n",
       "                                                   'MultipleLines',\n",
       "                                                   'InternetService',\n",
       "                                                   'OnlineSecurity',\n",
       "                                                   'OnlineBackup',\n",
       "                                                   'DeviceProtection',\n",
       "                                                   'TechSupport', 'StreamingTV',\n",
       "                                                   'StreamingMovies',\n",
       "                                                   'Contract',\n",
       "                                                   'PaperlessBilling',\n",
       "                                                   'PaymentMethod',\n",
       "                                                   'InternationalPlan',\n",
       "                                                   'VoiceMailPlan']),\n",
       "                                                 ('nums', StandardScaler(),\n",
       "                                                  ['SeniorCitizen', 'tenure',\n",
       "                                                   'NumbervMailMessages',\n",
       "                                                   'TotalDayMinutes',\n",
       "                                                   'TotalEveMinutes',\n",
       "                                                   'TotalNightMinutes',\n",
       "                                                   'TotalIntlMinutes',\n",
       "                                                   'CustomerServiceCalls',\n",
       "                                                   'TotalCall',\n",
       "                                                   'TotalHighBandwidthMinutes',\n",
       "                                                   'TotalHighLatencyMinutes',\n",
       "                                                   'TotalRevenue'])])),\n",
       "                ('tree', DecisionTreeClassifier(max_depth=5, random_state=42))])"
      ]
     },
     "execution_count": 21,
     "metadata": {},
     "output_type": "execute_result"
    }
   ],
   "source": [
    "clf_dt = Pipeline(steps=[\n",
    "    ('preprocessor', preprocessor),\n",
    "    ('tree', DecisionTreeClassifier(random_state=42, max_depth=5))\n",
    "])\n",
    "\n",
    "clf_dt.fit(X_train[used_cols], y_train)\n",
    "\n",
    "# train_preds = clf_dt.predict(X_train[used_cols])\n",
    "# test_preds = clf_dt.predict(X_test[used_cols])\n",
    "\n",
    "# train_probas = clf_dt.predict_proba(X_train[used_cols])[:,1]\n",
    "# test_probas = clf_dt.predict_proba(X_train[used_cols])[:,1]"
   ]
  },
  {
   "cell_type": "code",
   "execution_count": 22,
   "metadata": {
    "scrolled": true
   },
   "outputs": [],
   "source": [
    "# plot_confusion_matrix(clf_dt, X_test[used_cols], y_test)"
   ]
  },
  {
   "cell_type": "code",
   "execution_count": 23,
   "metadata": {},
   "outputs": [],
   "source": [
    "# plot_roc_curve(clf_dt, X_test[used_cols], y_test)"
   ]
  },
  {
   "cell_type": "code",
   "execution_count": 24,
   "metadata": {},
   "outputs": [],
   "source": [
    "# print(f'Train F1: {f1_score(y_train, train_preds):4f}')\n",
    "# print(f'Train Precision: {precision_score(y_train, train_preds):4f}')\n",
    "# print(f'Train F1: {roc_auc_score(y_train, train_preds):4f}')\n",
    "# print('*' * 20)\n",
    "# print(f'Test F1: {f1_score(y_test, test_preds):4f}')\n",
    "# print(f'Test Precision: {precision_score(y_test, test_preds):4f}')\n",
    "# print(f'Test F1: {roc_auc_score(y_test, test_preds):4f}')"
   ]
  },
  {
   "cell_type": "code",
   "execution_count": 33,
   "metadata": {},
   "outputs": [],
   "source": [
    "def evaluate(model, Xtr, Xte, ytr, yte):\n",
    "    train_preds = clf_dt.predict(Xtr)\n",
    "    test_preds = clf_dt.predict(Xte)\n",
    "\n",
    "    train_probas = clf_dt.predict_proba(Xtr)[:,1]\n",
    "    test_probas = clf_dt.predict_proba(Xte)[:,1]\n",
    "    \n",
    "    plot_confusion_matrix(model, Xte, yte)\n",
    "    \n",
    "    plot_roc_curve(model, Xte, yte)\n",
    "    \n",
    "    print(f'Train F1: {f1_score(ytr, train_preds):4f}')\n",
    "    print(f'Train Precision: {precision_score(ytr, train_preds):4f}')\n",
    "    print(f'Train ROC_AUC: {roc_auc_score(ytr, train_probas):4f}')\n",
    "    print('*' * 20)\n",
    "    print(f'Test F1: {f1_score(yte, test_preds):4f}')\n",
    "    print(f'Test Precision: {precision_score(yte, test_preds):4f}')\n",
    "    print(f'Test ROC_AUC: {roc_auc_score(yte, test_probas):4f}')"
   ]
  },
  {
   "cell_type": "code",
   "execution_count": 34,
   "metadata": {},
   "outputs": [
    {
     "name": "stdout",
     "output_type": "stream",
     "text": [
      "Train F1: 0.690476\n",
      "Train Precision: 0.790909\n",
      "Train ROC_AUC: 0.891913\n",
      "********************\n",
      "Test F1: 0.615385\n",
      "Test Precision: 0.704545\n",
      "Test ROC_AUC: 0.850796\n"
     ]
    },
    {
     "data": {
      "image/png": "[encoded data removed]",
      "text/plain": [
       "<Figure size 432x288 with 2 Axes>"
      ]
     },
     "metadata": {
      "needs_background": "light"
     },
     "output_type": "display_data"
    },
    {
     "data": {
      "image/png": "[encoded data removed]",
      "text/plain": [
       "<Figure size 432x288 with 1 Axes>"
      ]
     },
     "metadata": {
      "needs_background": "light"
     },
     "output_type": "display_data"
    }
   ],
   "source": [
    "evaluate(clf_dt, X_train[used_cols], X_test[used_cols], y_train, y_test)"
   ]
  },
  {
   "cell_type": "code",
   "execution_count": null,
   "metadata": {},
   "outputs": [],
   "source": []
  },
  {
   "cell_type": "markdown",
   "metadata": {},
   "source": [
    "#### Evaluate:\n",
    "\n",
    "- DT's would work well if:\n",
    "    - lots of categorical columns\n",
    "    - columns have nonlinear relationship with target, or interaction terms \n",
    "    \n",
    "Is a decision tree a good fit for this data or this business problem?\n",
    "- it's an okay fit - could tune or add complexity to reduce overfitting,, plus dts work well with complex people data (lots of interctions)\n",
    "\n"
   ]
  },
  {
   "cell_type": "markdown",
   "metadata": {},
   "source": [
    "### Model 2: Logistic Regression"
   ]
  },
  {
   "cell_type": "code",
   "execution_count": 27,
   "metadata": {},
   "outputs": [],
   "source": [
    "from sklearn.linear_model import LogisticRegression"
   ]
  },
  {
   "cell_type": "code",
   "execution_count": 35,
   "metadata": {},
   "outputs": [
    {
     "data": {
      "text/plain": [
       "Pipeline(steps=[('preprocessor',\n",
       "                 ColumnTransformer(transformers=[('cats',\n",
       "                                                  OneHotEncoder(drop='first'),\n",
       "                                                  ['gender', 'MaritalStatus',\n",
       "                                                   'Dependents',\n",
       "                                                   'MultipleLines',\n",
       "                                                   'InternetService',\n",
       "                                                   'OnlineSecurity',\n",
       "                                                   'OnlineBackup',\n",
       "                                                   'DeviceProtection',\n",
       "                                                   'TechSupport', 'StreamingTV',\n",
       "                                                   'StreamingMovies',\n",
       "                                                   'Contract',\n",
       "                                                   'PaperlessBilling',\n",
       "                                                   'PaymentMethod',\n",
       "                                                   'InternationalPlan',\n",
       "                                                   'VoiceMailPlan']),\n",
       "                                                 ('nums', StandardScaler(),\n",
       "                                                  ['SeniorCitizen', 'tenure',\n",
       "                                                   'NumbervMailMessages',\n",
       "                                                   'TotalDayMinutes',\n",
       "                                                   'TotalEveMinutes',\n",
       "                                                   'TotalNightMinutes',\n",
       "                                                   'TotalIntlMinutes',\n",
       "                                                   'CustomerServiceCalls',\n",
       "                                                   'TotalCall',\n",
       "                                                   'TotalHighBandwidthMinutes',\n",
       "                                                   'TotalHighLatencyMinutes',\n",
       "                                                   'TotalRevenue'])])),\n",
       "                ('logreg', LogisticRegression(random_state=42))])"
      ]
     },
     "execution_count": 35,
     "metadata": {},
     "output_type": "execute_result"
    }
   ],
   "source": [
    "clf_lr = Pipeline(steps=[\n",
    "    ('preprocessor', preprocessor),\n",
    "    ('logreg', LogisticRegression(random_state=42))\n",
    "])\n",
    "\n",
    "clf_lr.fit(X_train[used_cols], y_train)"
   ]
  },
  {
   "cell_type": "code",
   "execution_count": 36,
   "metadata": {},
   "outputs": [
    {
     "name": "stdout",
     "output_type": "stream",
     "text": [
      "Train F1: 0.690476\n",
      "Train Precision: 0.790909\n",
      "Train ROC_AUC: 0.891913\n",
      "********************\n",
      "Test F1: 0.615385\n",
      "Test Precision: 0.704545\n",
      "Test ROC_AUC: 0.850796\n"
     ]
    },
    {
     "data": {
      "image/png": "[encoded data removed]",
      "text/plain": [
       "<Figure size 432x288 with 2 Axes>"
      ]
     },
     "metadata": {
      "needs_background": "light"
     },
     "output_type": "display_data"
    },
    {
     "data": {
      "image/png": "[encoded data removed]",
      "text/plain": [
       "<Figure size 432x288 with 1 Axes>"
      ]
     },
     "metadata": {
      "needs_background": "light"
     },
     "output_type": "display_data"
    }
   ],
   "source": [
    "evaluate(clf_lr, X_train[used_cols], X_test[used_cols], y_train, y_test)"
   ]
  },
  {
   "cell_type": "markdown",
   "metadata": {},
   "source": [
    "#### Evaluate:\n",
    "\n",
    "LogReg would work well if:\n",
    "- linear relationship between inputs and target\n",
    "\n",
    "Is LR a good fit?\n",
    "- not overfitting, that's good!\n",
    "- but... probably underfit - would take some good feature engineering to get my false positives down\n",
    "- BUT good roc-auc - could just need to adjust threshold\n"
   ]
  },
  {
   "cell_type": "markdown",
   "metadata": {},
   "source": [
    "### Model 3: "
   ]
  },
  {
   "cell_type": "code",
   "execution_count": 30,
   "metadata": {},
   "outputs": [],
   "source": [
    "from sklearn.naive_bayes import ComplementNB, GaussianNB"
   ]
  },
  {
   "cell_type": "code",
   "execution_count": 31,
   "metadata": {},
   "outputs": [
    {
     "data": {
      "text/plain": [
       "Pipeline(steps=[('preprocessor',\n",
       "                 ColumnTransformer(transformers=[('cats',\n",
       "                                                  OneHotEncoder(drop='first'),\n",
       "                                                  ['gender', 'MaritalStatus',\n",
       "                                                   'Dependents',\n",
       "                                                   'MultipleLines',\n",
       "                                                   'InternetService',\n",
       "                                                   'OnlineSecurity',\n",
       "                                                   'OnlineBackup',\n",
       "                                                   'DeviceProtection',\n",
       "                                                   'TechSupport', 'StreamingTV',\n",
       "                                                   'StreamingMovies',\n",
       "                                                   'Contract',\n",
       "                                                   'PaperlessBilling',\n",
       "                                                   'PaymentMethod',\n",
       "                                                   'InternationalPlan',\n",
       "                                                   'VoiceMailPlan']),\n",
       "                                                 ('nums', StandardScaler(),\n",
       "                                                  ['SeniorCitizen', 'tenure',\n",
       "                                                   'NumbervMailMessages',\n",
       "                                                   'TotalDayMinutes',\n",
       "                                                   'TotalEveMinutes',\n",
       "                                                   'TotalNightMinutes',\n",
       "                                                   'TotalIntlMinutes',\n",
       "                                                   'CustomerServiceCalls',\n",
       "                                                   'TotalCall',\n",
       "                                                   'TotalHighBandwidthMinutes',\n",
       "                                                   'TotalHighLatencyMinutes',\n",
       "                                                   'TotalRevenue'])])),\n",
       "                ('bayes', GaussianNB())])"
      ]
     },
     "execution_count": 31,
     "metadata": {},
     "output_type": "execute_result"
    }
   ],
   "source": [
    "clf_nb = Pipeline(steps=[\n",
    "    ('preprocessor', preprocessor),\n",
    "    ('bayes', GaussianNB())\n",
    "])\n",
    "\n",
    "clf_nb.fit(X_train[used_cols], y_train)"
   ]
  },
  {
   "cell_type": "code",
   "execution_count": 32,
   "metadata": {},
   "outputs": [
    {
     "name": "stdout",
     "output_type": "stream",
     "text": [
      "Train F1: 0.690476\n",
      "Train Precision: 0.790909\n",
      "Train F1: 0.787203\n",
      "********************\n",
      "Test F1: 0.615385\n",
      "Test Precision: 0.704545\n",
      "Test F1: 0.743311\n"
     ]
    },
    {
     "data": {
      "image/png": "[encoded data removed]",
      "text/plain": [
       "<Figure size 432x288 with 2 Axes>"
      ]
     },
     "metadata": {
      "needs_background": "light"
     },
     "output_type": "display_data"
    },
    {
     "data": {
      "image/png": "[encoded data removed]",
      "text/plain": [
       "<Figure size 432x288 with 1 Axes>"
      ]
     },
     "metadata": {
      "needs_background": "light"
     },
     "output_type": "display_data"
    }
   ],
   "source": [
    "evaluate(clf_nb, X_train[used_cols], X_test[used_cols], y_train, y_test)"
   ]
  },
  {
   "cell_type": "markdown",
   "metadata": {},
   "source": [
    "#### Evaluate:\n",
    "\n",
    "- NB is good if a lot of input features, especially a lot of categories (one hot encoded columns)\n",
    "- Good choice here? probably not\n"
   ]
  },
  {
   "cell_type": "markdown",
   "metadata": {},
   "source": [
    "## Model Choice - Then Iterate!"
   ]
  },
  {
   "cell_type": "markdown",
   "metadata": {},
   "source": [
    "What initial model currently best describes our data?\n",
    "\n",
    "- DT\n",
    "- accounting for nonlinearities (like interations) better\n",
    "\n",
    "\n",
    "What model do we think would be the best fit for our business problem/data?\n",
    "\n",
    "- can probability tune a DT quicker than feature engineering for logreg\n",
    "\n",
    "\n",
    "Do we have any constraints? As in, do we need to have a simpler or more interpretable model for any reason?\n",
    "\n",
    "- not necessarily - want good predictions AND to understand why\n",
    "\n"
   ]
  },
  {
   "cell_type": "markdown",
   "metadata": {},
   "source": [
    "### Iterate!\n",
    "\n",
    "After choosing our best simple model, let's explore better hyperparameters or a more complex version to improve our predictions!\n"
   ]
  },
  {
   "cell_type": "markdown",
   "metadata": {},
   "source": [
    "Next steps would look like:\n",
    "\n",
    "- Grid search for optimal hyperparameters for DT\n",
    "- Try ensemble methods - and thhen tune those"
   ]
  },
  {
   "cell_type": "code",
   "execution_count": null,
   "metadata": {},
   "outputs": [],
   "source": []
  },
  {
   "cell_type": "code",
   "execution_count": null,
   "metadata": {},
   "outputs": [],
   "source": []
  }
 ],
 "metadata": {
  "kernelspec": {
   "display_name": "Python 3",
   "language": "python",
   "name": "python3"
  },
  "language_info": {
   "codemirror_mode": {
    "name": "ipython",
    "version": 3
   },
   "file_extension": ".py",
   "mimetype": "text/x-python",
   "name": "python",
   "nbconvert_exporter": "python",
   "pygments_lexer": "ipython3",
   "version": "3.8.5"
  }
 },
 "nbformat": 4,
 "nbformat_minor": 4
}
