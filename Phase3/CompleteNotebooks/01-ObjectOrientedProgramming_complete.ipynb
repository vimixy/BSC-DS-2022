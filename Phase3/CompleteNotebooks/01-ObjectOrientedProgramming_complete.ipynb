{
 "cells": [
  {
   "cell_type": "markdown",
   "metadata": {},
   "source": [
    "# Intro to Object Oriented Programming in Python"
   ]
  },
  {
   "cell_type": "markdown",
   "metadata": {},
   "source": [
    "## Objectives\n",
    "\n",
    "- Understand the concept of **classes** and **objects**\n",
    "- Explain the idea that _\"everything in Python is an object\"_\n",
    "- Use the concept of an object's **attribute/property**\n",
    "- Use the concept of an object's **method**"
   ]
  },
  {
   "cell_type": "markdown",
   "metadata": {},
   "source": [
    "So far in this course we've learned how to create objects from the built-in classes that are provided by python. This includes `int`s, `str`s and `list`s. In addition, you have learned how to organize your programs into a series of functions that process/manipulate your data. This is known as procedural programming. Now, we'll learn a bit about object oriented programming, that allows you to create your own objects and procedures from classes you design. OOP is useful because it speeds up development and makes your code more reusable.\n",
    "\n",
    "![](https://cdn.ttgtmedia.com/rms/onlineimages/whatis-object_oriented_programming_half_column_desktop.png)\n",
    "\n",
    "Python is an object-oriented programming language. You'll hear people say that \"everything is an object\" in Python. What does this mean?"
   ]
  },
  {
   "cell_type": "markdown",
   "metadata": {
    "heading_collapsed": true
   },
   "source": [
    "# What Are Classes and Objects?"
   ]
  },
  {
   "cell_type": "markdown",
   "metadata": {
    "hidden": true
   },
   "source": [
    "> A **class** is like a _blueprint_ or _mold_ \\\n",
    "> An **object** is made from the class (called *instantiation*), similar to making an item from the blueprint"
   ]
  },
  {
   "cell_type": "markdown",
   "metadata": {},
   "source": [
    "The class tells us how to make objects. We can make many objects based on the class.\n",
    "\n",
    "But our object (or **instance**) is still an individual and can be modified after being created (or **instantiated**)."
   ]
  },
  {
   "cell_type": "markdown",
   "metadata": {},
   "source": [
    "In object-oriented programming languages like Python, an object is an entity that contains data along with associated metadata and/or functionality. In Python everything is an object, which means every entity has some metadata (called _attributes_ or properties) and associated functionality (called _methods_ or functions). "
   ]
  },
  {
   "cell_type": "markdown",
   "metadata": {},
   "source": [
    "## Creating a Class and Instances (objects) \n",
    "\n",
    "We can define **new** classes of objects altogether by using the keyword `class`:"
   ]
  },
  {
   "cell_type": "code",
   "execution_count": 1,
   "metadata": {
    "ExecuteTime": {
     "end_time": "2020-12-15T00:25:14.133165Z",
     "start_time": "2020-12-15T00:25:14.130863Z"
    }
   },
   "outputs": [],
   "source": [
    "# Let's create a blank class, Robot - just put `pass` in the class\n",
    "class Robot:\n",
    "    pass"
   ]
  },
  {
   "cell_type": "code",
   "execution_count": 8,
   "metadata": {
    "ExecuteTime": {
     "end_time": "2020-12-15T00:26:55.970467Z",
     "start_time": "2020-12-15T00:26:55.967501Z"
    }
   },
   "outputs": [],
   "source": [
    "# Give it life by creating an object from the class \n",
    "# In other words, let's instantiate an object based on the class blueprint\n",
    "\n",
    "my_robot = Robot()"
   ]
  },
  {
   "cell_type": "code",
   "execution_count": 9,
   "metadata": {},
   "outputs": [
    {
     "data": {
      "text/plain": [
       "__main__.Robot"
      ]
     },
     "execution_count": 9,
     "metadata": {},
     "output_type": "execute_result"
    }
   ],
   "source": [
    "# What type is this variable?\n",
    "type(my_robot)"
   ]
  },
  {
   "cell_type": "code",
   "execution_count": 10,
   "metadata": {},
   "outputs": [],
   "source": [
    "# We can give our object attributes\n",
    "# Let's name our robot, and give him a height\n",
    "my_robot.name = \"James\"\n",
    "my_robot.height = 76"
   ]
  },
  {
   "cell_type": "code",
   "execution_count": 13,
   "metadata": {},
   "outputs": [],
   "source": [
    "my_robot.attendance = \"ON TIME\""
   ]
  },
  {
   "cell_type": "code",
   "execution_count": 14,
   "metadata": {},
   "outputs": [
    {
     "data": {
      "text/plain": [
       "'ON TIME'"
      ]
     },
     "execution_count": 14,
     "metadata": {},
     "output_type": "execute_result"
    }
   ],
   "source": [
    "my_robot.attendance"
   ]
  },
  {
   "cell_type": "code",
   "execution_count": 11,
   "metadata": {},
   "outputs": [
    {
     "name": "stdout",
     "output_type": "stream",
     "text": [
      "James : 76 in\n"
     ]
    }
   ],
   "source": [
    "# We can now call on those attributes\n",
    "print(f'{my_robot.name} : {my_robot.height} in')"
   ]
  },
  {
   "cell_type": "code",
   "execution_count": 12,
   "metadata": {},
   "outputs": [
    {
     "ename": "AttributeError",
     "evalue": "type object 'Robot' has no attribute 'name'",
     "output_type": "error",
     "traceback": [
      "\u001b[0;31m---------------------------------------------------------------------------\u001b[0m",
      "\u001b[0;31mAttributeError\u001b[0m                            Traceback (most recent call last)",
      "\u001b[0;32m<ipython-input-12-b6ca2cb4a27f>\u001b[0m in \u001b[0;36m<module>\u001b[0;34m\u001b[0m\n\u001b[1;32m      1\u001b[0m \u001b[0;31m# But the class itself doesn't have those attributes\u001b[0m\u001b[0;34m\u001b[0m\u001b[0;34m\u001b[0m\u001b[0;34m\u001b[0m\u001b[0m\n\u001b[1;32m      2\u001b[0m \u001b[0;34m\u001b[0m\u001b[0m\n\u001b[0;32m----> 3\u001b[0;31m \u001b[0mRobot\u001b[0m\u001b[0;34m.\u001b[0m\u001b[0mname\u001b[0m\u001b[0;34m\u001b[0m\u001b[0;34m\u001b[0m\u001b[0m\n\u001b[0m",
      "\u001b[0;31mAttributeError\u001b[0m: type object 'Robot' has no attribute 'name'"
     ]
    }
   ],
   "source": [
    "# But the class itself doesn't have those attributes\n",
    "\n",
    "Robot.name"
   ]
  },
  {
   "cell_type": "code",
   "execution_count": 15,
   "metadata": {},
   "outputs": [],
   "source": [
    "# We can create multiple objects from the same blueprint\n",
    "\n",
    "new_robot = Robot()\n",
    "\n",
    "next_robot = Robot()"
   ]
  },
  {
   "cell_type": "code",
   "execution_count": 16,
   "metadata": {
    "scrolled": true
   },
   "outputs": [
    {
     "data": {
      "text/plain": [
       "False"
      ]
     },
     "execution_count": 16,
     "metadata": {},
     "output_type": "execute_result"
    }
   ],
   "source": [
    "new_robot == next_robot"
   ]
  },
  {
   "cell_type": "code",
   "execution_count": 17,
   "metadata": {},
   "outputs": [
    {
     "ename": "AttributeError",
     "evalue": "'Robot' object has no attribute 'name'",
     "output_type": "error",
     "traceback": [
      "\u001b[0;31m---------------------------------------------------------------------------\u001b[0m",
      "\u001b[0;31mAttributeError\u001b[0m                            Traceback (most recent call last)",
      "\u001b[0;32m<ipython-input-17-e729f67e0489>\u001b[0m in \u001b[0;36m<module>\u001b[0;34m\u001b[0m\n\u001b[1;32m      1\u001b[0m \u001b[0;31m# But these new ones don't have those attributes yet either!\u001b[0m\u001b[0;34m\u001b[0m\u001b[0;34m\u001b[0m\u001b[0;34m\u001b[0m\u001b[0m\n\u001b[1;32m      2\u001b[0m \u001b[0;34m\u001b[0m\u001b[0m\n\u001b[0;32m----> 3\u001b[0;31m \u001b[0mnew_robot\u001b[0m\u001b[0;34m.\u001b[0m\u001b[0mname\u001b[0m\u001b[0;34m\u001b[0m\u001b[0;34m\u001b[0m\u001b[0m\n\u001b[0m",
      "\u001b[0;31mAttributeError\u001b[0m: 'Robot' object has no attribute 'name'"
     ]
    }
   ],
   "source": [
    "# But these new ones don't have those attributes yet either!\n",
    "\n",
    "new_robot.name"
   ]
  },
  {
   "cell_type": "markdown",
   "metadata": {},
   "source": [
    "## Introducing Self \n",
    "\n",
    "Self is a reference to the instantiated object itSELF. \n",
    "\n",
    "Up to this point, we were defining attributes for each instance, individually. But we can add attributes when we instantiate an object, and then the instance will capture those details!"
   ]
  },
  {
   "cell_type": "code",
   "execution_count": 31,
   "metadata": {
    "ExecuteTime": {
     "end_time": "2020-12-15T00:34:04.714675Z",
     "start_time": "2020-12-15T00:34:04.711820Z"
    }
   },
   "outputs": [],
   "source": [
    "# So, time to expand our class to capture more details\n",
    "# Define an __init__ method to save a robot's name and height as attributes\n",
    "class Robot:\n",
    "    def __init__(self, name, height):\n",
    "        self.name = name\n",
    "        self.height = height"
   ]
  },
  {
   "cell_type": "markdown",
   "metadata": {},
   "source": [
    "`__init__` is a special magic method, or dunder method (because, double underscores), which contains initialization code. In other words, if you want your class to always start with certain attributes, but those change for each instance, you can use this initialize method to save those details to be associated with those instances."
   ]
  },
  {
   "cell_type": "code",
   "execution_count": 32,
   "metadata": {
    "ExecuteTime": {
     "end_time": "2020-12-15T00:35:21.956867Z",
     "start_time": "2020-12-15T00:35:21.954040Z"
    }
   },
   "outputs": [],
   "source": [
    "# Let's test it out - now, with attributes\n",
    "my_robot = Robot('Eli', 67)"
   ]
  },
  {
   "cell_type": "code",
   "execution_count": 33,
   "metadata": {},
   "outputs": [
    {
     "data": {
      "text/plain": [
       "'Eli'"
      ]
     },
     "execution_count": 33,
     "metadata": {},
     "output_type": "execute_result"
    }
   ],
   "source": [
    "my_robot.name"
   ]
  },
  {
   "cell_type": "code",
   "execution_count": 23,
   "metadata": {
    "ExecuteTime": {
     "end_time": "2020-12-15T00:35:24.310978Z",
     "start_time": "2020-12-15T00:35:24.308479Z"
    }
   },
   "outputs": [],
   "source": [
    "# Create another robot with this\n",
    "your_robot = Robot(\"Gru\", 100)"
   ]
  },
  {
   "cell_type": "code",
   "execution_count": 24,
   "metadata": {
    "ExecuteTime": {
     "end_time": "2020-12-15T00:36:02.615572Z",
     "start_time": "2020-12-15T00:36:02.612880Z"
    }
   },
   "outputs": [
    {
     "name": "stdout",
     "output_type": "stream",
     "text": [
      "<__main__.Robot object at 0x7f8051f8c880>\n",
      "Eli\n",
      "<__main__.Robot object at 0x7f8051f8c3a0>\n",
      "100\n"
     ]
    }
   ],
   "source": [
    "# Check our work\n",
    "print(my_robot)\n",
    "print(my_robot.name)\n",
    "print(your_robot)\n",
    "print(your_robot.height)"
   ]
  },
  {
   "cell_type": "code",
   "execution_count": 34,
   "metadata": {},
   "outputs": [
    {
     "ename": "AttributeError",
     "evalue": "'Robot' object has no attribute 'purpose'",
     "output_type": "error",
     "traceback": [
      "\u001b[0;31m---------------------------------------------------------------------------\u001b[0m",
      "\u001b[0;31mAttributeError\u001b[0m                            Traceback (most recent call last)",
      "\u001b[0;32m<ipython-input-34-b70363ebda0a>\u001b[0m in \u001b[0;36m<module>\u001b[0;34m\u001b[0m\n\u001b[1;32m      1\u001b[0m \u001b[0;31m# But our robots don't have a purpose\u001b[0m\u001b[0;34m\u001b[0m\u001b[0;34m\u001b[0m\u001b[0;34m\u001b[0m\u001b[0m\n\u001b[0;32m----> 2\u001b[0;31m \u001b[0mmy_robot\u001b[0m\u001b[0;34m.\u001b[0m\u001b[0mpurpose\u001b[0m\u001b[0;34m\u001b[0m\u001b[0;34m\u001b[0m\u001b[0m\n\u001b[0m",
      "\u001b[0;31mAttributeError\u001b[0m: 'Robot' object has no attribute 'purpose'"
     ]
    }
   ],
   "source": [
    "# But our robots don't have a purpose\n",
    "my_robot.purpose"
   ]
  },
  {
   "cell_type": "code",
   "execution_count": 55,
   "metadata": {
    "ExecuteTime": {
     "end_time": "2020-12-15T00:42:09.258359Z",
     "start_time": "2020-12-15T00:42:09.255820Z"
    }
   },
   "outputs": [],
   "source": [
    "# Add an attribute to our robot class \n",
    "# Put this OUTSIDE the __init__ method, so it applies to the whole class\n",
    "class Robot:\n",
    "    \n",
    "    purpose = \"Learn all the data science!\"\n",
    "    \n",
    "    def __init__(self, name, height):\n",
    "        self.name = name\n",
    "        self.height = height"
   ]
  },
  {
   "cell_type": "markdown",
   "metadata": {},
   "source": [
    "What's the difference here? How is `purpose` different from `self.name`?\n",
    "\n",
    "- `purpose` is a global variable within that class\n",
    "- `name` is specific to each instance (and thus is defined based on `self`)\n"
   ]
  },
  {
   "cell_type": "code",
   "execution_count": 56,
   "metadata": {
    "ExecuteTime": {
     "end_time": "2020-12-15T00:42:09.263422Z",
     "start_time": "2020-12-15T00:42:09.260816Z"
    }
   },
   "outputs": [],
   "source": [
    "# Give it life!\n",
    "my_robot = Robot('Gru', 100)"
   ]
  },
  {
   "cell_type": "code",
   "execution_count": 57,
   "metadata": {
    "ExecuteTime": {
     "end_time": "2020-12-15T00:42:26.926976Z",
     "start_time": "2020-12-15T00:42:26.924336Z"
    }
   },
   "outputs": [
    {
     "name": "stdout",
     "output_type": "stream",
     "text": [
      "What is your purpose? Learn all the data science!\n"
     ]
    }
   ],
   "source": [
    "print(f'What is your purpose? {my_robot.purpose}')"
   ]
  },
  {
   "cell_type": "code",
   "execution_count": 58,
   "metadata": {
    "ExecuteTime": {
     "end_time": "2020-12-15T00:42:53.011659Z",
     "start_time": "2020-12-15T00:42:53.008766Z"
    }
   },
   "outputs": [
    {
     "name": "stdout",
     "output_type": "stream",
     "text": [
      "What is your name and your purpose?\n",
      "\n",
      "My name is Bender and my purpose is TO KILL ALL HUMANS!!!\n"
     ]
    }
   ],
   "source": [
    "# Rogue robot!!!\n",
    "# AKA showcasing that we can override a class attribute\n",
    "evil_robot = Robot('Bender', 168)\n",
    "evil_robot.purpose = 'TO KILL ALL HUMANS!!!'\n",
    "\n",
    "print('What is your name and your purpose?\\n')\n",
    "print(f'My name is {evil_robot.name} and my purpose is {evil_robot.purpose}')"
   ]
  },
  {
   "cell_type": "markdown",
   "metadata": {},
   "source": [
    "So, is `my_robot` the same as Bender, since they come from the same class?\n",
    "\n",
    "The `is` keyword is used to test if two variables refer to the same object. The test returns `True` if the two objects are the same object. The test returns `False` if they are not the same object, even if the two objects are 100% equal. Use the `==` operator to test if two variables are equal as well."
   ]
  },
  {
   "cell_type": "code",
   "execution_count": 59,
   "metadata": {
    "ExecuteTime": {
     "end_time": "2020-12-15T00:47:37.805541Z",
     "start_time": "2020-12-15T00:47:37.802929Z"
    }
   },
   "outputs": [
    {
     "name": "stdout",
     "output_type": "stream",
     "text": [
      "Are you the same (using ==)? False\n",
      "Are you the same (using is)? False\n",
      "Are you yourself? True\n"
     ]
    }
   ],
   "source": [
    "# Are you the same..? \n",
    "print(f'Are you the same (using ==)? {my_robot == evil_robot}')\n",
    "print(f'Are you the same (using is)? {my_robot is evil_robot}')\n",
    "print(f'Are you yourself? {my_robot == my_robot}')"
   ]
  },
  {
   "cell_type": "markdown",
   "metadata": {},
   "source": [
    "### Class methods are functions that belong to the Class (aka come bundled with the blueprint)\n",
    "\n",
    "Let's give our Robot class some laws, and **create a function** so our robots will prove they know the laws of robotics."
   ]
  },
  {
   "cell_type": "code",
   "execution_count": 76,
   "metadata": {
    "ExecuteTime": {
     "end_time": "2020-12-15T01:08:05.608434Z",
     "start_time": "2020-12-15T01:08:05.604512Z"
    }
   },
   "outputs": [],
   "source": [
    "class Robot():\n",
    "    \n",
    "    laws_of_robotics = [\n",
    "        '''\n",
    "        1. First Law: A robot may not injure a human being or, through \n",
    "            inaction, allow a human being to come to harm.\n",
    "        2. Second Law: A robot must obey the orders given it by human \n",
    "            beings except where such orders would conflict with the First Law.\n",
    "        3. Third Law: A robot must protect its own existence as long as such \n",
    "            protection does not conflict with the First or Second Laws.\n",
    "        '''\n",
    "    ]\n",
    "  \n",
    "    # Define our __init__ method\n",
    "    def __init__(self, name, height):\n",
    "        self.name = name\n",
    "        self.height = height\n",
    "\n",
    "    # Define a new method, print_laws, so the robot can print the laws of robotics\n",
    "    def print_laws(self):\n",
    "        print(self.laws_of_robotics)"
   ]
  },
  {
   "cell_type": "code",
   "execution_count": 77,
   "metadata": {
    "ExecuteTime": {
     "end_time": "2020-12-15T01:08:47.808189Z",
     "start_time": "2020-12-15T01:08:47.804411Z"
    }
   },
   "outputs": [
    {
     "data": {
      "text/plain": [
       "['\\n        1. First Law: A robot may not injure a human being or, through \\n            inaction, allow a human being to come to harm.\\n        2. Second Law: A robot must obey the orders given it by human \\n            beings except where such orders would conflict with the First Law.\\n        3. Third Law: A robot must protect its own existence as long as such \\n            protection does not conflict with the First or Second Laws.\\n        ']"
      ]
     },
     "execution_count": 77,
     "metadata": {},
     "output_type": "execute_result"
    }
   ],
   "source": [
    "# Can we access some of these things directly from the class?\n",
    "Robot.laws_of_robotics"
   ]
  },
  {
   "cell_type": "code",
   "execution_count": 78,
   "metadata": {
    "ExecuteTime": {
     "end_time": "2020-12-15T01:09:25.515503Z",
     "start_time": "2020-12-15T01:09:25.510090Z"
    }
   },
   "outputs": [
    {
     "ename": "TypeError",
     "evalue": "print_laws() missing 1 required positional argument: 'self'",
     "output_type": "error",
     "traceback": [
      "\u001b[0;31m---------------------------------------------------------------------------\u001b[0m",
      "\u001b[0;31mTypeError\u001b[0m                                 Traceback (most recent call last)",
      "\u001b[0;32m<ipython-input-78-5049d0fa406f>\u001b[0m in \u001b[0;36m<module>\u001b[0;34m\u001b[0m\n\u001b[0;32m----> 1\u001b[0;31m \u001b[0mRobot\u001b[0m\u001b[0;34m.\u001b[0m\u001b[0mprint_laws\u001b[0m\u001b[0;34m(\u001b[0m\u001b[0;34m)\u001b[0m\u001b[0;34m\u001b[0m\u001b[0;34m\u001b[0m\u001b[0m\n\u001b[0m",
      "\u001b[0;31mTypeError\u001b[0m: print_laws() missing 1 required positional argument: 'self'"
     ]
    }
   ],
   "source": [
    "Robot.print_laws()"
   ]
  },
  {
   "cell_type": "code",
   "execution_count": 79,
   "metadata": {
    "scrolled": true
   },
   "outputs": [
    {
     "name": "stdout",
     "output_type": "stream",
     "text": [
      "['\\n        1. First Law: A robot may not injure a human being or, through \\n            inaction, allow a human being to come to harm.\\n        2. Second Law: A robot must obey the orders given it by human \\n            beings except where such orders would conflict with the First Law.\\n        3. Third Law: A robot must protect its own existence as long as such \\n            protection does not conflict with the First or Second Laws.\\n        ']\n"
     ]
    }
   ],
   "source": [
    "my_robot = Robot(\"Gru\", 100)\n",
    "\n",
    "my_robot.print_laws()"
   ]
  },
  {
   "cell_type": "code",
   "execution_count": 80,
   "metadata": {},
   "outputs": [
    {
     "data": {
      "text/plain": [
       "__main__.Robot"
      ]
     },
     "execution_count": 80,
     "metadata": {},
     "output_type": "execute_result"
    }
   ],
   "source": [
    "type(my_robot)"
   ]
  },
  {
   "cell_type": "markdown",
   "metadata": {},
   "source": [
    "## Practice \n",
    "\n",
    "Let's create a class named `Temperature` that has two attributes: `temp` and `scale`. The initiater of the class initiates the temp attributes using `__init__` function. \n",
    "\n",
    "- Level up: Build a check to be sure `scale` is either `\"F\"` or `\"C\"`\n",
    "\n",
    "Let's then write two methods: `convert_to_fahrenheit` and `convert_to_celsius` to convert the temperatures, building in a check to see whether the conversion makes sense (in other words, won't convert a temperature already in Celsius to Celsius).\n",
    "\n",
    "For Reference:\n",
    "\n",
    "> C = (F - 32) * 5/9\n",
    ">\n",
    "> F = C * 9/5 + 32"
   ]
  },
  {
   "cell_type": "code",
   "execution_count": 84,
   "metadata": {
    "ExecuteTime": {
     "end_time": "2020-12-15T01:23:51.519426Z",
     "start_time": "2020-12-15T01:23:51.516550Z"
    }
   },
   "outputs": [],
   "source": [
    "class Temperature:\n",
    "    \n",
    "    # Define our __init__ method\n",
    "    def __init__(self, temp, scale):\n",
    "        self.temp = temp\n",
    "        if scale in ['F', 'C']:\n",
    "            self.scale = scale\n",
    "        else:\n",
    "            raise ValueError(f\"Scale should be either 'F' or 'C', you input {scale}\")\n",
    "    \n",
    "    # Define a convert_to_fahrenheit method\n",
    "    def convert_to_fahrenheit(self):\n",
    "        \n",
    "        if self.scale == 'F':\n",
    "            print(\"You don't need to convert to Fahrenheit\")\n",
    "            return self.temp\n",
    "        else:\n",
    "            new_temp = self.temp * 9/5 + 32\n",
    "            return new_temp\n",
    "    \n",
    "    # Define a convert_to_celsius method\n",
    "    def convert_to_celsius(self):\n",
    "        \n",
    "        if self.scale == 'C':\n",
    "            print(\"You don't need to convert to Celsius\")\n",
    "            return self.temp\n",
    "        else:\n",
    "            new_temp = (self.temp - 32) * 5/9\n",
    "            return new_temp    \n",
    "    "
   ]
  },
  {
   "cell_type": "code",
   "execution_count": 85,
   "metadata": {
    "ExecuteTime": {
     "start_time": "2020-12-15T01:33:44.330Z"
    }
   },
   "outputs": [
    {
     "name": "stdout",
     "output_type": "stream",
     "text": [
      "Input temperature: 89\n",
      "Is this temperature in F or C? D\n"
     ]
    },
    {
     "ename": "ValueError",
     "evalue": "Scale should be either 'F' or 'C', you input D",
     "output_type": "error",
     "traceback": [
      "\u001b[0;31m---------------------------------------------------------------------------\u001b[0m",
      "\u001b[0;31mValueError\u001b[0m                                Traceback (most recent call last)",
      "\u001b[0;32m<ipython-input-85-a6275a18e6ca>\u001b[0m in \u001b[0;36m<module>\u001b[0;34m\u001b[0m\n\u001b[1;32m      2\u001b[0m \u001b[0minput_temp\u001b[0m \u001b[0;34m=\u001b[0m \u001b[0mfloat\u001b[0m\u001b[0;34m(\u001b[0m\u001b[0minput\u001b[0m\u001b[0;34m(\u001b[0m\u001b[0;34m\"Input temperature: \"\u001b[0m\u001b[0;34m)\u001b[0m\u001b[0;34m)\u001b[0m\u001b[0;34m\u001b[0m\u001b[0;34m\u001b[0m\u001b[0m\n\u001b[1;32m      3\u001b[0m \u001b[0minput_scale\u001b[0m \u001b[0;34m=\u001b[0m \u001b[0minput\u001b[0m\u001b[0;34m(\u001b[0m\u001b[0;34m\"Is this temperature in F or C? \"\u001b[0m\u001b[0;34m)\u001b[0m\u001b[0;34m\u001b[0m\u001b[0;34m\u001b[0m\u001b[0m\n\u001b[0;32m----> 4\u001b[0;31m \u001b[0mtemp1\u001b[0m \u001b[0;34m=\u001b[0m \u001b[0mTemperature\u001b[0m\u001b[0;34m(\u001b[0m\u001b[0minput_temp\u001b[0m\u001b[0;34m,\u001b[0m \u001b[0minput_scale\u001b[0m\u001b[0;34m)\u001b[0m\u001b[0;34m\u001b[0m\u001b[0;34m\u001b[0m\u001b[0m\n\u001b[0m\u001b[1;32m      5\u001b[0m \u001b[0mprint\u001b[0m\u001b[0;34m(\u001b[0m\u001b[0;34mf\"{temp1.convert_to_fahrenheit()} degrees F\"\u001b[0m\u001b[0;34m)\u001b[0m\u001b[0;34m\u001b[0m\u001b[0;34m\u001b[0m\u001b[0m\n\u001b[1;32m      6\u001b[0m \u001b[0mprint\u001b[0m\u001b[0;34m(\u001b[0m\u001b[0;34mf\"{temp1.convert_to_celsius()} degrees C\"\u001b[0m\u001b[0;34m)\u001b[0m\u001b[0;34m\u001b[0m\u001b[0;34m\u001b[0m\u001b[0m\n",
      "\u001b[0;32m<ipython-input-84-61cb5a271984>\u001b[0m in \u001b[0;36m__init__\u001b[0;34m(self, temp, scale)\u001b[0m\n\u001b[1;32m      7\u001b[0m             \u001b[0mself\u001b[0m\u001b[0;34m.\u001b[0m\u001b[0mscale\u001b[0m \u001b[0;34m=\u001b[0m \u001b[0mscale\u001b[0m\u001b[0;34m\u001b[0m\u001b[0;34m\u001b[0m\u001b[0m\n\u001b[1;32m      8\u001b[0m         \u001b[0;32melse\u001b[0m\u001b[0;34m:\u001b[0m\u001b[0;34m\u001b[0m\u001b[0;34m\u001b[0m\u001b[0m\n\u001b[0;32m----> 9\u001b[0;31m             \u001b[0;32mraise\u001b[0m \u001b[0mValueError\u001b[0m\u001b[0;34m(\u001b[0m\u001b[0;34mf\"Scale should be either 'F' or 'C', you input {scale}\"\u001b[0m\u001b[0;34m)\u001b[0m\u001b[0;34m\u001b[0m\u001b[0;34m\u001b[0m\u001b[0m\n\u001b[0m\u001b[1;32m     10\u001b[0m \u001b[0;34m\u001b[0m\u001b[0m\n\u001b[1;32m     11\u001b[0m     \u001b[0;31m# Define a convert_to_fahrenheit method\u001b[0m\u001b[0;34m\u001b[0m\u001b[0;34m\u001b[0m\u001b[0;34m\u001b[0m\u001b[0m\n",
      "\u001b[0;31mValueError\u001b[0m: Scale should be either 'F' or 'C', you input D"
     ]
    }
   ],
   "source": [
    "# Testing code!\n",
    "input_temp = float(input(\"Input temperature: \"))\n",
    "input_scale = input(\"Is this temperature in F or C? \")\n",
    "temp1 = Temperature(input_temp, input_scale)\n",
    "print(f\"{temp1.convert_to_fahrenheit()} degrees F\")\n",
    "print(f\"{temp1.convert_to_celsius()} degrees C\")"
   ]
  },
  {
   "cell_type": "code",
   "execution_count": null,
   "metadata": {},
   "outputs": [],
   "source": []
  }
 ],
 "metadata": {
  "kernelspec": {
   "display_name": "Python (learn-env)",
   "language": "python",
   "name": "learn-env"
  },
  "language_info": {
   "codemirror_mode": {
    "name": "ipython",
    "version": 3
   },
   "file_extension": ".py",
   "mimetype": "text/x-python",
   "name": "python",
   "nbconvert_exporter": "python",
   "pygments_lexer": "ipython3",
   "version": "3.8.5"
  }
 },
 "nbformat": 4,
 "nbformat_minor": 4
}
