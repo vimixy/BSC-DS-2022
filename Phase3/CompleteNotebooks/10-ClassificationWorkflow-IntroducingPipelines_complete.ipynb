{
 "cells": [
  {
   "cell_type": "markdown",
   "metadata": {},
   "source": [
    "# Classification Workflow: Pipelines!"
   ]
  },
  {
   "cell_type": "markdown",
   "metadata": {},
   "source": [
    "## Objectives\n",
    "\n",
    "- Formulate and implement an iterative modeling workflow\n",
    "- Recognize how pipelines streamline the preprocessing and modeling process"
   ]
  },
  {
   "cell_type": "markdown",
   "metadata": {},
   "source": [
    "## Why Pipeline?\n",
    "\n",
    "Pipelines can keep our code neat and clean all the way from gathering & cleaning our data, to creating models & fine-tuning them!\n",
    "\n",
    "**Advantages**: \n",
    "- Reduces complexity\n",
    "- Convenient \n",
    "- Flexible \n",
    "- Can help prevent mistakes (like data leakage between train and test set) "
   ]
  },
  {
   "cell_type": "markdown",
   "metadata": {},
   "source": [
    "## Today's Agenda: \n",
    "\n",
    "We'll introduce pipelines in the lens of simplifying the whole classification workflow, top to bottom!\n",
    "\n",
    "Our data: https://www.kaggle.com/c/cat-in-the-dat-ii\n",
    "\n",
    "The goal is to classify the `target` column. \n",
    "\n",
    "The competition's main metric is ROC-AUC score! We can explore other metrics, but we should be sure to use that to evaluate our models.\n",
    "\n",
    "### Steps:\n",
    "\n",
    "1. Data Exploration\n",
    "2. Define and structure data preprocessing steps\n",
    "3. Run a `DummyClassifier` to create a model-less baseline, using a pipeline to combine the classifier with preprocessing steps\n",
    "4. Run a `LogisticRegression` and compare results to the model-less baseline\n",
    "\n",
    "If we have time, we'll keep iterating to improve!"
   ]
  },
  {
   "cell_type": "code",
   "execution_count": 1,
   "metadata": {},
   "outputs": [],
   "source": [
    "# Imports\n",
    "import pandas as pd\n",
    "import numpy as np\n",
    "\n",
    "import matplotlib.pyplot as plt\n",
    "\n",
    "from sklearn.pipeline import Pipeline\n",
    "from sklearn.compose import ColumnTransformer\n",
    "from sklearn.impute import SimpleImputer\n",
    "from sklearn.preprocessing import MinMaxScaler, OneHotEncoder, StandardScaler\n",
    "from sklearn.dummy import DummyClassifier\n",
    "from sklearn.linear_model import LogisticRegression\n",
    "from sklearn.model_selection import train_test_split, cross_validate\n",
    "from sklearn.metrics import accuracy_score, f1_score, precision_score, recall_score\n",
    "from sklearn.metrics import roc_auc_score, plot_roc_curve, plot_precision_recall_curve\n",
    "from sklearn.metrics import confusion_matrix, plot_confusion_matrix"
   ]
  },
  {
   "cell_type": "code",
   "execution_count": 2,
   "metadata": {},
   "outputs": [],
   "source": [
    "# Grab, then explore data\n",
    "df = pd.read_csv(\"data/cat_in_the_dat2_train.csv\", index_col='id')"
   ]
  },
  {
   "cell_type": "code",
   "execution_count": 3,
   "metadata": {},
   "outputs": [],
   "source": [
    "# Define our X and y\n",
    "\n",
    "X = df.drop(columns=['target'])\n",
    "y = df['target']\n",
    "\n",
    "# and train test split - to create our val holdout set!\n",
    "X_train, X_val, y_train, y_val = train_test_split(X, y, test_size=0.1,\n",
    "                                                  random_state=0)"
   ]
  },
  {
   "cell_type": "markdown",
   "metadata": {},
   "source": [
    "## Data Exploration\n",
    "\n",
    "Explore the **training** data, checking out both numeric and categorical features.\n",
    "\n",
    "We should run _at least_ one visualization to explore relationships among features!"
   ]
  },
  {
   "cell_type": "code",
   "execution_count": 4,
   "metadata": {},
   "outputs": [
    {
     "name": "stdout",
     "output_type": "stream",
     "text": [
      "<class 'pandas.core.frame.DataFrame'>\n",
      "Int64Index: 540000 entries, 111903 to 305711\n",
      "Data columns (total 23 columns):\n",
      " #   Column  Non-Null Count   Dtype  \n",
      "---  ------  --------------   -----  \n",
      " 0   bin_0   523875 non-null  float64\n",
      " 1   bin_1   523788 non-null  float64\n",
      " 2   bin_2   523842 non-null  float64\n",
      " 3   bin_3   523821 non-null  object \n",
      " 4   bin_4   523757 non-null  object \n",
      " 5   nom_0   523586 non-null  object \n",
      " 6   nom_1   523710 non-null  object \n",
      " 7   nom_2   523725 non-null  object \n",
      " 8   nom_3   523642 non-null  object \n",
      " 9   nom_4   523754 non-null  object \n",
      " 10  nom_5   524031 non-null  object \n",
      " 11  nom_6   523727 non-null  object \n",
      " 12  nom_7   523823 non-null  object \n",
      " 13  nom_8   524017 non-null  object \n",
      " 14  nom_9   523725 non-null  object \n",
      " 15  ord_0   523528 non-null  float64\n",
      " 16  ord_1   523778 non-null  object \n",
      " 17  ord_2   523694 non-null  object \n",
      " 18  ord_3   523891 non-null  object \n",
      " 19  ord_4   523867 non-null  object \n",
      " 20  ord_5   524095 non-null  object \n",
      " 21  day     523850 non-null  float64\n",
      " 22  month   523817 non-null  float64\n",
      "dtypes: float64(6), object(17)\n",
      "memory usage: 98.9+ MB\n"
     ]
    }
   ],
   "source": [
    "# Your code here\n",
    "X_train.info()"
   ]
  },
  {
   "cell_type": "code",
   "execution_count": 5,
   "metadata": {},
   "outputs": [
    {
     "data": {
      "text/html": [
       "<div>\n",
       "<style scoped>\n",
       "    .dataframe tbody tr th:only-of-type {\n",
       "        vertical-align: middle;\n",
       "    }\n",
       "\n",
       "    .dataframe tbody tr th {\n",
       "        vertical-align: top;\n",
       "    }\n",
       "\n",
       "    .dataframe thead th {\n",
       "        text-align: right;\n",
       "    }\n",
       "</style>\n",
       "<table border=\"1\" class=\"dataframe\">\n",
       "  <thead>\n",
       "    <tr style=\"text-align: right;\">\n",
       "      <th></th>\n",
       "      <th>bin_0</th>\n",
       "      <th>bin_1</th>\n",
       "      <th>bin_2</th>\n",
       "      <th>bin_3</th>\n",
       "      <th>bin_4</th>\n",
       "      <th>nom_0</th>\n",
       "      <th>nom_1</th>\n",
       "      <th>nom_2</th>\n",
       "      <th>nom_3</th>\n",
       "      <th>nom_4</th>\n",
       "      <th>...</th>\n",
       "      <th>nom_8</th>\n",
       "      <th>nom_9</th>\n",
       "      <th>ord_0</th>\n",
       "      <th>ord_1</th>\n",
       "      <th>ord_2</th>\n",
       "      <th>ord_3</th>\n",
       "      <th>ord_4</th>\n",
       "      <th>ord_5</th>\n",
       "      <th>day</th>\n",
       "      <th>month</th>\n",
       "    </tr>\n",
       "    <tr>\n",
       "      <th>id</th>\n",
       "      <th></th>\n",
       "      <th></th>\n",
       "      <th></th>\n",
       "      <th></th>\n",
       "      <th></th>\n",
       "      <th></th>\n",
       "      <th></th>\n",
       "      <th></th>\n",
       "      <th></th>\n",
       "      <th></th>\n",
       "      <th></th>\n",
       "      <th></th>\n",
       "      <th></th>\n",
       "      <th></th>\n",
       "      <th></th>\n",
       "      <th></th>\n",
       "      <th></th>\n",
       "      <th></th>\n",
       "      <th></th>\n",
       "      <th></th>\n",
       "      <th></th>\n",
       "    </tr>\n",
       "  </thead>\n",
       "  <tbody>\n",
       "    <tr>\n",
       "      <th>111903</th>\n",
       "      <td>0.0</td>\n",
       "      <td>0.0</td>\n",
       "      <td>0.0</td>\n",
       "      <td>F</td>\n",
       "      <td>NaN</td>\n",
       "      <td>Red</td>\n",
       "      <td>Polygon</td>\n",
       "      <td>Lion</td>\n",
       "      <td>Finland</td>\n",
       "      <td>Bassoon</td>\n",
       "      <td>...</td>\n",
       "      <td>9dd6a02eb</td>\n",
       "      <td>6ce8fe5ee</td>\n",
       "      <td>3.0</td>\n",
       "      <td>Novice</td>\n",
       "      <td>Warm</td>\n",
       "      <td>c</td>\n",
       "      <td>O</td>\n",
       "      <td>NS</td>\n",
       "      <td>4.0</td>\n",
       "      <td>9.0</td>\n",
       "    </tr>\n",
       "    <tr>\n",
       "      <th>521435</th>\n",
       "      <td>0.0</td>\n",
       "      <td>1.0</td>\n",
       "      <td>0.0</td>\n",
       "      <td>F</td>\n",
       "      <td>N</td>\n",
       "      <td>Red</td>\n",
       "      <td>Triangle</td>\n",
       "      <td>Axolotl</td>\n",
       "      <td>Finland</td>\n",
       "      <td>Bassoon</td>\n",
       "      <td>...</td>\n",
       "      <td>679b63eff</td>\n",
       "      <td>a737a6428</td>\n",
       "      <td>2.0</td>\n",
       "      <td>Grandmaster</td>\n",
       "      <td>Freezing</td>\n",
       "      <td>m</td>\n",
       "      <td>A</td>\n",
       "      <td>gc</td>\n",
       "      <td>5.0</td>\n",
       "      <td>1.0</td>\n",
       "    </tr>\n",
       "    <tr>\n",
       "      <th>484488</th>\n",
       "      <td>0.0</td>\n",
       "      <td>0.0</td>\n",
       "      <td>0.0</td>\n",
       "      <td>F</td>\n",
       "      <td>N</td>\n",
       "      <td>Red</td>\n",
       "      <td>Trapezoid</td>\n",
       "      <td>Hamster</td>\n",
       "      <td>India</td>\n",
       "      <td>Theremin</td>\n",
       "      <td>...</td>\n",
       "      <td>fbea9bb4a</td>\n",
       "      <td>b787c48f0</td>\n",
       "      <td>2.0</td>\n",
       "      <td>Master</td>\n",
       "      <td>Freezing</td>\n",
       "      <td>k</td>\n",
       "      <td>I</td>\n",
       "      <td>rl</td>\n",
       "      <td>2.0</td>\n",
       "      <td>8.0</td>\n",
       "    </tr>\n",
       "    <tr>\n",
       "      <th>529639</th>\n",
       "      <td>0.0</td>\n",
       "      <td>1.0</td>\n",
       "      <td>1.0</td>\n",
       "      <td>F</td>\n",
       "      <td>N</td>\n",
       "      <td>Red</td>\n",
       "      <td>Triangle</td>\n",
       "      <td>Hamster</td>\n",
       "      <td>Costa Rica</td>\n",
       "      <td>Bassoon</td>\n",
       "      <td>...</td>\n",
       "      <td>b72c0bbc2</td>\n",
       "      <td>NaN</td>\n",
       "      <td>1.0</td>\n",
       "      <td>Expert</td>\n",
       "      <td>Hot</td>\n",
       "      <td>e</td>\n",
       "      <td>P</td>\n",
       "      <td>WW</td>\n",
       "      <td>5.0</td>\n",
       "      <td>2.0</td>\n",
       "    </tr>\n",
       "    <tr>\n",
       "      <th>589943</th>\n",
       "      <td>0.0</td>\n",
       "      <td>NaN</td>\n",
       "      <td>0.0</td>\n",
       "      <td>T</td>\n",
       "      <td>N</td>\n",
       "      <td>Red</td>\n",
       "      <td>Triangle</td>\n",
       "      <td>Cat</td>\n",
       "      <td>Russia</td>\n",
       "      <td>Piano</td>\n",
       "      <td>...</td>\n",
       "      <td>b8e63cace</td>\n",
       "      <td>10695338e</td>\n",
       "      <td>2.0</td>\n",
       "      <td>Expert</td>\n",
       "      <td>Warm</td>\n",
       "      <td>a</td>\n",
       "      <td>N</td>\n",
       "      <td>LY</td>\n",
       "      <td>6.0</td>\n",
       "      <td>8.0</td>\n",
       "    </tr>\n",
       "  </tbody>\n",
       "</table>\n",
       "<p>5 rows × 23 columns</p>\n",
       "</div>"
      ],
      "text/plain": [
       "        bin_0  bin_1  bin_2 bin_3 bin_4 nom_0      nom_1    nom_2       nom_3  \\\n",
       "id                                                                              \n",
       "111903    0.0    0.0    0.0     F   NaN   Red    Polygon     Lion     Finland   \n",
       "521435    0.0    1.0    0.0     F     N   Red   Triangle  Axolotl     Finland   \n",
       "484488    0.0    0.0    0.0     F     N   Red  Trapezoid  Hamster       India   \n",
       "529639    0.0    1.0    1.0     F     N   Red   Triangle  Hamster  Costa Rica   \n",
       "589943    0.0    NaN    0.0     T     N   Red   Triangle      Cat      Russia   \n",
       "\n",
       "           nom_4  ...      nom_8      nom_9 ord_0        ord_1     ord_2  \\\n",
       "id                ...                                                      \n",
       "111903   Bassoon  ...  9dd6a02eb  6ce8fe5ee   3.0       Novice      Warm   \n",
       "521435   Bassoon  ...  679b63eff  a737a6428   2.0  Grandmaster  Freezing   \n",
       "484488  Theremin  ...  fbea9bb4a  b787c48f0   2.0       Master  Freezing   \n",
       "529639   Bassoon  ...  b72c0bbc2        NaN   1.0       Expert       Hot   \n",
       "589943     Piano  ...  b8e63cace  10695338e   2.0       Expert      Warm   \n",
       "\n",
       "        ord_3 ord_4 ord_5  day month  \n",
       "id                                    \n",
       "111903      c     O    NS  4.0   9.0  \n",
       "521435      m     A    gc  5.0   1.0  \n",
       "484488      k     I    rl  2.0   8.0  \n",
       "529639      e     P    WW  5.0   2.0  \n",
       "589943      a     N    LY  6.0   8.0  \n",
       "\n",
       "[5 rows x 23 columns]"
      ]
     },
     "execution_count": 5,
     "metadata": {},
     "output_type": "execute_result"
    }
   ],
   "source": [
    "X_train.head()"
   ]
  },
  {
   "cell_type": "code",
   "execution_count": 6,
   "metadata": {},
   "outputs": [
    {
     "data": {
      "text/html": [
       "<div>\n",
       "<style scoped>\n",
       "    .dataframe tbody tr th:only-of-type {\n",
       "        vertical-align: middle;\n",
       "    }\n",
       "\n",
       "    .dataframe tbody tr th {\n",
       "        vertical-align: top;\n",
       "    }\n",
       "\n",
       "    .dataframe thead th {\n",
       "        text-align: right;\n",
       "    }\n",
       "</style>\n",
       "<table border=\"1\" class=\"dataframe\">\n",
       "  <thead>\n",
       "    <tr style=\"text-align: right;\">\n",
       "      <th></th>\n",
       "      <th>bin_0</th>\n",
       "      <th>bin_1</th>\n",
       "      <th>bin_2</th>\n",
       "      <th>ord_0</th>\n",
       "      <th>day</th>\n",
       "      <th>month</th>\n",
       "    </tr>\n",
       "  </thead>\n",
       "  <tbody>\n",
       "    <tr>\n",
       "      <th>count</th>\n",
       "      <td>523875.000000</td>\n",
       "      <td>523788.000000</td>\n",
       "      <td>523842.000000</td>\n",
       "      <td>523528.000000</td>\n",
       "      <td>523850.000000</td>\n",
       "      <td>523817.000000</td>\n",
       "    </tr>\n",
       "    <tr>\n",
       "      <th>mean</th>\n",
       "      <td>0.092245</td>\n",
       "      <td>0.185692</td>\n",
       "      <td>0.278842</td>\n",
       "      <td>1.947663</td>\n",
       "      <td>4.112578</td>\n",
       "      <td>6.372836</td>\n",
       "    </tr>\n",
       "    <tr>\n",
       "      <th>std</th>\n",
       "      <td>0.289372</td>\n",
       "      <td>0.388858</td>\n",
       "      <td>0.448430</td>\n",
       "      <td>0.853963</td>\n",
       "      <td>2.034344</td>\n",
       "      <td>3.459506</td>\n",
       "    </tr>\n",
       "    <tr>\n",
       "      <th>min</th>\n",
       "      <td>0.000000</td>\n",
       "      <td>0.000000</td>\n",
       "      <td>0.000000</td>\n",
       "      <td>1.000000</td>\n",
       "      <td>1.000000</td>\n",
       "      <td>1.000000</td>\n",
       "    </tr>\n",
       "    <tr>\n",
       "      <th>25%</th>\n",
       "      <td>0.000000</td>\n",
       "      <td>0.000000</td>\n",
       "      <td>0.000000</td>\n",
       "      <td>1.000000</td>\n",
       "      <td>2.000000</td>\n",
       "      <td>3.000000</td>\n",
       "    </tr>\n",
       "    <tr>\n",
       "      <th>50%</th>\n",
       "      <td>0.000000</td>\n",
       "      <td>0.000000</td>\n",
       "      <td>0.000000</td>\n",
       "      <td>2.000000</td>\n",
       "      <td>5.000000</td>\n",
       "      <td>6.000000</td>\n",
       "    </tr>\n",
       "    <tr>\n",
       "      <th>75%</th>\n",
       "      <td>0.000000</td>\n",
       "      <td>0.000000</td>\n",
       "      <td>1.000000</td>\n",
       "      <td>3.000000</td>\n",
       "      <td>6.000000</td>\n",
       "      <td>8.000000</td>\n",
       "    </tr>\n",
       "    <tr>\n",
       "      <th>max</th>\n",
       "      <td>1.000000</td>\n",
       "      <td>1.000000</td>\n",
       "      <td>1.000000</td>\n",
       "      <td>3.000000</td>\n",
       "      <td>7.000000</td>\n",
       "      <td>12.000000</td>\n",
       "    </tr>\n",
       "  </tbody>\n",
       "</table>\n",
       "</div>"
      ],
      "text/plain": [
       "               bin_0          bin_1          bin_2          ord_0  \\\n",
       "count  523875.000000  523788.000000  523842.000000  523528.000000   \n",
       "mean        0.092245       0.185692       0.278842       1.947663   \n",
       "std         0.289372       0.388858       0.448430       0.853963   \n",
       "min         0.000000       0.000000       0.000000       1.000000   \n",
       "25%         0.000000       0.000000       0.000000       1.000000   \n",
       "50%         0.000000       0.000000       0.000000       2.000000   \n",
       "75%         0.000000       0.000000       1.000000       3.000000   \n",
       "max         1.000000       1.000000       1.000000       3.000000   \n",
       "\n",
       "                 day          month  \n",
       "count  523850.000000  523817.000000  \n",
       "mean        4.112578       6.372836  \n",
       "std         2.034344       3.459506  \n",
       "min         1.000000       1.000000  \n",
       "25%         2.000000       3.000000  \n",
       "50%         5.000000       6.000000  \n",
       "75%         6.000000       8.000000  \n",
       "max         7.000000      12.000000  "
      ]
     },
     "execution_count": 6,
     "metadata": {},
     "output_type": "execute_result"
    }
   ],
   "source": [
    "X_train.describe()"
   ]
  },
  {
   "cell_type": "code",
   "execution_count": 9,
   "metadata": {},
   "outputs": [
    {
     "data": {
      "text/plain": [
       "0.49672222222222223"
      ]
     },
     "execution_count": 9,
     "metadata": {},
     "output_type": "execute_result"
    }
   ],
   "source": [
    "len(X_train.dropna())/len(X_train)"
   ]
  },
  {
   "cell_type": "code",
   "execution_count": 14,
   "metadata": {},
   "outputs": [
    {
     "data": {
      "text/plain": [
       "bin_0    float64\n",
       "bin_1    float64\n",
       "bin_2    float64\n",
       "bin_3     object\n",
       "bin_4     object\n",
       "nom_0     object\n",
       "nom_1     object\n",
       "nom_2     object\n",
       "nom_3     object\n",
       "nom_4     object\n",
       "nom_5     object\n",
       "nom_6     object\n",
       "nom_7     object\n",
       "nom_8     object\n",
       "nom_9     object\n",
       "ord_0    float64\n",
       "ord_1     object\n",
       "ord_2     object\n",
       "ord_3     object\n",
       "ord_4     object\n",
       "ord_5     object\n",
       "day      float64\n",
       "month    float64\n",
       "dtype: object"
      ]
     },
     "execution_count": 14,
     "metadata": {},
     "output_type": "execute_result"
    }
   ],
   "source": [
    "X_train.dtypes"
   ]
  },
  {
   "cell_type": "code",
   "execution_count": 19,
   "metadata": {},
   "outputs": [
    {
     "data": {
      "text/html": [
       "<div>\n",
       "<style scoped>\n",
       "    .dataframe tbody tr th:only-of-type {\n",
       "        vertical-align: middle;\n",
       "    }\n",
       "\n",
       "    .dataframe tbody tr th {\n",
       "        vertical-align: top;\n",
       "    }\n",
       "\n",
       "    .dataframe thead th {\n",
       "        text-align: right;\n",
       "    }\n",
       "</style>\n",
       "<table border=\"1\" class=\"dataframe\">\n",
       "  <thead>\n",
       "    <tr style=\"text-align: right;\">\n",
       "      <th></th>\n",
       "      <th>bin_3</th>\n",
       "      <th>bin_4</th>\n",
       "      <th>nom_0</th>\n",
       "      <th>nom_1</th>\n",
       "      <th>nom_2</th>\n",
       "      <th>nom_3</th>\n",
       "      <th>nom_4</th>\n",
       "      <th>nom_5</th>\n",
       "      <th>nom_6</th>\n",
       "      <th>nom_7</th>\n",
       "      <th>nom_8</th>\n",
       "      <th>nom_9</th>\n",
       "      <th>ord_1</th>\n",
       "      <th>ord_2</th>\n",
       "      <th>ord_3</th>\n",
       "      <th>ord_4</th>\n",
       "      <th>ord_5</th>\n",
       "    </tr>\n",
       "  </thead>\n",
       "  <tbody>\n",
       "    <tr>\n",
       "      <th>count</th>\n",
       "      <td>523821</td>\n",
       "      <td>523757</td>\n",
       "      <td>523586</td>\n",
       "      <td>523710</td>\n",
       "      <td>523725</td>\n",
       "      <td>523642</td>\n",
       "      <td>523754</td>\n",
       "      <td>524031</td>\n",
       "      <td>523727</td>\n",
       "      <td>523823</td>\n",
       "      <td>524017</td>\n",
       "      <td>523725</td>\n",
       "      <td>523778</td>\n",
       "      <td>523694</td>\n",
       "      <td>523891</td>\n",
       "      <td>523867</td>\n",
       "      <td>524095</td>\n",
       "    </tr>\n",
       "    <tr>\n",
       "      <th>unique</th>\n",
       "      <td>2</td>\n",
       "      <td>2</td>\n",
       "      <td>3</td>\n",
       "      <td>6</td>\n",
       "      <td>6</td>\n",
       "      <td>6</td>\n",
       "      <td>4</td>\n",
       "      <td>1220</td>\n",
       "      <td>1519</td>\n",
       "      <td>222</td>\n",
       "      <td>222</td>\n",
       "      <td>2218</td>\n",
       "      <td>5</td>\n",
       "      <td>6</td>\n",
       "      <td>15</td>\n",
       "      <td>26</td>\n",
       "      <td>190</td>\n",
       "    </tr>\n",
       "    <tr>\n",
       "      <th>top</th>\n",
       "      <td>F</td>\n",
       "      <td>N</td>\n",
       "      <td>Red</td>\n",
       "      <td>Triangle</td>\n",
       "      <td>Hamster</td>\n",
       "      <td>India</td>\n",
       "      <td>Theremin</td>\n",
       "      <td>423976253</td>\n",
       "      <td>ea8c5e181</td>\n",
       "      <td>c79d2197d</td>\n",
       "      <td>15f03b1f4</td>\n",
       "      <td>8f3276a6e</td>\n",
       "      <td>Novice</td>\n",
       "      <td>Freezing</td>\n",
       "      <td>n</td>\n",
       "      <td>N</td>\n",
       "      <td>Fl</td>\n",
       "    </tr>\n",
       "    <tr>\n",
       "      <th>freq</th>\n",
       "      <td>329627</td>\n",
       "      <td>281108</td>\n",
       "      <td>291147</td>\n",
       "      <td>147917</td>\n",
       "      <td>148355</td>\n",
       "      <td>148572</td>\n",
       "      <td>277705</td>\n",
       "      <td>867</td>\n",
       "      <td>728</td>\n",
       "      <td>4537</td>\n",
       "      <td>4518</td>\n",
       "      <td>523</td>\n",
       "      <td>144512</td>\n",
       "      <td>128452</td>\n",
       "      <td>64015</td>\n",
       "      <td>35891</td>\n",
       "      <td>9503</td>\n",
       "    </tr>\n",
       "  </tbody>\n",
       "</table>\n",
       "</div>"
      ],
      "text/plain": [
       "         bin_3   bin_4   nom_0     nom_1    nom_2   nom_3     nom_4  \\\n",
       "count   523821  523757  523586    523710   523725  523642    523754   \n",
       "unique       2       2       3         6        6       6         4   \n",
       "top          F       N     Red  Triangle  Hamster   India  Theremin   \n",
       "freq    329627  281108  291147    147917   148355  148572    277705   \n",
       "\n",
       "            nom_5      nom_6      nom_7      nom_8      nom_9   ord_1  \\\n",
       "count      524031     523727     523823     524017     523725  523778   \n",
       "unique       1220       1519        222        222       2218       5   \n",
       "top     423976253  ea8c5e181  c79d2197d  15f03b1f4  8f3276a6e  Novice   \n",
       "freq          867        728       4537       4518        523  144512   \n",
       "\n",
       "           ord_2   ord_3   ord_4   ord_5  \n",
       "count     523694  523891  523867  524095  \n",
       "unique         6      15      26     190  \n",
       "top     Freezing       n       N      Fl  \n",
       "freq      128452   64015   35891    9503  "
      ]
     },
     "execution_count": 19,
     "metadata": {},
     "output_type": "execute_result"
    }
   ],
   "source": [
    "X_train.describe(include='O')"
   ]
  },
  {
   "cell_type": "code",
   "execution_count": 18,
   "metadata": {
    "scrolled": false
   },
   "outputs": [
    {
     "name": "stdout",
     "output_type": "stream",
     "text": [
      "bin_0\n",
      "0.0    475550\n",
      "1.0     48325\n",
      "Name: bin_0, dtype: int64\n",
      "********************\n",
      "bin_1\n",
      "0.0    426525\n",
      "1.0     97263\n",
      "Name: bin_1, dtype: int64\n",
      "********************\n",
      "bin_2\n",
      "0.0    377773\n",
      "1.0    146069\n",
      "Name: bin_2, dtype: int64\n",
      "********************\n",
      "bin_3\n",
      "F    329627\n",
      "T    194194\n",
      "Name: bin_3, dtype: int64\n",
      "********************\n",
      "bin_4\n",
      "N    281108\n",
      "Y    242649\n",
      "Name: bin_4, dtype: int64\n",
      "********************\n",
      "nom_0\n",
      "Red      291147\n",
      "Blue     185015\n",
      "Green     47424\n",
      "Name: nom_0, dtype: int64\n",
      "********************\n",
      "nom_1\n",
      "Triangle     147917\n",
      "Polygon      137268\n",
      "Trapezoid    107633\n",
      "Circle        94375\n",
      "Square        23751\n",
      "Star          12766\n",
      "Name: nom_1, dtype: int64\n",
      "********************\n",
      "nom_2\n",
      "Hamster    148355\n",
      "Axolotl    137156\n",
      "Lion       107592\n",
      "Dog         94215\n",
      "Cat         23676\n",
      "Snake       12731\n",
      "Name: nom_2, dtype: int64\n",
      "********************\n",
      "nom_3\n",
      "India         148572\n",
      "Costa Rica    136569\n",
      "Russia        107921\n",
      "Finland        94058\n",
      "Canada         23700\n",
      "China          12822\n",
      "Name: nom_3, dtype: int64\n",
      "********************\n",
      "nom_4\n",
      "Theremin    277705\n",
      "Bassoon     177071\n",
      "Oboe         44930\n",
      "Piano        24048\n",
      "Name: nom_4, dtype: int64\n",
      "********************\n",
      "nom_5\n",
      "423976253    867\n",
      "360a16627    866\n",
      "3ad40eeef    865\n",
      "bcdb1d6a1    865\n",
      "251c8292d    864\n",
      "            ... \n",
      "7335087fd      3\n",
      "30019ce8a      3\n",
      "0385d0739      1\n",
      "d6bb2181a      1\n",
      "b3ad70fcb      1\n",
      "Name: nom_5, Length: 1220, dtype: int64\n",
      "********************\n",
      "nom_6\n",
      "ea8c5e181    728\n",
      "9fa481341    709\n",
      "32e9bd1ff    709\n",
      "2b94ada45    708\n",
      "840e7f4b5    699\n",
      "            ... \n",
      "a18f02793      3\n",
      "322548bed      3\n",
      "b4b8de4b9      2\n",
      "d6ea07c05      2\n",
      "3a121fefb      1\n",
      "Name: nom_6, Length: 1519, dtype: int64\n",
      "********************\n",
      "nom_7\n",
      "c79d2197d    4537\n",
      "4ae48e857    4515\n",
      "86ec768cd    4472\n",
      "a7059911d    4435\n",
      "41901460a    4430\n",
      "             ... \n",
      "b39008216     171\n",
      "1828818ab     157\n",
      "75d0e3ef8     136\n",
      "deec583dd      86\n",
      "e9c57c4aa      73\n",
      "Name: nom_7, Length: 222, dtype: int64\n",
      "********************\n",
      "nom_8\n",
      "15f03b1f4    4518\n",
      "484c96b82    4510\n",
      "7d7c02c57    4500\n",
      "158183c63    4499\n",
      "5859a8a06    4481\n",
      "             ... \n",
      "8d31d1ab3     181\n",
      "4584d6fcd     155\n",
      "607c26084     132\n",
      "115d9fd8b      94\n",
      "6492aecc3      55\n",
      "Name: nom_8, Length: 222, dtype: int64\n",
      "********************\n",
      "nom_9\n",
      "8f3276a6e    523\n",
      "483535452    515\n",
      "c5361037c    510\n",
      "01a1a04c5    507\n",
      "65b262989    507\n",
      "            ... \n",
      "978258393      2\n",
      "1538d82e9      2\n",
      "5f565a682      1\n",
      "d1e6704ed      1\n",
      "3d19cd31d      1\n",
      "Name: nom_9, Length: 2218, dtype: int64\n",
      "********************\n",
      "ord_0\n",
      "1.0    205309\n",
      "3.0    177909\n",
      "2.0    140310\n",
      "Name: ord_0, dtype: int64\n",
      "********************\n",
      "ord_1\n",
      "Novice         144512\n",
      "Expert         125839\n",
      "Contributor     98775\n",
      "Grandmaster     86347\n",
      "Master          68305\n",
      "Name: ord_1, dtype: int64\n",
      "********************\n",
      "ord_2\n",
      "Freezing       128452\n",
      "Warm           111744\n",
      "Cold            88229\n",
      "Boiling Hot     76296\n",
      "Hot             60678\n",
      "Lava Hot        58295\n",
      "Name: ord_2, dtype: int64\n",
      "********************\n",
      "ord_3\n",
      "n    64015\n",
      "a    58731\n",
      "m    52220\n",
      "c    51008\n",
      "h    50110\n",
      "o    41036\n",
      "b    40236\n",
      "e    34941\n",
      "k    34790\n",
      "i    31355\n",
      "d    27584\n",
      "f    26486\n",
      "g     5553\n",
      "j     3276\n",
      "l     2550\n",
      "Name: ord_3, dtype: int64\n",
      "********************\n",
      "ord_4\n",
      "N    35891\n",
      "P    34145\n",
      "Y    33098\n",
      "A    33008\n",
      "R    29751\n",
      "U    29483\n",
      "M    29317\n",
      "X    29191\n",
      "C    28962\n",
      "H    28097\n",
      "Q    27194\n",
      "T    26755\n",
      "O    23061\n",
      "B    22706\n",
      "E    19651\n",
      "K    19413\n",
      "I    17762\n",
      "D    15529\n",
      "F    15008\n",
      "W     7430\n",
      "Z     5223\n",
      "S     4110\n",
      "G     3043\n",
      "V     2797\n",
      "J     1771\n",
      "L     1471\n",
      "Name: ord_4, dtype: int64\n",
      "********************\n",
      "ord_5\n",
      "Fl    9503\n",
      "DN    8614\n",
      "Sz    7763\n",
      "RV    5120\n",
      "oJ    5060\n",
      "      ... \n",
      "vw     172\n",
      "gV     115\n",
      "vQ     114\n",
      "eA      79\n",
      "Zv      75\n",
      "Name: ord_5, Length: 190, dtype: int64\n",
      "********************\n",
      "day\n",
      "3.0    102602\n",
      "5.0     99442\n",
      "6.0     87578\n",
      "7.0     77838\n",
      "1.0     76216\n",
      "2.0     58944\n",
      "4.0     21230\n",
      "Name: day, dtype: int64\n",
      "********************\n",
      "month\n",
      "8.0     71206\n",
      "3.0     63078\n",
      "5.0     62006\n",
      "12.0    61560\n",
      "6.0     54350\n",
      "7.0     48265\n",
      "1.0     46955\n",
      "11.0    46066\n",
      "2.0     36626\n",
      "9.0     18620\n",
      "4.0     13125\n",
      "10.0     1960\n",
      "Name: month, dtype: int64\n",
      "********************\n"
     ]
    }
   ],
   "source": [
    "for col in X_train.columns:\n",
    "    print(col)\n",
    "    print(X_train[col].value_counts())\n",
    "    print(\"*\" * 20)"
   ]
  },
  {
   "cell_type": "markdown",
   "metadata": {},
   "source": [
    "## Data Preprocessing\n",
    "\n",
    "Let's outline our data processing strategy!"
   ]
  },
  {
   "cell_type": "markdown",
   "metadata": {},
   "source": [
    "#### Discuss:\n",
    "\n",
    "Some questions we can ask ourselves:\n",
    "\n",
    "> How will we handle any null values? How will we handle any categorical features? What if our categorical features have 20+ unique values in each column? How will we scale our features?"
   ]
  },
  {
   "cell_type": "markdown",
   "metadata": {},
   "source": [
    "- start with a simple imputer to fill with all \"Unknown\"\n",
    "- categories with <20 uniques: one-hot-encode to make binary\n",
    "- categories with >20 uniques ... ???\n",
    "    - we could drop those columns\n",
    "    - we could build indicator columns for the most common\n",
    "    - we could frequency encode\n"
   ]
  },
  {
   "cell_type": "code",
   "execution_count": 21,
   "metadata": {},
   "outputs": [],
   "source": [
    "used_cols = []\n",
    "for col in X_train.columns:\n",
    "    if len(X_train[col].unique()) < 30:\n",
    "        used_cols.append(col)"
   ]
  },
  {
   "cell_type": "code",
   "execution_count": 22,
   "metadata": {},
   "outputs": [
    {
     "data": {
      "text/plain": [
       "['bin_0',\n",
       " 'bin_1',\n",
       " 'bin_2',\n",
       " 'bin_3',\n",
       " 'bin_4',\n",
       " 'nom_0',\n",
       " 'nom_1',\n",
       " 'nom_2',\n",
       " 'nom_3',\n",
       " 'nom_4',\n",
       " 'ord_0',\n",
       " 'ord_1',\n",
       " 'ord_2',\n",
       " 'ord_3',\n",
       " 'ord_4',\n",
       " 'day',\n",
       " 'month']"
      ]
     },
     "execution_count": 22,
     "metadata": {},
     "output_type": "execute_result"
    }
   ],
   "source": [
    "used_cols"
   ]
  },
  {
   "cell_type": "code",
   "execution_count": 23,
   "metadata": {},
   "outputs": [
    {
     "name": "stdout",
     "output_type": "stream",
     "text": [
      "<class 'pandas.core.frame.DataFrame'>\n",
      "Int64Index: 540000 entries, 111903 to 305711\n",
      "Data columns (total 17 columns):\n",
      " #   Column  Non-Null Count   Dtype  \n",
      "---  ------  --------------   -----  \n",
      " 0   bin_0   523875 non-null  float64\n",
      " 1   bin_1   523788 non-null  float64\n",
      " 2   bin_2   523842 non-null  float64\n",
      " 3   bin_3   523821 non-null  object \n",
      " 4   bin_4   523757 non-null  object \n",
      " 5   nom_0   523586 non-null  object \n",
      " 6   nom_1   523710 non-null  object \n",
      " 7   nom_2   523725 non-null  object \n",
      " 8   nom_3   523642 non-null  object \n",
      " 9   nom_4   523754 non-null  object \n",
      " 10  ord_0   523528 non-null  float64\n",
      " 11  ord_1   523778 non-null  object \n",
      " 12  ord_2   523694 non-null  object \n",
      " 13  ord_3   523891 non-null  object \n",
      " 14  ord_4   523867 non-null  object \n",
      " 15  day     523850 non-null  float64\n",
      " 16  month   523817 non-null  float64\n",
      "dtypes: float64(6), object(11)\n",
      "memory usage: 74.2+ MB\n"
     ]
    }
   ],
   "source": [
    "X_train[used_cols].info()"
   ]
  },
  {
   "cell_type": "markdown",
   "metadata": {},
   "source": [
    "Let's build a column transformer to define our data processing steps. Note that it's typically easiest to create list-like arrays of column names to match up with each processing step. Also - don't repeat columns! SKLearn's ColumnTransformer needs the lists of features it's processing to be mutually exclusive.\n",
    "\n",
    "Reference: https://scikit-learn.org/stable/auto_examples/compose/plot_column_transformer_mixed_types.html"
   ]
  },
  {
   "cell_type": "code",
   "execution_count": 24,
   "metadata": {},
   "outputs": [],
   "source": [
    "# Your code here\n",
    "\n",
    "binary_objects = ['bin_3', 'bin_4']\n",
    "nom_objects = [col for col in used_cols if \"nom_\" in col]\n",
    "ord_objects = ['ord_1', 'ord_2', 'ord_3', 'ord_4']"
   ]
  },
  {
   "cell_type": "code",
   "execution_count": 29,
   "metadata": {},
   "outputs": [
    {
     "data": {
      "text/plain": [
       "['bin_3',\n",
       " 'bin_4',\n",
       " 'nom_0',\n",
       " 'nom_1',\n",
       " 'nom_2',\n",
       " 'nom_3',\n",
       " 'nom_4',\n",
       " 'ord_1',\n",
       " 'ord_2',\n",
       " 'ord_3',\n",
       " 'ord_4']"
      ]
     },
     "execution_count": 29,
     "metadata": {},
     "output_type": "execute_result"
    }
   ],
   "source": [
    "obj_cols = [col for col in used_cols if X_train[col].dtype == 'O']\n",
    "obj_cols"
   ]
  },
  {
   "cell_type": "code",
   "execution_count": 31,
   "metadata": {},
   "outputs": [],
   "source": [
    "obj_transformer = Pipeline(steps=[\n",
    "    (\"obj_imputer\", SimpleImputer(strategy = 'constant', fill_value='WHATEVER')),\n",
    "    ('ohe', OneHotEncoder(drop=['WHATEVER']*len(obj_cols)))\n",
    "])"
   ]
  },
  {
   "cell_type": "code",
   "execution_count": 30,
   "metadata": {},
   "outputs": [
    {
     "data": {
      "text/plain": [
       "['bin_0', 'bin_1', 'bin_2', 'ord_0', 'day', 'month']"
      ]
     },
     "execution_count": 30,
     "metadata": {},
     "output_type": "execute_result"
    }
   ],
   "source": [
    "num_cols = [col for col in used_cols if X_train[col].dtype != 'O']\n",
    "num_cols"
   ]
  },
  {
   "cell_type": "code",
   "execution_count": 35,
   "metadata": {},
   "outputs": [],
   "source": [
    "num_transformer = Pipeline(steps = [\n",
    "    ('num_imputer', SimpleImputer(strategy='most_frequent')),\n",
    "    ('scaler', MinMaxScaler())\n",
    "])"
   ]
  },
  {
   "cell_type": "code",
   "execution_count": 36,
   "metadata": {},
   "outputs": [],
   "source": [
    "preprocessor = ColumnTransformer(transformers=[\n",
    "    (\"num_trans\", num_transformer, num_cols),\n",
    "    ('obj_trans', obj_transformer, obj_cols)\n",
    "])"
   ]
  },
  {
   "cell_type": "code",
   "execution_count": 37,
   "metadata": {},
   "outputs": [
    {
     "data": {
      "text/plain": [
       "<540000x87 sparse matrix of type '<class 'numpy.float64'>'\n",
       "\twith 7327930 stored elements in Compressed Sparse Row format>"
      ]
     },
     "execution_count": 37,
     "metadata": {},
     "output_type": "execute_result"
    }
   ],
   "source": [
    "preprocessor.fit_transform(X_train)"
   ]
  },
  {
   "cell_type": "markdown",
   "metadata": {},
   "source": [
    "## Baseline Model\n",
    "\n",
    "Let's find out how hard our problem is, by creating a model-less baseline!\n",
    "\n",
    "If we use SKLearn's `DummyClassifier`, we can create our first full Pipeline!\n",
    "\n",
    "Reference: https://scikit-learn.org/stable/modules/compose.html#pipeline"
   ]
  },
  {
   "cell_type": "code",
   "execution_count": 38,
   "metadata": {},
   "outputs": [],
   "source": [
    "# Your code here\n",
    "\n",
    "clf = Pipeline(steps = [\n",
    "    ('preprocessor', preprocessor),\n",
    "    ('modelless_baseline', DummyClassifier(strategy='prior'))\n",
    "])"
   ]
  },
  {
   "cell_type": "code",
   "execution_count": 41,
   "metadata": {},
   "outputs": [],
   "source": [
    "clf.fit(X_train, y_train)\n",
    "\n",
    "train_preds = clf.predict(X_train)"
   ]
  },
  {
   "cell_type": "code",
   "execution_count": 42,
   "metadata": {},
   "outputs": [
    {
     "data": {
      "text/plain": [
       "array([0, 0, 0, ..., 0, 0, 0])"
      ]
     },
     "execution_count": 42,
     "metadata": {},
     "output_type": "execute_result"
    }
   ],
   "source": [
    "train_preds"
   ]
  },
  {
   "cell_type": "code",
   "execution_count": 44,
   "metadata": {},
   "outputs": [
    {
     "data": {
      "text/plain": [
       "0    438735\n",
       "1    101265\n",
       "Name: target, dtype: int64"
      ]
     },
     "execution_count": 44,
     "metadata": {},
     "output_type": "execute_result"
    }
   ],
   "source": [
    "y_train.value_counts()"
   ]
  },
  {
   "cell_type": "code",
   "execution_count": 45,
   "metadata": {},
   "outputs": [],
   "source": [
    "cv_results = cross_validate(clf, X_train, y_train, cv=5)"
   ]
  },
  {
   "cell_type": "code",
   "execution_count": 47,
   "metadata": {},
   "outputs": [
    {
     "data": {
      "text/plain": [
       "array([0.81247222, 0.81247222, 0.81247222, 0.81247222, 0.81247222])"
      ]
     },
     "execution_count": 47,
     "metadata": {},
     "output_type": "execute_result"
    }
   ],
   "source": [
    "cv_results['test_score']"
   ]
  },
  {
   "cell_type": "code",
   "execution_count": 48,
   "metadata": {},
   "outputs": [
    {
     "data": {
      "text/plain": [
       "<sklearn.metrics._plot.confusion_matrix.ConfusionMatrixDisplay at 0x7f87427a70a0>"
      ]
     },
     "execution_count": 48,
     "metadata": {},
     "output_type": "execute_result"
    },
    {
     "data": {
      "image/png": "[encoded data removed]",
      "text/plain": [
       "<Figure size 432x288 with 2 Axes>"
      ]
     },
     "metadata": {
      "needs_background": "light"
     },
     "output_type": "display_data"
    }
   ],
   "source": [
    "plot_confusion_matrix(clf, X_train, y_train)"
   ]
  },
  {
   "cell_type": "code",
   "execution_count": 49,
   "metadata": {},
   "outputs": [
    {
     "data": {
      "text/plain": [
       "<sklearn.metrics._plot.roc_curve.RocCurveDisplay at 0x7f872f0f5f40>"
      ]
     },
     "execution_count": 49,
     "metadata": {},
     "output_type": "execute_result"
    },
    {
     "data": {
      "image/png": "[encoded data removed]",
      "text/plain": [
       "<Figure size 432x288 with 1 Axes>"
      ]
     },
     "metadata": {
      "needs_background": "light"
     },
     "output_type": "display_data"
    }
   ],
   "source": [
    "plot_roc_curve(clf, X_train, y_train)"
   ]
  },
  {
   "cell_type": "markdown",
   "metadata": {},
   "source": [
    "#### Evaluate:\n",
    "\n",
    "- \n"
   ]
  },
  {
   "cell_type": "markdown",
   "metadata": {},
   "source": [
    "## Logistic Regression\n",
    "\n",
    "Let's build an initial logistic regression model, using the same preprocessing steps:"
   ]
  },
  {
   "cell_type": "code",
   "execution_count": 50,
   "metadata": {},
   "outputs": [],
   "source": [
    "# Your code here\n",
    "clf_lr = Pipeline(steps=[\n",
    "    ('preprocessor', preprocessor),\n",
    "    ('logreg', LogisticRegression(max_iter=1000, random_state=42))\n",
    "])"
   ]
  },
  {
   "cell_type": "code",
   "execution_count": 53,
   "metadata": {},
   "outputs": [],
   "source": [
    "clf_lr.fit(X_train, y_train)\n",
    "\n",
    "cv_results = cross_validate(clf_lr, X_train, y_train, scoring='roc_auc')"
   ]
  },
  {
   "cell_type": "code",
   "execution_count": 54,
   "metadata": {},
   "outputs": [
    {
     "data": {
      "text/plain": [
       "array([0.73592693, 0.73430216, 0.73870167, 0.73259738, 0.73553261])"
      ]
     },
     "execution_count": 54,
     "metadata": {},
     "output_type": "execute_result"
    }
   ],
   "source": [
    "cv_results['test_score']"
   ]
  },
  {
   "cell_type": "code",
   "execution_count": 55,
   "metadata": {},
   "outputs": [
    {
     "data": {
      "text/plain": [
       "<sklearn.metrics._plot.roc_curve.RocCurveDisplay at 0x7f872eda0460>"
      ]
     },
     "execution_count": 55,
     "metadata": {},
     "output_type": "execute_result"
    },
    {
     "data": {
      "image/png": "[encoded data removed]",
      "text/plain": [
       "<Figure size 432x288 with 1 Axes>"
      ]
     },
     "metadata": {
      "needs_background": "light"
     },
     "output_type": "display_data"
    }
   ],
   "source": [
    "plot_roc_curve(clf_lr, X_train, y_train)"
   ]
  },
  {
   "cell_type": "code",
   "execution_count": 56,
   "metadata": {},
   "outputs": [
    {
     "data": {
      "text/plain": [
       "<sklearn.metrics._plot.confusion_matrix.ConfusionMatrixDisplay at 0x7f872f7b5a00>"
      ]
     },
     "execution_count": 56,
     "metadata": {},
     "output_type": "execute_result"
    },
    {
     "data": {
      "image/png": "[encoded data removed]",
      "text/plain": [
       "<Figure size 432x288 with 2 Axes>"
      ]
     },
     "metadata": {
      "needs_background": "light"
     },
     "output_type": "display_data"
    }
   ],
   "source": [
    "plot_confusion_matrix(clf_lr, X_train, y_train)"
   ]
  },
  {
   "cell_type": "markdown",
   "metadata": {},
   "source": [
    "#### Evaluate:\n",
    "\n",
    "- \n"
   ]
  },
  {
   "cell_type": "markdown",
   "metadata": {},
   "source": [
    "## Iterate\n",
    "\n",
    "Let's either change something in our preprocessor, change something about our logistic regression model set up, or change the features we're using, then try again."
   ]
  },
  {
   "cell_type": "code",
   "execution_count": null,
   "metadata": {},
   "outputs": [],
   "source": [
    "# Your code here"
   ]
  },
  {
   "cell_type": "code",
   "execution_count": null,
   "metadata": {},
   "outputs": [],
   "source": []
  },
  {
   "cell_type": "markdown",
   "metadata": {},
   "source": [
    "#### Evaluate:\n",
    "\n",
    "- \n"
   ]
  },
  {
   "cell_type": "markdown",
   "metadata": {},
   "source": [
    "## Validate\n",
    "\n",
    "How does our best model (so far) perform on our holdout val set?"
   ]
  },
  {
   "cell_type": "code",
   "execution_count": 62,
   "metadata": {},
   "outputs": [],
   "source": [
    "# Your code here\n",
    "val_probs = clf_lr.predict_proba(X_val)[:,1]"
   ]
  },
  {
   "cell_type": "code",
   "execution_count": 63,
   "metadata": {},
   "outputs": [
    {
     "data": {
      "text/plain": [
       "0.7380504150035773"
      ]
     },
     "execution_count": 63,
     "metadata": {},
     "output_type": "execute_result"
    }
   ],
   "source": [
    "roc_auc_score(y_val, val_probs)"
   ]
  },
  {
   "cell_type": "markdown",
   "metadata": {},
   "source": [
    "#### Discuss:\n",
    "\n",
    "- \n"
   ]
  },
  {
   "cell_type": "markdown",
   "metadata": {},
   "source": [
    "## Resources\n",
    "\n",
    "Check out Aurélien Geron's notebook of an [end-to-end ml project](https://github.com/ageron/handson-ml2/blob/master/02_end_to_end_machine_learning_project.ipynb) on his GitHub repo based around his book [_Hands-On Machine Learning with Scikit-Learn and TensorFlow: Concepts, Tools, and Techniques to Build Intelligent Systems (2nd ed)_](https://www.oreilly.com/library/view/hands-on-machine-learning/9781491962282/)"
   ]
  },
  {
   "cell_type": "markdown",
   "metadata": {},
   "source": [
    "## Level Up - What to do with too many options in categorical columns?\n",
    "\n",
    "\n",
    "New library you can install with MORE encoding techniques, beyond one-hot encoding! https://contrib.scikit-learn.org/category_encoders/\n",
    "\n",
    "- (these work within SKLearn pipelines, since they're written in the SKLearn style!)\n"
   ]
  }
 ],
 "metadata": {
  "kernelspec": {
   "display_name": "Python (learn-env)",
   "language": "python",
   "name": "learn-env"
  },
  "language_info": {
   "codemirror_mode": {
    "name": "ipython",
    "version": 3
   },
   "file_extension": ".py",
   "mimetype": "text/x-python",
   "name": "python",
   "nbconvert_exporter": "python",
   "pygments_lexer": "ipython3",
   "version": "3.8.5"
  }
 },
 "nbformat": 4,
 "nbformat_minor": 4
}
