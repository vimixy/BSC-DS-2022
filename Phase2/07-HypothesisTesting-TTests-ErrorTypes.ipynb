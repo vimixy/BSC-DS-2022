{
 "cells": [
  {
   "cell_type": "markdown",
   "metadata": {},
   "source": [
    "# Hypothesis Testing: t-Tests"
   ]
  },
  {
   "cell_type": "markdown",
   "metadata": {
    "hidden": true
   },
   "source": [
    "## Objectives\n",
    "\n",
    "- Understand how Type 1 & Type 2 errors can be made in hypothesis tests\n",
    "- Perform a Student's t-test and interpret the results"
   ]
  },
  {
   "cell_type": "code",
   "execution_count": null,
   "metadata": {},
   "outputs": [],
   "source": [
    "# Imports\n",
    "import numpy as np\n",
    "from scipy import stats\n",
    "import matplotlib.pyplot as plt"
   ]
  },
  {
   "cell_type": "markdown",
   "metadata": {},
   "source": [
    "## We All Make Mistakes\n",
    "\n",
    "Statistics is a field of imperfect knowledge: we don't know the **_truth_**, we use what we know to make informed guesses/inferences.\n",
    "\n",
    "We make mistakes ¯\\\\\\_(ツ)\\_/¯ <!--markdown shrug-->\n",
    "\n",
    "But it's important to know _what kind_ of mistakes we can make in our process and recognize _how frequently_ we might make those mistakes."
   ]
  },
  {
   "cell_type": "markdown",
   "metadata": {},
   "source": [
    "It would help if we go over some terminology to help us discuss this types of errors.\n",
    "\n",
    "When we get it **right** we have **true positives** and **true negatives**. When we get it **wrong** we either have a **false positive** or a **false negative**. "
   ]
  },
  {
   "cell_type": "markdown",
   "metadata": {},
   "source": [
    "![basic confusion matrix](images/type-1-and-type-2-errors.png)\n"
   ]
  },
  {
   "cell_type": "markdown",
   "metadata": {},
   "source": [
    "**Positive** in this sense refers to the thing we're trying to detect, the presence of some factor that leads to a statistically significant difference (posited by our alternative hypothesis).\n",
    "\n",
    "**Negative** in this sense refers to the status quo, that there is no factor leading to a stastically significant difference (what we capture within the null hypothesis).\n",
    "\n",
    "When we get it wrong:\n",
    "\n",
    "> **False Positives:  Type 1 Errors** - Predicting the presence of some factor (rejecting the null hypothesis) when in fact it _IS NOT_ there (the null hypothesis should not be rejected) \n",
    ">\n",
    "> **False Negatives: Type 2 Errors** - Failing to predict the presence of some factor (failing to reject the null hypothesis) when in fact it _IS_ there (the null hypothesis should be rejected)\n",
    "\n",
    "Thus, when we get it right:\n",
    "\n",
    "> **True Positives:**  Predicting the presence of some factor (rejecting the null hypothesis) when in fact it _IS_ there (the null hypothesis should be rejected)\n",
    ">\n",
    "> **True Negatives:**  Failing to predict the presence of some factor (failing to reject the null hypothesis) when in fact it _IS NOT_ there (the null hypothesis should not be rejected)"
   ]
  },
  {
   "cell_type": "markdown",
   "metadata": {},
   "source": [
    "We've discussed this already a bit - when we set our significance level ($\\alpha$), we're defining our tolerance for a Type 1 Error. For example, when we set $\\alpha = .05$, we're saying we're okay with a 5% chance of committing a Type 1 Error."
   ]
  },
  {
   "cell_type": "markdown",
   "metadata": {},
   "source": [
    "The same goes for Type 2 Errors, typically denoted with $\\beta$, which is typically discussed as **statistical power** ($1 - \\beta$): when we set the power of our test at 80% ($\\beta = .2$ - a fairly common value, we'll discuss this more in the next lecture though!), we say we're okay with a 20% chance of committing a Type 2 Error."
   ]
  },
  {
   "cell_type": "markdown",
   "metadata": {
    "heading_collapsed": true,
    "hidden": true
   },
   "source": [
    "## Visualizing The Errors"
   ]
  },
  {
   "cell_type": "markdown",
   "metadata": {
    "hidden": true
   },
   "source": [
    "We can think of a hypothesis test as comparing two normal distributions (or $t$-distributions or whichever test we're doing). \n",
    "\n",
    "There's the sample's distribution and the comparison's distribution given by the null hypothesis (aka the population in a one-sample test)."
   ]
  },
  {
   "cell_type": "code",
   "execution_count": null,
   "metadata": {
    "hidden": true
   },
   "outputs": [],
   "source": [
    "# Visulization of two samples being compared with one another\n",
    "fig, ax = plt.subplots(figsize=(10,6))\n",
    "\n",
    "# Plot Group A\n",
    "y = np.linspace(stats.norm(0, 1).ppf(0.001),\n",
    "             stats.norm(0, 1).ppf(0.999), 100)\n",
    "\n",
    "alpha = stats.norm(0, 1).ppf(0.95)\n",
    "\n",
    "ax.plot(y, stats.norm(0, 1).pdf(y), 'r-', lw=5, alpha=0.6, label='Population/Comparison Group')\n",
    "ax.axvline(alpha)\n",
    "\n",
    "px = np.arange(stats.norm(0, 1).ppf(0.95), stats.norm(0, 1).ppf(0.999), 0.001)\n",
    "ax.fill_between(px, stats.norm(0, 1).pdf(px), color = 'pink')\n",
    "\n",
    "# Plot Group B\n",
    "x = np.linspace(stats.norm(3, 1).ppf(0.001),\n",
    "             stats.norm(3, 1).ppf(0.999), 100)\n",
    "\n",
    "ax.plot(x, stats.norm(3, 1).pdf(x), 'b-', lw=5, alpha=0.6, label='Sample')\n",
    "\n",
    "\n",
    "px = np.arange(stats.norm(0, 1).ppf(0.5),stats.norm(0, 1).ppf(0.95), 0.001)\n",
    "ax.fill_between(px, stats.norm(3, 1).pdf(px), color='blue')\n",
    "\n",
    "\n",
    "ax.legend(bbox_to_anchor =(1, 1))\n",
    "\n",
    "ax.set_title(\"\"\"Hypothesis Testing: Right-Tail Test\\n\n",
    "    $H_0$: sample DOES NOT show some increase compared to population/comparison group\\n\n",
    "    $H_A$: sample DOES show some increase compared to population/comparison group\"\"\")\n",
    "\n",
    "ax.text(1.35, 0.25, 'Alpha: .05', rotation=90)\n",
    "\n",
    "ax.annotate('Type I Error!', xy=(2, 0.02),\n",
    "            xytext=(2.75, 0.1), arrowprops={'facecolor': 'blue'})\n",
    "ax.annotate('Type II Error!', xy=(1, 0.02),\n",
    "            xytext=(-1.25, 0.1), arrowprops={'facecolor': 'red'})\n",
    "\n",
    "plt.tight_layout()"
   ]
  },
  {
   "cell_type": "markdown",
   "metadata": {
    "heading_collapsed": true
   },
   "source": [
    "## Beyond Normal: $t$-Tests"
   ]
  },
  {
   "cell_type": "markdown",
   "metadata": {},
   "source": [
    "First up, let's recap the steps to conduct a hypothesis test:\n",
    "\n",
    "\n",
    "1. State alternative hypothesis (and null)\n",
    "2. Decide your test     \n",
    "3. Specify significance level ($\\alpha$) \n",
    "4. Calculate test statistic \n",
    "5. Translate (either test statistic into a p-value or significance level into a significance threshold)\n",
    "6. Interpret"
   ]
  },
  {
   "cell_type": "markdown",
   "metadata": {
    "heading_collapsed": true,
    "hidden": true
   },
   "source": [
    "### $z$-tests vs $t$-tests"
   ]
  },
  {
   "cell_type": "markdown",
   "metadata": {
    "hidden": true
   },
   "source": [
    "<img src=\"images/z_or_t_test.png\" width=\"500\">"
   ]
  },
  {
   "cell_type": "markdown",
   "metadata": {
    "hidden": true
   },
   "source": [
    "We'll typically assume that our continuous variables come from normal distributions. But if we have a small sample size or don't know the population standard deviation, we have to make a *correction* to  the normal distribution. This is what the $t$-test effectively does for us by using a $t$-distribution over the normal distribution.\n",
    "\n",
    "As we saw previously, the $t$-distribution changes based on the degrees of freedom (number of data point in the sample). As the number of points increase, we approach the normal distribution."
   ]
  },
  {
   "cell_type": "markdown",
   "metadata": {
    "heading_collapsed": true,
    "hidden": true
   },
   "source": [
    "## Performing a One-Sample $t$-Test\n",
    "\n",
    "A more formal definition:\n",
    "\n",
    "For small sample sizes or samples with unknown population standard deviation, the _test statistic_ of the sample mean is given by the t-statistic,\n",
    "\n",
    "$$ t = \\frac{\\bar{x} - \\mu}{s/\\sqrt{n}} $$\n",
    "\n",
    "Here, $s$ is the sample standard deviation, which is used to estimate the population standard deviation, $\\bar{x}$ is the sample mean, $\\mu$ is the population mean, and $n$ is the sample size.\n",
    "\n",
    "The one-sample t-test tries to answer the question: **how likely we are to observe a t-statistic as extreme as our sample's given the null hypothesis that the sample and population have the same mean?**"
   ]
  },
  {
   "cell_type": "markdown",
   "metadata": {},
   "source": [
    "Luckily, _if_ our sample is an array-like form of data in python, we can do this in the stats library!\n",
    "\n",
    "`stats.ttest_1samp(sample_array, mu)`"
   ]
  },
  {
   "cell_type": "markdown",
   "metadata": {
    "heading_collapsed": true,
    "hidden": true,
    "slideshow": {
     "slide_type": "slide"
    }
   },
   "source": [
    "## Without `ttest_1samp`: Espresso Consistency"
   ]
  },
  {
   "cell_type": "markdown",
   "metadata": {
    "hidden": true,
    "slideshow": {
     "slide_type": "slide"
    }
   },
   "source": [
    "A coffee shop relocates from Manhattan to Brooklyn and wants to make sure that their lattes are consistent before and after their move. They buy a new machine and hire a new barista. In Manhattan, lattes are made with 4 oz of espresso. A random sample of 25 lattes made in their new store in Brooklyn shows a mean of 4.6 oz of espresso with a standard deviation of 0.22 oz. Are their lattes different now that they've relocated to Brooklyn? Use a significance level of $\\alpha = 0.05$."
   ]
  },
  {
   "cell_type": "markdown",
   "metadata": {
    "hidden": true
   },
   "source": [
    "**State the null and alternative hypotheses**\n",
    "\n",
    "- Null:\n",
    "- Alternative: "
   ]
  },
  {
   "cell_type": "markdown",
   "metadata": {
    "hidden": true
   },
   "source": [
    "**Perform the test**"
   ]
  },
  {
   "cell_type": "code",
   "execution_count": null,
   "metadata": {
    "hidden": true
   },
   "outputs": [],
   "source": [
    "# Your code here"
   ]
  },
  {
   "cell_type": "markdown",
   "metadata": {
    "hidden": true,
    "slideshow": {
     "slide_type": "notes"
    }
   },
   "source": [
    "**Interpret**\n",
    "\n",
    "- \n"
   ]
  },
  {
   "cell_type": "markdown",
   "metadata": {
    "heading_collapsed": true,
    "hidden": true,
    "slideshow": {
     "slide_type": "slide"
    }
   },
   "source": [
    "## With `ttest_1samp`: Food Delivery"
   ]
  },
  {
   "cell_type": "markdown",
   "metadata": {
    "hidden": true,
    "slideshow": {
     "slide_type": "slide"
    }
   },
   "source": [
    "It's well known that delivery services in your city are able to deliver food in an average of 26.8 minutes.\n",
    "\n",
    "You measure the delivery times of ten different restaurants in your neighborhood because you want to know if restaurants in your neighborhoods have the same delivery times as is expected across your city. Set your significance threshold to 0.05. "
   ]
  },
  {
   "cell_type": "code",
   "execution_count": null,
   "metadata": {},
   "outputs": [],
   "source": [
    "delivery_times = [28.4, 23.3, 30.4, 28.1, 29.4, 30.6, 27.8, 30.9, 27.0, 32.8]"
   ]
  },
  {
   "cell_type": "markdown",
   "metadata": {
    "hidden": true,
    "slideshow": {
     "slide_type": "slide"
    }
   },
   "source": [
    "**State the null and alternative hypotheses**\n",
    "\n",
    "- Null:\n",
    "- Alternative:"
   ]
  },
  {
   "cell_type": "markdown",
   "metadata": {
    "hidden": true
   },
   "source": [
    "**Perform the test**"
   ]
  },
  {
   "cell_type": "code",
   "execution_count": null,
   "metadata": {
    "hidden": true
   },
   "outputs": [],
   "source": [
    "# Code here"
   ]
  },
  {
   "cell_type": "markdown",
   "metadata": {
    "hidden": true
   },
   "source": [
    "**Interpret**\n",
    "\n",
    "- \n"
   ]
  },
  {
   "cell_type": "markdown",
   "metadata": {
    "hidden": true
   },
   "source": [
    "## BUT WAIT, THERE'S MORE\n",
    "\n",
    "More samples, that is!\n",
    "\n",
    "Up to this point, we've been comparing one sample to some assumed population values. But what if we want to compare two samples?"
   ]
  },
  {
   "cell_type": "markdown",
   "metadata": {},
   "source": [
    "### Enter: Two-sample t-tests\n",
    "\n",
    "There are **two types** of two-sample t-tests: paired and independent (unpaired) tests.\n",
    "\n",
    "#### Paired tests:\n",
    "\n",
    "How is a sample affected by a certain treatment? When the individuals in the sample remain the same and you compare how they change after treatment or some kind of change, you use a paired two-sample t-test. In other words, we're comparing **one sample that has been tested twice** (repeated measures) or when there are two samples that have been matched or \"paired\".\n",
    "\n",
    "The calculation here is the same as for our typical t-statistic: \n",
    "\n",
    "$$ t = \\frac{\\bar{x} - \\mu}{s/\\sqrt{n}} $$\n"
   ]
  },
  {
   "cell_type": "markdown",
   "metadata": {},
   "source": [
    "_If_ our two paired samples are array-like forms of data in python, we can do this in the stats library!\n",
    "\n",
    "```\n",
    "stats.ttest_rel(paired_v_1, paired_v_2)\n",
    "```"
   ]
  },
  {
   "cell_type": "markdown",
   "metadata": {},
   "source": [
    "#### Independent two-sample tests\n",
    "\n",
    "When we compare **two different, unrelated samples** to each other, we use an independent (or unpaired) two-sample t-test.\n",
    "\n",
    "The test statistic (t-statistic) for an unpaired two-sample t-test is _slightly different_ than the test statistic for the one-sample t-test.\n",
    "\n",
    "Assuming equal variances, the test statistic for a two-sample t-test is given by:\n",
    "\n",
    "$$ t = \\frac{\\bar{x_1} - \\bar{x_2}}{\\sqrt{s^2 \\left( \\frac{1}{n_1} + \\frac{1}{n_2} \\right)}}$$\n",
    "\n",
    "where $\\bar{x_1}$ is the mean of the first sample, $\\bar{x_2}$ is the mean of the second sample, $n_1$ is the sample size of the first sample, and $n_2$ is the sample size of the second sample.\n",
    "\n",
    "Then, $s^2$ is the pooled sample variance, $ s^2 = \\frac{\\sum_{i=1}^{n_1} \\left(x_i - \\bar{x_1}\\right)^2 + \\sum_{j=1}^{n_2} \\left(x_j - \\bar{x_2}\\right)^2 }{n_1 + n_2 - 2} $ \n",
    "\n",
    "NOTE: An independent two-sample t-test for samples of size $n_1$ and $n_2$ has $(n_1 + n_2 - 2)$ degrees of freedom.\n"
   ]
  },
  {
   "cell_type": "markdown",
   "metadata": {},
   "source": [
    "_If_ our two paired samples are array-like forms of data in python, we can do this in the stats library!\n",
    "\n",
    "```\n",
    "stats.ttest_ind(sample_1, sample_2)\n",
    "```\n",
    "\n",
    "And luckily, even if we don't have our samples as array-like forms of data, there's a function to just pass in our sets of sample statistics!\n",
    "\n",
    "```\n",
    "stats.ttest_ind_from_stats(mean1, std1, nobs1, mean2, std2, nobs2)\n",
    "```\n",
    "\n",
    "### Equal Variance?\n",
    "\n",
    "If your two independent samples have unequal variances and possibly unequal sample sizes, you should be sure to set the `equal_var` argument to `False` when running your test! The default argument is `True`.\n",
    "\n",
    "(if you care: this changes the test from a [Student's T-Test](https://en.wikipedia.org/wiki/Student%27s_t-test#Independent_two-sample_t-test) to a [Welch's T-Test](https://en.wikipedia.org/wiki/Welch%27s_t-test))"
   ]
  },
  {
   "cell_type": "markdown",
   "metadata": {},
   "source": [
    "### A Note on T-Tests in the Stats Library:\n",
    "\n",
    "The output of a t-test in the scipy stats library (so, `ttest_1samp`, `ttest_rel`, `ttest_ind`, etc) is a tuple with two pieces:\n",
    "- the test statistic\n",
    "- the p-value\n",
    "\n",
    "That's right - they go ahead and translate the test statistic into a p-value for you!\n",
    "\n",
    "#### BUT NOTE!\n",
    "\n",
    "If you plan to use the p-value provided by the test to compare to the significance level ($\\alpha$) you set, I recommend you use the `alternative` argument in the t-test functions to tell it what kind of test you're running: \n",
    "- `'two-sided'` tells the stats library you're running a two-tailed test\n",
    "- `'less'` tells the stats library you're running a left tailed test\n",
    "- `'greater'` tells the stats library you're running a right tailed test"
   ]
  },
  {
   "cell_type": "markdown",
   "metadata": {},
   "source": [
    "## Let's Try It!"
   ]
  },
  {
   "cell_type": "markdown",
   "metadata": {},
   "source": [
    "A sample of 20 data science students from Dr. Venkman's Data Science 101 lecture course showed an average of 80.5 points on the last test, with a standard deviation of 9.9 points. Meanwhile, a sample of 28 students from Dr. Yates's Data Science 101 lecture course showed an average of 86.3 points on the same test, with a standard deviation of 11.2 points. Are Dr. Yates's students performing (significantly) better than Dr. Venkman's? Assume the two student populations have equal variances and use an alpha level of 0.05."
   ]
  },
  {
   "cell_type": "markdown",
   "metadata": {},
   "source": [
    "#### What are your null and alternative hypotheses?\n",
    "\n",
    "- Null:\n",
    "- Alternative:\n"
   ]
  },
  {
   "cell_type": "markdown",
   "metadata": {},
   "source": [
    "#### What type of test?\n",
    "\n",
    "- \n"
   ]
  },
  {
   "cell_type": "markdown",
   "metadata": {},
   "source": [
    "#### What significance level?\n",
    "\n",
    "- \n"
   ]
  },
  {
   "cell_type": "markdown",
   "metadata": {},
   "source": [
    "#### Run the test!"
   ]
  },
  {
   "cell_type": "code",
   "execution_count": null,
   "metadata": {},
   "outputs": [],
   "source": [
    "# Your code here"
   ]
  },
  {
   "cell_type": "markdown",
   "metadata": {},
   "source": [
    "#### Translate? \n",
    "\n",
    "- \n"
   ]
  },
  {
   "cell_type": "markdown",
   "metadata": {},
   "source": [
    "#### Interpret?\n",
    "\n",
    "- \n"
   ]
  },
  {
   "cell_type": "code",
   "execution_count": null,
   "metadata": {},
   "outputs": [],
   "source": [
    "# Or can interpret via code"
   ]
  },
  {
   "cell_type": "markdown",
   "metadata": {},
   "source": [
    "## Another example, now with data\n",
    "\n",
    "We have avocado data from two regions: the Northern hemisphere and the Southern hemisphere."
   ]
  },
  {
   "cell_type": "code",
   "execution_count": null,
   "metadata": {},
   "outputs": [],
   "source": [
    "# Run this cell without changes\n",
    "import pandas as pd\n",
    "\n",
    "# Load the sample data from each hemisphere\n",
    "northern_hem = pd.read_csv('data/northern_hemisphere.csv')\n",
    "southern_hem = pd.read_csv('data/southern_hemisphere.csv')\n",
    "\n",
    "# Plot histograms\n",
    "fig, (ax1, ax2) = plt.subplots(1, 2, figsize=(12, 4))\n",
    "\n",
    "ax1.set_title('Sample of Average Avocado Prices: Northern Hemisphere')\n",
    "ax1.set_xlabel('Average Price')\n",
    "ax1.set_ylabel('Frequency')\n",
    "ax1.hist(northern_hem['Average Price'], bins=20)\n",
    "\n",
    "ax2.set_title('Sample of Average Avocado Prices: Southern Hemisphere')\n",
    "ax2.set_xlabel('Average Price')\n",
    "ax2.set_ylabel('Frequency')\n",
    "ax2.hist(southern_hem['Average Price'], bins=20)\n",
    "plt.show()"
   ]
  },
  {
   "cell_type": "markdown",
   "metadata": {},
   "source": [
    "We want to know if people in the Southern hemisphere spend **a different amount** on avocados on average than those in the Northern hemisphere.\n",
    "\n",
    "Use a significance level of $\\alpha = 0.05$. You can assume the two samples have equal variance."
   ]
  },
  {
   "cell_type": "markdown",
   "metadata": {},
   "source": [
    "#### What are your null and alternative hypotheses?\n",
    "\n",
    "- Null:\n",
    "- Alternative:\n"
   ]
  },
  {
   "cell_type": "markdown",
   "metadata": {},
   "source": [
    "#### What type of test?\n",
    "\n",
    "- \n"
   ]
  },
  {
   "cell_type": "markdown",
   "metadata": {},
   "source": [
    "#### What significance level?\n",
    "\n",
    "- \n"
   ]
  },
  {
   "cell_type": "markdown",
   "metadata": {},
   "source": [
    "#### Run the test!"
   ]
  },
  {
   "cell_type": "code",
   "execution_count": null,
   "metadata": {},
   "outputs": [],
   "source": [
    "# Your code here"
   ]
  },
  {
   "cell_type": "markdown",
   "metadata": {},
   "source": [
    "#### Translate? \n",
    "\n",
    "- \n"
   ]
  },
  {
   "cell_type": "markdown",
   "metadata": {},
   "source": [
    "#### Interpret?\n",
    "\n",
    "- \n"
   ]
  },
  {
   "cell_type": "code",
   "execution_count": null,
   "metadata": {},
   "outputs": [],
   "source": [
    "# Or can interpret via code"
   ]
  },
  {
   "cell_type": "markdown",
   "metadata": {},
   "source": [
    "### Two more things!\n",
    "\n",
    "#### What would a Type 1 Error look like in this context?\n",
    "\n",
    "- \n",
    "\n",
    "\n",
    "#### What would a Type 2 Error look like in this context?\n",
    "\n",
    "- \n"
   ]
  },
  {
   "cell_type": "markdown",
   "metadata": {},
   "source": [
    "## Recap of Useful Documentation Links for the Scipy Stats Library\n",
    "\n",
    "- [One Sample T-Test](https://docs.scipy.org/doc/scipy/reference/generated/scipy.stats.ttest_1samp.html)\n",
    "- [Two Sample Independent T-Test (with sample data as array-like](https://docs.scipy.org/doc/scipy/reference/generated/scipy.stats.ttest_ind.html)\n",
    "    - [Two Sample Independent T-Test (from just sample statistics](https://docs.scipy.org/doc/scipy/reference/generated/scipy.stats.ttest_ind_from_stats.html)\n",
    "- [Two Sample Paired T-Test](https://docs.scipy.org/doc/scipy/reference/generated/scipy.stats.ttest_rel.html)"
   ]
  }
 ],
 "metadata": {
  "kernelspec": {
   "display_name": "Python 3 (ipykernel)",
   "language": "python",
   "name": "python3"
  },
  "language_info": {
   "codemirror_mode": {
    "name": "ipython",
    "version": 3
   },
   "file_extension": ".py",
   "mimetype": "text/x-python",
   "name": "python",
   "nbconvert_exporter": "python",
   "pygments_lexer": "ipython3",
   "version": "3.9.5"
  },
  "toc": {
   "base_numbering": 1,
   "nav_menu": {},
   "number_sections": true,
   "sideBar": true,
   "skip_h1_title": false,
   "title_cell": "Table of Contents",
   "title_sidebar": "TOC",
   "toc_cell": true,
   "toc_position": {
    "height": "calc(100% - 180px)",
    "left": "10px",
    "top": "150px",
    "width": "384px"
   },
   "toc_section_display": true,
   "toc_window_display": true
  }
 },
 "nbformat": 4,
 "nbformat_minor": 4
}
