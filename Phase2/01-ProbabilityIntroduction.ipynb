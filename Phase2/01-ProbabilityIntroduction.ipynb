{
 "cells": [
  {
   "cell_type": "markdown",
   "metadata": {},
   "source": [
    "# Probability: Introduction to Foundational Concepts\n",
    "\n",
    "\n",
    "## Objectives\n",
    "\n",
    "- Describe set theory and its terminology\n",
    "- Recognize combinatorics\n",
    "- Describe the fundamentals of probability theory\n",
    "- Define conditional probability\n"
   ]
  },
  {
   "cell_type": "markdown",
   "metadata": {},
   "source": [
    "![xkcd](images/increased_risk_2x.png)\n",
    "[[Image Source]](https://xkcd.com/1252/)"
   ]
  },
  {
   "cell_type": "markdown",
   "metadata": {},
   "source": [
    "# Prelude:"
   ]
  },
  {
   "cell_type": "markdown",
   "metadata": {
    "heading_collapsed": true,
    "slideshow": {
     "slide_type": "slide"
    }
   },
   "source": [
    "## Set Theory Basics"
   ]
  },
  {
   "cell_type": "markdown",
   "metadata": {
    "hidden": true,
    "slideshow": {
     "slide_type": "slide"
    }
   },
   "source": [
    "In probability theory, a **set** is a well-defined collection of objects (called **elements**). An element is either in a given set or not, and order is not considered.\n",
    "\n",
    "> If an **element** $x$ belongs to a set $S$, then you'd write $x \\in S$. \n",
    "> \n",
    "> On the other hand, if $x$ does not belong to $S$, then you'd write $x\\notin S$.\n",
    "\n",
    "Although sets can be abstract mathematical object, we'll typically think of sets as a collection of things sharing some relevant attribute(s)."
   ]
  },
  {
   "cell_type": "markdown",
   "metadata": {},
   "source": [
    "### Set Notation"
   ]
  },
  {
   "cell_type": "markdown",
   "metadata": {},
   "source": [
    "<img src=\"images/new_venn_diagram.png\" alt=\"venn diagram with set notation\" width=500>"
   ]
  },
  {
   "cell_type": "markdown",
   "metadata": {},
   "source": [
    "The **union** of 2 sets $A$ and $B$ is the set $T$ of elements in either $A$ or $B$, or in both. We denote this with the symbol $\\cup$.\n",
    "\n",
    "\n",
    "$$\\large T = A\\cup B = B\\cup A$$"
   ]
  },
  {
   "cell_type": "markdown",
   "metadata": {},
   "source": [
    "The **intersection** of two sets $A$ and $B$ is the set $V$ that contains all elements of $A$ that also belong to $B$. We denote this with the symbol $\\cap$.\n",
    "\n",
    "$$\\large V = A\\cap B = B\\cap A$$"
   ]
  },
  {
   "cell_type": "markdown",
   "metadata": {},
   "source": [
    "<img src=\"images/setnotation.jpg\" alt=\"set notation, found from https://slideplayer.com/slide/10502152/\" width=800>\n",
    "\n",
    "[Image Source](https://slideplayer.com/slide/10502152/)\n",
    "\n",
    "More on Sets: https://www.mathsisfun.com/sets/sets-introduction.html"
   ]
  },
  {
   "cell_type": "markdown",
   "metadata": {},
   "source": [
    "### But Now, in Python:"
   ]
  },
  {
   "cell_type": "markdown",
   "metadata": {
    "colab_type": "text",
    "id": "c9rKTCYMebwR"
   },
   "source": [
    " These are set methods - work only on Python sets!\n",
    "\n",
    "| Method                      | Result |\n",
    "| ------                      | ------ |\n",
    "| `s.issubset(t)`             | test whether every element in s is in t |\n",
    "| `s.issuperset(t)`           | test whether every element in t is in s |\n",
    "| `s.union(t)`                | new set with elements from both s and t |\n",
    "| `s.intersection(t)`         | new set with elements common to s and t |\n",
    "| `s.difference(t)`           | new set with elements in s but not in t |\n",
    "| `s.symmetric_difference(t)` | new set with elements in either s or t but not both |"
   ]
  },
  {
   "cell_type": "markdown",
   "metadata": {},
   "source": [
    "## Combinatorics\n",
    "\n",
    "Before we dive in much further, let's briefly talk about how you can take elements from different collections and group them."
   ]
  },
  {
   "cell_type": "markdown",
   "metadata": {},
   "source": [
    "### Combinatorics Definition\n",
    "\n",
    "> Combinatorics is the branch of mathematics that deals with the relations characterizing sets, subsets, lists, and multisets.\n",
    ">\n",
    "> Sometimes combinatorics is said to be the branch of math that deals with counting; and that’s true, but not in the sense in which you learned to count in kindergarten. Though combinatorics deals with numbering and finding out how many members are in sets, it’s designed to find ways of doing that **without actual, potentially tedious, counting** involved.\n",
    "\n",
    "-- [Statistics How To](https://www.statisticshowto.com/probability-and-statistics/combinatorics/)"
   ]
  },
  {
   "cell_type": "markdown",
   "metadata": {
    "slideshow": {
     "slide_type": "slide"
    }
   },
   "source": [
    "### What's the difference between a permutation and a combination?\n",
    "\n",
    "In a **permutation**, order matters. If you have a race, it matters who arrives in first, or second, or third place - there's a difference in the ordering of the group!\n",
    "\n",
    "> The number of **permutations** of **n** objects taken **r** at a time is given by the formula:\n",
    ">\n",
    "> $$\\large P(n,r) = \\frac{n!}{(n - r)!}$$\n",
    "\n",
    "In a **combination**, you only care about which items are members of the set. For example, if you're creating groups of students to work on a project, the order in which you add their names to the group doesn't really matter - it's the group members itself, not any order, that you care about.\n",
    "\n",
    "> The number of **combinations** of **n** objects taken **r** at a time is given by the formula:\n",
    ">\n",
    "> $$\\large C(n,r) = \\frac{n!}{r!(n - r)!}$$\n",
    "\n",
    "Main things to ask when dealing with combinations or permutations:\n",
    "- Does order matter? \n",
    "- With or without replacement? (aka does the first choice then restrict the second choice?)"
   ]
  },
  {
   "cell_type": "markdown",
   "metadata": {},
   "source": [
    "### Q: How many possible orders are there for first/second/third place in a race with 30 contestants?"
   ]
  },
  {
   "cell_type": "code",
   "execution_count": 3,
   "metadata": {},
   "outputs": [
    {
     "data": {
      "text/plain": [
       "24360.0"
      ]
     },
     "execution_count": 3,
     "metadata": {},
     "output_type": "execute_result"
    }
   ],
   "source": [
    "# Can use math:\n",
    "import math\n",
    "n = 30\n",
    "r = 3\n",
    "math.factorial(n) / math.factorial(n-r)"
   ]
  },
  {
   "cell_type": "code",
   "execution_count": 5,
   "metadata": {
    "scrolled": true
   },
   "outputs": [
    {
     "data": {
      "text/plain": [
       "24360"
      ]
     },
     "execution_count": 5,
     "metadata": {},
     "output_type": "execute_result"
    }
   ],
   "source": [
    "# Also the python library itertools has combination and permutations!\n",
    "import itertools\n",
    "\n",
    "len(list(itertools.permutations(range(1,31), 3)))"
   ]
  },
  {
   "cell_type": "markdown",
   "metadata": {
    "slideshow": {
     "slide_type": "slide"
    }
   },
   "source": [
    "### Q: How many possible codes are there for a standard padlock?\n",
    "\n",
    "> Hint: (there are 40 numbers on a padlock and use 3 numbers - **with replacement**)"
   ]
  },
  {
   "cell_type": "code",
   "execution_count": 6,
   "metadata": {
    "slideshow": {
     "slide_type": "notes"
    }
   },
   "outputs": [
    {
     "data": {
      "text/plain": [
       "64000"
      ]
     },
     "execution_count": 6,
     "metadata": {},
     "output_type": "execute_result"
    }
   ],
   "source": [
    "# A:\n",
    "40**3\n",
    "\n",
    "# Why can't we use itertools?\n",
    "# Because their permutation function doesn't allow for replacement (alas)"
   ]
  },
  {
   "cell_type": "markdown",
   "metadata": {},
   "source": [
    "For the first number: 40 choices. For the second number, still 40 choices: $40\\cdot40=40^2$. Again, for 3rd number, still 40 choices: $40\\cdot40\\cdot40=40^3$"
   ]
  },
  {
   "cell_type": "markdown",
   "metadata": {
    "slideshow": {
     "slide_type": "slide"
    }
   },
   "source": [
    "### Q: How many unique 3 topping pizzas can you make from the following 8 ingredients:\n",
    "\n",
    "- Mushrooms\n",
    "- Pepperoni\n",
    "- Onion\n",
    "- Peppers\n",
    "- Ham\n",
    "- Pineapple\n",
    "- Sausage\n",
    "- Olives\n",
    "    \n",
    "> Side note: which is the worst?"
   ]
  },
  {
   "cell_type": "code",
   "execution_count": 7,
   "metadata": {},
   "outputs": [
    {
     "data": {
      "text/plain": [
       "56.0"
      ]
     },
     "execution_count": 7,
     "metadata": {},
     "output_type": "execute_result"
    }
   ],
   "source": [
    "# Using math\n",
    "\n",
    "math.factorial(8) / (math.factorial(3) * math.factorial(8-3))"
   ]
  },
  {
   "cell_type": "code",
   "execution_count": 10,
   "metadata": {
    "slideshow": {
     "slide_type": "notes"
    }
   },
   "outputs": [
    {
     "data": {
      "text/plain": [
       "56"
      ]
     },
     "execution_count": 10,
     "metadata": {},
     "output_type": "execute_result"
    }
   ],
   "source": [
    "# Our list of toppings\n",
    "toppings = [\"Mushrooms\", \"Pepperoni\", \"Onion\", \"Peppers\", \n",
    "            \"Ham\", \"Pineapple\", \"Sausage\", \"Olives\"]\n",
    "\n",
    "# Using itertools\n",
    "three_topping_pizzas = list(itertools.combinations(toppings, 3))\n",
    "len(three_topping_pizzas)"
   ]
  },
  {
   "cell_type": "code",
   "execution_count": 12,
   "metadata": {},
   "outputs": [
    {
     "data": {
      "text/plain": [
       "[('Mushrooms', 'Pepperoni', 'Onion'),\n",
       " ('Mushrooms', 'Pepperoni', 'Peppers'),\n",
       " ('Mushrooms', 'Pepperoni', 'Ham'),\n",
       " ('Mushrooms', 'Pepperoni', 'Pineapple'),\n",
       " ('Mushrooms', 'Pepperoni', 'Sausage'),\n",
       " ('Mushrooms', 'Pepperoni', 'Olives'),\n",
       " ('Mushrooms', 'Onion', 'Peppers'),\n",
       " ('Mushrooms', 'Onion', 'Ham'),\n",
       " ('Mushrooms', 'Onion', 'Pineapple'),\n",
       " ('Mushrooms', 'Onion', 'Sausage'),\n",
       " ('Mushrooms', 'Onion', 'Olives'),\n",
       " ('Mushrooms', 'Peppers', 'Ham'),\n",
       " ('Mushrooms', 'Peppers', 'Pineapple'),\n",
       " ('Mushrooms', 'Peppers', 'Sausage'),\n",
       " ('Mushrooms', 'Peppers', 'Olives'),\n",
       " ('Mushrooms', 'Ham', 'Pineapple'),\n",
       " ('Mushrooms', 'Ham', 'Sausage'),\n",
       " ('Mushrooms', 'Ham', 'Olives'),\n",
       " ('Mushrooms', 'Pineapple', 'Sausage'),\n",
       " ('Mushrooms', 'Pineapple', 'Olives'),\n",
       " ('Mushrooms', 'Sausage', 'Olives'),\n",
       " ('Pepperoni', 'Onion', 'Peppers'),\n",
       " ('Pepperoni', 'Onion', 'Ham'),\n",
       " ('Pepperoni', 'Onion', 'Pineapple'),\n",
       " ('Pepperoni', 'Onion', 'Sausage'),\n",
       " ('Pepperoni', 'Onion', 'Olives'),\n",
       " ('Pepperoni', 'Peppers', 'Ham'),\n",
       " ('Pepperoni', 'Peppers', 'Pineapple'),\n",
       " ('Pepperoni', 'Peppers', 'Sausage'),\n",
       " ('Pepperoni', 'Peppers', 'Olives'),\n",
       " ('Pepperoni', 'Ham', 'Pineapple'),\n",
       " ('Pepperoni', 'Ham', 'Sausage'),\n",
       " ('Pepperoni', 'Ham', 'Olives'),\n",
       " ('Pepperoni', 'Pineapple', 'Sausage'),\n",
       " ('Pepperoni', 'Pineapple', 'Olives'),\n",
       " ('Pepperoni', 'Sausage', 'Olives'),\n",
       " ('Onion', 'Peppers', 'Ham'),\n",
       " ('Onion', 'Peppers', 'Pineapple'),\n",
       " ('Onion', 'Peppers', 'Sausage'),\n",
       " ('Onion', 'Peppers', 'Olives'),\n",
       " ('Onion', 'Ham', 'Pineapple'),\n",
       " ('Onion', 'Ham', 'Sausage'),\n",
       " ('Onion', 'Ham', 'Olives'),\n",
       " ('Onion', 'Pineapple', 'Sausage'),\n",
       " ('Onion', 'Pineapple', 'Olives'),\n",
       " ('Onion', 'Sausage', 'Olives'),\n",
       " ('Peppers', 'Ham', 'Pineapple'),\n",
       " ('Peppers', 'Ham', 'Sausage'),\n",
       " ('Peppers', 'Ham', 'Olives'),\n",
       " ('Peppers', 'Pineapple', 'Sausage'),\n",
       " ('Peppers', 'Pineapple', 'Olives'),\n",
       " ('Peppers', 'Sausage', 'Olives'),\n",
       " ('Ham', 'Pineapple', 'Sausage'),\n",
       " ('Ham', 'Pineapple', 'Olives'),\n",
       " ('Ham', 'Sausage', 'Olives'),\n",
       " ('Pineapple', 'Sausage', 'Olives')]"
      ]
     },
     "execution_count": 12,
     "metadata": {},
     "output_type": "execute_result"
    }
   ],
   "source": [
    "three_topping_pizzas"
   ]
  },
  {
   "cell_type": "markdown",
   "metadata": {
    "colab_type": "text",
    "id": "hHKVcR-FYNqf"
   },
   "source": [
    "# Probability Theory\n",
    "\n",
    "Probability theory is the study of the frequency of a given event occurring with respect to all possible events.\n",
    "\n",
    "**Probability is the likelihood of a specific outcome occurring out of all possible outcomes, expressed as a fraction between 0 and 1.**\n",
    "\n",
    "But perhaps more importantly:\n",
    "\n",
    "> **\"Probabilities do not tell us what will happen for sure; they tell us what is _likely to happen_ and what is _less likely to happen_.\"**\n",
    ">\n",
    "> -- _Naked Statistics_, by Charles Wheelan, p. 72"
   ]
  },
  {
   "cell_type": "markdown",
   "metadata": {
    "heading_collapsed": true,
    "hidden": true,
    "slideshow": {
     "slide_type": "slide"
    }
   },
   "source": [
    "## Why Should I Care About Probabilities?"
   ]
  },
  {
   "cell_type": "markdown",
   "metadata": {
    "hidden": true,
    "slideshow": {
     "slide_type": "slide"
    }
   },
   "source": [
    "Studying probabilities allows us to make better and more informed decisions, based on data previously collected. For example, understanding the fact that it is nearly impossible for us to ever win the lottery from a probabilistic standpoint deters us from using it as a source of income.\n",
    "\n",
    "Probability theory also lies at the heart of making inferences using our data, which is what statistics is all about!"
   ]
  },
  {
   "cell_type": "markdown",
   "metadata": {
    "heading_collapsed": true,
    "hidden": true,
    "slideshow": {
     "slide_type": "slide"
    }
   },
   "source": [
    "## Probability Terminology"
   ]
  },
  {
   "cell_type": "markdown",
   "metadata": {},
   "source": [
    "From [_Introduction to Probability, Statistics, and Random Processes_](https://www.probabilitycourse.com/chapter1/1_3_1_random_experiments.php):\n",
    "\n",
    "> **Outcome:** A result of a random experiment.\n",
    ">\n",
    "> **Sample Space:** The set of all possible outcomes.\n",
    ">\n",
    "> **Event:** A subset of the sample space.\n",
    "\n",
    "To be more specific, an **event** is a specific outcome of a random experiment, often what we are hoping to predict (so it's sometimes called a successful outcome)"
   ]
  },
  {
   "cell_type": "markdown",
   "metadata": {
    "hidden": true
   },
   "source": [
    "We typically write probability statements using notation like $P(E) = 0.5$, where $E$ is an event, such as getting Heads in a coin flip."
   ]
  },
  {
   "cell_type": "markdown",
   "metadata": {
    "heading_collapsed": true,
    "hidden": true
   },
   "source": [
    "## Probability Using Sets"
   ]
  },
  {
   "cell_type": "markdown",
   "metadata": {
    "hidden": true
   },
   "source": [
    "In its most basic form, the **probability** of an event occurring is the size of the specific outcome set divided by the size of the sample space. In some ways, probability is just about counting outcomes."
   ]
  },
  {
   "cell_type": "markdown",
   "metadata": {
    "hidden": true
   },
   "source": [
    "**Example**: What is the probability of rolling an even number on a six-sided die?\n",
    "\n",
    "* Event: {2, 4, 6} has size 3\n",
    "* Sample space: {1, 2, 3, 4, 5, 6} has size 6\n",
    "* Thus the probability = 3/6 = 1/2 = 50%"
   ]
  },
  {
   "cell_type": "markdown",
   "metadata": {},
   "source": [
    "#### Relevant Distinction: Types of Variables\n",
    "\n",
    "A random variable can either be continuous or discrete\n",
    "- **Continuous**: the variable can have any values within a range (e.g. a person's height)\n",
    "- **Discrete**: the variable can only have a finite subset of values within a range (e.g. number of cars owned)\n",
    "\n",
    "This is important because, for continuous variables, the probability of some specific event x _will functionally be zero_! BUT \"in reality we are always interested in the probability of some intervals rather than a specific point x\" [[Source]](https://www.probabilitycourse.com/chapter1/1_3_5_continuous_models.php)"
   ]
  },
  {
   "cell_type": "markdown",
   "metadata": {},
   "source": [
    "## Calculating Probabilities\n",
    "\n",
    "Note: some of this text comes from [_OpenIntro Statistics_](https://www.openintro.org/book/os/), Chapter 3."
   ]
  },
  {
   "cell_type": "markdown",
   "metadata": {},
   "source": [
    "In general, you can think of dividing the outcome you're exploring by all possible outcomes:\n",
    "\n",
    "$$\\large P(Event) = \\frac{|Event|}{|Sample\\ Space|} $$"
   ]
  },
  {
   "cell_type": "markdown",
   "metadata": {},
   "source": [
    "#### General Addition Rule\n",
    "\n",
    "The probability that either $A$ or $B$ will occur can be calculated by adding each individual probability, and then subtracting the probability that both occur together:\n",
    "\n",
    "$$\\large P(A \\cup B) = P(A) + P(B) − P(A \\cap B)$$\n",
    "\n",
    "Remember, $P(A \\cap B)$ expresses the overlap between the two events - if you don't subtract that overlap, then you double count the instances when **both** $A$ and $B$ occur!"
   ]
  },
  {
   "cell_type": "markdown",
   "metadata": {},
   "source": [
    "#### Multiplication Rule for Independent Processes\n",
    "\n",
    "A special condition is when the outcome of $A$ has no bearing on the outcome of $B$. We say these two events are **independent** (e.g. rolling a die and tossing a coin).\n",
    "\n",
    "If $A$ and $B$ represent events from two different and **independent** processes, then the probability\n",
    "that both $A$ and $B$ occur can be calculated as the product of their separate probabilities:\n",
    "\n",
    "$$\\large P(A \\cap B) = P(A) * P(B)$$"
   ]
  },
  {
   "cell_type": "markdown",
   "metadata": {
    "heading_collapsed": true,
    "hidden": true
   },
   "source": [
    "### 🧠 Knowledge Check"
   ]
  },
  {
   "cell_type": "markdown",
   "metadata": {
    "hidden": true
   },
   "source": [
    "### 1) AND Question:\n",
    "\n",
    "What is the probability of rolling a 5 on a fair die _and_ getting a tails on a fair coin toss?"
   ]
  },
  {
   "cell_type": "markdown",
   "metadata": {},
   "source": [
    "**Your answer here**:\n",
    "\n",
    "- 0.083\n"
   ]
  },
  {
   "cell_type": "markdown",
   "metadata": {
    "hidden": true
   },
   "source": [
    "### 2) OR Question: \n",
    "\n",
    "What is the probability of rolling a 5 on a die _or_ getting a tails on a coin toss?"
   ]
  },
  {
   "cell_type": "markdown",
   "metadata": {},
   "source": [
    "**Your answer here**:\n",
    "\n",
    "- 0.58, P(rolling 5) + P(getting tails) - P(rolling 5 and getting tails)\n"
   ]
  },
  {
   "cell_type": "markdown",
   "metadata": {},
   "source": [
    "## Enough Talk - Let's Explore in Python!"
   ]
  },
  {
   "cell_type": "markdown",
   "metadata": {
    "slideshow": {
     "slide_type": "slide"
    }
   },
   "source": [
    "### Mushroom dataset\n",
    "\n",
    "Let's look at a modified version of the Mushroom dataset from UCI [here](https://archive.ics.uci.edu/ml/datasets/Mushroom). Each row in this dataset corresponds to one observation (one mushroom). "
   ]
  },
  {
   "cell_type": "code",
   "execution_count": 13,
   "metadata": {},
   "outputs": [],
   "source": [
    "import pandas as pd"
   ]
  },
  {
   "cell_type": "code",
   "execution_count": 14,
   "metadata": {
    "slideshow": {
     "slide_type": "slide"
    }
   },
   "outputs": [
    {
     "data": {
      "text/html": [
       "<div>\n",
       "<style scoped>\n",
       "    .dataframe tbody tr th:only-of-type {\n",
       "        vertical-align: middle;\n",
       "    }\n",
       "\n",
       "    .dataframe tbody tr th {\n",
       "        vertical-align: top;\n",
       "    }\n",
       "\n",
       "    .dataframe thead th {\n",
       "        text-align: right;\n",
       "    }\n",
       "</style>\n",
       "<table border=\"1\" class=\"dataframe\">\n",
       "  <thead>\n",
       "    <tr style=\"text-align: right;\">\n",
       "      <th></th>\n",
       "      <th>edible-poisonous</th>\n",
       "      <th>gill-spacing</th>\n",
       "      <th>stalk-shape</th>\n",
       "      <th>stalk-color-above-ring</th>\n",
       "      <th>stalk-color-below-ring</th>\n",
       "      <th>gill-color</th>\n",
       "      <th>bruised</th>\n",
       "    </tr>\n",
       "  </thead>\n",
       "  <tbody>\n",
       "    <tr>\n",
       "      <th>0</th>\n",
       "      <td>poisonous</td>\n",
       "      <td>close</td>\n",
       "      <td>enlarging</td>\n",
       "      <td>white</td>\n",
       "      <td>white</td>\n",
       "      <td>black</td>\n",
       "      <td>True</td>\n",
       "    </tr>\n",
       "    <tr>\n",
       "      <th>1</th>\n",
       "      <td>edible</td>\n",
       "      <td>close</td>\n",
       "      <td>enlarging</td>\n",
       "      <td>white</td>\n",
       "      <td>white</td>\n",
       "      <td>black</td>\n",
       "      <td>True</td>\n",
       "    </tr>\n",
       "    <tr>\n",
       "      <th>2</th>\n",
       "      <td>edible</td>\n",
       "      <td>close</td>\n",
       "      <td>enlarging</td>\n",
       "      <td>white</td>\n",
       "      <td>white</td>\n",
       "      <td>brown</td>\n",
       "      <td>True</td>\n",
       "    </tr>\n",
       "    <tr>\n",
       "      <th>3</th>\n",
       "      <td>poisonous</td>\n",
       "      <td>close</td>\n",
       "      <td>enlarging</td>\n",
       "      <td>white</td>\n",
       "      <td>white</td>\n",
       "      <td>brown</td>\n",
       "      <td>True</td>\n",
       "    </tr>\n",
       "    <tr>\n",
       "      <th>4</th>\n",
       "      <td>edible</td>\n",
       "      <td>crowded</td>\n",
       "      <td>tapering</td>\n",
       "      <td>white</td>\n",
       "      <td>white</td>\n",
       "      <td>black</td>\n",
       "      <td>False</td>\n",
       "    </tr>\n",
       "  </tbody>\n",
       "</table>\n",
       "</div>"
      ],
      "text/plain": [
       "  edible-poisonous gill-spacing stalk-shape stalk-color-above-ring  \\\n",
       "0        poisonous        close   enlarging                  white   \n",
       "1           edible        close   enlarging                  white   \n",
       "2           edible        close   enlarging                  white   \n",
       "3        poisonous        close   enlarging                  white   \n",
       "4           edible      crowded    tapering                  white   \n",
       "\n",
       "  stalk-color-below-ring gill-color  bruised  \n",
       "0                  white      black     True  \n",
       "1                  white      black     True  \n",
       "2                  white      brown     True  \n",
       "3                  white      brown     True  \n",
       "4                  white      black    False  "
      ]
     },
     "execution_count": 14,
     "metadata": {},
     "output_type": "execute_result"
    }
   ],
   "source": [
    "df = pd.read_csv('data/Mushrooms_cleaned.csv')\n",
    "df.head()"
   ]
  },
  {
   "cell_type": "code",
   "execution_count": 15,
   "metadata": {},
   "outputs": [
    {
     "data": {
      "text/html": [
       "<div>\n",
       "<style scoped>\n",
       "    .dataframe tbody tr th:only-of-type {\n",
       "        vertical-align: middle;\n",
       "    }\n",
       "\n",
       "    .dataframe tbody tr th {\n",
       "        vertical-align: top;\n",
       "    }\n",
       "\n",
       "    .dataframe thead th {\n",
       "        text-align: right;\n",
       "    }\n",
       "</style>\n",
       "<table border=\"1\" class=\"dataframe\">\n",
       "  <thead>\n",
       "    <tr style=\"text-align: right;\">\n",
       "      <th></th>\n",
       "      <th>edible-poisonous</th>\n",
       "      <th>gill-spacing</th>\n",
       "      <th>stalk-shape</th>\n",
       "      <th>stalk-color-above-ring</th>\n",
       "      <th>stalk-color-below-ring</th>\n",
       "      <th>gill-color</th>\n",
       "      <th>bruised</th>\n",
       "    </tr>\n",
       "  </thead>\n",
       "  <tbody>\n",
       "    <tr>\n",
       "      <th>count</th>\n",
       "      <td>8124</td>\n",
       "      <td>8124</td>\n",
       "      <td>8124</td>\n",
       "      <td>8124</td>\n",
       "      <td>8124</td>\n",
       "      <td>8124</td>\n",
       "      <td>8124</td>\n",
       "    </tr>\n",
       "    <tr>\n",
       "      <th>unique</th>\n",
       "      <td>2</td>\n",
       "      <td>2</td>\n",
       "      <td>2</td>\n",
       "      <td>9</td>\n",
       "      <td>9</td>\n",
       "      <td>12</td>\n",
       "      <td>2</td>\n",
       "    </tr>\n",
       "    <tr>\n",
       "      <th>top</th>\n",
       "      <td>edible</td>\n",
       "      <td>close</td>\n",
       "      <td>tapering</td>\n",
       "      <td>white</td>\n",
       "      <td>white</td>\n",
       "      <td>buff</td>\n",
       "      <td>False</td>\n",
       "    </tr>\n",
       "    <tr>\n",
       "      <th>freq</th>\n",
       "      <td>4208</td>\n",
       "      <td>6812</td>\n",
       "      <td>4608</td>\n",
       "      <td>4464</td>\n",
       "      <td>4384</td>\n",
       "      <td>1728</td>\n",
       "      <td>4748</td>\n",
       "    </tr>\n",
       "  </tbody>\n",
       "</table>\n",
       "</div>"
      ],
      "text/plain": [
       "       edible-poisonous gill-spacing stalk-shape stalk-color-above-ring  \\\n",
       "count              8124         8124        8124                   8124   \n",
       "unique                2            2           2                      9   \n",
       "top              edible        close    tapering                  white   \n",
       "freq               4208         6812        4608                   4464   \n",
       "\n",
       "       stalk-color-below-ring gill-color bruised  \n",
       "count                    8124       8124    8124  \n",
       "unique                      9         12       2  \n",
       "top                     white       buff   False  \n",
       "freq                     4384       1728    4748  "
      ]
     },
     "execution_count": 15,
     "metadata": {},
     "output_type": "execute_result"
    }
   ],
   "source": [
    "df.describe()"
   ]
  },
  {
   "cell_type": "markdown",
   "metadata": {
    "slideshow": {
     "slide_type": "slide"
    }
   },
   "source": [
    "#### 1) If you picked a row from this dataset at random, what is the probability it corresponds to a bruised mushroom? \n",
    "\n",
    "In other words, find $P(bruised)$"
   ]
  },
  {
   "cell_type": "code",
   "execution_count": 18,
   "metadata": {},
   "outputs": [
    {
     "data": {
      "text/plain": [
       "3376"
      ]
     },
     "execution_count": 18,
     "metadata": {},
     "output_type": "execute_result"
    }
   ],
   "source": [
    "df['bruised'].sum()"
   ]
  },
  {
   "cell_type": "code",
   "execution_count": 21,
   "metadata": {},
   "outputs": [],
   "source": [
    "p_bruised = df['bruised'].sum()/len(df)"
   ]
  },
  {
   "cell_type": "code",
   "execution_count": 19,
   "metadata": {
    "scrolled": true
   },
   "outputs": [
    {
     "data": {
      "text/html": [
       "<div>\n",
       "<style scoped>\n",
       "    .dataframe tbody tr th:only-of-type {\n",
       "        vertical-align: middle;\n",
       "    }\n",
       "\n",
       "    .dataframe tbody tr th {\n",
       "        vertical-align: top;\n",
       "    }\n",
       "\n",
       "    .dataframe thead th {\n",
       "        text-align: right;\n",
       "    }\n",
       "</style>\n",
       "<table border=\"1\" class=\"dataframe\">\n",
       "  <thead>\n",
       "    <tr style=\"text-align: right;\">\n",
       "      <th></th>\n",
       "      <th>edible-poisonous</th>\n",
       "      <th>gill-spacing</th>\n",
       "      <th>stalk-shape</th>\n",
       "      <th>stalk-color-above-ring</th>\n",
       "      <th>stalk-color-below-ring</th>\n",
       "      <th>gill-color</th>\n",
       "      <th>bruised</th>\n",
       "    </tr>\n",
       "  </thead>\n",
       "  <tbody>\n",
       "    <tr>\n",
       "      <th>312</th>\n",
       "      <td>edible</td>\n",
       "      <td>close</td>\n",
       "      <td>enlarging</td>\n",
       "      <td>white</td>\n",
       "      <td>white</td>\n",
       "      <td>brown</td>\n",
       "      <td>True</td>\n",
       "    </tr>\n",
       "  </tbody>\n",
       "</table>\n",
       "</div>"
      ],
      "text/plain": [
       "    edible-poisonous gill-spacing stalk-shape stalk-color-above-ring  \\\n",
       "312           edible        close   enlarging                  white   \n",
       "\n",
       "    stalk-color-below-ring gill-color  bruised  \n",
       "312                  white      brown     True  "
      ]
     },
     "execution_count": 19,
     "metadata": {},
     "output_type": "execute_result"
    }
   ],
   "source": [
    "# Let's see...\n",
    "df.sample(1)"
   ]
  },
  {
   "cell_type": "markdown",
   "metadata": {
    "slideshow": {
     "slide_type": "slide"
    }
   },
   "source": [
    "#### 2) What is the probability you pick a row corresponding to a mushroom that is bruised _AND_ edible?"
   ]
  },
  {
   "cell_type": "markdown",
   "metadata": {},
   "source": [
    "$P(edible \\cap bruised)$"
   ]
  },
  {
   "cell_type": "code",
   "execution_count": 37,
   "metadata": {
    "slideshow": {
     "slide_type": "notes"
    }
   },
   "outputs": [],
   "source": [
    "bruised_and_edible = df[(df['edible-poisonous'] == 'edible') & (df['bruised'] == True)]"
   ]
  },
  {
   "cell_type": "code",
   "execution_count": 38,
   "metadata": {
    "scrolled": false
   },
   "outputs": [
    {
     "data": {
      "text/html": [
       "<div>\n",
       "<style scoped>\n",
       "    .dataframe tbody tr th:only-of-type {\n",
       "        vertical-align: middle;\n",
       "    }\n",
       "\n",
       "    .dataframe tbody tr th {\n",
       "        vertical-align: top;\n",
       "    }\n",
       "\n",
       "    .dataframe thead th {\n",
       "        text-align: right;\n",
       "    }\n",
       "</style>\n",
       "<table border=\"1\" class=\"dataframe\">\n",
       "  <thead>\n",
       "    <tr style=\"text-align: right;\">\n",
       "      <th></th>\n",
       "      <th>edible-poisonous</th>\n",
       "      <th>gill-spacing</th>\n",
       "      <th>stalk-shape</th>\n",
       "      <th>stalk-color-above-ring</th>\n",
       "      <th>stalk-color-below-ring</th>\n",
       "      <th>gill-color</th>\n",
       "      <th>bruised</th>\n",
       "    </tr>\n",
       "  </thead>\n",
       "  <tbody>\n",
       "    <tr>\n",
       "      <th>1</th>\n",
       "      <td>edible</td>\n",
       "      <td>close</td>\n",
       "      <td>enlarging</td>\n",
       "      <td>white</td>\n",
       "      <td>white</td>\n",
       "      <td>black</td>\n",
       "      <td>True</td>\n",
       "    </tr>\n",
       "    <tr>\n",
       "      <th>2</th>\n",
       "      <td>edible</td>\n",
       "      <td>close</td>\n",
       "      <td>enlarging</td>\n",
       "      <td>white</td>\n",
       "      <td>white</td>\n",
       "      <td>brown</td>\n",
       "      <td>True</td>\n",
       "    </tr>\n",
       "    <tr>\n",
       "      <th>5</th>\n",
       "      <td>edible</td>\n",
       "      <td>close</td>\n",
       "      <td>enlarging</td>\n",
       "      <td>white</td>\n",
       "      <td>white</td>\n",
       "      <td>brown</td>\n",
       "      <td>True</td>\n",
       "    </tr>\n",
       "    <tr>\n",
       "      <th>6</th>\n",
       "      <td>edible</td>\n",
       "      <td>close</td>\n",
       "      <td>enlarging</td>\n",
       "      <td>white</td>\n",
       "      <td>white</td>\n",
       "      <td>gray</td>\n",
       "      <td>True</td>\n",
       "    </tr>\n",
       "    <tr>\n",
       "      <th>7</th>\n",
       "      <td>edible</td>\n",
       "      <td>close</td>\n",
       "      <td>enlarging</td>\n",
       "      <td>white</td>\n",
       "      <td>white</td>\n",
       "      <td>brown</td>\n",
       "      <td>True</td>\n",
       "    </tr>\n",
       "    <tr>\n",
       "      <th>...</th>\n",
       "      <td>...</td>\n",
       "      <td>...</td>\n",
       "      <td>...</td>\n",
       "      <td>...</td>\n",
       "      <td>...</td>\n",
       "      <td>...</td>\n",
       "      <td>...</td>\n",
       "    </tr>\n",
       "    <tr>\n",
       "      <th>7940</th>\n",
       "      <td>edible</td>\n",
       "      <td>close</td>\n",
       "      <td>enlarging</td>\n",
       "      <td>white</td>\n",
       "      <td>white</td>\n",
       "      <td>white</td>\n",
       "      <td>True</td>\n",
       "    </tr>\n",
       "    <tr>\n",
       "      <th>7946</th>\n",
       "      <td>edible</td>\n",
       "      <td>close</td>\n",
       "      <td>enlarging</td>\n",
       "      <td>white</td>\n",
       "      <td>white</td>\n",
       "      <td>white</td>\n",
       "      <td>True</td>\n",
       "    </tr>\n",
       "    <tr>\n",
       "      <th>7952</th>\n",
       "      <td>edible</td>\n",
       "      <td>close</td>\n",
       "      <td>enlarging</td>\n",
       "      <td>white</td>\n",
       "      <td>white</td>\n",
       "      <td>white</td>\n",
       "      <td>True</td>\n",
       "    </tr>\n",
       "    <tr>\n",
       "      <th>7965</th>\n",
       "      <td>edible</td>\n",
       "      <td>close</td>\n",
       "      <td>enlarging</td>\n",
       "      <td>white</td>\n",
       "      <td>white</td>\n",
       "      <td>white</td>\n",
       "      <td>True</td>\n",
       "    </tr>\n",
       "    <tr>\n",
       "      <th>8038</th>\n",
       "      <td>edible</td>\n",
       "      <td>close</td>\n",
       "      <td>enlarging</td>\n",
       "      <td>white</td>\n",
       "      <td>white</td>\n",
       "      <td>white</td>\n",
       "      <td>True</td>\n",
       "    </tr>\n",
       "  </tbody>\n",
       "</table>\n",
       "<p>2752 rows × 7 columns</p>\n",
       "</div>"
      ],
      "text/plain": [
       "     edible-poisonous gill-spacing stalk-shape stalk-color-above-ring  \\\n",
       "1              edible        close   enlarging                  white   \n",
       "2              edible        close   enlarging                  white   \n",
       "5              edible        close   enlarging                  white   \n",
       "6              edible        close   enlarging                  white   \n",
       "7              edible        close   enlarging                  white   \n",
       "...               ...          ...         ...                    ...   \n",
       "7940           edible        close   enlarging                  white   \n",
       "7946           edible        close   enlarging                  white   \n",
       "7952           edible        close   enlarging                  white   \n",
       "7965           edible        close   enlarging                  white   \n",
       "8038           edible        close   enlarging                  white   \n",
       "\n",
       "     stalk-color-below-ring gill-color  bruised  \n",
       "1                     white      black     True  \n",
       "2                     white      brown     True  \n",
       "5                     white      brown     True  \n",
       "6                     white       gray     True  \n",
       "7                     white      brown     True  \n",
       "...                     ...        ...      ...  \n",
       "7940                  white      white     True  \n",
       "7946                  white      white     True  \n",
       "7952                  white      white     True  \n",
       "7965                  white      white     True  \n",
       "8038                  white      white     True  \n",
       "\n",
       "[2752 rows x 7 columns]"
      ]
     },
     "execution_count": 38,
     "metadata": {},
     "output_type": "execute_result"
    }
   ],
   "source": [
    "bruised_and_edible"
   ]
  },
  {
   "cell_type": "code",
   "execution_count": 39,
   "metadata": {},
   "outputs": [],
   "source": [
    "p_bruised_and_edible = len(bruised_and_edible)/len(df)"
   ]
  },
  {
   "cell_type": "code",
   "execution_count": 40,
   "metadata": {},
   "outputs": [
    {
     "data": {
      "text/plain": [
       "0.33874938453963566"
      ]
     },
     "execution_count": 40,
     "metadata": {},
     "output_type": "execute_result"
    }
   ],
   "source": [
    "p_bruised_and_edible"
   ]
  },
  {
   "cell_type": "code",
   "execution_count": 22,
   "metadata": {},
   "outputs": [
    {
     "data": {
      "text/plain": [
       "0.4155588380108321"
      ]
     },
     "execution_count": 22,
     "metadata": {},
     "output_type": "execute_result"
    }
   ],
   "source": [
    "p_bruised"
   ]
  },
  {
   "cell_type": "code",
   "execution_count": 23,
   "metadata": {},
   "outputs": [],
   "source": [
    "edible = df[df['edible-poisonous'] == 'edible']"
   ]
  },
  {
   "cell_type": "code",
   "execution_count": 29,
   "metadata": {},
   "outputs": [],
   "source": [
    "p_edible = len(edible)/len(df)"
   ]
  },
  {
   "cell_type": "code",
   "execution_count": 30,
   "metadata": {},
   "outputs": [
    {
     "data": {
      "text/plain": [
       "0.517971442639094"
      ]
     },
     "execution_count": 30,
     "metadata": {},
     "output_type": "execute_result"
    }
   ],
   "source": [
    "p_edible"
   ]
  },
  {
   "cell_type": "markdown",
   "metadata": {},
   "source": [
    "BUT! Are they independent events ...?\n",
    "\n",
    "> Formally, $A$ and $B$ are *independent* if and only if the probability that *both* $A$ *and* $B$ happen is:\n",
    "> \n",
    "> $$\\large P(A \\cap B) = P(A) * P(B)$$"
   ]
  },
  {
   "cell_type": "code",
   "execution_count": 31,
   "metadata": {
    "scrolled": true
   },
   "outputs": [
    {
     "data": {
      "text/plain": [
       "0.4155588380108321"
      ]
     },
     "execution_count": 31,
     "metadata": {},
     "output_type": "execute_result"
    }
   ],
   "source": [
    "p_bruised"
   ]
  },
  {
   "cell_type": "code",
   "execution_count": 32,
   "metadata": {
    "scrolled": true
   },
   "outputs": [
    {
     "data": {
      "text/plain": [
       "0.21524761082589627"
      ]
     },
     "execution_count": 32,
     "metadata": {},
     "output_type": "execute_result"
    }
   ],
   "source": [
    "p_bruised * p_edible"
   ]
  },
  {
   "cell_type": "code",
   "execution_count": 33,
   "metadata": {},
   "outputs": [
    {
     "ename": "NameError",
     "evalue": "name 'p_bruised_and_edible' is not defined",
     "output_type": "error",
     "traceback": [
      "\u001b[1;31m---------------------------------------------------------------------------\u001b[0m",
      "\u001b[1;31mNameError\u001b[0m                                 Traceback (most recent call last)",
      "\u001b[1;32m<ipython-input-33-3e751b5cffda>\u001b[0m in \u001b[0;36m<module>\u001b[1;34m\u001b[0m\n\u001b[1;32m----> 1\u001b[1;33m \u001b[0mp_bruised_and_edible\u001b[0m \u001b[1;33m==\u001b[0m \u001b[0mp_bruised\u001b[0m \u001b[1;33m*\u001b[0m \u001b[0mp_edible\u001b[0m\u001b[1;33m\u001b[0m\u001b[1;33m\u001b[0m\u001b[0m\n\u001b[0m",
      "\u001b[1;31mNameError\u001b[0m: name 'p_bruised_and_edible' is not defined"
     ]
    }
   ],
   "source": [
    "p_bruised_and_edible == p_bruised * p_edible"
   ]
  },
  {
   "cell_type": "markdown",
   "metadata": {
    "slideshow": {
     "slide_type": "slide"
    }
   },
   "source": [
    "## Enter: Conditional Probability\n",
    "\n",
    "### When do we compute conditional probabilities? \n",
    "\n",
    "We need to compute conditional probabilities when the outcome of an event depends on the outcome of previous events (**dependent** events). A conditional probability of an event is the probability of the event *given* another event has occurred.\n"
   ]
  },
  {
   "cell_type": "markdown",
   "metadata": {
    "hidden": true
   },
   "source": [
    "When events _are_ independent, the rule for probabilistic AND (I'll use '$\\cap$' below) is simple:\n",
    "\n",
    "$$\\large P(A\\cap B) = P(A) * P(B)$$"
   ]
  },
  {
   "cell_type": "markdown",
   "metadata": {
    "hidden": true
   },
   "source": [
    "But the more general rule, which includes non-independent events, is:\n",
    "\n",
    "$$\\large P(A\\cap B) = P(A | B) * P(B)$$\n",
    "\n",
    "> (this is pretty much the law of total probability, we'll revisit this later!)"
   ]
  },
  {
   "cell_type": "markdown",
   "metadata": {
    "hidden": true
   },
   "source": [
    "In fact, this is the definition of conditional probability. Rearranging:\n",
    "\n",
    "$$\\large P(A | B) = \\frac{P(A\\cap B)}{P(B)}$$"
   ]
  },
  {
   "cell_type": "markdown",
   "metadata": {},
   "source": [
    "The `|` here should be read as \"given\". We are given some information, $B$, and thus it reduces our sample space!"
   ]
  },
  {
   "cell_type": "markdown",
   "metadata": {},
   "source": [
    "### Back to our Mushrooms!"
   ]
  },
  {
   "cell_type": "markdown",
   "metadata": {
    "slideshow": {
     "slide_type": "slide"
    }
   },
   "source": [
    "#### 3) What is the probability of picking an edible mushroom given it is bruised? \n",
    "\n",
    "$P(edible | bruised)$"
   ]
  },
  {
   "cell_type": "code",
   "execution_count": 41,
   "metadata": {},
   "outputs": [
    {
     "data": {
      "text/plain": [
       "0.33874938453963566"
      ]
     },
     "execution_count": 41,
     "metadata": {},
     "output_type": "execute_result"
    }
   ],
   "source": [
    "p_bruised_and_edible"
   ]
  },
  {
   "cell_type": "code",
   "execution_count": 43,
   "metadata": {
    "scrolled": true,
    "slideshow": {
     "slide_type": "notes"
    }
   },
   "outputs": [],
   "source": [
    "p_edible_given_bruised = p_bruised_and_edible/p_bruised"
   ]
  },
  {
   "cell_type": "code",
   "execution_count": 44,
   "metadata": {},
   "outputs": [
    {
     "data": {
      "text/plain": [
       "0.8151658767772512"
      ]
     },
     "execution_count": 44,
     "metadata": {},
     "output_type": "execute_result"
    }
   ],
   "source": [
    "p_edible_given_bruised"
   ]
  },
  {
   "cell_type": "markdown",
   "metadata": {
    "slideshow": {
     "slide_type": "slide"
    }
   },
   "source": [
    "#### 4) What is the probability of picking a bruised mushroom given it is edible? \n",
    "\n",
    "$P(bruised | edible)$"
   ]
  },
  {
   "cell_type": "code",
   "execution_count": 45,
   "metadata": {
    "slideshow": {
     "slide_type": "notes"
    }
   },
   "outputs": [
    {
     "data": {
      "text/plain": [
       "0.6539923954372624"
      ]
     },
     "execution_count": 45,
     "metadata": {},
     "output_type": "execute_result"
    }
   ],
   "source": [
    "p_bruised_given_edible = p_bruised_and_edible/p_edible\n",
    "p_bruised_given_edible"
   ]
  },
  {
   "cell_type": "markdown",
   "metadata": {
    "slideshow": {
     "slide_type": "slide"
    }
   },
   "source": [
    "### Intuition behind conditional probability: \n",
    "\n",
    "How do you compute the probability that mushrooms are edible given they are bruised? \n",
    "\n",
    "When you ask the question \"what is the probability that the mushrooms are edible and bruised?\", the sample space originally contains all 8124 rows of mushrooms. \n",
    "\n",
    "<img src=\"images/Image_72_Cond4.png\" width=\"300\">\n",
    "\n",
    "However, to compute the probability that the mushrooms are edible given they are bruised, you need to consider the reduced size of the sample space. \n",
    "\n",
    "In the image above, S is the universe of all mushrooms in the dataset, A is the set of mushrooms that are edible, and B is the set of mushrooms that are bruised.\n",
    "\n",
    "* When you ask the question \"what is the probability that the mushrooms are edible given the mushrooms are bruised?\", you have effectively reduced the size of the sample space to include only those mushrooms that are bruised. \n",
    "\n",
    "* Given that mushrooms are bruised, the only way for the mushrooms to be edible is for these mushrooms to fall in the intersection of the set of mushrooms that are edible _and_ the set of mushrooms that are bruised , $P(edible \\cap bruised)$.  \n",
    "\n",
    "* To account for the smaller sample space, you divide the probability mushrooms are edible and bruised by the probability the mushrooms are bruised: $$\\large P(edible|bruised) = \\frac{P(edible \\cap bruised)}{P(bruised)}$$\n",
    "\n",
    "\n"
   ]
  },
  {
   "cell_type": "markdown",
   "metadata": {},
   "source": [
    "## Law of Total Probability\n",
    "\n",
    "Sometimes we want to calculate an **unconditional** probability by making use of some **conditional** probabilities. Enter the Law of Total Probability:\n",
    "\n",
    "$$\\large P(A)=\\sum _{n}P(A\\cap B_{n})$$\n",
    "\n",
    "Which works out to: \n",
    "\n",
    "$$\\large P(A)=\\sum _{n}P(A\\mid B_{n}) * P(B_{n})$$\n",
    "\n",
    "Where $B_{n}$ captures all of the disjoint events that combine to define the sample space, so $\\sum P(B_{n}) = 1$.\n",
    "\n",
    "### In practice:\n",
    "\n",
    "Let's say we want to know the likelihood that a mushroom is **edible**. If we know the likelihood that all tapering stalk mushrooms are edible, and the likelihood that not-tapering-stalk mushrooms are edible, plus how likely it is that mushrooms have tapering stalks (and thus also how likely the mushroom does _not_ have a tapering stalk, the compliment of the mushrooms having a tapering stalk) - well, we can use all of that to find the likelihood our mushroom will be edible! \n",
    "\n",
    "$$\\large P(\\text{edible}) = P(\\text{edible} | \\text{tapering}) * P(\\text{tapering}) + P(\\text{edible} | \\text{not tapering}) * P(\\text{not tapering})$$\n",
    "\n",
    "We can do this because 'tapering stalk' and 'not tapering stalk' capture all of the possibilities of mushrooms - they define our entire sample space!"
   ]
  },
  {
   "cell_type": "code",
   "execution_count": 50,
   "metadata": {},
   "outputs": [
    {
     "data": {
      "text/html": [
       "<div>\n",
       "<style scoped>\n",
       "    .dataframe tbody tr th:only-of-type {\n",
       "        vertical-align: middle;\n",
       "    }\n",
       "\n",
       "    .dataframe tbody tr th {\n",
       "        vertical-align: top;\n",
       "    }\n",
       "\n",
       "    .dataframe thead th {\n",
       "        text-align: right;\n",
       "    }\n",
       "</style>\n",
       "<table border=\"1\" class=\"dataframe\">\n",
       "  <thead>\n",
       "    <tr style=\"text-align: right;\">\n",
       "      <th></th>\n",
       "      <th>edible-poisonous</th>\n",
       "      <th>gill-spacing</th>\n",
       "      <th>stalk-shape</th>\n",
       "      <th>stalk-color-above-ring</th>\n",
       "      <th>stalk-color-below-ring</th>\n",
       "      <th>gill-color</th>\n",
       "      <th>bruised</th>\n",
       "    </tr>\n",
       "  </thead>\n",
       "  <tbody>\n",
       "    <tr>\n",
       "      <th>0</th>\n",
       "      <td>poisonous</td>\n",
       "      <td>close</td>\n",
       "      <td>enlarging</td>\n",
       "      <td>white</td>\n",
       "      <td>white</td>\n",
       "      <td>black</td>\n",
       "      <td>True</td>\n",
       "    </tr>\n",
       "    <tr>\n",
       "      <th>1</th>\n",
       "      <td>edible</td>\n",
       "      <td>close</td>\n",
       "      <td>enlarging</td>\n",
       "      <td>white</td>\n",
       "      <td>white</td>\n",
       "      <td>black</td>\n",
       "      <td>True</td>\n",
       "    </tr>\n",
       "    <tr>\n",
       "      <th>2</th>\n",
       "      <td>edible</td>\n",
       "      <td>close</td>\n",
       "      <td>enlarging</td>\n",
       "      <td>white</td>\n",
       "      <td>white</td>\n",
       "      <td>brown</td>\n",
       "      <td>True</td>\n",
       "    </tr>\n",
       "    <tr>\n",
       "      <th>3</th>\n",
       "      <td>poisonous</td>\n",
       "      <td>close</td>\n",
       "      <td>enlarging</td>\n",
       "      <td>white</td>\n",
       "      <td>white</td>\n",
       "      <td>brown</td>\n",
       "      <td>True</td>\n",
       "    </tr>\n",
       "    <tr>\n",
       "      <th>4</th>\n",
       "      <td>edible</td>\n",
       "      <td>crowded</td>\n",
       "      <td>tapering</td>\n",
       "      <td>white</td>\n",
       "      <td>white</td>\n",
       "      <td>black</td>\n",
       "      <td>False</td>\n",
       "    </tr>\n",
       "  </tbody>\n",
       "</table>\n",
       "</div>"
      ],
      "text/plain": [
       "  edible-poisonous gill-spacing stalk-shape stalk-color-above-ring  \\\n",
       "0        poisonous        close   enlarging                  white   \n",
       "1           edible        close   enlarging                  white   \n",
       "2           edible        close   enlarging                  white   \n",
       "3        poisonous        close   enlarging                  white   \n",
       "4           edible      crowded    tapering                  white   \n",
       "\n",
       "  stalk-color-below-ring gill-color  bruised  \n",
       "0                  white      black     True  \n",
       "1                  white      black     True  \n",
       "2                  white      brown     True  \n",
       "3                  white      brown     True  \n",
       "4                  white      black    False  "
      ]
     },
     "execution_count": 50,
     "metadata": {},
     "output_type": "execute_result"
    }
   ],
   "source": [
    "df.head()"
   ]
  },
  {
   "cell_type": "code",
   "execution_count": 55,
   "metadata": {
    "scrolled": true
   },
   "outputs": [],
   "source": [
    "p_both = len(df[(df['stalk-shape'] == 'tapering') & (df['edible-poisonous'] == 'edible')]) / len(df)"
   ]
  },
  {
   "cell_type": "code",
   "execution_count": 46,
   "metadata": {},
   "outputs": [],
   "source": [
    "# First let's find our tapering and not-tapering subsets\n",
    "tapering = df[df['stalk-shape'] == 'tapering']\n",
    "\n",
    "not_tapering = df[df['stalk-shape'] != 'tapering']"
   ]
  },
  {
   "cell_type": "code",
   "execution_count": 47,
   "metadata": {},
   "outputs": [],
   "source": [
    "# Calculate our probability of tapering, and probability of not-tapering\n",
    "p_tapering = len(tapering)/len(df)\n",
    "\n",
    "p_not_tapering = len(not_tapering)/len(df)\n",
    "# same as \n",
    "# p_not_tapering = 1 - p_tapering"
   ]
  },
  {
   "cell_type": "code",
   "execution_count": null,
   "metadata": {},
   "outputs": [],
   "source": [
    "# Now calculate our two conditional probabilties\n",
    "p_edible_given_tapering = ((p_edible+p_tapering) - p_both) / p_tapering\n",
    "\n",
    "p_edible_given_not_tapering = None"
   ]
  },
  {
   "cell_type": "code",
   "execution_count": null,
   "metadata": {},
   "outputs": [],
   "source": [
    "# Do the math!\n",
    "p_edible_given_tapering * p_tapering + p_edible_given_not_tapering * p_not_tapering"
   ]
  },
  {
   "cell_type": "code",
   "execution_count": null,
   "metadata": {},
   "outputs": [],
   "source": [
    "# Sanity check\n"
   ]
  },
  {
   "cell_type": "markdown",
   "metadata": {
    "slideshow": {
     "slide_type": "slide"
    }
   },
   "source": [
    "## Partitioning Complex Events\n",
    "\n",
    "You're not really a mushroom expert, but you can see that the mushroom in your hand is has some orange on the stalk. Given the data at your disposal, what's the probability that the mushroom is edible?\n",
    "\n"
   ]
  },
  {
   "cell_type": "markdown",
   "metadata": {
    "slideshow": {
     "slide_type": "notes"
    }
   },
   "source": [
    "$$\\large P(\\text{edible|orange stalk}) = \\frac{P(\\text{edible} \\cap \\text{orange stalk})}{P(\\text{orange stalk})}$$\n",
    "\n",
    "Furthermore, we can decompose $P(\\text{orange stalk})$ into the two possibilities:\n",
    "\n",
    "$P(\\text{orange stalk}) = P(\\text{orange stalk below ring}\\cup\\text{orange stalk above ring})$\n",
    "\n",
    "But be careful here! \n",
    "\n",
    "$P(\\text{orange stalk below ring}\\cup \\text{orange stalk above ring})$ **DOES NOT EQUAL** $P(\\text{orange stalk below ring}) + P(\\text{orange stalk above ring})$\n",
    "\n",
    "While this may seem correct, adding these individual probabilities **double counts** mushrooms which have entirely orange stalks. However - when we do these things in Pandas (using a loc and an or condition), it won't duplicate the row - so you don't need to worry about it here!"
   ]
  },
  {
   "cell_type": "code",
   "execution_count": null,
   "metadata": {},
   "outputs": [],
   "source": [
    "# Can prove that P(orange above) + P(orange below) != p(orange stalk)\n",
    "p_orange_above = df[df['stalk-color-above-ring'] == 'orange'].shape[0]/df.shape[0]\n",
    "p_orange_below = df[df['stalk-color-below-ring'] == 'orange'].shape[0]/df.shape[0]"
   ]
  },
  {
   "cell_type": "code",
   "execution_count": null,
   "metadata": {},
   "outputs": [],
   "source": [
    "p_orange_stalk = df[(df['stalk-color-above-ring'] == 'orange')\n",
    "                    | (df['stalk-color-below-ring'] == 'orange')\n",
    "                    ].shape[0]/df.shape[0]"
   ]
  },
  {
   "cell_type": "code",
   "execution_count": null,
   "metadata": {},
   "outputs": [],
   "source": [
    "p_orange_stalk == (p_orange_above + p_orange_below)"
   ]
  },
  {
   "cell_type": "code",
   "execution_count": null,
   "metadata": {
    "scrolled": true,
    "slideshow": {
     "slide_type": "notes"
    }
   },
   "outputs": [],
   "source": [
    "# Now let's find P(edible | orange stalk)\n",
    "\n",
    "\n",
    "# Apparently orange-stalk mushrooms seem fairly safe....\n",
    "# (Disclaimer: don't take this as definitive foraging adivce!)"
   ]
  },
  {
   "cell_type": "code",
   "execution_count": null,
   "metadata": {},
   "outputs": [],
   "source": [
    "# Sanity check...\n"
   ]
  },
  {
   "cell_type": "markdown",
   "metadata": {
    "slideshow": {
     "slide_type": "slide"
    }
   },
   "source": [
    "## Extra Credit: Additional Conditional Probability Practice\n",
    "\n",
    "What's the probability that a mushroom is poisonous if it has close gill spacing AND a tapering stalk?\n",
    "\n",
    "$$\\large P(poisonous|close \\cap tapering) = \\frac{P(poisonous \\cap close \\cap tapering)}{P(close \\cap tapering)}$$"
   ]
  },
  {
   "cell_type": "code",
   "execution_count": null,
   "metadata": {
    "slideshow": {
     "slide_type": "notes"
    }
   },
   "outputs": [],
   "source": [
    "# P that mushroom is poisonous given close gill spacing and tapering stalk\n"
   ]
  }
 ],
 "metadata": {
  "kernelspec": {
   "display_name": "Python (learn-env)",
   "language": "python",
   "name": "learn-env"
  },
  "language_info": {
   "codemirror_mode": {
    "name": "ipython",
    "version": 3
   },
   "file_extension": ".py",
   "mimetype": "text/x-python",
   "name": "python",
   "nbconvert_exporter": "python",
   "pygments_lexer": "ipython3",
   "version": "3.8.5"
  }
 },
 "nbformat": 4,
 "nbformat_minor": 4
}
