{
 "cells": [
  {
   "cell_type": "markdown",
   "metadata": {},
   "source": [
    "# Bayes Theorem: Applying Conditional Probabilities"
   ]
  },
  {
   "cell_type": "markdown",
   "metadata": {
    "heading_collapsed": true
   },
   "source": [
    "## Objectives\n",
    "\n",
    "- Contrast Bayesian and Frequentist philosophies of probability\n",
    "- Use Bayes' Theorem to update a prior belief"
   ]
  },
  {
   "cell_type": "markdown",
   "metadata": {
    "heading_collapsed": true
   },
   "source": [
    "## So What Do These Bayesians Say?\n",
    "\n",
    "**Bayesian inference** calculates the probability of an outcome using _prior_ knowledge or belief."
   ]
  },
  {
   "cell_type": "markdown",
   "metadata": {},
   "source": [
    "## Bayes' Theorem\n",
    "\n",
    "## $$P(A\\mid B)=\\frac {P(B\\mid A) \\cdot P(A)}{P(B)}$$"
   ]
  },
  {
   "cell_type": "markdown",
   "metadata": {},
   "source": [
    "## Terminology\n",
    "\n",
    "- $P(A)$ : \n",
    "    - The probability of an event irrespective of the outcomes of other random variables is called the ***marginal probability***.\n",
    "    - In reference to Bayes' Theorem, this is known as the ***prior probability***.\n",
    "\n",
    "- $P(A|B)$ :\n",
    "    - The probability of one (or more) event(s) given the occurence of another event is called the ***conditional probability***.\n",
    "    - In reference to Bayes' Theorem, this is known as the ***posterior probability***.\n",
    "\n",
    "- $P(B|A)$ : ***Likelihood***.\n",
    "\n",
    "- $P(B)$ : ***Evidence***.\n",
    "\n",
    "This allows us to restate the theorem as\n",
    "\n",
    "$$\n",
    "\\textrm{Posterior} = \\frac{\\textrm{Likelihood}\\cdot\\textrm{Prior}}{\\textrm{Evidence}}\n",
    "$$"
   ]
  },
  {
   "cell_type": "markdown",
   "metadata": {},
   "source": [
    "The numerator, $P(B\\mid A) \\cdot P(A)$, is a **joint probability**.\n",
    "\n",
    "\n",
    "- A joint probability is the probability of two (or more) simultaneous events\n",
    "    - $P(A,B)$ or $P(A \\cap B) = P(A|B)\\cdot P(B)$\n",
    "    - So, in the theorem: $P(B,A)$ or $P(B \\cap A) = P(B|A)\\cdot P(A)$"
   ]
  },
  {
   "cell_type": "markdown",
   "metadata": {
    "heading_collapsed": true
   },
   "source": [
    "**Fun fact:** Bayes never published or even wrote his theorem down. He felt it was so obvious it wasn't worth writing down or talking about!\n",
    "\n",
    "Richard Price (friend of Bayes) went through papers after Bayes' death to see if anything was worth publishing - that's when Bayes' Theorem was discovered and then published."
   ]
  },
  {
   "cell_type": "markdown",
   "metadata": {
    "heading_collapsed": true,
    "hidden": true
   },
   "source": [
    "## The Example: Fan of a Series \n",
    "\n",
    "<img src=\"https://prod-ripcut-delivery.disney-plus.net/v1/variant/disney/F3020C5A6702EF51552E388CEF7EDFE46CC96A370C2E1C57F9533573DCEFA766/scale?width=1200&aspectRatio=1.78&format=jpeg\" alt=\"obi-wan kenobi promotional image\" width=600>"
   ]
  },
  {
   "cell_type": "markdown",
   "metadata": {
    "hidden": true
   },
   "source": [
    "I'm a big fan of _Star Wars_ and I want to be able to share my love for the series! Based on my experience, I found about 1 in 5 people (or 20%) are big fans of the series, enough to watch all the side movies and spinoff tv shows.\n",
    "\n",
    "When I met Rory, they told me they just watched the newest episode of _Obi-Wan Kenobi_ at a friend's house!"
   ]
  },
  {
   "cell_type": "markdown",
   "metadata": {
    "hidden": true
   },
   "source": [
    "There are two possible scenarios here:\n",
    "\n",
    "1. Rory is a big fan and watched the newest episode of _Kenobi_ on purpose. I estimate that if you're a big fan, the chances of you actively following the TV Show is about 60% (it would be more, but we fans get busy)\n",
    "\n",
    "2. Rory isn't a fan and just watched the newest episode because it was on. I estimate that if you're not a big fan, there's only a 5% chance of you watching an episode the week it comes out (about 10x less likely)"
   ]
  },
  {
   "cell_type": "markdown",
   "metadata": {},
   "source": [
    "Let's define two events:\n",
    "\n",
    "* $A$ = star wars fan (⭐ fan)\n",
    "* $B$ = watched latest episode of kenobi (watched ⭐)"
   ]
  },
  {
   "cell_type": "markdown",
   "metadata": {
    "hidden": true
   },
   "source": [
    "Reviewing Bayes' Theorem, we get:"
   ]
  },
  {
   "cell_type": "markdown",
   "metadata": {
    "hidden": true
   },
   "source": [
    "$P(A) = P(\\text{⭐fan}) = 0.20$\n",
    "\n",
    "$P(B|A) = P(\\text{watched ⭐, given you are a ⭐fan}) = 0.60$\n",
    "\n",
    "$P(B|\\neg A) = P(\\text{watched ⭐, given you are NOT a ⭐ fan}) = 0.05$\n",
    "\n",
    "$\\begin{aligned}\n",
    "P(B) &= P(\\text{watched ⭐})  \\\\\n",
    "     &= P(B|A)\\cdot P(A) + P(B|\\neg A)\\cdot P(\\neg A) \\\\\n",
    "     &= 0.60\\cdot 0.20 + 0.05\\cdot 0.80 \\\\\n",
    "     &= 0.16 \n",
    "\\end{aligned}$"
   ]
  },
  {
   "cell_type": "markdown",
   "metadata": {
    "hidden": true
   },
   "source": [
    "So we get that the chances of someone like Rory is a true _Star Wars_ fan is:\n",
    "\n",
    "$$\\begin{aligned}\n",
    "P(A|B) &= P(\\text{⭐ fan, given you watched ⭐}) \\\\ \n",
    "       &= \\frac{P(B|A)P(A)}{P(B)} \\\\\n",
    "       &= \\frac{0.60 \\cdot 0.20}{0.16} \\\\\n",
    "       &= 0.75\n",
    "\\end{aligned}$$"
   ]
  },
  {
   "cell_type": "markdown",
   "metadata": {
    "ExecuteTime": {
     "end_time": "2021-02-28T19:25:14.437546Z",
     "start_time": "2021-02-28T19:25:14.434283Z"
    },
    "hidden": true
   },
   "source": [
    "So there's a $75\\%$ chance Rory is a fan too!"
   ]
  },
  {
   "cell_type": "markdown",
   "metadata": {
    "heading_collapsed": true,
    "hidden": true
   },
   "source": [
    "## Visualizing Probabilities & Bayes"
   ]
  },
  {
   "cell_type": "markdown",
   "metadata": {
    "hidden": true
   },
   "source": [
    "We are very visual creatures, so it can help if we try to visualize this same scenario."
   ]
  },
  {
   "cell_type": "markdown",
   "metadata": {
    "hidden": true
   },
   "source": [
    "Imagine we have a population of $50$ people. We'd get:\n",
    "\n",
    "-  $0.2\\cdot 50 = 10$ are _Star Wars_ fans\n",
    "    - 4 haven't watched: 😔\n",
    "    - 6 have watched: ⭐\n",
    "-  $0.8\\cdot 50 = 40$ are not _Star Wars_ fans: \n",
    "    - 38 haven't watched: 🚫\n",
    "    - 2 have watched: 👁\n",
    "\n",
    "<pre>\n",
    "\n",
    "⭐⭐👁👁🚫🚫🚫🚫🚫🚫\n",
    "⭐⭐🚫🚫🚫🚫🚫🚫🚫🚫\n",
    "⭐⭐🚫🚫🚫🚫🚫🚫🚫🚫\n",
    "😔😔🚫🚫🚫🚫🚫🚫🚫🚫\n",
    "😔😔🚫🚫🚫🚫🚫🚫🚫🚫\n",
    "\n",
    "</pre>"
   ]
  },
  {
   "cell_type": "markdown",
   "metadata": {
    "hidden": true
   },
   "source": [
    "But we only care about those who watched (⭐ & 👁). So given that Rory watched one of the Kenobi episodes, we only care about this subset:\n",
    "\n",
    "<pre>\n",
    "\n",
    "⭐⭐👁👁\n",
    "⭐⭐\n",
    "⭐⭐\n",
    "\n",
    "</pre>\n",
    "\n",
    "Thus there is a $6$ out of $8$ chance Rory also is a _Star Wars_ fan or simply $75\\%$"
   ]
  },
  {
   "cell_type": "markdown",
   "metadata": {},
   "source": [
    "![\"Never tell me the odds without first establishing a Bayesian prior!\" Han Solo image from the Count Bayesie blog](images/bayesianpriors.jpeg)\n",
    "\n",
    "[Image Source: \n",
    "'Han Solo and Bayesian Priors'](https://www.countbayesie.com/blog/2015/2/18/hans-solo-and-bayesian-priors)"
   ]
  },
  {
   "cell_type": "markdown",
   "metadata": {
    "heading_collapsed": true,
    "hidden": true
   },
   "source": [
    "## The Other Faction - Frequentists"
   ]
  },
  {
   "cell_type": "markdown",
   "metadata": {
    "hidden": true
   },
   "source": [
    "![Star Wars Empire Symbol](images/star_wars_empire_symbol.jpg)\n",
    "\n",
    "\n",
    "**Frequentists** interpretation of probability: the limit of frequency after many, many trials.\n",
    "\n",
    "Basically, the Bayesians assign a probability to a hypothesis but Frequentists test a hypothesis and determine probability with repeated trials.\n",
    "\n",
    "Some days you're a Frequentist, other days you're a Bayesian."
   ]
  },
  {
   "cell_type": "markdown",
   "metadata": {
    "slideshow": {
     "slide_type": "slide"
    }
   },
   "source": [
    "## Example: 1984 Congressional Voting Data\n",
    "\n",
    "Let's do an example. Here's the real theorem again for reference:\n",
    "\n",
    "## $$P(A\\mid B)=\\frac {P(B\\mid A) \\cdot P(A)}{P(B)}$$\n",
    "\n",
    "Data source: [Congressional Quarterly Almanac, 98th Congress, 2nd session 1984](https://archive.ics.uci.edu/ml/datasets/Congressional+Voting+Records)\n",
    "\n",
    "A congressman voted no on providing aid to El Salvador in 1984. Given that 61% of the congress were Democrats, 74.9% of whom voted 'No' for providing aid to El Salvador, and only 4.8% of Republicans voted 'No' to the proposal, what is the conditional probability that this individual is a Democrat?"
   ]
  },
  {
   "cell_type": "markdown",
   "metadata": {},
   "source": [
    "1. Which probability are we trying to find?\n",
    "\n",
    "    - \n",
    "    \n",
    "2. Based on that, what other pieces do we need?\n",
    "\n",
    "    - \n",
    "    \n",
    "3. Result?\n",
    "\n",
    "    - \n",
    " "
   ]
  },
  {
   "cell_type": "markdown",
   "metadata": {},
   "source": [
    "We have this data, we can do this even more exactly:"
   ]
  },
  {
   "cell_type": "code",
   "execution_count": null,
   "metadata": {},
   "outputs": [],
   "source": [
    "# Imports, then grab and explore the data\n",
    "import pandas as pd\n",
    "\n",
    "df = pd.read_csv(\"data/clean_house-votes-84.csv\")"
   ]
  },
  {
   "cell_type": "code",
   "execution_count": null,
   "metadata": {},
   "outputs": [],
   "source": [
    "df.head()"
   ]
  },
  {
   "cell_type": "code",
   "execution_count": null,
   "metadata": {},
   "outputs": [],
   "source": [
    "df.info()"
   ]
  },
  {
   "cell_type": "markdown",
   "metadata": {},
   "source": [
    "Now: break it down so we can calculate $P(\\text{Democrat } | \\text{ voted 'no' on El Salvador aid})$"
   ]
  },
  {
   "cell_type": "code",
   "execution_count": null,
   "metadata": {},
   "outputs": [],
   "source": []
  },
  {
   "cell_type": "code",
   "execution_count": null,
   "metadata": {},
   "outputs": [],
   "source": []
  },
  {
   "cell_type": "code",
   "execution_count": null,
   "metadata": {},
   "outputs": [],
   "source": []
  },
  {
   "cell_type": "code",
   "execution_count": null,
   "metadata": {},
   "outputs": [],
   "source": []
  },
  {
   "cell_type": "markdown",
   "metadata": {},
   "source": [
    "_____\n",
    "\n",
    "Yes, you do just need to remember which piece is which...\n",
    "\n",
    "<center><img src='https://imgs.xkcd.com/comics/modified_bayes_theorem_2x.png' width=500></center>\n",
    "\n",
    "[Image Source: XKCD](https://xkcd.com/2059/)\n",
    "\n",
    "(for the record, $P(C)$ in this example is always very low)\n"
   ]
  },
  {
   "cell_type": "markdown",
   "metadata": {},
   "source": [
    "## Sidebar: Bayes' Theorem with...  Legos?\n",
    "\n",
    "Will Kurt, who writes the [Count Bayesie blog](https://www.countbayesie.com/) and is the author of [_Bayesian Statistics the Fun Way_](https://nostarch.com/learnbayes), uses legos to derive Bayes' Theorem. Take a look: https://www.countbayesie.com/blog/2015/2/18/bayes-theorem-with-lego"
   ]
  },
  {
   "cell_type": "markdown",
   "metadata": {
    "hidden": true
   },
   "source": [
    "## Sidebar: Bayes' Original Thought Experiment\n",
    "\n",
    "Good explanation & demo of Bayes' first thought experiment: https://www.youtube.com/watch?v=7GgLSnQ48os\n",
    "\n",
    "- Sit facing away a table\n",
    "- Place an initial ball on table\n",
    "- Toss another ball & assistant says where in relation the 1st ball lies\n",
    "- Repeat & continuously update the belief where the ball is"
   ]
  },
  {
   "cell_type": "markdown",
   "metadata": {
    "heading_collapsed": true,
    "hidden": true
   },
   "source": [
    "## Sidebar: Why C3P0 is Wrong & Han Solo is a Badass\n",
    "\n",
    "\"Never tell me the odds!\" https://www.countbayesie.com/blog/2015/2/18/hans-solo-and-bayesian-priors\n",
    "\n",
    "Han is a one great pilot, so he likely will get through the asteroid field even if others will fail (crash and blow-up)\n",
    "\n",
    "(Note: this is the image source for the above Han Solo image!)"
   ]
  },
  {
   "cell_type": "markdown",
   "metadata": {
    "heading_collapsed": true,
    "hidden": true
   },
   "source": [
    "# Level Up Exercises"
   ]
  },
  {
   "cell_type": "markdown",
   "metadata": {},
   "source": [
    "## Diagnostic Testing 🤢\n",
    "\n",
    "Pretend we test positive for a rare disease. What are the chances that we actually have the disease?\n",
    "\n",
    "- The disease is fairly rare: only 2% of the population has it\n",
    "- The test will be correct 99% of the time, whether or not you have the disease \n",
    "\n",
    "<details>\n",
    "    <summary><b><u>Click Here for Answer Code</u></b></summary>\n",
    "\n",
    "    # probability of sick & healthy\n",
    "    p_sick = 0.02\n",
    "    p_not_sick = 1 - p_sick\n",
    "\n",
    "    # probability of test being correct (accuracy)\n",
    "    p_positive_sick = 0.99\n",
    "    p_positive_not_sick = 1 - p_positive_sick\n",
    "\n",
    "    # probability of positive test (whether or not you are sick)\n",
    "    p_positive = p_sick*p_positive_sick + p_not_sick*p_positive_not_sick\n",
    "\n",
    "    # belief before hand\n",
    "    sick_prior = p_sick\n",
    "\n",
    "    # how likely are we to test positive and be sick\n",
    "    pos_sick_likelihood = p_positive_sick \n",
    "\n",
    "    prob_youre_sick = sick_prior * pos_sick_likelihood / p_positive\n",
    "\n",
    "    print(f'You have a {prob_youre_sick*100:.2f}% chance of actually being sick')\n",
    "    \n",
    "</details>"
   ]
  },
  {
   "cell_type": "code",
   "execution_count": null,
   "metadata": {},
   "outputs": [],
   "source": [
    "# Your work here\n"
   ]
  },
  {
   "cell_type": "markdown",
   "metadata": {},
   "source": [
    "## Better Tests\n",
    "\n",
    "How would the calculation in the Diagnostic Testing scenario change if the test were 99.9% correct?\n",
    "\n",
    "\n",
    "<details>\n",
    "    <summary><b><u>Click Here for Answer Code</u></b></summary>\n",
    "\n",
    "    # probability of sick & healthy\n",
    "    p_sick = 0.02\n",
    "    p_not_sick = 1 - p_sick\n",
    "\n",
    "    # probability of test being correct (accuracy)\n",
    "    p_positive_sick = 0.999\n",
    "    p_positive_not_sick = 1 - p_positive_sick\n",
    "\n",
    "    # probability of positive test (whether or not you are sick)\n",
    "    p_positive = p_sick*p_positive_sick + p_not_sick*p_positive_not_sick\n",
    "\n",
    "    # belief beforehand\n",
    "    sick_prior = p_sick\n",
    "\n",
    "    # how likely are we to test positive and be sick\n",
    "    pos_sick_likelihood = p_positive_sick \n",
    "\n",
    "    prob_youre_sick = sick_prior * pos_sick_likelihood / p_positive\n",
    "\n",
    "    print(f'You have a {prob_youre_sick*100:.2f}% chance of actually being sick')\n",
    "    \n",
    "</details>"
   ]
  },
  {
   "cell_type": "code",
   "execution_count": null,
   "metadata": {},
   "outputs": [],
   "source": [
    "# Your work here\n"
   ]
  },
  {
   "cell_type": "markdown",
   "metadata": {
    "hidden": true
   },
   "source": [
    "## Harder Exercise: Two Tests\n",
    "\n",
    "In the original Diagnostic Testing scenario above, what are the chances that we have the disease if we take the test twice and it is positive both times? (Assume the tests are independent.)\n",
    "\n",
    "\n",
    "<details>\n",
    "    <summary><b><u>Click Here for Answer Code</u></b></summary>\n",
    "\n",
    "    # probability of sick & healthy\n",
    "    p_sick = 0.02\n",
    "    p_not_sick = 1 - p_sick\n",
    "\n",
    "    # probability of 2 tests being correct\n",
    "    p_positive_sick = 0.99\n",
    "    p_2positive_sick = p_positive_sick**2\n",
    "    \n",
    "    # probability of 2 tests being incorrect\n",
    "    p_positive_not_sick = 1 - p_positive_sick\n",
    "    p_2positive_not_sick = p_positive_not_sick**2\n",
    "\n",
    "    # probability of positive test (whether or not you are sick)\n",
    "    p_2positive = p_sick*p_2positive_sick + p_not_sick*p_2positive_not_sick\n",
    "\n",
    "    # belief before hand\n",
    "    sick_prior = p_sick\n",
    "\n",
    "    # how likely are we to test positive and be sick\n",
    "    pos_sick_likelihood = p_2positive_sick \n",
    "\n",
    "\n",
    "    prob_youre_sick = sick_prior * pos_sick_likelihood / p_2positive\n",
    "\n",
    "    print(f'You have a {prob_youre_sick*100:.2f}% chance of actually being sick')\n",
    "    \n",
    "</details>"
   ]
  },
  {
   "cell_type": "code",
   "execution_count": null,
   "metadata": {},
   "outputs": [],
   "source": [
    "# Your work here"
   ]
  },
  {
   "cell_type": "markdown",
   "metadata": {},
   "source": [
    "### Extra Resources:\n",
    "\n",
    "If these diagnosis-based examples were compelling, or if you want a better visual exploration of a diagnosis-based example, check out this page: https://arbital.com/p/bayes_rule/?l=1zq\n",
    "\n",
    "(I recommend clicking \"I'd like to read everything!\" and then skimming the pages that come up!)"
   ]
  },
  {
   "cell_type": "markdown",
   "metadata": {
    "heading_collapsed": true,
    "hidden": true
   },
   "source": [
    "# Level Up: The Bayes Factor"
   ]
  },
  {
   "cell_type": "markdown",
   "metadata": {
    "hidden": true
   },
   "source": [
    "Another method for using Bayesian reasoning relies on _odds_ over _probability_. This can feel more intuitive.\n",
    "\n",
    "If we rearrange Bayes' Theorem, we can use the odds:\n",
    "\n",
    "$$P(A|B) =  \\frac{P(B|A)P(A)}{P(B)}$$\n",
    "\n",
    "$$O(A|B) =  O(A)\\frac{P(B|A)}{P(B|\\neg A)}$$\n"
   ]
  },
  {
   "cell_type": "markdown",
   "metadata": {
    "hidden": true
   },
   "source": [
    "We call this $\\frac{P(B|A)}{P(B|\\neg A)}$ the **Bayes factor** and can be seen how we update the prior odds."
   ]
  },
  {
   "cell_type": "markdown",
   "metadata": {
    "hidden": true
   },
   "source": [
    "To use this we, say what we want is the _odds_ that $A$ is true given $B$ is true (observed)"
   ]
  },
  {
   "cell_type": "markdown",
   "metadata": {
    "heading_collapsed": true,
    "hidden": true
   },
   "source": [
    "## Using the Previous Example"
   ]
  },
  {
   "cell_type": "markdown",
   "metadata": {
    "hidden": true
   },
   "source": [
    "Going back to our _Star Wars_ example:"
   ]
  },
  {
   "cell_type": "markdown",
   "metadata": {
    "hidden": true
   },
   "source": [
    "* $P(A) = 20\\%$ (or $O(A)= \\frac{1}{4}$ or {$1:4$}) of all people are _Star Wars_ fans \n",
    "* $P(B|A) = 60\\%$ of all _Star Wars_ fans have seen one of the Kenobi episodes in the past week\n",
    "* $P(B|\\neg A) = 5\\%$ of all non-_Star Wars_ fans have seen one of the Kenobi episodes in the past week"
   ]
  },
  {
   "cell_type": "markdown",
   "metadata": {
    "hidden": true
   },
   "source": [
    "Well, then our odds form turns to:\n",
    "\n",
    "$$\\begin{aligned}\n",
    "O(A|B) &= O(A)\\frac{P(B|A)}{P(B|\\neg A)} \\\\\n",
    "\\\\\n",
    "       &= \\frac{1}{4} \\cdot \\frac{0.60}{0.05} \\\\\n",
    "       &= \\frac{1}{4} \\cdot 12 \\\\\n",
    "       &= \\frac{12}{4} \\\\\n",
    "       &= \\frac{3}{1} \\\\\n",
    "       & = 3:1 \\text{ odds}\n",
    "\\end{aligned}$$\n",
    "\n",
    "Or simply $3$ out of $4$ people who watched a Kenobi episode is a fan. That's the same $75\\%$ we found from before!"
   ]
  },
  {
   "cell_type": "markdown",
   "metadata": {
    "heading_collapsed": true,
    "hidden": true
   },
   "source": [
    "## Going back to the visual example"
   ]
  },
  {
   "cell_type": "markdown",
   "metadata": {
    "hidden": true
   },
   "source": [
    "Using a pretend population of $50$ random people we still get:\n",
    "\n",
    "-  $0.2\\cdot 50 = 10$ are _Star Wars_ fans\n",
    "    - 4 haven't watched Kenobi in the past week: 😔\n",
    "    - 6 have watched in the past week: ⭐\n",
    "-  $0.8\\cdot 50 = 40$ are not _Star Wars_ fans: \n",
    "    - 38 haven't watched in the past week: 🚫\n",
    "    - 2 have watched in the past week: 👁\n",
    "\n",
    "<pre>\n",
    "\n",
    "⭐⭐👁👁🚫🚫🚫🚫🚫🚫\n",
    "⭐⭐🚫🚫🚫🚫🚫🚫🚫🚫\n",
    "⭐⭐🚫🚫🚫🚫🚫🚫🚫🚫\n",
    "😔😔🚫🚫🚫🚫🚫🚫🚫🚫\n",
    "😔😔🚫🚫🚫🚫🚫🚫🚫🚫\n",
    "\n",
    "</pre>"
   ]
  },
  {
   "cell_type": "markdown",
   "metadata": {
    "heading_collapsed": true,
    "hidden": true
   },
   "source": [
    "## Interpreting further\n",
    "\n",
    "- There's $1$:$4$ odds you are a fan given no information\n",
    "- But if you watched a Kenobi episode in the past week, we know you're more likely to be a fan by the **Bayes factor** of 12 \n",
    "- We update our _prior_ belief with that knowledge to find we expect that there are 3 times **more** fans who watched in the past month than non-fans who watched in the past week"
   ]
  }
 ],
 "metadata": {
  "kernelspec": {
   "display_name": "Python 3 (ipykernel)",
   "language": "python",
   "name": "python3"
  },
  "language_info": {
   "codemirror_mode": {
    "name": "ipython",
    "version": 3
   },
   "file_extension": ".py",
   "mimetype": "text/x-python",
   "name": "python",
   "nbconvert_exporter": "python",
   "pygments_lexer": "ipython3",
   "version": "3.9.5"
  },
  "toc": {
   "base_numbering": 1,
   "nav_menu": {},
   "number_sections": true,
   "sideBar": false,
   "skip_h1_title": false,
   "title_cell": "Table of Contents",
   "title_sidebar": "Contents",
   "toc_cell": true,
   "toc_position": {
    "height": "calc(100% - 180px)",
    "left": "10px",
    "top": "150px",
    "width": "177.391px"
   },
   "toc_section_display": false,
   "toc_window_display": false
  },
  "varInspector": {
   "cols": {
    "lenName": 16,
    "lenType": 16,
    "lenVar": 40
   },
   "kernels_config": {
    "python": {
     "delete_cmd_postfix": "",
     "delete_cmd_prefix": "del ",
     "library": "var_list.py",
     "varRefreshCmd": "print(var_dic_list())"
    },
    "r": {
     "delete_cmd_postfix": ") ",
     "delete_cmd_prefix": "rm(",
     "library": "var_list.r",
     "varRefreshCmd": "cat(var_dic_list()) "
    }
   },
   "types_to_exclude": [
    "module",
    "function",
    "builtin_function_or_method",
    "instance",
    "_Feature"
   ],
   "window_display": false
  }
 },
 "nbformat": 4,
 "nbformat_minor": 2
}
